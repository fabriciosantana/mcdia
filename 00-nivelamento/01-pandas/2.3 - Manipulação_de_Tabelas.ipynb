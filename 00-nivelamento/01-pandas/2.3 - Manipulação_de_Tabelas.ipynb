{
 "cells": [
  {
   "cell_type": "markdown",
   "id": "1bcec926",
   "metadata": {
    "id": "1bcec926"
   },
   "source": [
    "\n",
    "# 📊 Manipulação de Tabelas com Pandas\n",
    "\n",
    "## 📌 Objetivo\n",
    "Este notebook ensinará comandos básicos para manipulação de tabelas usando **Pandas**.\n",
    "O objetivo é aprender operações essenciais como:\n",
    "\n",
    "- Visualizar estatísticas básicas\n",
    "- Renomear colunas\n",
    "- Selecionar colunas e linhas\n",
    "- Remover dados indesejados\n",
    "\n",
    "## 📊 Manipulando dados\n",
    "\n",
    "- Após obter uma boa fonte de dados você certamente precisará realizar algumas limpezas e manipulações para que os dados estejam no ponto ideal para as fases finais de uma análise: execução de modelos econométricos, visualizações de dados, tabelas agregadas, relatórios etc.\n",
    "\n",
    "- A realidade é que, na prática, os dados nunca estarão do jeito que você de fato precisa. Portanto, é fundamental dominar técnicas de manipulação de dados.\n",
    "\n",
    "- Entendamos a manipulação de dados como o ato de transformar, reestruturar, limpar, agregar e juntar os dados.\n",
    "\n",
    "- Para se ter uma noção da importância dessa fase, alguns estudiosos da área de Ciência de Dados costumam afirmar que 80% do trabalho é encontrar uma boa fonte de dados, limpar e preparar os dados, sendo que os 20% restantes seriam o trabalho de aplicar modelos e realizar alguma análise propriamente dita.\n",
    "\n",
    "\n",
    "## 📂 O Dataset: Penguins\n",
    "\n",
    "Usaremos o dataset **Penguins**, fornecido pela biblioteca `seaborn`. Ele contém informações sobre três espécies de pinguins coletadas nas Ilhas Palmer.\n",
    "\n",
    "### 📜 Descrição das Colunas:\n",
    "- **species**: Espécie do pinguim (*Adelie, Chinstrap, Gentoo*)\n",
    "- **island**: Ilha onde o pinguim foi encontrado (*Biscoe, Dream, Torgersen*)\n",
    "- **bill_length_mm**: Comprimento do bico em milímetros\n",
    "- **bill_depth_mm**: Profundidade do bico em milímetros\n",
    "- **flipper_length_mm**: Comprimento da nadadeira em milímetros\n",
    "- **body_mass_g**: Massa corporal do pinguim em gramas\n",
    "- **sex**: Sexo do pinguim (*Male, Female*)\n"
   ]
  },
  {
   "cell_type": "markdown",
   "id": "f25c38c9",
   "metadata": {
    "id": "f25c38c9"
   },
   "source": [
    "## 📥 Importando Bibliotecas"
   ]
  },
  {
   "cell_type": "code",
   "execution_count": 1,
   "id": "074ca269",
   "metadata": {
    "id": "074ca269"
   },
   "outputs": [],
   "source": [
    "import pandas as pd  # Biblioteca para manipulação de dados\n",
    "import seaborn as sns  # Biblioteca para carregar o dataset\n",
    "import os\n",
    "\n",
    "# A partir de agora vamos nos referir ao pandas apenas como pd e ao seaborn apenas como sns\n"
   ]
  },
  {
   "cell_type": "markdown",
   "id": "de3a7cba",
   "metadata": {
    "id": "de3a7cba"
   },
   "source": [
    "## 📂 Carregando e Explorando o Dataset"
   ]
  },
  {
   "cell_type": "code",
   "execution_count": 2,
   "id": "e34bfe87",
   "metadata": {
    "colab": {
     "base_uri": "https://localhost:8080/",
     "height": 363
    },
    "id": "e34bfe87",
    "outputId": "9154e9c0-ecdb-406a-fda8-b4dffce0fb77"
   },
   "outputs": [
    {
     "data": {
      "text/html": [
       "<div>\n",
       "<style scoped>\n",
       "    .dataframe tbody tr th:only-of-type {\n",
       "        vertical-align: middle;\n",
       "    }\n",
       "\n",
       "    .dataframe tbody tr th {\n",
       "        vertical-align: top;\n",
       "    }\n",
       "\n",
       "    .dataframe thead th {\n",
       "        text-align: right;\n",
       "    }\n",
       "</style>\n",
       "<table border=\"1\" class=\"dataframe\">\n",
       "  <thead>\n",
       "    <tr style=\"text-align: right;\">\n",
       "      <th></th>\n",
       "      <th>species</th>\n",
       "      <th>island</th>\n",
       "      <th>bill_length_mm</th>\n",
       "      <th>bill_depth_mm</th>\n",
       "      <th>flipper_length_mm</th>\n",
       "      <th>body_mass_g</th>\n",
       "      <th>sex</th>\n",
       "    </tr>\n",
       "  </thead>\n",
       "  <tbody>\n",
       "    <tr>\n",
       "      <th>0</th>\n",
       "      <td>Adelie</td>\n",
       "      <td>Torgersen</td>\n",
       "      <td>39.1</td>\n",
       "      <td>18.7</td>\n",
       "      <td>181.0</td>\n",
       "      <td>3750.0</td>\n",
       "      <td>Male</td>\n",
       "    </tr>\n",
       "    <tr>\n",
       "      <th>1</th>\n",
       "      <td>Adelie</td>\n",
       "      <td>Torgersen</td>\n",
       "      <td>39.5</td>\n",
       "      <td>17.4</td>\n",
       "      <td>186.0</td>\n",
       "      <td>3800.0</td>\n",
       "      <td>Female</td>\n",
       "    </tr>\n",
       "    <tr>\n",
       "      <th>2</th>\n",
       "      <td>Adelie</td>\n",
       "      <td>Torgersen</td>\n",
       "      <td>40.3</td>\n",
       "      <td>18.0</td>\n",
       "      <td>195.0</td>\n",
       "      <td>3250.0</td>\n",
       "      <td>Female</td>\n",
       "    </tr>\n",
       "    <tr>\n",
       "      <th>3</th>\n",
       "      <td>Adelie</td>\n",
       "      <td>Torgersen</td>\n",
       "      <td>NaN</td>\n",
       "      <td>NaN</td>\n",
       "      <td>NaN</td>\n",
       "      <td>NaN</td>\n",
       "      <td>NaN</td>\n",
       "    </tr>\n",
       "    <tr>\n",
       "      <th>4</th>\n",
       "      <td>Adelie</td>\n",
       "      <td>Torgersen</td>\n",
       "      <td>36.7</td>\n",
       "      <td>19.3</td>\n",
       "      <td>193.0</td>\n",
       "      <td>3450.0</td>\n",
       "      <td>Female</td>\n",
       "    </tr>\n",
       "    <tr>\n",
       "      <th>5</th>\n",
       "      <td>Adelie</td>\n",
       "      <td>Torgersen</td>\n",
       "      <td>39.3</td>\n",
       "      <td>20.6</td>\n",
       "      <td>190.0</td>\n",
       "      <td>3650.0</td>\n",
       "      <td>Male</td>\n",
       "    </tr>\n",
       "    <tr>\n",
       "      <th>6</th>\n",
       "      <td>Adelie</td>\n",
       "      <td>Torgersen</td>\n",
       "      <td>38.9</td>\n",
       "      <td>17.8</td>\n",
       "      <td>181.0</td>\n",
       "      <td>3625.0</td>\n",
       "      <td>Female</td>\n",
       "    </tr>\n",
       "    <tr>\n",
       "      <th>7</th>\n",
       "      <td>Adelie</td>\n",
       "      <td>Torgersen</td>\n",
       "      <td>39.2</td>\n",
       "      <td>19.6</td>\n",
       "      <td>195.0</td>\n",
       "      <td>4675.0</td>\n",
       "      <td>Male</td>\n",
       "    </tr>\n",
       "    <tr>\n",
       "      <th>8</th>\n",
       "      <td>Adelie</td>\n",
       "      <td>Torgersen</td>\n",
       "      <td>34.1</td>\n",
       "      <td>18.1</td>\n",
       "      <td>193.0</td>\n",
       "      <td>3475.0</td>\n",
       "      <td>NaN</td>\n",
       "    </tr>\n",
       "    <tr>\n",
       "      <th>9</th>\n",
       "      <td>Adelie</td>\n",
       "      <td>Torgersen</td>\n",
       "      <td>42.0</td>\n",
       "      <td>20.2</td>\n",
       "      <td>190.0</td>\n",
       "      <td>4250.0</td>\n",
       "      <td>NaN</td>\n",
       "    </tr>\n",
       "  </tbody>\n",
       "</table>\n",
       "</div>"
      ],
      "text/plain": [
       "  species     island  bill_length_mm  bill_depth_mm  flipper_length_mm  \\\n",
       "0  Adelie  Torgersen            39.1           18.7              181.0   \n",
       "1  Adelie  Torgersen            39.5           17.4              186.0   \n",
       "2  Adelie  Torgersen            40.3           18.0              195.0   \n",
       "3  Adelie  Torgersen             NaN            NaN                NaN   \n",
       "4  Adelie  Torgersen            36.7           19.3              193.0   \n",
       "5  Adelie  Torgersen            39.3           20.6              190.0   \n",
       "6  Adelie  Torgersen            38.9           17.8              181.0   \n",
       "7  Adelie  Torgersen            39.2           19.6              195.0   \n",
       "8  Adelie  Torgersen            34.1           18.1              193.0   \n",
       "9  Adelie  Torgersen            42.0           20.2              190.0   \n",
       "\n",
       "   body_mass_g     sex  \n",
       "0       3750.0    Male  \n",
       "1       3800.0  Female  \n",
       "2       3250.0  Female  \n",
       "3          NaN     NaN  \n",
       "4       3450.0  Female  \n",
       "5       3650.0    Male  \n",
       "6       3625.0  Female  \n",
       "7       4675.0    Male  \n",
       "8       3475.0     NaN  \n",
       "9       4250.0     NaN  "
      ]
     },
     "execution_count": 2,
     "metadata": {},
     "output_type": "execute_result"
    }
   ],
   "source": [
    "\n",
    "# Carregar o dataset 'penguins' do seaborn\n",
    "df = sns.load_dataset('penguins')\n",
    "\n",
    "# Exibir as primeiras 10 linhas da tabela para conhecer os dados\n",
    "df.head(10)  # Mostra as 10 primeiras linhas da tabela para análise inicial"
   ]
  },
  {
   "cell_type": "markdown",
   "id": "ace4cf61",
   "metadata": {
    "id": "ace4cf61"
   },
   "source": [
    "## 📊 Informações Básicas da Tabela"
   ]
  },
  {
   "cell_type": "code",
   "execution_count": 3,
   "id": "0d227580",
   "metadata": {
    "colab": {
     "base_uri": "https://localhost:8080/"
    },
    "id": "0d227580",
    "outputId": "cb460618-9212-4572-a7d5-fe404962df9f"
   },
   "outputs": [
    {
     "name": "stdout",
     "output_type": "stream",
     "text": [
      "<class 'pandas.core.frame.DataFrame'>\n",
      "RangeIndex: 344 entries, 0 to 343\n",
      "Data columns (total 7 columns):\n",
      " #   Column             Non-Null Count  Dtype  \n",
      "---  ------             --------------  -----  \n",
      " 0   species            344 non-null    object \n",
      " 1   island             344 non-null    object \n",
      " 2   bill_length_mm     342 non-null    float64\n",
      " 3   bill_depth_mm      342 non-null    float64\n",
      " 4   flipper_length_mm  342 non-null    float64\n",
      " 5   body_mass_g        342 non-null    float64\n",
      " 6   sex                333 non-null    object \n",
      "dtypes: float64(4), object(3)\n",
      "memory usage: 18.9+ KB\n"
     ]
    }
   ],
   "source": [
    "\n",
    "# Verificar as colunas disponíveis e seus tipos de dados\n",
    "df.info()  # Mostra a estrutura do DataFrame, tipos de dados e valores nulos\n"
   ]
  },
  {
   "cell_type": "code",
   "execution_count": 4,
   "id": "971edf8b",
   "metadata": {
    "colab": {
     "base_uri": "https://localhost:8080/",
     "height": 304
    },
    "id": "971edf8b",
    "outputId": "5fd205ab-e98b-4846-a694-a041f8c3c441"
   },
   "outputs": [
    {
     "data": {
      "text/plain": [
       "species               0\n",
       "island                0\n",
       "bill_length_mm        2\n",
       "bill_depth_mm         2\n",
       "flipper_length_mm     2\n",
       "body_mass_g           2\n",
       "sex                  11\n",
       "dtype: int64"
      ]
     },
     "execution_count": 4,
     "metadata": {},
     "output_type": "execute_result"
    }
   ],
   "source": [
    "\n",
    "# Verificar se há valores ausentes no dataset\n",
    "df.isnull().sum()  # Retorna a quantidade de valores nulos por coluna\n"
   ]
  },
  {
   "cell_type": "code",
   "execution_count": 5,
   "id": "8927a258",
   "metadata": {
    "colab": {
     "base_uri": "https://localhost:8080/",
     "height": 300
    },
    "id": "8927a258",
    "outputId": "1907413d-9e36-425a-d1d7-5017cdfbedf1"
   },
   "outputs": [
    {
     "data": {
      "text/html": [
       "<div>\n",
       "<style scoped>\n",
       "    .dataframe tbody tr th:only-of-type {\n",
       "        vertical-align: middle;\n",
       "    }\n",
       "\n",
       "    .dataframe tbody tr th {\n",
       "        vertical-align: top;\n",
       "    }\n",
       "\n",
       "    .dataframe thead th {\n",
       "        text-align: right;\n",
       "    }\n",
       "</style>\n",
       "<table border=\"1\" class=\"dataframe\">\n",
       "  <thead>\n",
       "    <tr style=\"text-align: right;\">\n",
       "      <th></th>\n",
       "      <th>bill_length_mm</th>\n",
       "      <th>bill_depth_mm</th>\n",
       "      <th>flipper_length_mm</th>\n",
       "      <th>body_mass_g</th>\n",
       "    </tr>\n",
       "  </thead>\n",
       "  <tbody>\n",
       "    <tr>\n",
       "      <th>count</th>\n",
       "      <td>342.000000</td>\n",
       "      <td>342.000000</td>\n",
       "      <td>342.000000</td>\n",
       "      <td>342.000000</td>\n",
       "    </tr>\n",
       "    <tr>\n",
       "      <th>mean</th>\n",
       "      <td>43.921930</td>\n",
       "      <td>17.151170</td>\n",
       "      <td>200.915205</td>\n",
       "      <td>4201.754386</td>\n",
       "    </tr>\n",
       "    <tr>\n",
       "      <th>std</th>\n",
       "      <td>5.459584</td>\n",
       "      <td>1.974793</td>\n",
       "      <td>14.061714</td>\n",
       "      <td>801.954536</td>\n",
       "    </tr>\n",
       "    <tr>\n",
       "      <th>min</th>\n",
       "      <td>32.100000</td>\n",
       "      <td>13.100000</td>\n",
       "      <td>172.000000</td>\n",
       "      <td>2700.000000</td>\n",
       "    </tr>\n",
       "    <tr>\n",
       "      <th>25%</th>\n",
       "      <td>39.225000</td>\n",
       "      <td>15.600000</td>\n",
       "      <td>190.000000</td>\n",
       "      <td>3550.000000</td>\n",
       "    </tr>\n",
       "    <tr>\n",
       "      <th>50%</th>\n",
       "      <td>44.450000</td>\n",
       "      <td>17.300000</td>\n",
       "      <td>197.000000</td>\n",
       "      <td>4050.000000</td>\n",
       "    </tr>\n",
       "    <tr>\n",
       "      <th>75%</th>\n",
       "      <td>48.500000</td>\n",
       "      <td>18.700000</td>\n",
       "      <td>213.000000</td>\n",
       "      <td>4750.000000</td>\n",
       "    </tr>\n",
       "    <tr>\n",
       "      <th>max</th>\n",
       "      <td>59.600000</td>\n",
       "      <td>21.500000</td>\n",
       "      <td>231.000000</td>\n",
       "      <td>6300.000000</td>\n",
       "    </tr>\n",
       "  </tbody>\n",
       "</table>\n",
       "</div>"
      ],
      "text/plain": [
       "       bill_length_mm  bill_depth_mm  flipper_length_mm  body_mass_g\n",
       "count      342.000000     342.000000         342.000000   342.000000\n",
       "mean        43.921930      17.151170         200.915205  4201.754386\n",
       "std          5.459584       1.974793          14.061714   801.954536\n",
       "min         32.100000      13.100000         172.000000  2700.000000\n",
       "25%         39.225000      15.600000         190.000000  3550.000000\n",
       "50%         44.450000      17.300000         197.000000  4050.000000\n",
       "75%         48.500000      18.700000         213.000000  4750.000000\n",
       "max         59.600000      21.500000         231.000000  6300.000000"
      ]
     },
     "execution_count": 5,
     "metadata": {},
     "output_type": "execute_result"
    }
   ],
   "source": [
    "\n",
    "# Resumo estatístico das colunas numéricas\n",
    "df.describe()  # Mostra estatísticas descritivas como média, desvio padrão e quartis\n",
    "#Além disso, é bom também para encontrar outliers\n",
    "#As outras colunas como são categóricas, não saíram. Por óbvio só as que são numéricas com decimal (float64) aparecem"
   ]
  },
  {
   "cell_type": "markdown",
   "id": "af374166",
   "metadata": {
    "id": "af374166"
   },
   "source": [
    "## 📝 Renomeando Colunas"
   ]
  },
  {
   "cell_type": "code",
   "execution_count": 6,
   "id": "ffa167dd",
   "metadata": {
    "id": "ffa167dd"
   },
   "outputs": [],
   "source": [
    "#Renomeando algumas colunas\n",
    "df = df.rename(columns={'species': 'especie', 'body_mass_g': 'massa_corporal_g','island':'ilha','sex':'sexo','flipper_length_mm':'nadadeira_mm'})\n",
    "\n"
   ]
  },
  {
   "cell_type": "code",
   "execution_count": 7,
   "id": "8e8466fb",
   "metadata": {
    "colab": {
     "base_uri": "https://localhost:8080/"
    },
    "id": "8e8466fb",
    "outputId": "11dee459-dac6-4fd2-950a-20eb68b661f7"
   },
   "outputs": [
    {
     "data": {
      "text/plain": [
       "Index(['especie', 'ilha', 'bill_length_mm', 'bill_depth_mm', 'nadadeira_mm',\n",
       "       'massa_corporal_g', 'sexo'],\n",
       "      dtype='object')"
      ]
     },
     "execution_count": 7,
     "metadata": {},
     "output_type": "execute_result"
    }
   ],
   "source": [
    "\n",
    "# Exibir os novos nomes das colunas após a alteração\n",
    "df.columns  # Lista todas as colunas do DataFrame\n"
   ]
  },
  {
   "cell_type": "markdown",
   "id": "278e4efd",
   "metadata": {
    "id": "278e4efd"
   },
   "source": [
    "## 🔍 Selecionando Linhas e Colunas"
   ]
  },
  {
   "cell_type": "code",
   "execution_count": 8,
   "id": "ad3aa94f",
   "metadata": {
    "id": "ad3aa94f"
   },
   "outputs": [],
   "source": [
    "\n",
    "# Selecionar apenas algumas colunas relevantes para análise\n",
    "df_subset = df[['especie', 'ilha', 'massa_corporal_g','sexo','nadadeira_mm']]\n",
    "#Aqui mudei de df para df_subset, porque se tiver que refazer algo, eu não preciso rodar o código inteiro novamente"
   ]
  },
  {
   "cell_type": "code",
   "execution_count": 9,
   "id": "42dfa2a1",
   "metadata": {
    "colab": {
     "base_uri": "https://localhost:8080/",
     "height": 206
    },
    "id": "42dfa2a1",
    "outputId": "e5afc37b-783f-43ae-f5f0-4e10158cf8a2"
   },
   "outputs": [
    {
     "data": {
      "text/html": [
       "<div>\n",
       "<style scoped>\n",
       "    .dataframe tbody tr th:only-of-type {\n",
       "        vertical-align: middle;\n",
       "    }\n",
       "\n",
       "    .dataframe tbody tr th {\n",
       "        vertical-align: top;\n",
       "    }\n",
       "\n",
       "    .dataframe thead th {\n",
       "        text-align: right;\n",
       "    }\n",
       "</style>\n",
       "<table border=\"1\" class=\"dataframe\">\n",
       "  <thead>\n",
       "    <tr style=\"text-align: right;\">\n",
       "      <th></th>\n",
       "      <th>especie</th>\n",
       "      <th>ilha</th>\n",
       "      <th>massa_corporal_g</th>\n",
       "      <th>sexo</th>\n",
       "      <th>nadadeira_mm</th>\n",
       "    </tr>\n",
       "  </thead>\n",
       "  <tbody>\n",
       "    <tr>\n",
       "      <th>0</th>\n",
       "      <td>Adelie</td>\n",
       "      <td>Torgersen</td>\n",
       "      <td>3750.0</td>\n",
       "      <td>Male</td>\n",
       "      <td>181.0</td>\n",
       "    </tr>\n",
       "    <tr>\n",
       "      <th>1</th>\n",
       "      <td>Adelie</td>\n",
       "      <td>Torgersen</td>\n",
       "      <td>3800.0</td>\n",
       "      <td>Female</td>\n",
       "      <td>186.0</td>\n",
       "    </tr>\n",
       "    <tr>\n",
       "      <th>2</th>\n",
       "      <td>Adelie</td>\n",
       "      <td>Torgersen</td>\n",
       "      <td>3250.0</td>\n",
       "      <td>Female</td>\n",
       "      <td>195.0</td>\n",
       "    </tr>\n",
       "    <tr>\n",
       "      <th>3</th>\n",
       "      <td>Adelie</td>\n",
       "      <td>Torgersen</td>\n",
       "      <td>NaN</td>\n",
       "      <td>NaN</td>\n",
       "      <td>NaN</td>\n",
       "    </tr>\n",
       "    <tr>\n",
       "      <th>4</th>\n",
       "      <td>Adelie</td>\n",
       "      <td>Torgersen</td>\n",
       "      <td>3450.0</td>\n",
       "      <td>Female</td>\n",
       "      <td>193.0</td>\n",
       "    </tr>\n",
       "  </tbody>\n",
       "</table>\n",
       "</div>"
      ],
      "text/plain": [
       "  especie       ilha  massa_corporal_g    sexo  nadadeira_mm\n",
       "0  Adelie  Torgersen            3750.0    Male         181.0\n",
       "1  Adelie  Torgersen            3800.0  Female         186.0\n",
       "2  Adelie  Torgersen            3250.0  Female         195.0\n",
       "3  Adelie  Torgersen               NaN     NaN           NaN\n",
       "4  Adelie  Torgersen            3450.0  Female         193.0"
      ]
     },
     "execution_count": 9,
     "metadata": {},
     "output_type": "execute_result"
    }
   ],
   "source": [
    "# Exibir as primeiras linhas da tabela reduzida\n",
    "df_subset.head()  # Mostra as 5 primeiras linhas do subconjunto criado\n"
   ]
  },
  {
   "cell_type": "code",
   "execution_count": 10,
   "id": "H_3tUrXSpBIk",
   "metadata": {
    "colab": {
     "base_uri": "https://localhost:8080/",
     "height": 206
    },
    "id": "H_3tUrXSpBIk",
    "outputId": "4457138e-af27-4b45-e2a4-45995e676f24"
   },
   "outputs": [
    {
     "data": {
      "text/html": [
       "<div>\n",
       "<style scoped>\n",
       "    .dataframe tbody tr th:only-of-type {\n",
       "        vertical-align: middle;\n",
       "    }\n",
       "\n",
       "    .dataframe tbody tr th {\n",
       "        vertical-align: top;\n",
       "    }\n",
       "\n",
       "    .dataframe thead th {\n",
       "        text-align: right;\n",
       "    }\n",
       "</style>\n",
       "<table border=\"1\" class=\"dataframe\">\n",
       "  <thead>\n",
       "    <tr style=\"text-align: right;\">\n",
       "      <th></th>\n",
       "      <th>especie</th>\n",
       "      <th>ilha</th>\n",
       "      <th>massa_corporal_g</th>\n",
       "      <th>sexo</th>\n",
       "      <th>nadadeira_mm</th>\n",
       "    </tr>\n",
       "  </thead>\n",
       "  <tbody>\n",
       "    <tr>\n",
       "      <th>0</th>\n",
       "      <td>Adelie</td>\n",
       "      <td>Torgersen</td>\n",
       "      <td>3.75</td>\n",
       "      <td>Male</td>\n",
       "      <td>181.0</td>\n",
       "    </tr>\n",
       "    <tr>\n",
       "      <th>1</th>\n",
       "      <td>Adelie</td>\n",
       "      <td>Torgersen</td>\n",
       "      <td>3.80</td>\n",
       "      <td>Female</td>\n",
       "      <td>186.0</td>\n",
       "    </tr>\n",
       "    <tr>\n",
       "      <th>2</th>\n",
       "      <td>Adelie</td>\n",
       "      <td>Torgersen</td>\n",
       "      <td>3.25</td>\n",
       "      <td>Female</td>\n",
       "      <td>195.0</td>\n",
       "    </tr>\n",
       "    <tr>\n",
       "      <th>3</th>\n",
       "      <td>Adelie</td>\n",
       "      <td>Torgersen</td>\n",
       "      <td>NaN</td>\n",
       "      <td>NaN</td>\n",
       "      <td>NaN</td>\n",
       "    </tr>\n",
       "    <tr>\n",
       "      <th>4</th>\n",
       "      <td>Adelie</td>\n",
       "      <td>Torgersen</td>\n",
       "      <td>3.45</td>\n",
       "      <td>Female</td>\n",
       "      <td>193.0</td>\n",
       "    </tr>\n",
       "  </tbody>\n",
       "</table>\n",
       "</div>"
      ],
      "text/plain": [
       "  especie       ilha  massa_corporal_g    sexo  nadadeira_mm\n",
       "0  Adelie  Torgersen              3.75    Male         181.0\n",
       "1  Adelie  Torgersen              3.80  Female         186.0\n",
       "2  Adelie  Torgersen              3.25  Female         195.0\n",
       "3  Adelie  Torgersen               NaN     NaN           NaN\n",
       "4  Adelie  Torgersen              3.45  Female         193.0"
      ]
     },
     "execution_count": 10,
     "metadata": {},
     "output_type": "execute_result"
    }
   ],
   "source": [
    "#Vamos transformar os valores da massa dos pinguins de gramas para quilos\n",
    "\n",
    "df_subset.iloc[:,2]=df_subset.iloc[:,2]/1000 #iloc = index location\n",
    "df_subset.head()"
   ]
  },
  {
   "cell_type": "code",
   "execution_count": 11,
   "id": "JH74ViA8qGus",
   "metadata": {
    "colab": {
     "base_uri": "https://localhost:8080/",
     "height": 206
    },
    "id": "JH74ViA8qGus",
    "outputId": "11e2538b-9cfb-4654-c07b-b0627227a198"
   },
   "outputs": [
    {
     "data": {
      "text/html": [
       "<div>\n",
       "<style scoped>\n",
       "    .dataframe tbody tr th:only-of-type {\n",
       "        vertical-align: middle;\n",
       "    }\n",
       "\n",
       "    .dataframe tbody tr th {\n",
       "        vertical-align: top;\n",
       "    }\n",
       "\n",
       "    .dataframe thead th {\n",
       "        text-align: right;\n",
       "    }\n",
       "</style>\n",
       "<table border=\"1\" class=\"dataframe\">\n",
       "  <thead>\n",
       "    <tr style=\"text-align: right;\">\n",
       "      <th></th>\n",
       "      <th>especie</th>\n",
       "      <th>ilha</th>\n",
       "      <th>massa_corporal_kg</th>\n",
       "      <th>sexo</th>\n",
       "      <th>nadadeira_mm</th>\n",
       "    </tr>\n",
       "  </thead>\n",
       "  <tbody>\n",
       "    <tr>\n",
       "      <th>0</th>\n",
       "      <td>Adelie</td>\n",
       "      <td>Torgersen</td>\n",
       "      <td>3.75</td>\n",
       "      <td>Male</td>\n",
       "      <td>181.0</td>\n",
       "    </tr>\n",
       "    <tr>\n",
       "      <th>1</th>\n",
       "      <td>Adelie</td>\n",
       "      <td>Torgersen</td>\n",
       "      <td>3.80</td>\n",
       "      <td>Female</td>\n",
       "      <td>186.0</td>\n",
       "    </tr>\n",
       "    <tr>\n",
       "      <th>2</th>\n",
       "      <td>Adelie</td>\n",
       "      <td>Torgersen</td>\n",
       "      <td>3.25</td>\n",
       "      <td>Female</td>\n",
       "      <td>195.0</td>\n",
       "    </tr>\n",
       "    <tr>\n",
       "      <th>3</th>\n",
       "      <td>Adelie</td>\n",
       "      <td>Torgersen</td>\n",
       "      <td>NaN</td>\n",
       "      <td>NaN</td>\n",
       "      <td>NaN</td>\n",
       "    </tr>\n",
       "    <tr>\n",
       "      <th>4</th>\n",
       "      <td>Adelie</td>\n",
       "      <td>Torgersen</td>\n",
       "      <td>3.45</td>\n",
       "      <td>Female</td>\n",
       "      <td>193.0</td>\n",
       "    </tr>\n",
       "  </tbody>\n",
       "</table>\n",
       "</div>"
      ],
      "text/plain": [
       "  especie       ilha  massa_corporal_kg    sexo  nadadeira_mm\n",
       "0  Adelie  Torgersen               3.75    Male         181.0\n",
       "1  Adelie  Torgersen               3.80  Female         186.0\n",
       "2  Adelie  Torgersen               3.25  Female         195.0\n",
       "3  Adelie  Torgersen                NaN     NaN           NaN\n",
       "4  Adelie  Torgersen               3.45  Female         193.0"
      ]
     },
     "execution_count": 11,
     "metadata": {},
     "output_type": "execute_result"
    }
   ],
   "source": [
    "#Agora vamos renomear novamente a coluna de g para kg\n",
    "\n",
    "df_subset = df_subset.rename(columns={'massa_corporal_g': 'massa_corporal_kg'})\n",
    "df_subset.head()"
   ]
  },
  {
   "cell_type": "markdown",
   "id": "4b145330",
   "metadata": {
    "id": "4b145330"
   },
   "source": [
    "## 🗑️ Removendo Colunas e Linhas"
   ]
  },
  {
   "cell_type": "code",
   "execution_count": 12,
   "id": "9695cf37",
   "metadata": {
    "colab": {
     "base_uri": "https://localhost:8080/",
     "height": 206
    },
    "id": "9695cf37",
    "outputId": "384278f5-4cf8-4be8-ccde-9b86929c9689"
   },
   "outputs": [
    {
     "data": {
      "text/html": [
       "<div>\n",
       "<style scoped>\n",
       "    .dataframe tbody tr th:only-of-type {\n",
       "        vertical-align: middle;\n",
       "    }\n",
       "\n",
       "    .dataframe tbody tr th {\n",
       "        vertical-align: top;\n",
       "    }\n",
       "\n",
       "    .dataframe thead th {\n",
       "        text-align: right;\n",
       "    }\n",
       "</style>\n",
       "<table border=\"1\" class=\"dataframe\">\n",
       "  <thead>\n",
       "    <tr style=\"text-align: right;\">\n",
       "      <th></th>\n",
       "      <th>especie</th>\n",
       "      <th>ilha</th>\n",
       "      <th>massa_corporal_kg</th>\n",
       "      <th>sexo</th>\n",
       "    </tr>\n",
       "  </thead>\n",
       "  <tbody>\n",
       "    <tr>\n",
       "      <th>0</th>\n",
       "      <td>Adelie</td>\n",
       "      <td>Torgersen</td>\n",
       "      <td>3.75</td>\n",
       "      <td>Male</td>\n",
       "    </tr>\n",
       "    <tr>\n",
       "      <th>1</th>\n",
       "      <td>Adelie</td>\n",
       "      <td>Torgersen</td>\n",
       "      <td>3.80</td>\n",
       "      <td>Female</td>\n",
       "    </tr>\n",
       "    <tr>\n",
       "      <th>2</th>\n",
       "      <td>Adelie</td>\n",
       "      <td>Torgersen</td>\n",
       "      <td>3.25</td>\n",
       "      <td>Female</td>\n",
       "    </tr>\n",
       "    <tr>\n",
       "      <th>3</th>\n",
       "      <td>Adelie</td>\n",
       "      <td>Torgersen</td>\n",
       "      <td>NaN</td>\n",
       "      <td>NaN</td>\n",
       "    </tr>\n",
       "    <tr>\n",
       "      <th>4</th>\n",
       "      <td>Adelie</td>\n",
       "      <td>Torgersen</td>\n",
       "      <td>3.45</td>\n",
       "      <td>Female</td>\n",
       "    </tr>\n",
       "  </tbody>\n",
       "</table>\n",
       "</div>"
      ],
      "text/plain": [
       "  especie       ilha  massa_corporal_kg    sexo\n",
       "0  Adelie  Torgersen               3.75    Male\n",
       "1  Adelie  Torgersen               3.80  Female\n",
       "2  Adelie  Torgersen               3.25  Female\n",
       "3  Adelie  Torgersen                NaN     NaN\n",
       "4  Adelie  Torgersen               3.45  Female"
      ]
     },
     "execution_count": 12,
     "metadata": {},
     "output_type": "execute_result"
    }
   ],
   "source": [
    "\n",
    "#Digamos que mudamos de ideia e nadadeiras não é mais importante\n",
    "# Apagar a quinta coluna (índice 4) do dataset original\n",
    "df_subset.pop(df_subset.columns[4])\n",
    "\n",
    "df_subset.head()"
   ]
  },
  {
   "cell_type": "code",
   "execution_count": 13,
   "id": "80145b65",
   "metadata": {
    "colab": {
     "base_uri": "https://localhost:8080/",
     "height": 206
    },
    "id": "80145b65",
    "outputId": "9f8fea7e-12a4-4b73-d7ce-0ab684b04394"
   },
   "outputs": [
    {
     "data": {
      "text/html": [
       "<div>\n",
       "<style scoped>\n",
       "    .dataframe tbody tr th:only-of-type {\n",
       "        vertical-align: middle;\n",
       "    }\n",
       "\n",
       "    .dataframe tbody tr th {\n",
       "        vertical-align: top;\n",
       "    }\n",
       "\n",
       "    .dataframe thead th {\n",
       "        text-align: right;\n",
       "    }\n",
       "</style>\n",
       "<table border=\"1\" class=\"dataframe\">\n",
       "  <thead>\n",
       "    <tr style=\"text-align: right;\">\n",
       "      <th></th>\n",
       "      <th>especie</th>\n",
       "      <th>ilha</th>\n",
       "      <th>massa_corporal_kg</th>\n",
       "      <th>sexo</th>\n",
       "    </tr>\n",
       "  </thead>\n",
       "  <tbody>\n",
       "    <tr>\n",
       "      <th>0</th>\n",
       "      <td>Adelie</td>\n",
       "      <td>Torgersen</td>\n",
       "      <td>3.75</td>\n",
       "      <td>Male</td>\n",
       "    </tr>\n",
       "    <tr>\n",
       "      <th>1</th>\n",
       "      <td>Adelie</td>\n",
       "      <td>Torgersen</td>\n",
       "      <td>3.80</td>\n",
       "      <td>Female</td>\n",
       "    </tr>\n",
       "    <tr>\n",
       "      <th>2</th>\n",
       "      <td>Adelie</td>\n",
       "      <td>Torgersen</td>\n",
       "      <td>3.25</td>\n",
       "      <td>Female</td>\n",
       "    </tr>\n",
       "    <tr>\n",
       "      <th>4</th>\n",
       "      <td>Adelie</td>\n",
       "      <td>Torgersen</td>\n",
       "      <td>3.45</td>\n",
       "      <td>Female</td>\n",
       "    </tr>\n",
       "    <tr>\n",
       "      <th>5</th>\n",
       "      <td>Adelie</td>\n",
       "      <td>Torgersen</td>\n",
       "      <td>3.65</td>\n",
       "      <td>Male</td>\n",
       "    </tr>\n",
       "  </tbody>\n",
       "</table>\n",
       "</div>"
      ],
      "text/plain": [
       "  especie       ilha  massa_corporal_kg    sexo\n",
       "0  Adelie  Torgersen               3.75    Male\n",
       "1  Adelie  Torgersen               3.80  Female\n",
       "2  Adelie  Torgersen               3.25  Female\n",
       "4  Adelie  Torgersen               3.45  Female\n",
       "5  Adelie  Torgersen               3.65    Male"
      ]
     },
     "execution_count": 13,
     "metadata": {},
     "output_type": "execute_result"
    }
   ],
   "source": [
    "#Digamos que por algum motivo eu não quero a quarta linha (índice 3) também \n",
    "df_subset.drop(index=3, inplace=True)  # Remove a linha de índice 3 diretamente no df_subset, sem precisar criar uma nova variável\n",
    "df_subset.head()\n"
   ]
  },
  {
   "cell_type": "code",
   "execution_count": 15,
   "id": "f2ef478e-22b1-4719-aefe-8e29ad0afb82",
   "metadata": {},
   "outputs": [
    {
     "data": {
      "text/html": [
       "<div>\n",
       "<style scoped>\n",
       "    .dataframe tbody tr th:only-of-type {\n",
       "        vertical-align: middle;\n",
       "    }\n",
       "\n",
       "    .dataframe tbody tr th {\n",
       "        vertical-align: top;\n",
       "    }\n",
       "\n",
       "    .dataframe thead th {\n",
       "        text-align: right;\n",
       "    }\n",
       "</style>\n",
       "<table border=\"1\" class=\"dataframe\">\n",
       "  <thead>\n",
       "    <tr style=\"text-align: right;\">\n",
       "      <th></th>\n",
       "      <th>especie</th>\n",
       "      <th>ilha</th>\n",
       "      <th>massa_corporal_kg</th>\n",
       "      <th>sexo</th>\n",
       "    </tr>\n",
       "  </thead>\n",
       "  <tbody>\n",
       "    <tr>\n",
       "      <th>339</th>\n",
       "      <td>Gentoo</td>\n",
       "      <td>Biscoe</td>\n",
       "      <td>NaN</td>\n",
       "      <td>NaN</td>\n",
       "    </tr>\n",
       "  </tbody>\n",
       "</table>\n",
       "</div>"
      ],
      "text/plain": [
       "    especie    ilha  massa_corporal_kg sexo\n",
       "339  Gentoo  Biscoe                NaN  NaN"
      ]
     },
     "execution_count": 15,
     "metadata": {},
     "output_type": "execute_result"
    }
   ],
   "source": [
    "#Onde está o valor nulo da coluna massa_corporal_kg?\n",
    "\n",
    "df_subset[df_subset[\"massa_corporal_kg\"].isnull()]\n"
   ]
  },
  {
   "cell_type": "markdown",
   "id": "5fe09506",
   "metadata": {
    "id": "5fe09506"
   },
   "source": [
    "## 🔄 Lidando com Valores Nulos"
   ]
  },
  {
   "cell_type": "code",
   "execution_count": 16,
   "id": "f3619a66",
   "metadata": {
    "colab": {
     "base_uri": "https://localhost:8080/",
     "height": 206
    },
    "id": "f3619a66",
    "outputId": "1edf7d36-5a82-44e5-c97e-408ac92d9dd7"
   },
   "outputs": [
    {
     "data": {
      "text/plain": [
       "especie                Gentoo\n",
       "ilha                   Biscoe\n",
       "massa_corporal_kg    4.201754\n",
       "sexo                      NaN\n",
       "Name: 339, dtype: object"
      ]
     },
     "execution_count": 16,
     "metadata": {},
     "output_type": "execute_result"
    }
   ],
   "source": [
    "# 📌 Preencher valores nulos da coluna 'massa_corporal_kg' com a média da própria coluna\n",
    "\n",
    "df_subset['massa_corporal_kg'] = df_subset['massa_corporal_kg'].fillna(\n",
    "    df_subset['massa_corporal_kg'].mean()  # Calculamos a média da coluna 'massa_corporal_kg' para substituir os valores nulos\n",
    ")  # O método fillna() retorna uma nova Series com os NaNs preenchidos, e essa nova versão é salva na coluna original\n",
    "\n",
    "# 📌 Exibir as primeiras linhas para confirmar que os valores nulos foram preenchidos corretamente\n",
    "df_subset.loc[339]  # acessa a linha cujo índice é 339\n",
    "#Atenção, 339 não quer dizer que é 339º, quer dizer que o índice tem o \"nome\" de 339"
   ]
  },
  {
   "cell_type": "code",
   "execution_count": 17,
   "id": "EynpW4xnukig",
   "metadata": {
    "colab": {
     "base_uri": "https://localhost:8080/"
    },
    "id": "EynpW4xnukig",
    "outputId": "07500eb6-c860-46e1-9609-a25b5882d28f"
   },
   "outputs": [
    {
     "name": "stdout",
     "output_type": "stream",
     "text": [
      "<class 'pandas.core.frame.DataFrame'>\n",
      "Index: 343 entries, 0 to 343\n",
      "Data columns (total 4 columns):\n",
      " #   Column             Non-Null Count  Dtype  \n",
      "---  ------             --------------  -----  \n",
      " 0   especie            343 non-null    object \n",
      " 1   ilha               343 non-null    object \n",
      " 2   massa_corporal_kg  343 non-null    float64\n",
      " 3   sexo               333 non-null    object \n",
      "dtypes: float64(1), object(3)\n",
      "memory usage: 21.5+ KB\n"
     ]
    }
   ],
   "source": [
    "#Vamos ver se ainda temos valores nulos\n",
    "df_subset.info()"
   ]
  },
  {
   "cell_type": "code",
   "execution_count": 18,
   "id": "e38dfb3d",
   "metadata": {
    "colab": {
     "base_uri": "https://localhost:8080/"
    },
    "id": "e38dfb3d",
    "outputId": "512c90f9-a5f5-484e-cc5f-bc9347c6a7c5"
   },
   "outputs": [
    {
     "name": "stdout",
     "output_type": "stream",
     "text": [
      "<class 'pandas.core.frame.DataFrame'>\n",
      "Index: 333 entries, 0 to 343\n",
      "Data columns (total 4 columns):\n",
      " #   Column             Non-Null Count  Dtype  \n",
      "---  ------             --------------  -----  \n",
      " 0   especie            333 non-null    object \n",
      " 1   ilha               333 non-null    object \n",
      " 2   massa_corporal_kg  333 non-null    float64\n",
      " 3   sexo               333 non-null    object \n",
      "dtypes: float64(1), object(3)\n",
      "memory usage: 13.0+ KB\n"
     ]
    }
   ],
   "source": [
    "#Poderíamos retirar a coluna sexo, mas digamos que ela é importante para nossa análise\n",
    "#Como é uma variável categórica, não é possível plotarmos valores nulos, então vamos simplesmente apagá-los\n",
    "# Remover linhas que ainda contenham valores nulos\n",
    "df_subset.dropna(inplace=True)  # Exclui qualquer linha que ainda tenha valores nulos\n",
    "df_subset.info()\n"
   ]
  },
  {
   "cell_type": "code",
   "execution_count": 19,
   "id": "ef62fae8",
   "metadata": {
    "colab": {
     "base_uri": "https://localhost:8080/",
     "height": 210
    },
    "id": "ef62fae8",
    "outputId": "4da729b1-f2f6-434e-9e87-84eba1b4acc8"
   },
   "outputs": [
    {
     "data": {
      "text/plain": [
       "especie              0\n",
       "ilha                 0\n",
       "massa_corporal_kg    0\n",
       "sexo                 0\n",
       "dtype: int64"
      ]
     },
     "execution_count": 19,
     "metadata": {},
     "output_type": "execute_result"
    }
   ],
   "source": [
    "# Verificar novamente se há valores nulos\n",
    "df_subset.isnull().sum()  # Confirma que não há mais valores ausentes no dataset\n"
   ]
  },
  {
   "cell_type": "markdown",
   "id": "2da0046c",
   "metadata": {
    "id": "2da0046c"
   },
   "source": [
    "## 🔢 Criando Novas Colunas"
   ]
  },
  {
   "cell_type": "code",
   "execution_count": 20,
   "id": "e823cb00",
   "metadata": {
    "id": "e823cb00"
   },
   "outputs": [],
   "source": [
    "\n",
    "# Criar uma nova coluna 'leve', que indica se o pinguim é mais leve que 4kg\n",
    "df_subset['É leve?'] = df_subset['massa_corporal_kg'] < 4  # Retorna True para pinguins abaixo da média\n",
    "\n"
   ]
  },
  {
   "cell_type": "code",
   "execution_count": 21,
   "id": "5c10c249",
   "metadata": {
    "colab": {
     "base_uri": "https://localhost:8080/",
     "height": 206
    },
    "id": "5c10c249",
    "outputId": "9bf11771-06e0-4e67-cb99-eae38babe6b1"
   },
   "outputs": [
    {
     "data": {
      "text/html": [
       "<div>\n",
       "<style scoped>\n",
       "    .dataframe tbody tr th:only-of-type {\n",
       "        vertical-align: middle;\n",
       "    }\n",
       "\n",
       "    .dataframe tbody tr th {\n",
       "        vertical-align: top;\n",
       "    }\n",
       "\n",
       "    .dataframe thead th {\n",
       "        text-align: right;\n",
       "    }\n",
       "</style>\n",
       "<table border=\"1\" class=\"dataframe\">\n",
       "  <thead>\n",
       "    <tr style=\"text-align: right;\">\n",
       "      <th></th>\n",
       "      <th>especie</th>\n",
       "      <th>ilha</th>\n",
       "      <th>massa_corporal_kg</th>\n",
       "      <th>sexo</th>\n",
       "      <th>É leve?</th>\n",
       "    </tr>\n",
       "  </thead>\n",
       "  <tbody>\n",
       "    <tr>\n",
       "      <th>0</th>\n",
       "      <td>Adelie</td>\n",
       "      <td>Torgersen</td>\n",
       "      <td>3.75</td>\n",
       "      <td>Male</td>\n",
       "      <td>True</td>\n",
       "    </tr>\n",
       "    <tr>\n",
       "      <th>1</th>\n",
       "      <td>Adelie</td>\n",
       "      <td>Torgersen</td>\n",
       "      <td>3.80</td>\n",
       "      <td>Female</td>\n",
       "      <td>True</td>\n",
       "    </tr>\n",
       "    <tr>\n",
       "      <th>2</th>\n",
       "      <td>Adelie</td>\n",
       "      <td>Torgersen</td>\n",
       "      <td>3.25</td>\n",
       "      <td>Female</td>\n",
       "      <td>True</td>\n",
       "    </tr>\n",
       "    <tr>\n",
       "      <th>4</th>\n",
       "      <td>Adelie</td>\n",
       "      <td>Torgersen</td>\n",
       "      <td>3.45</td>\n",
       "      <td>Female</td>\n",
       "      <td>True</td>\n",
       "    </tr>\n",
       "    <tr>\n",
       "      <th>5</th>\n",
       "      <td>Adelie</td>\n",
       "      <td>Torgersen</td>\n",
       "      <td>3.65</td>\n",
       "      <td>Male</td>\n",
       "      <td>True</td>\n",
       "    </tr>\n",
       "  </tbody>\n",
       "</table>\n",
       "</div>"
      ],
      "text/plain": [
       "  especie       ilha  massa_corporal_kg    sexo  É leve?\n",
       "0  Adelie  Torgersen               3.75    Male     True\n",
       "1  Adelie  Torgersen               3.80  Female     True\n",
       "2  Adelie  Torgersen               3.25  Female     True\n",
       "4  Adelie  Torgersen               3.45  Female     True\n",
       "5  Adelie  Torgersen               3.65    Male     True"
      ]
     },
     "execution_count": 21,
     "metadata": {},
     "output_type": "execute_result"
    }
   ],
   "source": [
    "\n",
    "# Exibir as primeiras linhas para visualizar a nova coluna\n",
    "df_subset.head()  # Confere a adição da nova coluna ao DataFrame\n"
   ]
  },
  {
   "cell_type": "code",
   "execution_count": 22,
   "id": "Lt5p4d2QxcqS",
   "metadata": {
    "colab": {
     "base_uri": "https://localhost:8080/",
     "height": 363
    },
    "id": "Lt5p4d2QxcqS",
    "outputId": "5fc2e5b5-0ffd-4fab-921e-474ad118c106"
   },
   "outputs": [
    {
     "data": {
      "text/html": [
       "<div>\n",
       "<style scoped>\n",
       "    .dataframe tbody tr th:only-of-type {\n",
       "        vertical-align: middle;\n",
       "    }\n",
       "\n",
       "    .dataframe tbody tr th {\n",
       "        vertical-align: top;\n",
       "    }\n",
       "\n",
       "    .dataframe thead th {\n",
       "        text-align: right;\n",
       "    }\n",
       "</style>\n",
       "<table border=\"1\" class=\"dataframe\">\n",
       "  <thead>\n",
       "    <tr style=\"text-align: right;\">\n",
       "      <th></th>\n",
       "      <th>especie</th>\n",
       "      <th>ilha</th>\n",
       "      <th>massa_corporal_kg</th>\n",
       "      <th>sexo</th>\n",
       "      <th>É leve?</th>\n",
       "    </tr>\n",
       "  </thead>\n",
       "  <tbody>\n",
       "    <tr>\n",
       "      <th>332</th>\n",
       "      <td>Gentoo</td>\n",
       "      <td>Biscoe</td>\n",
       "      <td>4.650</td>\n",
       "      <td>Female</td>\n",
       "      <td>False</td>\n",
       "    </tr>\n",
       "    <tr>\n",
       "      <th>333</th>\n",
       "      <td>Gentoo</td>\n",
       "      <td>Biscoe</td>\n",
       "      <td>5.500</td>\n",
       "      <td>Male</td>\n",
       "      <td>False</td>\n",
       "    </tr>\n",
       "    <tr>\n",
       "      <th>334</th>\n",
       "      <td>Gentoo</td>\n",
       "      <td>Biscoe</td>\n",
       "      <td>4.375</td>\n",
       "      <td>Female</td>\n",
       "      <td>False</td>\n",
       "    </tr>\n",
       "    <tr>\n",
       "      <th>335</th>\n",
       "      <td>Gentoo</td>\n",
       "      <td>Biscoe</td>\n",
       "      <td>5.850</td>\n",
       "      <td>Male</td>\n",
       "      <td>False</td>\n",
       "    </tr>\n",
       "    <tr>\n",
       "      <th>337</th>\n",
       "      <td>Gentoo</td>\n",
       "      <td>Biscoe</td>\n",
       "      <td>6.000</td>\n",
       "      <td>Male</td>\n",
       "      <td>False</td>\n",
       "    </tr>\n",
       "    <tr>\n",
       "      <th>338</th>\n",
       "      <td>Gentoo</td>\n",
       "      <td>Biscoe</td>\n",
       "      <td>4.925</td>\n",
       "      <td>Female</td>\n",
       "      <td>False</td>\n",
       "    </tr>\n",
       "    <tr>\n",
       "      <th>340</th>\n",
       "      <td>Gentoo</td>\n",
       "      <td>Biscoe</td>\n",
       "      <td>4.850</td>\n",
       "      <td>Female</td>\n",
       "      <td>False</td>\n",
       "    </tr>\n",
       "    <tr>\n",
       "      <th>341</th>\n",
       "      <td>Gentoo</td>\n",
       "      <td>Biscoe</td>\n",
       "      <td>5.750</td>\n",
       "      <td>Male</td>\n",
       "      <td>False</td>\n",
       "    </tr>\n",
       "    <tr>\n",
       "      <th>342</th>\n",
       "      <td>Gentoo</td>\n",
       "      <td>Biscoe</td>\n",
       "      <td>5.200</td>\n",
       "      <td>Female</td>\n",
       "      <td>False</td>\n",
       "    </tr>\n",
       "    <tr>\n",
       "      <th>343</th>\n",
       "      <td>Gentoo</td>\n",
       "      <td>Biscoe</td>\n",
       "      <td>5.400</td>\n",
       "      <td>Male</td>\n",
       "      <td>False</td>\n",
       "    </tr>\n",
       "  </tbody>\n",
       "</table>\n",
       "</div>"
      ],
      "text/plain": [
       "    especie    ilha  massa_corporal_kg    sexo  É leve?\n",
       "332  Gentoo  Biscoe              4.650  Female    False\n",
       "333  Gentoo  Biscoe              5.500    Male    False\n",
       "334  Gentoo  Biscoe              4.375  Female    False\n",
       "335  Gentoo  Biscoe              5.850    Male    False\n",
       "337  Gentoo  Biscoe              6.000    Male    False\n",
       "338  Gentoo  Biscoe              4.925  Female    False\n",
       "340  Gentoo  Biscoe              4.850  Female    False\n",
       "341  Gentoo  Biscoe              5.750    Male    False\n",
       "342  Gentoo  Biscoe              5.200  Female    False\n",
       "343  Gentoo  Biscoe              5.400    Male    False"
      ]
     },
     "execution_count": 22,
     "metadata": {},
     "output_type": "execute_result"
    }
   ],
   "source": [
    "#Como provavelmente está em ordem crescente, vamos ver os últimos 10 valores e checar se a parte \"pesado\" está como falso\n",
    "df_subset.tail(10)"
   ]
  },
  {
   "cell_type": "code",
   "execution_count": 23,
   "id": "Syrf8wS2yDdl",
   "metadata": {
    "colab": {
     "base_uri": "https://localhost:8080/",
     "height": 206
    },
    "id": "Syrf8wS2yDdl",
    "outputId": "44613741-6900-479a-f238-1179702795f6"
   },
   "outputs": [
    {
     "data": {
      "text/html": [
       "<div>\n",
       "<style scoped>\n",
       "    .dataframe tbody tr th:only-of-type {\n",
       "        vertical-align: middle;\n",
       "    }\n",
       "\n",
       "    .dataframe tbody tr th {\n",
       "        vertical-align: top;\n",
       "    }\n",
       "\n",
       "    .dataframe thead th {\n",
       "        text-align: right;\n",
       "    }\n",
       "</style>\n",
       "<table border=\"1\" class=\"dataframe\">\n",
       "  <thead>\n",
       "    <tr style=\"text-align: right;\">\n",
       "      <th></th>\n",
       "      <th>especie</th>\n",
       "      <th>ilha</th>\n",
       "      <th>massa_corporal_kg</th>\n",
       "      <th>sexo</th>\n",
       "      <th>É leve?</th>\n",
       "    </tr>\n",
       "  </thead>\n",
       "  <tbody>\n",
       "    <tr>\n",
       "      <th>0</th>\n",
       "      <td>Adelie</td>\n",
       "      <td>Torgersen</td>\n",
       "      <td>3.75</td>\n",
       "      <td>Macho</td>\n",
       "      <td>Sim</td>\n",
       "    </tr>\n",
       "    <tr>\n",
       "      <th>1</th>\n",
       "      <td>Adelie</td>\n",
       "      <td>Torgersen</td>\n",
       "      <td>3.80</td>\n",
       "      <td>Fêmea</td>\n",
       "      <td>Sim</td>\n",
       "    </tr>\n",
       "    <tr>\n",
       "      <th>2</th>\n",
       "      <td>Adelie</td>\n",
       "      <td>Torgersen</td>\n",
       "      <td>3.25</td>\n",
       "      <td>Fêmea</td>\n",
       "      <td>Sim</td>\n",
       "    </tr>\n",
       "    <tr>\n",
       "      <th>4</th>\n",
       "      <td>Adelie</td>\n",
       "      <td>Torgersen</td>\n",
       "      <td>3.45</td>\n",
       "      <td>Fêmea</td>\n",
       "      <td>Sim</td>\n",
       "    </tr>\n",
       "    <tr>\n",
       "      <th>5</th>\n",
       "      <td>Adelie</td>\n",
       "      <td>Torgersen</td>\n",
       "      <td>3.65</td>\n",
       "      <td>Macho</td>\n",
       "      <td>Sim</td>\n",
       "    </tr>\n",
       "  </tbody>\n",
       "</table>\n",
       "</div>"
      ],
      "text/plain": [
       "  especie       ilha  massa_corporal_kg   sexo É leve?\n",
       "0  Adelie  Torgersen               3.75  Macho     Sim\n",
       "1  Adelie  Torgersen               3.80  Fêmea     Sim\n",
       "2  Adelie  Torgersen               3.25  Fêmea     Sim\n",
       "4  Adelie  Torgersen               3.45  Fêmea     Sim\n",
       "5  Adelie  Torgersen               3.65  Macho     Sim"
      ]
     },
     "execution_count": 23,
     "metadata": {},
     "output_type": "execute_result"
    }
   ],
   "source": [
    "#Não gostei do true ou false, vamos substituir por sim ou não e também traduzir os sexos\n",
    "df_subset['É leve?'] = df_subset['É leve?'].replace({True: 'Sim', False: 'Não'})\n",
    "df_subset['sexo'] = df_subset['sexo'].replace({\"Female\": 'Fêmea', \"Male\": 'Macho'})\n",
    "df_subset.head()\n"
   ]
  },
  {
   "cell_type": "markdown",
   "id": "949bed7e",
   "metadata": {
    "id": "949bed7e"
   },
   "source": [
    "## 💾 Salvando a Tabela Modificada"
   ]
  },
  {
   "cell_type": "code",
   "execution_count": null,
   "id": "84e98c94",
   "metadata": {
    "colab": {
     "base_uri": "https://localhost:8080/",
     "height": 17
    },
    "id": "84e98c94",
    "outputId": "4aa0df72-9d58-4618-ac71-f5bff9899fbe"
   },
   "outputs": [],
   "source": [
    "df_subset.to_excel(\"pinguins.xlsx\", index=False)  # Salva o arquivo sem o índice\n",
    "\n",
    "from google.colab import files\n",
    "files.download(\"pinguins.xlsx\")  # Faz o download do arquivo"
   ]
  }
 ],
 "metadata": {
  "colab": {
   "provenance": []
  },
  "kernelspec": {
   "display_name": "Python 3 (ipykernel)",
   "language": "python",
   "name": "python3"
  },
  "language_info": {
   "codemirror_mode": {
    "name": "ipython",
    "version": 3
   },
   "file_extension": ".py",
   "mimetype": "text/x-python",
   "name": "python",
   "nbconvert_exporter": "python",
   "pygments_lexer": "ipython3",
   "version": "3.12.7"
  }
 },
 "nbformat": 4,
 "nbformat_minor": 5
}
