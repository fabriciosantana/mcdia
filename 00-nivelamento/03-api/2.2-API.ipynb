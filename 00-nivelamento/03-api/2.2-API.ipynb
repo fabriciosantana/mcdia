{
  "cells": [
    {
      "cell_type": "markdown",
      "metadata": {
        "id": "NrhVydDDG9mY"
      },
      "source": [
        "# 📌 Consulta de Previsão do Tempo usando a API OpenWeather\n",
        "\n",
        "📍 Objetivo\n",
        "\n",
        "Este código faz uma consulta à API OpenWeather para obter informações meteorológicas de uma cidade específica. Ele retorna:\n",
        "\n",
        "🌡️ Temperatura\n",
        "\n",
        "🌥️ Condição climática\n",
        "\n",
        "💧 Umidade do ar\n",
        "\n",
        "💨 Velocidade do vento\n",
        "\n",
        "Vamos entender cada parte do código!"
      ]
    },
    {
      "cell_type": "markdown",
      "metadata": {
        "id": "kG6Q7MxSHJMj"
      },
      "source": [
        "#📥 1. Importando a Biblioteca Necessária\n",
        "\n",
        "A biblioteca requests é usada para fazer requisições HTTP e obter os dados da API."
      ]
    },
    {
      "cell_type": "code",
      "execution_count": 1,
      "metadata": {
        "id": "FGhkmdObHO7N"
      },
      "outputs": [],
      "source": [
        "import requests  # Biblioteca para fazer requisições HTTP"
      ]
    },
    {
      "cell_type": "markdown",
      "metadata": {
        "id": "w3fzl-hGHXlN"
      },
      "source": [
        "# 🌎 2. Definição da Cidade e Chave da API\n",
        "\n",
        "Para acessar os dados da API, precisamos definir a cidade e a chave da API.\n"
      ]
    },
    {
      "cell_type": "code",
      "execution_count": 15,
      "metadata": {
        "id": "ocHWGAa4HVzN"
      },
      "outputs": [],
      "source": [
        "# Definição da cidade para busca\n",
        "cidade = \"Brasília\"  # Nome da cidade desejada\n",
        "\n",
        "# Chave de autenticação da API (conseguida por meio de um cadastro no site https://openweathermap.org/)\n",
        "api_key = \"a89bcde3d694995d52ff68333d85a3f3\"\n"
      ]
    },
    {
      "cell_type": "markdown",
      "metadata": {
        "id": "6tXIhVU5HroG"
      },
      "source": [
        "🔹 Observação: A API exige uma chave de acesso válida. Se a chave expirar ou estiver errada, a requisição não funcionará."
      ]
    },
    {
      "cell_type": "markdown",
      "metadata": {
        "id": "EtLsO7pMHt9U"
      },
      "source": [
        "# 🔗 3. Construção da URL da API\n",
        "\n",
        "A URL contém os parâmetros necessários para obter a previsão do tempo."
      ]
    },
    {
      "cell_type": "code",
      "execution_count": 16,
      "metadata": {
        "id": "ZFkQKFKEHV3O"
      },
      "outputs": [],
      "source": [
        "# Criamos a URL para consultar os dados climáticos\n",
        "url = f\"http://api.openweathermap.org/data/2.5/weather?q={cidade}&appid={api_key}&units=metric&lang=pt_br\"\n"
      ]
    },
    {
      "cell_type": "markdown",
      "metadata": {
        "id": "e0Y2ZbDUH6uo"
      },
      "source": [
        "# 📌 Explicação da URL:\n",
        "\n",
        "Parâmetro\n",
        "\n",
        "- q={cidade}\tDefine a cidade que será pesquisada\n",
        "\n",
        "- appid={api_key}\tInsere a chave da API para autenticação\n",
        "\n",
        "- units=metric\tDefine a temperatura em graus Celsius\n",
        "\n",
        "- lang=pt_br\tRetorna as descrições do tempo em português do Brasil\n"
      ]
    },
    {
      "cell_type": "markdown",
      "metadata": {
        "id": "OVsyDtiXIr95"
      },
      "source": [
        "# 🔄 4. Fazendo a Requisição à API\n",
        "\n",
        "Agora, enviamos a requisição para a API e obtemos os dados no formato JSON."
      ]
    },
    {
      "cell_type": "code",
      "execution_count": 17,
      "metadata": {
        "id": "eP5D1NphHV8l"
      },
      "outputs": [],
      "source": [
        "# Fazendo a requisição HTTP para a API\n",
        "resposta = requests.get(url)  # Envia uma requisição GET para obter os dados\n",
        "\n",
        "# Convertendo a resposta para um dicionário JSON\n",
        "dados = resposta.json()\n"
      ]
    },
    {
      "cell_type": "markdown",
      "metadata": {
        "id": "6i1NC8e2I6pF"
      },
      "source": [
        "🔹 Se a requisição for bem-sucedida, os dados meteorológicos serão armazenados na variável dados.\n",
        "\n"
      ]
    },
    {
      "cell_type": "code",
      "source": [
        "resposta"
      ],
      "metadata": {
        "colab": {
          "base_uri": "https://localhost:8080/"
        },
        "id": "Uz-boZC-Kh15",
        "outputId": "effba772-1f1b-49f8-e21c-062855b8c5cb"
      },
      "execution_count": 18,
      "outputs": [
        {
          "output_type": "execute_result",
          "data": {
            "text/plain": [
              "<Response [200]>"
            ]
          },
          "metadata": {},
          "execution_count": 18
        }
      ]
    },
    {
      "cell_type": "code",
      "source": [
        "dados"
      ],
      "metadata": {
        "colab": {
          "base_uri": "https://localhost:8080/"
        },
        "id": "lriEfB_LKnuU",
        "outputId": "c4b11500-b537-4566-bbf1-9ba93c09fbb7"
      },
      "execution_count": 19,
      "outputs": [
        {
          "output_type": "execute_result",
          "data": {
            "text/plain": [
              "{'coord': {'lon': -47.9297, 'lat': -15.7797},\n",
              " 'weather': [{'id': 500,\n",
              "   'main': 'Rain',\n",
              "   'description': 'chuva leve',\n",
              "   'icon': '10d'}],\n",
              " 'base': 'stations',\n",
              " 'main': {'temp': 32.52,\n",
              "  'feels_like': 30.28,\n",
              "  'temp_min': 32.51,\n",
              "  'temp_max': 33.12,\n",
              "  'pressure': 1011,\n",
              "  'humidity': 16,\n",
              "  'sea_level': 1011,\n",
              "  'grnd_level': 890},\n",
              " 'visibility': 10000,\n",
              " 'wind': {'speed': 1.54, 'deg': 0},\n",
              " 'rain': {'1h': 0.16},\n",
              " 'clouds': {'all': 0},\n",
              " 'dt': 1757617422,\n",
              " 'sys': {'type': 1,\n",
              "  'id': 8336,\n",
              "  'country': 'BR',\n",
              "  'sunrise': 1757581801,\n",
              "  'sunset': 1757624813},\n",
              " 'timezone': -10800,\n",
              " 'id': 3469058,\n",
              " 'name': 'Brasília',\n",
              " 'cod': 200}"
            ]
          },
          "metadata": {},
          "execution_count": 19
        }
      ]
    },
    {
      "cell_type": "markdown",
      "metadata": {
        "id": "rM4ulPNUI74-"
      },
      "source": [
        "# ✅ 5. Verificando se a Requisição foi Bem-Sucedida\n",
        "\n",
        "Antes de extrair os dados, verificamos se a requisição funcionou corretamente."
      ]
    },
    {
      "cell_type": "code",
      "execution_count": 20,
      "metadata": {
        "colab": {
          "base_uri": "https://localhost:8080/"
        },
        "id": "0QuqKKlgI6Dd",
        "outputId": "4864d952-9620-4bbf-bdc0-006ac51e99b1"
      },
      "outputs": [
        {
          "output_type": "stream",
          "name": "stdout",
          "text": [
            "✅ Conexão bem-sucedida! Dados recebidos da API.\n"
          ]
        }
      ],
      "source": [
        "# Verificamos se a resposta foi bem-sucedida (código 200)\n",
        "if resposta.status_code == 200:\n",
        "    print(\"✅ Conexão bem-sucedida! Dados recebidos da API.\")\n",
        "else:\n",
        "    print(f\"❌ Erro ao acessar a API! Código: {resposta.status_code}\")\n",
        "\n"
      ]
    },
    {
      "cell_type": "markdown",
      "metadata": {
        "id": "2RN8JP5CJIDM"
      },
      "source": [
        "# 📌 Código de Status HTTP\n",
        "Código\n",
        "\n",
        "200\t✅ Sucesso, a API retornou os dados corretamente\n",
        "\n",
        "401\t🔒 Erro de autenticação (chave da API inválida)\n",
        "\n",
        "404\t❌ Cidade não encontrada\n",
        "\n",
        "500\t⚠️ Erro interno da API"
      ]
    },
    {
      "cell_type": "markdown",
      "metadata": {
        "id": "NaMomwOsJRiM"
      },
      "source": [
        "# 🔍 6. Exibindo os Dados de Forma Organizada\n",
        "\n",
        "Por fim, formatamos os dados e exibimos uma previsão do tempo organizada."
      ]
    },
    {
      "cell_type": "code",
      "execution_count": 21,
      "metadata": {
        "colab": {
          "base_uri": "https://localhost:8080/"
        },
        "id": "c-CXSwtAHV_f",
        "outputId": "460b639d-21b4-4c9b-906e-136f1def0e4d"
      },
      "outputs": [
        {
          "output_type": "stream",
          "name": "stdout",
          "text": [
            "📍 Previsão do tempo em Brasília:\n",
            "🌡️ Temperatura: 32.52°C\n",
            "🌥️ Condição: Chuva leve\n",
            "💧 Umidade: 16%\n",
            "💨 Velocidade do vento: 1.54 m/s\n"
          ]
        }
      ],
      "source": [
        "if resposta.status_code == 200:\n",
        "    temperatura = dados[\"main\"][\"temp\"]  # 🌡️ Temperatura em graus Celsius\n",
        "    descricao = dados[\"weather\"][0][\"description\"]  # 🌥️ Descrição do clima (ex: céu limpo, chuva)\n",
        "    umidade = dados[\"main\"][\"humidity\"]  # 💧 Umidade relativa do ar (%)\n",
        "    vento = dados[\"wind\"][\"speed\"]  # 💨 Velocidade do vento em metros por segundo\n",
        "\n",
        "# Exibir os dados da previsão do tempo de forma formatada\n",
        "    print(f\"📍 Previsão do tempo em {cidade}:\")\n",
        "    print(f\"🌡️ Temperatura: {temperatura}°C\")\n",
        "    print(f\"🌥️ Condição: {descricao.capitalize()}\")  # Capitaliza a primeira letra\n",
        "    print(f\"💧 Umidade: {umidade}%\")\n",
        "    print(f\"💨 Velocidade do vento: {vento} m/s\")\n"
      ]
    }
  ],
  "metadata": {
    "colab": {
      "provenance": []
    },
    "kernelspec": {
      "display_name": "Python 3 (ipykernel)",
      "language": "python",
      "name": "python3"
    },
    "language_info": {
      "codemirror_mode": {
        "name": "ipython",
        "version": 3
      },
      "file_extension": ".py",
      "mimetype": "text/x-python",
      "name": "python",
      "nbconvert_exporter": "python",
      "pygments_lexer": "ipython3",
      "version": "3.12.7"
    }
  },
  "nbformat": 4,
  "nbformat_minor": 0
}