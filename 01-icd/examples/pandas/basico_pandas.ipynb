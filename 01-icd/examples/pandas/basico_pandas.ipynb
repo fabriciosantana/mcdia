{
  "cells": [
    {
      "cell_type": "markdown",
      "metadata": {
        "colab_type": "text",
        "id": "view-in-github"
      },
      "source": [
        "<a href=\"https://colab.research.google.com/github/fabriciosantana/mcdia/blob/main/01-icd/examples/pandas/basico_pandas.ipynb\" target=\"_parent\"><img src=\"https://colab.research.google.com/assets/colab-badge.svg\" alt=\"Open In Colab\"/></a>"
      ]
    },
    {
      "cell_type": "markdown",
      "id": "3fbd6266-0226-42d0-8a36-182d475b2b4c",
      "metadata": {
        "id": "3fbd6266-0226-42d0-8a36-182d475b2b4c"
      },
      "source": [
        "# Pandas em poucos minutos\n",
        "\n",
        "---\n",
        "\n"
      ]
    },
    {
      "cell_type": "markdown",
      "id": "45208263-af90-4b93-a8ea-32d248e01895",
      "metadata": {
        "id": "45208263-af90-4b93-a8ea-32d248e01895"
      },
      "source": [
        "### Instalação e importação"
      ]
    },
    {
      "cell_type": "code",
      "execution_count": 2,
      "id": "548d6792-4406-4311-b39e-b223b91ef1bc",
      "metadata": {
        "id": "548d6792-4406-4311-b39e-b223b91ef1bc"
      },
      "outputs": [],
      "source": [
        "import pandas as pd\n",
        "#from google.colab import files\n"
      ]
    },
    {
      "cell_type": "markdown",
      "id": "2534eac6-f26b-44e3-ab4e-32bef9d7baed",
      "metadata": {
        "id": "2534eac6-f26b-44e3-ab4e-32bef9d7baed"
      },
      "source": [
        "### DataFrames e Series"
      ]
    },
    {
      "cell_type": "code",
      "execution_count": 3,
      "id": "0c214765-d968-46be-9dbc-1e357d9fd883",
      "metadata": {
        "colab": {
          "base_uri": "https://localhost:8080/",
          "height": 143
        },
        "id": "0c214765-d968-46be-9dbc-1e357d9fd883",
        "outputId": "f987254d-7c8c-4d42-fd24-94ef0142827a"
      },
      "outputs": [
        {
          "data": {
            "application/vnd.microsoft.datawrangler.viewer.v0+json": {
              "columns": [
                {
                  "name": "index",
                  "rawType": "int64",
                  "type": "integer"
                },
                {
                  "name": "Nome",
                  "rawType": "object",
                  "type": "string"
                },
                {
                  "name": "Idade",
                  "rawType": "int64",
                  "type": "integer"
                }
              ],
              "ref": "3b70c1d7-7c5b-4137-b5fb-4e999e6952f8",
              "rows": [
                [
                  "0",
                  "Ana",
                  "25"
                ],
                [
                  "1",
                  "Bruno",
                  "47"
                ],
                [
                  "2",
                  "Carlos",
                  "32"
                ]
              ],
              "shape": {
                "columns": 2,
                "rows": 3
              }
            },
            "text/html": [
              "<div>\n",
              "<style scoped>\n",
              "    .dataframe tbody tr th:only-of-type {\n",
              "        vertical-align: middle;\n",
              "    }\n",
              "\n",
              "    .dataframe tbody tr th {\n",
              "        vertical-align: top;\n",
              "    }\n",
              "\n",
              "    .dataframe thead th {\n",
              "        text-align: right;\n",
              "    }\n",
              "</style>\n",
              "<table border=\"1\" class=\"dataframe\">\n",
              "  <thead>\n",
              "    <tr style=\"text-align: right;\">\n",
              "      <th></th>\n",
              "      <th>Nome</th>\n",
              "      <th>Idade</th>\n",
              "    </tr>\n",
              "  </thead>\n",
              "  <tbody>\n",
              "    <tr>\n",
              "      <th>0</th>\n",
              "      <td>Ana</td>\n",
              "      <td>25</td>\n",
              "    </tr>\n",
              "    <tr>\n",
              "      <th>1</th>\n",
              "      <td>Bruno</td>\n",
              "      <td>47</td>\n",
              "    </tr>\n",
              "    <tr>\n",
              "      <th>2</th>\n",
              "      <td>Carlos</td>\n",
              "      <td>32</td>\n",
              "    </tr>\n",
              "  </tbody>\n",
              "</table>\n",
              "</div>"
            ],
            "text/plain": [
              "     Nome  Idade\n",
              "0     Ana     25\n",
              "1   Bruno     47\n",
              "2  Carlos     32"
            ]
          },
          "execution_count": 3,
          "metadata": {},
          "output_type": "execute_result"
        }
      ],
      "source": [
        "dados = {\n",
        "    \"Nome\": [\"Ana\", \"Bruno\", \"Carlos\"],\n",
        "    \"Idade\": [25, 47, 32],\n",
        "}\n",
        "df = pd.DataFrame(dados)\n",
        "df"
      ]
    },
    {
      "cell_type": "markdown",
      "id": "d8b11c73-1915-4a63-bdf2-9853046e8488",
      "metadata": {
        "id": "d8b11c73-1915-4a63-bdf2-9853046e8488"
      },
      "source": [
        "### Lendo tabelas"
      ]
    },
    {
      "cell_type": "code",
      "execution_count": 7,
      "id": "Y4pRr6nAAB-C",
      "metadata": {
        "colab": {
          "base_uri": "https://localhost:8080/",
          "height": 73
        },
        "id": "Y4pRr6nAAB-C",
        "outputId": "aad10964-bfce-429d-80ed-507ec68b163d"
      },
      "outputs": [
        {
          "data": {
            "application/vnd.microsoft.datawrangler.viewer.v0+json": {
              "columns": [
                {
                  "name": "index",
                  "rawType": "int64",
                  "type": "integer"
                },
                {
                  "name": "ID",
                  "rawType": "int64",
                  "type": "integer"
                },
                {
                  "name": "Nome",
                  "rawType": "object",
                  "type": "string"
                },
                {
                  "name": "Idade",
                  "rawType": "int64",
                  "type": "integer"
                },
                {
                  "name": "Data de Registro",
                  "rawType": "object",
                  "type": "string"
                },
                {
                  "name": "Salário",
                  "rawType": "float64",
                  "type": "float"
                },
                {
                  "name": "Ativo",
                  "rawType": "bool",
                  "type": "boolean"
                },
                {
                  "name": "ID Departamento",
                  "rawType": "int64",
                  "type": "integer"
                }
              ],
              "ref": "629a54ae-bab2-41f9-8a47-43ca200ee30d",
              "rows": [
                [
                  "0",
                  "1",
                  "Sra. Isabela Vasconcelos",
                  "44",
                  "2022-02-11",
                  "4435.13",
                  "True",
                  "4"
                ],
                [
                  "1",
                  "2",
                  "Heitor Teixeira",
                  "40",
                  "2022-01-17",
                  "7834.97",
                  "False",
                  "2"
                ],
                [
                  "2",
                  "3",
                  "Bianca Vasconcelos",
                  "44",
                  "2022-10-28",
                  "3094.55",
                  "False",
                  "2"
                ],
                [
                  "3",
                  "4",
                  "Alice Machado",
                  "40",
                  "2023-10-10",
                  "6287.2",
                  "True",
                  "2"
                ],
                [
                  "4",
                  "5",
                  "Antônio Fernandes",
                  "54",
                  "2023-08-09",
                  "7138.43",
                  "True",
                  "4"
                ],
                [
                  "5",
                  "6",
                  "Henry Gabriel da Mata",
                  "42",
                  "2024-01-26",
                  "4941.62",
                  "False",
                  "4"
                ],
                [
                  "6",
                  "7",
                  "Sra. Maria Luiza Oliveira",
                  "58",
                  "2024-08-24",
                  "7111.25",
                  "True",
                  "5"
                ],
                [
                  "7",
                  "8",
                  "Isis Marques",
                  "24",
                  "2023-02-05",
                  "8438.66",
                  "True",
                  "1"
                ],
                [
                  "8",
                  "9",
                  "Sr. Vitor da Rosa",
                  "61",
                  "2024-03-25",
                  "2363.85",
                  "False",
                  "1"
                ],
                [
                  "9",
                  "10",
                  "Théo Cardoso",
                  "54",
                  "2022-09-05",
                  "8029.65",
                  "True",
                  "2"
                ],
                [
                  "10",
                  "11",
                  "Marcelo Rodrigues",
                  "57",
                  "2024-02-06",
                  "8109.35",
                  "True",
                  "1"
                ],
                [
                  "11",
                  "12",
                  "Maria Clara Santos",
                  "39",
                  "2023-10-21",
                  "2601.68",
                  "True",
                  "4"
                ],
                [
                  "12",
                  "13",
                  "Sofia Rios",
                  "45",
                  "2023-05-19",
                  "4990.01",
                  "False",
                  "1"
                ],
                [
                  "13",
                  "14",
                  "Benicio das Neves",
                  "22",
                  "2022-04-15",
                  "2541.54",
                  "True",
                  "5"
                ],
                [
                  "14",
                  "15",
                  "Levi Silveira",
                  "42",
                  "2024-02-10",
                  "9261.98",
                  "True",
                  "5"
                ],
                [
                  "15",
                  "16",
                  "Maria Fernanda Rezende",
                  "29",
                  "2023-11-18",
                  "7436.21",
                  "False",
                  "3"
                ],
                [
                  "16",
                  "17",
                  "Thomas Casa Grande",
                  "33",
                  "2024-03-29",
                  "8205.9",
                  "False",
                  "2"
                ],
                [
                  "17",
                  "18",
                  "Davi Miguel Ribeiro",
                  "48",
                  "2022-07-10",
                  "2625.01",
                  "False",
                  "5"
                ],
                [
                  "18",
                  "19",
                  "Dr. Mathias Montenegro",
                  "20",
                  "2023-08-17",
                  "9566.83",
                  "False",
                  "4"
                ],
                [
                  "19",
                  "20",
                  "Samuel Gonçalves",
                  "21",
                  "2023-10-03",
                  "3884.99",
                  "True",
                  "3"
                ]
              ],
              "shape": {
                "columns": 7,
                "rows": 20
              }
            },
            "text/html": [
              "<div>\n",
              "<style scoped>\n",
              "    .dataframe tbody tr th:only-of-type {\n",
              "        vertical-align: middle;\n",
              "    }\n",
              "\n",
              "    .dataframe tbody tr th {\n",
              "        vertical-align: top;\n",
              "    }\n",
              "\n",
              "    .dataframe thead th {\n",
              "        text-align: right;\n",
              "    }\n",
              "</style>\n",
              "<table border=\"1\" class=\"dataframe\">\n",
              "  <thead>\n",
              "    <tr style=\"text-align: right;\">\n",
              "      <th></th>\n",
              "      <th>ID</th>\n",
              "      <th>Nome</th>\n",
              "      <th>Idade</th>\n",
              "      <th>Data de Registro</th>\n",
              "      <th>Salário</th>\n",
              "      <th>Ativo</th>\n",
              "      <th>ID Departamento</th>\n",
              "    </tr>\n",
              "  </thead>\n",
              "  <tbody>\n",
              "    <tr>\n",
              "      <th>0</th>\n",
              "      <td>1</td>\n",
              "      <td>Sra. Isabela Vasconcelos</td>\n",
              "      <td>44</td>\n",
              "      <td>2022-02-11</td>\n",
              "      <td>4435.13</td>\n",
              "      <td>True</td>\n",
              "      <td>4</td>\n",
              "    </tr>\n",
              "    <tr>\n",
              "      <th>1</th>\n",
              "      <td>2</td>\n",
              "      <td>Heitor Teixeira</td>\n",
              "      <td>40</td>\n",
              "      <td>2022-01-17</td>\n",
              "      <td>7834.97</td>\n",
              "      <td>False</td>\n",
              "      <td>2</td>\n",
              "    </tr>\n",
              "    <tr>\n",
              "      <th>2</th>\n",
              "      <td>3</td>\n",
              "      <td>Bianca Vasconcelos</td>\n",
              "      <td>44</td>\n",
              "      <td>2022-10-28</td>\n",
              "      <td>3094.55</td>\n",
              "      <td>False</td>\n",
              "      <td>2</td>\n",
              "    </tr>\n",
              "    <tr>\n",
              "      <th>3</th>\n",
              "      <td>4</td>\n",
              "      <td>Alice Machado</td>\n",
              "      <td>40</td>\n",
              "      <td>2023-10-10</td>\n",
              "      <td>6287.20</td>\n",
              "      <td>True</td>\n",
              "      <td>2</td>\n",
              "    </tr>\n",
              "    <tr>\n",
              "      <th>4</th>\n",
              "      <td>5</td>\n",
              "      <td>Antônio Fernandes</td>\n",
              "      <td>54</td>\n",
              "      <td>2023-08-09</td>\n",
              "      <td>7138.43</td>\n",
              "      <td>True</td>\n",
              "      <td>4</td>\n",
              "    </tr>\n",
              "    <tr>\n",
              "      <th>5</th>\n",
              "      <td>6</td>\n",
              "      <td>Henry Gabriel da Mata</td>\n",
              "      <td>42</td>\n",
              "      <td>2024-01-26</td>\n",
              "      <td>4941.62</td>\n",
              "      <td>False</td>\n",
              "      <td>4</td>\n",
              "    </tr>\n",
              "    <tr>\n",
              "      <th>6</th>\n",
              "      <td>7</td>\n",
              "      <td>Sra. Maria Luiza Oliveira</td>\n",
              "      <td>58</td>\n",
              "      <td>2024-08-24</td>\n",
              "      <td>7111.25</td>\n",
              "      <td>True</td>\n",
              "      <td>5</td>\n",
              "    </tr>\n",
              "    <tr>\n",
              "      <th>7</th>\n",
              "      <td>8</td>\n",
              "      <td>Isis Marques</td>\n",
              "      <td>24</td>\n",
              "      <td>2023-02-05</td>\n",
              "      <td>8438.66</td>\n",
              "      <td>True</td>\n",
              "      <td>1</td>\n",
              "    </tr>\n",
              "    <tr>\n",
              "      <th>8</th>\n",
              "      <td>9</td>\n",
              "      <td>Sr. Vitor da Rosa</td>\n",
              "      <td>61</td>\n",
              "      <td>2024-03-25</td>\n",
              "      <td>2363.85</td>\n",
              "      <td>False</td>\n",
              "      <td>1</td>\n",
              "    </tr>\n",
              "    <tr>\n",
              "      <th>9</th>\n",
              "      <td>10</td>\n",
              "      <td>Théo Cardoso</td>\n",
              "      <td>54</td>\n",
              "      <td>2022-09-05</td>\n",
              "      <td>8029.65</td>\n",
              "      <td>True</td>\n",
              "      <td>2</td>\n",
              "    </tr>\n",
              "    <tr>\n",
              "      <th>10</th>\n",
              "      <td>11</td>\n",
              "      <td>Marcelo Rodrigues</td>\n",
              "      <td>57</td>\n",
              "      <td>2024-02-06</td>\n",
              "      <td>8109.35</td>\n",
              "      <td>True</td>\n",
              "      <td>1</td>\n",
              "    </tr>\n",
              "    <tr>\n",
              "      <th>11</th>\n",
              "      <td>12</td>\n",
              "      <td>Maria Clara Santos</td>\n",
              "      <td>39</td>\n",
              "      <td>2023-10-21</td>\n",
              "      <td>2601.68</td>\n",
              "      <td>True</td>\n",
              "      <td>4</td>\n",
              "    </tr>\n",
              "    <tr>\n",
              "      <th>12</th>\n",
              "      <td>13</td>\n",
              "      <td>Sofia Rios</td>\n",
              "      <td>45</td>\n",
              "      <td>2023-05-19</td>\n",
              "      <td>4990.01</td>\n",
              "      <td>False</td>\n",
              "      <td>1</td>\n",
              "    </tr>\n",
              "    <tr>\n",
              "      <th>13</th>\n",
              "      <td>14</td>\n",
              "      <td>Benicio das Neves</td>\n",
              "      <td>22</td>\n",
              "      <td>2022-04-15</td>\n",
              "      <td>2541.54</td>\n",
              "      <td>True</td>\n",
              "      <td>5</td>\n",
              "    </tr>\n",
              "    <tr>\n",
              "      <th>14</th>\n",
              "      <td>15</td>\n",
              "      <td>Levi Silveira</td>\n",
              "      <td>42</td>\n",
              "      <td>2024-02-10</td>\n",
              "      <td>9261.98</td>\n",
              "      <td>True</td>\n",
              "      <td>5</td>\n",
              "    </tr>\n",
              "    <tr>\n",
              "      <th>15</th>\n",
              "      <td>16</td>\n",
              "      <td>Maria Fernanda Rezende</td>\n",
              "      <td>29</td>\n",
              "      <td>2023-11-18</td>\n",
              "      <td>7436.21</td>\n",
              "      <td>False</td>\n",
              "      <td>3</td>\n",
              "    </tr>\n",
              "    <tr>\n",
              "      <th>16</th>\n",
              "      <td>17</td>\n",
              "      <td>Thomas Casa Grande</td>\n",
              "      <td>33</td>\n",
              "      <td>2024-03-29</td>\n",
              "      <td>8205.90</td>\n",
              "      <td>False</td>\n",
              "      <td>2</td>\n",
              "    </tr>\n",
              "    <tr>\n",
              "      <th>17</th>\n",
              "      <td>18</td>\n",
              "      <td>Davi Miguel Ribeiro</td>\n",
              "      <td>48</td>\n",
              "      <td>2022-07-10</td>\n",
              "      <td>2625.01</td>\n",
              "      <td>False</td>\n",
              "      <td>5</td>\n",
              "    </tr>\n",
              "    <tr>\n",
              "      <th>18</th>\n",
              "      <td>19</td>\n",
              "      <td>Dr. Mathias Montenegro</td>\n",
              "      <td>20</td>\n",
              "      <td>2023-08-17</td>\n",
              "      <td>9566.83</td>\n",
              "      <td>False</td>\n",
              "      <td>4</td>\n",
              "    </tr>\n",
              "    <tr>\n",
              "      <th>19</th>\n",
              "      <td>20</td>\n",
              "      <td>Samuel Gonçalves</td>\n",
              "      <td>21</td>\n",
              "      <td>2023-10-03</td>\n",
              "      <td>3884.99</td>\n",
              "      <td>True</td>\n",
              "      <td>3</td>\n",
              "    </tr>\n",
              "  </tbody>\n",
              "</table>\n",
              "</div>"
            ],
            "text/plain": [
              "    ID                       Nome  Idade Data de Registro  Salário  Ativo  \\\n",
              "0    1   Sra. Isabela Vasconcelos     44       2022-02-11  4435.13   True   \n",
              "1    2            Heitor Teixeira     40       2022-01-17  7834.97  False   \n",
              "2    3         Bianca Vasconcelos     44       2022-10-28  3094.55  False   \n",
              "3    4              Alice Machado     40       2023-10-10  6287.20   True   \n",
              "4    5          Antônio Fernandes     54       2023-08-09  7138.43   True   \n",
              "5    6      Henry Gabriel da Mata     42       2024-01-26  4941.62  False   \n",
              "6    7  Sra. Maria Luiza Oliveira     58       2024-08-24  7111.25   True   \n",
              "7    8               Isis Marques     24       2023-02-05  8438.66   True   \n",
              "8    9          Sr. Vitor da Rosa     61       2024-03-25  2363.85  False   \n",
              "9   10               Théo Cardoso     54       2022-09-05  8029.65   True   \n",
              "10  11          Marcelo Rodrigues     57       2024-02-06  8109.35   True   \n",
              "11  12         Maria Clara Santos     39       2023-10-21  2601.68   True   \n",
              "12  13                 Sofia Rios     45       2023-05-19  4990.01  False   \n",
              "13  14          Benicio das Neves     22       2022-04-15  2541.54   True   \n",
              "14  15              Levi Silveira     42       2024-02-10  9261.98   True   \n",
              "15  16     Maria Fernanda Rezende     29       2023-11-18  7436.21  False   \n",
              "16  17         Thomas Casa Grande     33       2024-03-29  8205.90  False   \n",
              "17  18        Davi Miguel Ribeiro     48       2022-07-10  2625.01  False   \n",
              "18  19     Dr. Mathias Montenegro     20       2023-08-17  9566.83  False   \n",
              "19  20           Samuel Gonçalves     21       2023-10-03  3884.99   True   \n",
              "\n",
              "    ID Departamento  \n",
              "0                 4  \n",
              "1                 2  \n",
              "2                 2  \n",
              "3                 2  \n",
              "4                 4  \n",
              "5                 4  \n",
              "6                 5  \n",
              "7                 1  \n",
              "8                 1  \n",
              "9                 2  \n",
              "10                1  \n",
              "11                4  \n",
              "12                1  \n",
              "13                5  \n",
              "14                5  \n",
              "15                3  \n",
              "16                2  \n",
              "17                5  \n",
              "18                4  \n",
              "19                3  "
            ]
          },
          "execution_count": 7,
          "metadata": {},
          "output_type": "execute_result"
        }
      ],
      "source": [
        "\n",
        "# Vai abrir uma janela para selecionar o arquivo no seu computador\n",
        "#uploaded = files.upload()\n",
        "\n",
        "df = pd.read_csv(\"funcionarios.csv\", sep=\",\")  # troque o separador se necessário\n",
        "\n",
        "df"
      ]
    },
    {
      "cell_type": "markdown",
      "id": "fc12e97b-9817-4b78-9cda-b691e7581f29",
      "metadata": {
        "id": "fc12e97b-9817-4b78-9cda-b691e7581f29"
      },
      "source": [
        "### Manipulação básica de dados"
      ]
    },
    {
      "cell_type": "code",
      "execution_count": 8,
      "id": "15598527-63de-490c-9b93-5cb64b860229",
      "metadata": {
        "colab": {
          "base_uri": "https://localhost:8080/",
          "height": 206
        },
        "id": "15598527-63de-490c-9b93-5cb64b860229",
        "outputId": "1e81f56f-01c7-4f7f-9da5-8abb5261aefc"
      },
      "outputs": [
        {
          "data": {
            "application/vnd.microsoft.datawrangler.viewer.v0+json": {
              "columns": [
                {
                  "name": "index",
                  "rawType": "int64",
                  "type": "integer"
                },
                {
                  "name": "ID",
                  "rawType": "int64",
                  "type": "integer"
                },
                {
                  "name": "Nome",
                  "rawType": "object",
                  "type": "string"
                },
                {
                  "name": "Idade",
                  "rawType": "int64",
                  "type": "integer"
                },
                {
                  "name": "Data de Registro",
                  "rawType": "object",
                  "type": "string"
                },
                {
                  "name": "Salário",
                  "rawType": "float64",
                  "type": "float"
                },
                {
                  "name": "Ativo",
                  "rawType": "bool",
                  "type": "boolean"
                },
                {
                  "name": "ID Departamento",
                  "rawType": "int64",
                  "type": "integer"
                }
              ],
              "ref": "31fdf259-8419-458b-aac1-bc485af330d7",
              "rows": [
                [
                  "0",
                  "1",
                  "Sra. Isabela Vasconcelos",
                  "44",
                  "2022-02-11",
                  "4435.13",
                  "True",
                  "4"
                ],
                [
                  "1",
                  "2",
                  "Heitor Teixeira",
                  "40",
                  "2022-01-17",
                  "7834.97",
                  "False",
                  "2"
                ],
                [
                  "2",
                  "3",
                  "Bianca Vasconcelos",
                  "44",
                  "2022-10-28",
                  "3094.55",
                  "False",
                  "2"
                ],
                [
                  "3",
                  "4",
                  "Alice Machado",
                  "40",
                  "2023-10-10",
                  "6287.2",
                  "True",
                  "2"
                ],
                [
                  "4",
                  "5",
                  "Antônio Fernandes",
                  "54",
                  "2023-08-09",
                  "7138.43",
                  "True",
                  "4"
                ]
              ],
              "shape": {
                "columns": 7,
                "rows": 5
              }
            },
            "text/html": [
              "<div>\n",
              "<style scoped>\n",
              "    .dataframe tbody tr th:only-of-type {\n",
              "        vertical-align: middle;\n",
              "    }\n",
              "\n",
              "    .dataframe tbody tr th {\n",
              "        vertical-align: top;\n",
              "    }\n",
              "\n",
              "    .dataframe thead th {\n",
              "        text-align: right;\n",
              "    }\n",
              "</style>\n",
              "<table border=\"1\" class=\"dataframe\">\n",
              "  <thead>\n",
              "    <tr style=\"text-align: right;\">\n",
              "      <th></th>\n",
              "      <th>ID</th>\n",
              "      <th>Nome</th>\n",
              "      <th>Idade</th>\n",
              "      <th>Data de Registro</th>\n",
              "      <th>Salário</th>\n",
              "      <th>Ativo</th>\n",
              "      <th>ID Departamento</th>\n",
              "    </tr>\n",
              "  </thead>\n",
              "  <tbody>\n",
              "    <tr>\n",
              "      <th>0</th>\n",
              "      <td>1</td>\n",
              "      <td>Sra. Isabela Vasconcelos</td>\n",
              "      <td>44</td>\n",
              "      <td>2022-02-11</td>\n",
              "      <td>4435.13</td>\n",
              "      <td>True</td>\n",
              "      <td>4</td>\n",
              "    </tr>\n",
              "    <tr>\n",
              "      <th>1</th>\n",
              "      <td>2</td>\n",
              "      <td>Heitor Teixeira</td>\n",
              "      <td>40</td>\n",
              "      <td>2022-01-17</td>\n",
              "      <td>7834.97</td>\n",
              "      <td>False</td>\n",
              "      <td>2</td>\n",
              "    </tr>\n",
              "    <tr>\n",
              "      <th>2</th>\n",
              "      <td>3</td>\n",
              "      <td>Bianca Vasconcelos</td>\n",
              "      <td>44</td>\n",
              "      <td>2022-10-28</td>\n",
              "      <td>3094.55</td>\n",
              "      <td>False</td>\n",
              "      <td>2</td>\n",
              "    </tr>\n",
              "    <tr>\n",
              "      <th>3</th>\n",
              "      <td>4</td>\n",
              "      <td>Alice Machado</td>\n",
              "      <td>40</td>\n",
              "      <td>2023-10-10</td>\n",
              "      <td>6287.20</td>\n",
              "      <td>True</td>\n",
              "      <td>2</td>\n",
              "    </tr>\n",
              "    <tr>\n",
              "      <th>4</th>\n",
              "      <td>5</td>\n",
              "      <td>Antônio Fernandes</td>\n",
              "      <td>54</td>\n",
              "      <td>2023-08-09</td>\n",
              "      <td>7138.43</td>\n",
              "      <td>True</td>\n",
              "      <td>4</td>\n",
              "    </tr>\n",
              "  </tbody>\n",
              "</table>\n",
              "</div>"
            ],
            "text/plain": [
              "   ID                      Nome  Idade Data de Registro  Salário  Ativo  \\\n",
              "0   1  Sra. Isabela Vasconcelos     44       2022-02-11  4435.13   True   \n",
              "1   2           Heitor Teixeira     40       2022-01-17  7834.97  False   \n",
              "2   3        Bianca Vasconcelos     44       2022-10-28  3094.55  False   \n",
              "3   4             Alice Machado     40       2023-10-10  6287.20   True   \n",
              "4   5         Antônio Fernandes     54       2023-08-09  7138.43   True   \n",
              "\n",
              "   ID Departamento  \n",
              "0                4  \n",
              "1                2  \n",
              "2                2  \n",
              "3                2  \n",
              "4                4  "
            ]
          },
          "execution_count": 8,
          "metadata": {},
          "output_type": "execute_result"
        }
      ],
      "source": [
        "df.head()"
      ]
    },
    {
      "cell_type": "code",
      "execution_count": 9,
      "id": "bd4f03f3-b996-485a-a711-770f3ac4ef67",
      "metadata": {
        "colab": {
          "base_uri": "https://localhost:8080/",
          "height": 206
        },
        "id": "bd4f03f3-b996-485a-a711-770f3ac4ef67",
        "outputId": "68eb60c1-a7ac-4027-ba90-3b84cea96316"
      },
      "outputs": [
        {
          "data": {
            "application/vnd.microsoft.datawrangler.viewer.v0+json": {
              "columns": [
                {
                  "name": "index",
                  "rawType": "int64",
                  "type": "integer"
                },
                {
                  "name": "ID",
                  "rawType": "int64",
                  "type": "integer"
                },
                {
                  "name": "Nome",
                  "rawType": "object",
                  "type": "string"
                },
                {
                  "name": "Idade",
                  "rawType": "int64",
                  "type": "integer"
                },
                {
                  "name": "Data de Registro",
                  "rawType": "object",
                  "type": "string"
                },
                {
                  "name": "Salário",
                  "rawType": "float64",
                  "type": "float"
                },
                {
                  "name": "Ativo",
                  "rawType": "bool",
                  "type": "boolean"
                },
                {
                  "name": "ID Departamento",
                  "rawType": "int64",
                  "type": "integer"
                }
              ],
              "ref": "c42fac49-84c0-49e0-b271-10cfe9babd2a",
              "rows": [
                [
                  "15",
                  "16",
                  "Maria Fernanda Rezende",
                  "29",
                  "2023-11-18",
                  "7436.21",
                  "False",
                  "3"
                ],
                [
                  "16",
                  "17",
                  "Thomas Casa Grande",
                  "33",
                  "2024-03-29",
                  "8205.9",
                  "False",
                  "2"
                ],
                [
                  "17",
                  "18",
                  "Davi Miguel Ribeiro",
                  "48",
                  "2022-07-10",
                  "2625.01",
                  "False",
                  "5"
                ],
                [
                  "18",
                  "19",
                  "Dr. Mathias Montenegro",
                  "20",
                  "2023-08-17",
                  "9566.83",
                  "False",
                  "4"
                ],
                [
                  "19",
                  "20",
                  "Samuel Gonçalves",
                  "21",
                  "2023-10-03",
                  "3884.99",
                  "True",
                  "3"
                ]
              ],
              "shape": {
                "columns": 7,
                "rows": 5
              }
            },
            "text/html": [
              "<div>\n",
              "<style scoped>\n",
              "    .dataframe tbody tr th:only-of-type {\n",
              "        vertical-align: middle;\n",
              "    }\n",
              "\n",
              "    .dataframe tbody tr th {\n",
              "        vertical-align: top;\n",
              "    }\n",
              "\n",
              "    .dataframe thead th {\n",
              "        text-align: right;\n",
              "    }\n",
              "</style>\n",
              "<table border=\"1\" class=\"dataframe\">\n",
              "  <thead>\n",
              "    <tr style=\"text-align: right;\">\n",
              "      <th></th>\n",
              "      <th>ID</th>\n",
              "      <th>Nome</th>\n",
              "      <th>Idade</th>\n",
              "      <th>Data de Registro</th>\n",
              "      <th>Salário</th>\n",
              "      <th>Ativo</th>\n",
              "      <th>ID Departamento</th>\n",
              "    </tr>\n",
              "  </thead>\n",
              "  <tbody>\n",
              "    <tr>\n",
              "      <th>15</th>\n",
              "      <td>16</td>\n",
              "      <td>Maria Fernanda Rezende</td>\n",
              "      <td>29</td>\n",
              "      <td>2023-11-18</td>\n",
              "      <td>7436.21</td>\n",
              "      <td>False</td>\n",
              "      <td>3</td>\n",
              "    </tr>\n",
              "    <tr>\n",
              "      <th>16</th>\n",
              "      <td>17</td>\n",
              "      <td>Thomas Casa Grande</td>\n",
              "      <td>33</td>\n",
              "      <td>2024-03-29</td>\n",
              "      <td>8205.90</td>\n",
              "      <td>False</td>\n",
              "      <td>2</td>\n",
              "    </tr>\n",
              "    <tr>\n",
              "      <th>17</th>\n",
              "      <td>18</td>\n",
              "      <td>Davi Miguel Ribeiro</td>\n",
              "      <td>48</td>\n",
              "      <td>2022-07-10</td>\n",
              "      <td>2625.01</td>\n",
              "      <td>False</td>\n",
              "      <td>5</td>\n",
              "    </tr>\n",
              "    <tr>\n",
              "      <th>18</th>\n",
              "      <td>19</td>\n",
              "      <td>Dr. Mathias Montenegro</td>\n",
              "      <td>20</td>\n",
              "      <td>2023-08-17</td>\n",
              "      <td>9566.83</td>\n",
              "      <td>False</td>\n",
              "      <td>4</td>\n",
              "    </tr>\n",
              "    <tr>\n",
              "      <th>19</th>\n",
              "      <td>20</td>\n",
              "      <td>Samuel Gonçalves</td>\n",
              "      <td>21</td>\n",
              "      <td>2023-10-03</td>\n",
              "      <td>3884.99</td>\n",
              "      <td>True</td>\n",
              "      <td>3</td>\n",
              "    </tr>\n",
              "  </tbody>\n",
              "</table>\n",
              "</div>"
            ],
            "text/plain": [
              "    ID                    Nome  Idade Data de Registro  Salário  Ativo  \\\n",
              "15  16  Maria Fernanda Rezende     29       2023-11-18  7436.21  False   \n",
              "16  17      Thomas Casa Grande     33       2024-03-29  8205.90  False   \n",
              "17  18     Davi Miguel Ribeiro     48       2022-07-10  2625.01  False   \n",
              "18  19  Dr. Mathias Montenegro     20       2023-08-17  9566.83  False   \n",
              "19  20        Samuel Gonçalves     21       2023-10-03  3884.99   True   \n",
              "\n",
              "    ID Departamento  \n",
              "15                3  \n",
              "16                2  \n",
              "17                5  \n",
              "18                4  \n",
              "19                3  "
            ]
          },
          "execution_count": 9,
          "metadata": {},
          "output_type": "execute_result"
        }
      ],
      "source": [
        "df.tail()"
      ]
    },
    {
      "cell_type": "code",
      "execution_count": 10,
      "id": "fe1329f4-0c2d-4f4d-a093-54438916017e",
      "metadata": {
        "colab": {
          "base_uri": "https://localhost:8080/",
          "height": 676
        },
        "id": "fe1329f4-0c2d-4f4d-a093-54438916017e",
        "outputId": "e58f3d56-716b-4174-f6ae-e18de0bf9a4d"
      },
      "outputs": [
        {
          "data": {
            "application/vnd.microsoft.datawrangler.viewer.v0+json": {
              "columns": [
                {
                  "name": "index",
                  "rawType": "int64",
                  "type": "integer"
                },
                {
                  "name": "Nome",
                  "rawType": "object",
                  "type": "string"
                },
                {
                  "name": "Idade",
                  "rawType": "int64",
                  "type": "integer"
                }
              ],
              "ref": "446547dd-3eca-4455-9e47-3e32eb0dd56d",
              "rows": [
                [
                  "0",
                  "Sra. Isabela Vasconcelos",
                  "44"
                ],
                [
                  "1",
                  "Heitor Teixeira",
                  "40"
                ],
                [
                  "2",
                  "Bianca Vasconcelos",
                  "44"
                ],
                [
                  "3",
                  "Alice Machado",
                  "40"
                ],
                [
                  "4",
                  "Antônio Fernandes",
                  "54"
                ],
                [
                  "5",
                  "Henry Gabriel da Mata",
                  "42"
                ],
                [
                  "6",
                  "Sra. Maria Luiza Oliveira",
                  "58"
                ],
                [
                  "7",
                  "Isis Marques",
                  "24"
                ],
                [
                  "8",
                  "Sr. Vitor da Rosa",
                  "61"
                ],
                [
                  "9",
                  "Théo Cardoso",
                  "54"
                ],
                [
                  "10",
                  "Marcelo Rodrigues",
                  "57"
                ],
                [
                  "11",
                  "Maria Clara Santos",
                  "39"
                ],
                [
                  "12",
                  "Sofia Rios",
                  "45"
                ],
                [
                  "13",
                  "Benicio das Neves",
                  "22"
                ],
                [
                  "14",
                  "Levi Silveira",
                  "42"
                ],
                [
                  "15",
                  "Maria Fernanda Rezende",
                  "29"
                ],
                [
                  "16",
                  "Thomas Casa Grande",
                  "33"
                ],
                [
                  "17",
                  "Davi Miguel Ribeiro",
                  "48"
                ],
                [
                  "18",
                  "Dr. Mathias Montenegro",
                  "20"
                ],
                [
                  "19",
                  "Samuel Gonçalves",
                  "21"
                ]
              ],
              "shape": {
                "columns": 2,
                "rows": 20
              }
            },
            "text/html": [
              "<div>\n",
              "<style scoped>\n",
              "    .dataframe tbody tr th:only-of-type {\n",
              "        vertical-align: middle;\n",
              "    }\n",
              "\n",
              "    .dataframe tbody tr th {\n",
              "        vertical-align: top;\n",
              "    }\n",
              "\n",
              "    .dataframe thead th {\n",
              "        text-align: right;\n",
              "    }\n",
              "</style>\n",
              "<table border=\"1\" class=\"dataframe\">\n",
              "  <thead>\n",
              "    <tr style=\"text-align: right;\">\n",
              "      <th></th>\n",
              "      <th>Nome</th>\n",
              "      <th>Idade</th>\n",
              "    </tr>\n",
              "  </thead>\n",
              "  <tbody>\n",
              "    <tr>\n",
              "      <th>0</th>\n",
              "      <td>Sra. Isabela Vasconcelos</td>\n",
              "      <td>44</td>\n",
              "    </tr>\n",
              "    <tr>\n",
              "      <th>1</th>\n",
              "      <td>Heitor Teixeira</td>\n",
              "      <td>40</td>\n",
              "    </tr>\n",
              "    <tr>\n",
              "      <th>2</th>\n",
              "      <td>Bianca Vasconcelos</td>\n",
              "      <td>44</td>\n",
              "    </tr>\n",
              "    <tr>\n",
              "      <th>3</th>\n",
              "      <td>Alice Machado</td>\n",
              "      <td>40</td>\n",
              "    </tr>\n",
              "    <tr>\n",
              "      <th>4</th>\n",
              "      <td>Antônio Fernandes</td>\n",
              "      <td>54</td>\n",
              "    </tr>\n",
              "    <tr>\n",
              "      <th>5</th>\n",
              "      <td>Henry Gabriel da Mata</td>\n",
              "      <td>42</td>\n",
              "    </tr>\n",
              "    <tr>\n",
              "      <th>6</th>\n",
              "      <td>Sra. Maria Luiza Oliveira</td>\n",
              "      <td>58</td>\n",
              "    </tr>\n",
              "    <tr>\n",
              "      <th>7</th>\n",
              "      <td>Isis Marques</td>\n",
              "      <td>24</td>\n",
              "    </tr>\n",
              "    <tr>\n",
              "      <th>8</th>\n",
              "      <td>Sr. Vitor da Rosa</td>\n",
              "      <td>61</td>\n",
              "    </tr>\n",
              "    <tr>\n",
              "      <th>9</th>\n",
              "      <td>Théo Cardoso</td>\n",
              "      <td>54</td>\n",
              "    </tr>\n",
              "    <tr>\n",
              "      <th>10</th>\n",
              "      <td>Marcelo Rodrigues</td>\n",
              "      <td>57</td>\n",
              "    </tr>\n",
              "    <tr>\n",
              "      <th>11</th>\n",
              "      <td>Maria Clara Santos</td>\n",
              "      <td>39</td>\n",
              "    </tr>\n",
              "    <tr>\n",
              "      <th>12</th>\n",
              "      <td>Sofia Rios</td>\n",
              "      <td>45</td>\n",
              "    </tr>\n",
              "    <tr>\n",
              "      <th>13</th>\n",
              "      <td>Benicio das Neves</td>\n",
              "      <td>22</td>\n",
              "    </tr>\n",
              "    <tr>\n",
              "      <th>14</th>\n",
              "      <td>Levi Silveira</td>\n",
              "      <td>42</td>\n",
              "    </tr>\n",
              "    <tr>\n",
              "      <th>15</th>\n",
              "      <td>Maria Fernanda Rezende</td>\n",
              "      <td>29</td>\n",
              "    </tr>\n",
              "    <tr>\n",
              "      <th>16</th>\n",
              "      <td>Thomas Casa Grande</td>\n",
              "      <td>33</td>\n",
              "    </tr>\n",
              "    <tr>\n",
              "      <th>17</th>\n",
              "      <td>Davi Miguel Ribeiro</td>\n",
              "      <td>48</td>\n",
              "    </tr>\n",
              "    <tr>\n",
              "      <th>18</th>\n",
              "      <td>Dr. Mathias Montenegro</td>\n",
              "      <td>20</td>\n",
              "    </tr>\n",
              "    <tr>\n",
              "      <th>19</th>\n",
              "      <td>Samuel Gonçalves</td>\n",
              "      <td>21</td>\n",
              "    </tr>\n",
              "  </tbody>\n",
              "</table>\n",
              "</div>"
            ],
            "text/plain": [
              "                         Nome  Idade\n",
              "0    Sra. Isabela Vasconcelos     44\n",
              "1             Heitor Teixeira     40\n",
              "2          Bianca Vasconcelos     44\n",
              "3               Alice Machado     40\n",
              "4           Antônio Fernandes     54\n",
              "5       Henry Gabriel da Mata     42\n",
              "6   Sra. Maria Luiza Oliveira     58\n",
              "7                Isis Marques     24\n",
              "8           Sr. Vitor da Rosa     61\n",
              "9                Théo Cardoso     54\n",
              "10          Marcelo Rodrigues     57\n",
              "11         Maria Clara Santos     39\n",
              "12                 Sofia Rios     45\n",
              "13          Benicio das Neves     22\n",
              "14              Levi Silveira     42\n",
              "15     Maria Fernanda Rezende     29\n",
              "16         Thomas Casa Grande     33\n",
              "17        Davi Miguel Ribeiro     48\n",
              "18     Dr. Mathias Montenegro     20\n",
              "19           Samuel Gonçalves     21"
            ]
          },
          "execution_count": 10,
          "metadata": {},
          "output_type": "execute_result"
        }
      ],
      "source": [
        "df[['Nome', 'Idade']] #Me aparecerão apenas as colunas \"Nome\" e \"Idade\""
      ]
    },
    {
      "cell_type": "code",
      "execution_count": 11,
      "id": "6c1ac3c9-6b2a-4a9a-b5e8-c4afe6cb88ab",
      "metadata": {
        "colab": {
          "base_uri": "https://localhost:8080/",
          "height": 711
        },
        "id": "6c1ac3c9-6b2a-4a9a-b5e8-c4afe6cb88ab",
        "outputId": "82b4346c-a561-4f7c-cf58-d2d146e26408"
      },
      "outputs": [
        {
          "data": {
            "application/vnd.microsoft.datawrangler.viewer.v0+json": {
              "columns": [
                {
                  "name": "index",
                  "rawType": "int64",
                  "type": "integer"
                },
                {
                  "name": "Idade",
                  "rawType": "int64",
                  "type": "integer"
                }
              ],
              "ref": "7eab3fb9-cb42-45e1-abb7-d6a2e5e05250",
              "rows": [
                [
                  "0",
                  "44"
                ],
                [
                  "1",
                  "40"
                ],
                [
                  "2",
                  "44"
                ],
                [
                  "3",
                  "40"
                ],
                [
                  "4",
                  "54"
                ],
                [
                  "5",
                  "42"
                ],
                [
                  "6",
                  "58"
                ],
                [
                  "7",
                  "24"
                ],
                [
                  "8",
                  "61"
                ],
                [
                  "9",
                  "54"
                ],
                [
                  "10",
                  "57"
                ],
                [
                  "11",
                  "39"
                ],
                [
                  "12",
                  "45"
                ],
                [
                  "13",
                  "22"
                ],
                [
                  "14",
                  "42"
                ],
                [
                  "15",
                  "29"
                ],
                [
                  "16",
                  "33"
                ],
                [
                  "17",
                  "48"
                ],
                [
                  "18",
                  "20"
                ],
                [
                  "19",
                  "21"
                ]
              ],
              "shape": {
                "columns": 1,
                "rows": 20
              }
            },
            "text/plain": [
              "0     44\n",
              "1     40\n",
              "2     44\n",
              "3     40\n",
              "4     54\n",
              "5     42\n",
              "6     58\n",
              "7     24\n",
              "8     61\n",
              "9     54\n",
              "10    57\n",
              "11    39\n",
              "12    45\n",
              "13    22\n",
              "14    42\n",
              "15    29\n",
              "16    33\n",
              "17    48\n",
              "18    20\n",
              "19    21\n",
              "Name: Idade, dtype: int64"
            ]
          },
          "execution_count": 11,
          "metadata": {},
          "output_type": "execute_result"
        }
      ],
      "source": [
        "df['Idade']"
      ]
    },
    {
      "cell_type": "code",
      "execution_count": 12,
      "id": "10475395-072e-441d-9192-88ecb8ef0e88",
      "metadata": {
        "colab": {
          "base_uri": "https://localhost:8080/",
          "height": 519
        },
        "id": "10475395-072e-441d-9192-88ecb8ef0e88",
        "outputId": "ed79288e-df9b-4223-8426-72fee4d1e87e"
      },
      "outputs": [
        {
          "data": {
            "application/vnd.microsoft.datawrangler.viewer.v0+json": {
              "columns": [
                {
                  "name": "index",
                  "rawType": "int64",
                  "type": "integer"
                },
                {
                  "name": "ID",
                  "rawType": "int64",
                  "type": "integer"
                },
                {
                  "name": "Nome",
                  "rawType": "object",
                  "type": "string"
                },
                {
                  "name": "Idade",
                  "rawType": "int64",
                  "type": "integer"
                },
                {
                  "name": "Data de Registro",
                  "rawType": "object",
                  "type": "string"
                },
                {
                  "name": "Salário",
                  "rawType": "float64",
                  "type": "float"
                },
                {
                  "name": "Ativo",
                  "rawType": "bool",
                  "type": "boolean"
                },
                {
                  "name": "ID Departamento",
                  "rawType": "int64",
                  "type": "integer"
                }
              ],
              "ref": "0d03e25a-0e83-4ef4-bd6d-b30b1644436d",
              "rows": [
                [
                  "0",
                  "1",
                  "Sra. Isabela Vasconcelos",
                  "44",
                  "2022-02-11",
                  "4435.13",
                  "True",
                  "4"
                ],
                [
                  "1",
                  "2",
                  "Heitor Teixeira",
                  "40",
                  "2022-01-17",
                  "7834.97",
                  "False",
                  "2"
                ],
                [
                  "2",
                  "3",
                  "Bianca Vasconcelos",
                  "44",
                  "2022-10-28",
                  "3094.55",
                  "False",
                  "2"
                ],
                [
                  "3",
                  "4",
                  "Alice Machado",
                  "40",
                  "2023-10-10",
                  "6287.2",
                  "True",
                  "2"
                ],
                [
                  "4",
                  "5",
                  "Antônio Fernandes",
                  "54",
                  "2023-08-09",
                  "7138.43",
                  "True",
                  "4"
                ],
                [
                  "5",
                  "6",
                  "Henry Gabriel da Mata",
                  "42",
                  "2024-01-26",
                  "4941.62",
                  "False",
                  "4"
                ],
                [
                  "6",
                  "7",
                  "Sra. Maria Luiza Oliveira",
                  "58",
                  "2024-08-24",
                  "7111.25",
                  "True",
                  "5"
                ],
                [
                  "8",
                  "9",
                  "Sr. Vitor da Rosa",
                  "61",
                  "2024-03-25",
                  "2363.85",
                  "False",
                  "1"
                ],
                [
                  "9",
                  "10",
                  "Théo Cardoso",
                  "54",
                  "2022-09-05",
                  "8029.65",
                  "True",
                  "2"
                ],
                [
                  "10",
                  "11",
                  "Marcelo Rodrigues",
                  "57",
                  "2024-02-06",
                  "8109.35",
                  "True",
                  "1"
                ],
                [
                  "11",
                  "12",
                  "Maria Clara Santos",
                  "39",
                  "2023-10-21",
                  "2601.68",
                  "True",
                  "4"
                ],
                [
                  "12",
                  "13",
                  "Sofia Rios",
                  "45",
                  "2023-05-19",
                  "4990.01",
                  "False",
                  "1"
                ],
                [
                  "14",
                  "15",
                  "Levi Silveira",
                  "42",
                  "2024-02-10",
                  "9261.98",
                  "True",
                  "5"
                ],
                [
                  "16",
                  "17",
                  "Thomas Casa Grande",
                  "33",
                  "2024-03-29",
                  "8205.9",
                  "False",
                  "2"
                ],
                [
                  "17",
                  "18",
                  "Davi Miguel Ribeiro",
                  "48",
                  "2022-07-10",
                  "2625.01",
                  "False",
                  "5"
                ]
              ],
              "shape": {
                "columns": 7,
                "rows": 15
              }
            },
            "text/html": [
              "<div>\n",
              "<style scoped>\n",
              "    .dataframe tbody tr th:only-of-type {\n",
              "        vertical-align: middle;\n",
              "    }\n",
              "\n",
              "    .dataframe tbody tr th {\n",
              "        vertical-align: top;\n",
              "    }\n",
              "\n",
              "    .dataframe thead th {\n",
              "        text-align: right;\n",
              "    }\n",
              "</style>\n",
              "<table border=\"1\" class=\"dataframe\">\n",
              "  <thead>\n",
              "    <tr style=\"text-align: right;\">\n",
              "      <th></th>\n",
              "      <th>ID</th>\n",
              "      <th>Nome</th>\n",
              "      <th>Idade</th>\n",
              "      <th>Data de Registro</th>\n",
              "      <th>Salário</th>\n",
              "      <th>Ativo</th>\n",
              "      <th>ID Departamento</th>\n",
              "    </tr>\n",
              "  </thead>\n",
              "  <tbody>\n",
              "    <tr>\n",
              "      <th>0</th>\n",
              "      <td>1</td>\n",
              "      <td>Sra. Isabela Vasconcelos</td>\n",
              "      <td>44</td>\n",
              "      <td>2022-02-11</td>\n",
              "      <td>4435.13</td>\n",
              "      <td>True</td>\n",
              "      <td>4</td>\n",
              "    </tr>\n",
              "    <tr>\n",
              "      <th>1</th>\n",
              "      <td>2</td>\n",
              "      <td>Heitor Teixeira</td>\n",
              "      <td>40</td>\n",
              "      <td>2022-01-17</td>\n",
              "      <td>7834.97</td>\n",
              "      <td>False</td>\n",
              "      <td>2</td>\n",
              "    </tr>\n",
              "    <tr>\n",
              "      <th>2</th>\n",
              "      <td>3</td>\n",
              "      <td>Bianca Vasconcelos</td>\n",
              "      <td>44</td>\n",
              "      <td>2022-10-28</td>\n",
              "      <td>3094.55</td>\n",
              "      <td>False</td>\n",
              "      <td>2</td>\n",
              "    </tr>\n",
              "    <tr>\n",
              "      <th>3</th>\n",
              "      <td>4</td>\n",
              "      <td>Alice Machado</td>\n",
              "      <td>40</td>\n",
              "      <td>2023-10-10</td>\n",
              "      <td>6287.20</td>\n",
              "      <td>True</td>\n",
              "      <td>2</td>\n",
              "    </tr>\n",
              "    <tr>\n",
              "      <th>4</th>\n",
              "      <td>5</td>\n",
              "      <td>Antônio Fernandes</td>\n",
              "      <td>54</td>\n",
              "      <td>2023-08-09</td>\n",
              "      <td>7138.43</td>\n",
              "      <td>True</td>\n",
              "      <td>4</td>\n",
              "    </tr>\n",
              "    <tr>\n",
              "      <th>5</th>\n",
              "      <td>6</td>\n",
              "      <td>Henry Gabriel da Mata</td>\n",
              "      <td>42</td>\n",
              "      <td>2024-01-26</td>\n",
              "      <td>4941.62</td>\n",
              "      <td>False</td>\n",
              "      <td>4</td>\n",
              "    </tr>\n",
              "    <tr>\n",
              "      <th>6</th>\n",
              "      <td>7</td>\n",
              "      <td>Sra. Maria Luiza Oliveira</td>\n",
              "      <td>58</td>\n",
              "      <td>2024-08-24</td>\n",
              "      <td>7111.25</td>\n",
              "      <td>True</td>\n",
              "      <td>5</td>\n",
              "    </tr>\n",
              "    <tr>\n",
              "      <th>8</th>\n",
              "      <td>9</td>\n",
              "      <td>Sr. Vitor da Rosa</td>\n",
              "      <td>61</td>\n",
              "      <td>2024-03-25</td>\n",
              "      <td>2363.85</td>\n",
              "      <td>False</td>\n",
              "      <td>1</td>\n",
              "    </tr>\n",
              "    <tr>\n",
              "      <th>9</th>\n",
              "      <td>10</td>\n",
              "      <td>Théo Cardoso</td>\n",
              "      <td>54</td>\n",
              "      <td>2022-09-05</td>\n",
              "      <td>8029.65</td>\n",
              "      <td>True</td>\n",
              "      <td>2</td>\n",
              "    </tr>\n",
              "    <tr>\n",
              "      <th>10</th>\n",
              "      <td>11</td>\n",
              "      <td>Marcelo Rodrigues</td>\n",
              "      <td>57</td>\n",
              "      <td>2024-02-06</td>\n",
              "      <td>8109.35</td>\n",
              "      <td>True</td>\n",
              "      <td>1</td>\n",
              "    </tr>\n",
              "    <tr>\n",
              "      <th>11</th>\n",
              "      <td>12</td>\n",
              "      <td>Maria Clara Santos</td>\n",
              "      <td>39</td>\n",
              "      <td>2023-10-21</td>\n",
              "      <td>2601.68</td>\n",
              "      <td>True</td>\n",
              "      <td>4</td>\n",
              "    </tr>\n",
              "    <tr>\n",
              "      <th>12</th>\n",
              "      <td>13</td>\n",
              "      <td>Sofia Rios</td>\n",
              "      <td>45</td>\n",
              "      <td>2023-05-19</td>\n",
              "      <td>4990.01</td>\n",
              "      <td>False</td>\n",
              "      <td>1</td>\n",
              "    </tr>\n",
              "    <tr>\n",
              "      <th>14</th>\n",
              "      <td>15</td>\n",
              "      <td>Levi Silveira</td>\n",
              "      <td>42</td>\n",
              "      <td>2024-02-10</td>\n",
              "      <td>9261.98</td>\n",
              "      <td>True</td>\n",
              "      <td>5</td>\n",
              "    </tr>\n",
              "    <tr>\n",
              "      <th>16</th>\n",
              "      <td>17</td>\n",
              "      <td>Thomas Casa Grande</td>\n",
              "      <td>33</td>\n",
              "      <td>2024-03-29</td>\n",
              "      <td>8205.90</td>\n",
              "      <td>False</td>\n",
              "      <td>2</td>\n",
              "    </tr>\n",
              "    <tr>\n",
              "      <th>17</th>\n",
              "      <td>18</td>\n",
              "      <td>Davi Miguel Ribeiro</td>\n",
              "      <td>48</td>\n",
              "      <td>2022-07-10</td>\n",
              "      <td>2625.01</td>\n",
              "      <td>False</td>\n",
              "      <td>5</td>\n",
              "    </tr>\n",
              "  </tbody>\n",
              "</table>\n",
              "</div>"
            ],
            "text/plain": [
              "    ID                       Nome  Idade Data de Registro  Salário  Ativo  \\\n",
              "0    1   Sra. Isabela Vasconcelos     44       2022-02-11  4435.13   True   \n",
              "1    2            Heitor Teixeira     40       2022-01-17  7834.97  False   \n",
              "2    3         Bianca Vasconcelos     44       2022-10-28  3094.55  False   \n",
              "3    4              Alice Machado     40       2023-10-10  6287.20   True   \n",
              "4    5          Antônio Fernandes     54       2023-08-09  7138.43   True   \n",
              "5    6      Henry Gabriel da Mata     42       2024-01-26  4941.62  False   \n",
              "6    7  Sra. Maria Luiza Oliveira     58       2024-08-24  7111.25   True   \n",
              "8    9          Sr. Vitor da Rosa     61       2024-03-25  2363.85  False   \n",
              "9   10               Théo Cardoso     54       2022-09-05  8029.65   True   \n",
              "10  11          Marcelo Rodrigues     57       2024-02-06  8109.35   True   \n",
              "11  12         Maria Clara Santos     39       2023-10-21  2601.68   True   \n",
              "12  13                 Sofia Rios     45       2023-05-19  4990.01  False   \n",
              "14  15              Levi Silveira     42       2024-02-10  9261.98   True   \n",
              "16  17         Thomas Casa Grande     33       2024-03-29  8205.90  False   \n",
              "17  18        Davi Miguel Ribeiro     48       2022-07-10  2625.01  False   \n",
              "\n",
              "    ID Departamento  \n",
              "0                 4  \n",
              "1                 2  \n",
              "2                 2  \n",
              "3                 2  \n",
              "4                 4  \n",
              "5                 4  \n",
              "6                 5  \n",
              "8                 1  \n",
              "9                 2  \n",
              "10                1  \n",
              "11                4  \n",
              "12                1  \n",
              "14                5  \n",
              "16                2  \n",
              "17                5  "
            ]
          },
          "execution_count": 12,
          "metadata": {},
          "output_type": "execute_result"
        }
      ],
      "source": [
        "df[df['Idade'] > 30]"
      ]
    },
    {
      "cell_type": "code",
      "execution_count": 13,
      "id": "4cb54267-3614-481a-a721-1c4b9afad3e8",
      "metadata": {
        "colab": {
          "base_uri": "https://localhost:8080/",
          "height": 394
        },
        "id": "4cb54267-3614-481a-a721-1c4b9afad3e8",
        "outputId": "a1bc50a5-ad4e-4494-93c5-f8145295e491"
      },
      "outputs": [
        {
          "data": {
            "application/vnd.microsoft.datawrangler.viewer.v0+json": {
              "columns": [
                {
                  "name": "index",
                  "rawType": "int64",
                  "type": "integer"
                },
                {
                  "name": "ID",
                  "rawType": "int64",
                  "type": "integer"
                },
                {
                  "name": "Nome",
                  "rawType": "object",
                  "type": "string"
                },
                {
                  "name": "Idade",
                  "rawType": "int64",
                  "type": "integer"
                },
                {
                  "name": "Data de Registro",
                  "rawType": "object",
                  "type": "string"
                },
                {
                  "name": "Salário",
                  "rawType": "float64",
                  "type": "float"
                },
                {
                  "name": "Ativo",
                  "rawType": "bool",
                  "type": "boolean"
                },
                {
                  "name": "ID Departamento",
                  "rawType": "int64",
                  "type": "integer"
                }
              ],
              "ref": "45e05c0b-3b0c-48d8-abb2-c21beab9955a",
              "rows": [
                [
                  "1",
                  "2",
                  "Heitor Teixeira",
                  "40",
                  "2022-01-17",
                  "7834.97",
                  "False",
                  "2"
                ],
                [
                  "3",
                  "4",
                  "Alice Machado",
                  "40",
                  "2023-10-10",
                  "6287.2",
                  "True",
                  "2"
                ],
                [
                  "4",
                  "5",
                  "Antônio Fernandes",
                  "54",
                  "2023-08-09",
                  "7138.43",
                  "True",
                  "4"
                ],
                [
                  "6",
                  "7",
                  "Sra. Maria Luiza Oliveira",
                  "58",
                  "2024-08-24",
                  "7111.25",
                  "True",
                  "5"
                ],
                [
                  "7",
                  "8",
                  "Isis Marques",
                  "24",
                  "2023-02-05",
                  "8438.66",
                  "True",
                  "1"
                ],
                [
                  "9",
                  "10",
                  "Théo Cardoso",
                  "54",
                  "2022-09-05",
                  "8029.65",
                  "True",
                  "2"
                ],
                [
                  "10",
                  "11",
                  "Marcelo Rodrigues",
                  "57",
                  "2024-02-06",
                  "8109.35",
                  "True",
                  "1"
                ],
                [
                  "14",
                  "15",
                  "Levi Silveira",
                  "42",
                  "2024-02-10",
                  "9261.98",
                  "True",
                  "5"
                ],
                [
                  "15",
                  "16",
                  "Maria Fernanda Rezende",
                  "29",
                  "2023-11-18",
                  "7436.21",
                  "False",
                  "3"
                ],
                [
                  "16",
                  "17",
                  "Thomas Casa Grande",
                  "33",
                  "2024-03-29",
                  "8205.9",
                  "False",
                  "2"
                ],
                [
                  "18",
                  "19",
                  "Dr. Mathias Montenegro",
                  "20",
                  "2023-08-17",
                  "9566.83",
                  "False",
                  "4"
                ]
              ],
              "shape": {
                "columns": 7,
                "rows": 11
              }
            },
            "text/html": [
              "<div>\n",
              "<style scoped>\n",
              "    .dataframe tbody tr th:only-of-type {\n",
              "        vertical-align: middle;\n",
              "    }\n",
              "\n",
              "    .dataframe tbody tr th {\n",
              "        vertical-align: top;\n",
              "    }\n",
              "\n",
              "    .dataframe thead th {\n",
              "        text-align: right;\n",
              "    }\n",
              "</style>\n",
              "<table border=\"1\" class=\"dataframe\">\n",
              "  <thead>\n",
              "    <tr style=\"text-align: right;\">\n",
              "      <th></th>\n",
              "      <th>ID</th>\n",
              "      <th>Nome</th>\n",
              "      <th>Idade</th>\n",
              "      <th>Data de Registro</th>\n",
              "      <th>Salário</th>\n",
              "      <th>Ativo</th>\n",
              "      <th>ID Departamento</th>\n",
              "    </tr>\n",
              "  </thead>\n",
              "  <tbody>\n",
              "    <tr>\n",
              "      <th>1</th>\n",
              "      <td>2</td>\n",
              "      <td>Heitor Teixeira</td>\n",
              "      <td>40</td>\n",
              "      <td>2022-01-17</td>\n",
              "      <td>7834.97</td>\n",
              "      <td>False</td>\n",
              "      <td>2</td>\n",
              "    </tr>\n",
              "    <tr>\n",
              "      <th>3</th>\n",
              "      <td>4</td>\n",
              "      <td>Alice Machado</td>\n",
              "      <td>40</td>\n",
              "      <td>2023-10-10</td>\n",
              "      <td>6287.20</td>\n",
              "      <td>True</td>\n",
              "      <td>2</td>\n",
              "    </tr>\n",
              "    <tr>\n",
              "      <th>4</th>\n",
              "      <td>5</td>\n",
              "      <td>Antônio Fernandes</td>\n",
              "      <td>54</td>\n",
              "      <td>2023-08-09</td>\n",
              "      <td>7138.43</td>\n",
              "      <td>True</td>\n",
              "      <td>4</td>\n",
              "    </tr>\n",
              "    <tr>\n",
              "      <th>6</th>\n",
              "      <td>7</td>\n",
              "      <td>Sra. Maria Luiza Oliveira</td>\n",
              "      <td>58</td>\n",
              "      <td>2024-08-24</td>\n",
              "      <td>7111.25</td>\n",
              "      <td>True</td>\n",
              "      <td>5</td>\n",
              "    </tr>\n",
              "    <tr>\n",
              "      <th>7</th>\n",
              "      <td>8</td>\n",
              "      <td>Isis Marques</td>\n",
              "      <td>24</td>\n",
              "      <td>2023-02-05</td>\n",
              "      <td>8438.66</td>\n",
              "      <td>True</td>\n",
              "      <td>1</td>\n",
              "    </tr>\n",
              "    <tr>\n",
              "      <th>9</th>\n",
              "      <td>10</td>\n",
              "      <td>Théo Cardoso</td>\n",
              "      <td>54</td>\n",
              "      <td>2022-09-05</td>\n",
              "      <td>8029.65</td>\n",
              "      <td>True</td>\n",
              "      <td>2</td>\n",
              "    </tr>\n",
              "    <tr>\n",
              "      <th>10</th>\n",
              "      <td>11</td>\n",
              "      <td>Marcelo Rodrigues</td>\n",
              "      <td>57</td>\n",
              "      <td>2024-02-06</td>\n",
              "      <td>8109.35</td>\n",
              "      <td>True</td>\n",
              "      <td>1</td>\n",
              "    </tr>\n",
              "    <tr>\n",
              "      <th>14</th>\n",
              "      <td>15</td>\n",
              "      <td>Levi Silveira</td>\n",
              "      <td>42</td>\n",
              "      <td>2024-02-10</td>\n",
              "      <td>9261.98</td>\n",
              "      <td>True</td>\n",
              "      <td>5</td>\n",
              "    </tr>\n",
              "    <tr>\n",
              "      <th>15</th>\n",
              "      <td>16</td>\n",
              "      <td>Maria Fernanda Rezende</td>\n",
              "      <td>29</td>\n",
              "      <td>2023-11-18</td>\n",
              "      <td>7436.21</td>\n",
              "      <td>False</td>\n",
              "      <td>3</td>\n",
              "    </tr>\n",
              "    <tr>\n",
              "      <th>16</th>\n",
              "      <td>17</td>\n",
              "      <td>Thomas Casa Grande</td>\n",
              "      <td>33</td>\n",
              "      <td>2024-03-29</td>\n",
              "      <td>8205.90</td>\n",
              "      <td>False</td>\n",
              "      <td>2</td>\n",
              "    </tr>\n",
              "    <tr>\n",
              "      <th>18</th>\n",
              "      <td>19</td>\n",
              "      <td>Dr. Mathias Montenegro</td>\n",
              "      <td>20</td>\n",
              "      <td>2023-08-17</td>\n",
              "      <td>9566.83</td>\n",
              "      <td>False</td>\n",
              "      <td>4</td>\n",
              "    </tr>\n",
              "  </tbody>\n",
              "</table>\n",
              "</div>"
            ],
            "text/plain": [
              "    ID                       Nome  Idade Data de Registro  Salário  Ativo  \\\n",
              "1    2            Heitor Teixeira     40       2022-01-17  7834.97  False   \n",
              "3    4              Alice Machado     40       2023-10-10  6287.20   True   \n",
              "4    5          Antônio Fernandes     54       2023-08-09  7138.43   True   \n",
              "6    7  Sra. Maria Luiza Oliveira     58       2024-08-24  7111.25   True   \n",
              "7    8               Isis Marques     24       2023-02-05  8438.66   True   \n",
              "9   10               Théo Cardoso     54       2022-09-05  8029.65   True   \n",
              "10  11          Marcelo Rodrigues     57       2024-02-06  8109.35   True   \n",
              "14  15              Levi Silveira     42       2024-02-10  9261.98   True   \n",
              "15  16     Maria Fernanda Rezende     29       2023-11-18  7436.21  False   \n",
              "16  17         Thomas Casa Grande     33       2024-03-29  8205.90  False   \n",
              "18  19     Dr. Mathias Montenegro     20       2023-08-17  9566.83  False   \n",
              "\n",
              "    ID Departamento  \n",
              "1                 2  \n",
              "3                 2  \n",
              "4                 4  \n",
              "6                 5  \n",
              "7                 1  \n",
              "9                 2  \n",
              "10                1  \n",
              "14                5  \n",
              "15                3  \n",
              "16                2  \n",
              "18                4  "
            ]
          },
          "execution_count": 13,
          "metadata": {},
          "output_type": "execute_result"
        }
      ],
      "source": [
        "df[df['Salário'] > 5000]"
      ]
    },
    {
      "cell_type": "markdown",
      "id": "0af1099d-4ac5-4a77-8971-c2fa7a4c8b89",
      "metadata": {
        "id": "0af1099d-4ac5-4a77-8971-c2fa7a4c8b89"
      },
      "source": [
        "### Combinando filtros"
      ]
    },
    {
      "cell_type": "code",
      "execution_count": 14,
      "id": "352f0ede-9620-4f42-aec7-7733775e9a2f",
      "metadata": {
        "colab": {
          "base_uri": "https://localhost:8080/",
          "height": 143
        },
        "id": "352f0ede-9620-4f42-aec7-7733775e9a2f",
        "outputId": "aaf53412-0671-456e-91ac-f821cfff48a1"
      },
      "outputs": [
        {
          "data": {
            "application/vnd.microsoft.datawrangler.viewer.v0+json": {
              "columns": [
                {
                  "name": "index",
                  "rawType": "int64",
                  "type": "integer"
                },
                {
                  "name": "ID",
                  "rawType": "int64",
                  "type": "integer"
                },
                {
                  "name": "Nome",
                  "rawType": "object",
                  "type": "string"
                },
                {
                  "name": "Idade",
                  "rawType": "int64",
                  "type": "integer"
                },
                {
                  "name": "Data de Registro",
                  "rawType": "object",
                  "type": "string"
                },
                {
                  "name": "Salário",
                  "rawType": "float64",
                  "type": "float"
                },
                {
                  "name": "Ativo",
                  "rawType": "bool",
                  "type": "boolean"
                },
                {
                  "name": "ID Departamento",
                  "rawType": "int64",
                  "type": "integer"
                }
              ],
              "ref": "98a7ce17-5728-4ed9-a11c-60526798223f",
              "rows": [
                [
                  "7",
                  "8",
                  "Isis Marques",
                  "24",
                  "2023-02-05",
                  "8438.66",
                  "True",
                  "1"
                ],
                [
                  "15",
                  "16",
                  "Maria Fernanda Rezende",
                  "29",
                  "2023-11-18",
                  "7436.21",
                  "False",
                  "3"
                ],
                [
                  "18",
                  "19",
                  "Dr. Mathias Montenegro",
                  "20",
                  "2023-08-17",
                  "9566.83",
                  "False",
                  "4"
                ]
              ],
              "shape": {
                "columns": 7,
                "rows": 3
              }
            },
            "text/html": [
              "<div>\n",
              "<style scoped>\n",
              "    .dataframe tbody tr th:only-of-type {\n",
              "        vertical-align: middle;\n",
              "    }\n",
              "\n",
              "    .dataframe tbody tr th {\n",
              "        vertical-align: top;\n",
              "    }\n",
              "\n",
              "    .dataframe thead th {\n",
              "        text-align: right;\n",
              "    }\n",
              "</style>\n",
              "<table border=\"1\" class=\"dataframe\">\n",
              "  <thead>\n",
              "    <tr style=\"text-align: right;\">\n",
              "      <th></th>\n",
              "      <th>ID</th>\n",
              "      <th>Nome</th>\n",
              "      <th>Idade</th>\n",
              "      <th>Data de Registro</th>\n",
              "      <th>Salário</th>\n",
              "      <th>Ativo</th>\n",
              "      <th>ID Departamento</th>\n",
              "    </tr>\n",
              "  </thead>\n",
              "  <tbody>\n",
              "    <tr>\n",
              "      <th>7</th>\n",
              "      <td>8</td>\n",
              "      <td>Isis Marques</td>\n",
              "      <td>24</td>\n",
              "      <td>2023-02-05</td>\n",
              "      <td>8438.66</td>\n",
              "      <td>True</td>\n",
              "      <td>1</td>\n",
              "    </tr>\n",
              "    <tr>\n",
              "      <th>15</th>\n",
              "      <td>16</td>\n",
              "      <td>Maria Fernanda Rezende</td>\n",
              "      <td>29</td>\n",
              "      <td>2023-11-18</td>\n",
              "      <td>7436.21</td>\n",
              "      <td>False</td>\n",
              "      <td>3</td>\n",
              "    </tr>\n",
              "    <tr>\n",
              "      <th>18</th>\n",
              "      <td>19</td>\n",
              "      <td>Dr. Mathias Montenegro</td>\n",
              "      <td>20</td>\n",
              "      <td>2023-08-17</td>\n",
              "      <td>9566.83</td>\n",
              "      <td>False</td>\n",
              "      <td>4</td>\n",
              "    </tr>\n",
              "  </tbody>\n",
              "</table>\n",
              "</div>"
            ],
            "text/plain": [
              "    ID                    Nome  Idade Data de Registro  Salário  Ativo  \\\n",
              "7    8            Isis Marques     24       2023-02-05  8438.66   True   \n",
              "15  16  Maria Fernanda Rezende     29       2023-11-18  7436.21  False   \n",
              "18  19  Dr. Mathias Montenegro     20       2023-08-17  9566.83  False   \n",
              "\n",
              "    ID Departamento  \n",
              "7                 1  \n",
              "15                3  \n",
              "18                4  "
            ]
          },
          "execution_count": 14,
          "metadata": {},
          "output_type": "execute_result"
        }
      ],
      "source": [
        "#Vamos separar os que ganham muito porém com pouca idade\n",
        "df_filtrado = df[(df[\"Idade\"] < 30) & (df[\"Salário\"] > 5000)]\n",
        "df_filtrado"
      ]
    },
    {
      "cell_type": "markdown",
      "id": "b429849f-5e37-4666-86cb-e22137c5b22d",
      "metadata": {
        "id": "b429849f-5e37-4666-86cb-e22137c5b22d"
      },
      "source": [
        "### Criando e removendo colunas"
      ]
    },
    {
      "cell_type": "code",
      "execution_count": 16,
      "id": "956a3c9a-0b4e-4bdc-8d56-5aa1f1fcda15",
      "metadata": {
        "colab": {
          "base_uri": "https://localhost:8080/",
          "height": 676
        },
        "id": "956a3c9a-0b4e-4bdc-8d56-5aa1f1fcda15",
        "outputId": "66481966-4ce2-45d4-d25e-ccf02c4cbfa2"
      },
      "outputs": [
        {
          "data": {
            "application/vnd.microsoft.datawrangler.viewer.v0+json": {
              "columns": [
                {
                  "name": "index",
                  "rawType": "int64",
                  "type": "integer"
                },
                {
                  "name": "ID",
                  "rawType": "int64",
                  "type": "integer"
                },
                {
                  "name": "Nome",
                  "rawType": "object",
                  "type": "string"
                },
                {
                  "name": "Idade",
                  "rawType": "int64",
                  "type": "integer"
                },
                {
                  "name": "Data de Registro",
                  "rawType": "object",
                  "type": "string"
                },
                {
                  "name": "Salário",
                  "rawType": "float64",
                  "type": "float"
                },
                {
                  "name": "Ativo",
                  "rawType": "bool",
                  "type": "boolean"
                },
                {
                  "name": "ID Departamento",
                  "rawType": "int64",
                  "type": "integer"
                },
                {
                  "name": "Salário Anual",
                  "rawType": "float64",
                  "type": "float"
                }
              ],
              "ref": "98c9020c-d42e-4353-b529-8c451d98be41",
              "rows": [
                [
                  "0",
                  "1",
                  "Sra. Isabela Vasconcelos",
                  "44",
                  "2022-02-11",
                  "4435.13",
                  "True",
                  "4",
                  "53221.56"
                ],
                [
                  "1",
                  "2",
                  "Heitor Teixeira",
                  "40",
                  "2022-01-17",
                  "7834.97",
                  "False",
                  "2",
                  "94019.64"
                ],
                [
                  "2",
                  "3",
                  "Bianca Vasconcelos",
                  "44",
                  "2022-10-28",
                  "3094.55",
                  "False",
                  "2",
                  "37134.600000000006"
                ],
                [
                  "3",
                  "4",
                  "Alice Machado",
                  "40",
                  "2023-10-10",
                  "6287.2",
                  "True",
                  "2",
                  "75446.4"
                ],
                [
                  "4",
                  "5",
                  "Antônio Fernandes",
                  "54",
                  "2023-08-09",
                  "7138.43",
                  "True",
                  "4",
                  "85661.16"
                ],
                [
                  "5",
                  "6",
                  "Henry Gabriel da Mata",
                  "42",
                  "2024-01-26",
                  "4941.62",
                  "False",
                  "4",
                  "59299.44"
                ],
                [
                  "6",
                  "7",
                  "Sra. Maria Luiza Oliveira",
                  "58",
                  "2024-08-24",
                  "7111.25",
                  "True",
                  "5",
                  "85335.0"
                ],
                [
                  "7",
                  "8",
                  "Isis Marques",
                  "24",
                  "2023-02-05",
                  "8438.66",
                  "True",
                  "1",
                  "101263.92"
                ],
                [
                  "8",
                  "9",
                  "Sr. Vitor da Rosa",
                  "61",
                  "2024-03-25",
                  "2363.85",
                  "False",
                  "1",
                  "28366.199999999997"
                ],
                [
                  "9",
                  "10",
                  "Théo Cardoso",
                  "54",
                  "2022-09-05",
                  "8029.65",
                  "True",
                  "2",
                  "96355.79999999999"
                ],
                [
                  "10",
                  "11",
                  "Marcelo Rodrigues",
                  "57",
                  "2024-02-06",
                  "8109.35",
                  "True",
                  "1",
                  "97312.20000000001"
                ],
                [
                  "11",
                  "12",
                  "Maria Clara Santos",
                  "39",
                  "2023-10-21",
                  "2601.68",
                  "True",
                  "4",
                  "31220.159999999996"
                ],
                [
                  "12",
                  "13",
                  "Sofia Rios",
                  "45",
                  "2023-05-19",
                  "4990.01",
                  "False",
                  "1",
                  "59880.12"
                ],
                [
                  "13",
                  "14",
                  "Benicio das Neves",
                  "22",
                  "2022-04-15",
                  "2541.54",
                  "True",
                  "5",
                  "30498.48"
                ],
                [
                  "14",
                  "15",
                  "Levi Silveira",
                  "42",
                  "2024-02-10",
                  "9261.98",
                  "True",
                  "5",
                  "111143.76"
                ],
                [
                  "15",
                  "16",
                  "Maria Fernanda Rezende",
                  "29",
                  "2023-11-18",
                  "7436.21",
                  "False",
                  "3",
                  "89234.52"
                ],
                [
                  "16",
                  "17",
                  "Thomas Casa Grande",
                  "33",
                  "2024-03-29",
                  "8205.9",
                  "False",
                  "2",
                  "98470.79999999999"
                ],
                [
                  "17",
                  "18",
                  "Davi Miguel Ribeiro",
                  "48",
                  "2022-07-10",
                  "2625.01",
                  "False",
                  "5",
                  "31500.120000000003"
                ],
                [
                  "18",
                  "19",
                  "Dr. Mathias Montenegro",
                  "20",
                  "2023-08-17",
                  "9566.83",
                  "False",
                  "4",
                  "114801.95999999999"
                ],
                [
                  "19",
                  "20",
                  "Samuel Gonçalves",
                  "21",
                  "2023-10-03",
                  "3884.99",
                  "True",
                  "3",
                  "46619.88"
                ]
              ],
              "shape": {
                "columns": 8,
                "rows": 20
              }
            },
            "text/html": [
              "<div>\n",
              "<style scoped>\n",
              "    .dataframe tbody tr th:only-of-type {\n",
              "        vertical-align: middle;\n",
              "    }\n",
              "\n",
              "    .dataframe tbody tr th {\n",
              "        vertical-align: top;\n",
              "    }\n",
              "\n",
              "    .dataframe thead th {\n",
              "        text-align: right;\n",
              "    }\n",
              "</style>\n",
              "<table border=\"1\" class=\"dataframe\">\n",
              "  <thead>\n",
              "    <tr style=\"text-align: right;\">\n",
              "      <th></th>\n",
              "      <th>ID</th>\n",
              "      <th>Nome</th>\n",
              "      <th>Idade</th>\n",
              "      <th>Data de Registro</th>\n",
              "      <th>Salário</th>\n",
              "      <th>Ativo</th>\n",
              "      <th>ID Departamento</th>\n",
              "      <th>Salário Anual</th>\n",
              "    </tr>\n",
              "  </thead>\n",
              "  <tbody>\n",
              "    <tr>\n",
              "      <th>0</th>\n",
              "      <td>1</td>\n",
              "      <td>Sra. Isabela Vasconcelos</td>\n",
              "      <td>44</td>\n",
              "      <td>2022-02-11</td>\n",
              "      <td>4435.13</td>\n",
              "      <td>True</td>\n",
              "      <td>4</td>\n",
              "      <td>53221.56</td>\n",
              "    </tr>\n",
              "    <tr>\n",
              "      <th>1</th>\n",
              "      <td>2</td>\n",
              "      <td>Heitor Teixeira</td>\n",
              "      <td>40</td>\n",
              "      <td>2022-01-17</td>\n",
              "      <td>7834.97</td>\n",
              "      <td>False</td>\n",
              "      <td>2</td>\n",
              "      <td>94019.64</td>\n",
              "    </tr>\n",
              "    <tr>\n",
              "      <th>2</th>\n",
              "      <td>3</td>\n",
              "      <td>Bianca Vasconcelos</td>\n",
              "      <td>44</td>\n",
              "      <td>2022-10-28</td>\n",
              "      <td>3094.55</td>\n",
              "      <td>False</td>\n",
              "      <td>2</td>\n",
              "      <td>37134.60</td>\n",
              "    </tr>\n",
              "    <tr>\n",
              "      <th>3</th>\n",
              "      <td>4</td>\n",
              "      <td>Alice Machado</td>\n",
              "      <td>40</td>\n",
              "      <td>2023-10-10</td>\n",
              "      <td>6287.20</td>\n",
              "      <td>True</td>\n",
              "      <td>2</td>\n",
              "      <td>75446.40</td>\n",
              "    </tr>\n",
              "    <tr>\n",
              "      <th>4</th>\n",
              "      <td>5</td>\n",
              "      <td>Antônio Fernandes</td>\n",
              "      <td>54</td>\n",
              "      <td>2023-08-09</td>\n",
              "      <td>7138.43</td>\n",
              "      <td>True</td>\n",
              "      <td>4</td>\n",
              "      <td>85661.16</td>\n",
              "    </tr>\n",
              "    <tr>\n",
              "      <th>5</th>\n",
              "      <td>6</td>\n",
              "      <td>Henry Gabriel da Mata</td>\n",
              "      <td>42</td>\n",
              "      <td>2024-01-26</td>\n",
              "      <td>4941.62</td>\n",
              "      <td>False</td>\n",
              "      <td>4</td>\n",
              "      <td>59299.44</td>\n",
              "    </tr>\n",
              "    <tr>\n",
              "      <th>6</th>\n",
              "      <td>7</td>\n",
              "      <td>Sra. Maria Luiza Oliveira</td>\n",
              "      <td>58</td>\n",
              "      <td>2024-08-24</td>\n",
              "      <td>7111.25</td>\n",
              "      <td>True</td>\n",
              "      <td>5</td>\n",
              "      <td>85335.00</td>\n",
              "    </tr>\n",
              "    <tr>\n",
              "      <th>7</th>\n",
              "      <td>8</td>\n",
              "      <td>Isis Marques</td>\n",
              "      <td>24</td>\n",
              "      <td>2023-02-05</td>\n",
              "      <td>8438.66</td>\n",
              "      <td>True</td>\n",
              "      <td>1</td>\n",
              "      <td>101263.92</td>\n",
              "    </tr>\n",
              "    <tr>\n",
              "      <th>8</th>\n",
              "      <td>9</td>\n",
              "      <td>Sr. Vitor da Rosa</td>\n",
              "      <td>61</td>\n",
              "      <td>2024-03-25</td>\n",
              "      <td>2363.85</td>\n",
              "      <td>False</td>\n",
              "      <td>1</td>\n",
              "      <td>28366.20</td>\n",
              "    </tr>\n",
              "    <tr>\n",
              "      <th>9</th>\n",
              "      <td>10</td>\n",
              "      <td>Théo Cardoso</td>\n",
              "      <td>54</td>\n",
              "      <td>2022-09-05</td>\n",
              "      <td>8029.65</td>\n",
              "      <td>True</td>\n",
              "      <td>2</td>\n",
              "      <td>96355.80</td>\n",
              "    </tr>\n",
              "    <tr>\n",
              "      <th>10</th>\n",
              "      <td>11</td>\n",
              "      <td>Marcelo Rodrigues</td>\n",
              "      <td>57</td>\n",
              "      <td>2024-02-06</td>\n",
              "      <td>8109.35</td>\n",
              "      <td>True</td>\n",
              "      <td>1</td>\n",
              "      <td>97312.20</td>\n",
              "    </tr>\n",
              "    <tr>\n",
              "      <th>11</th>\n",
              "      <td>12</td>\n",
              "      <td>Maria Clara Santos</td>\n",
              "      <td>39</td>\n",
              "      <td>2023-10-21</td>\n",
              "      <td>2601.68</td>\n",
              "      <td>True</td>\n",
              "      <td>4</td>\n",
              "      <td>31220.16</td>\n",
              "    </tr>\n",
              "    <tr>\n",
              "      <th>12</th>\n",
              "      <td>13</td>\n",
              "      <td>Sofia Rios</td>\n",
              "      <td>45</td>\n",
              "      <td>2023-05-19</td>\n",
              "      <td>4990.01</td>\n",
              "      <td>False</td>\n",
              "      <td>1</td>\n",
              "      <td>59880.12</td>\n",
              "    </tr>\n",
              "    <tr>\n",
              "      <th>13</th>\n",
              "      <td>14</td>\n",
              "      <td>Benicio das Neves</td>\n",
              "      <td>22</td>\n",
              "      <td>2022-04-15</td>\n",
              "      <td>2541.54</td>\n",
              "      <td>True</td>\n",
              "      <td>5</td>\n",
              "      <td>30498.48</td>\n",
              "    </tr>\n",
              "    <tr>\n",
              "      <th>14</th>\n",
              "      <td>15</td>\n",
              "      <td>Levi Silveira</td>\n",
              "      <td>42</td>\n",
              "      <td>2024-02-10</td>\n",
              "      <td>9261.98</td>\n",
              "      <td>True</td>\n",
              "      <td>5</td>\n",
              "      <td>111143.76</td>\n",
              "    </tr>\n",
              "    <tr>\n",
              "      <th>15</th>\n",
              "      <td>16</td>\n",
              "      <td>Maria Fernanda Rezende</td>\n",
              "      <td>29</td>\n",
              "      <td>2023-11-18</td>\n",
              "      <td>7436.21</td>\n",
              "      <td>False</td>\n",
              "      <td>3</td>\n",
              "      <td>89234.52</td>\n",
              "    </tr>\n",
              "    <tr>\n",
              "      <th>16</th>\n",
              "      <td>17</td>\n",
              "      <td>Thomas Casa Grande</td>\n",
              "      <td>33</td>\n",
              "      <td>2024-03-29</td>\n",
              "      <td>8205.90</td>\n",
              "      <td>False</td>\n",
              "      <td>2</td>\n",
              "      <td>98470.80</td>\n",
              "    </tr>\n",
              "    <tr>\n",
              "      <th>17</th>\n",
              "      <td>18</td>\n",
              "      <td>Davi Miguel Ribeiro</td>\n",
              "      <td>48</td>\n",
              "      <td>2022-07-10</td>\n",
              "      <td>2625.01</td>\n",
              "      <td>False</td>\n",
              "      <td>5</td>\n",
              "      <td>31500.12</td>\n",
              "    </tr>\n",
              "    <tr>\n",
              "      <th>18</th>\n",
              "      <td>19</td>\n",
              "      <td>Dr. Mathias Montenegro</td>\n",
              "      <td>20</td>\n",
              "      <td>2023-08-17</td>\n",
              "      <td>9566.83</td>\n",
              "      <td>False</td>\n",
              "      <td>4</td>\n",
              "      <td>114801.96</td>\n",
              "    </tr>\n",
              "    <tr>\n",
              "      <th>19</th>\n",
              "      <td>20</td>\n",
              "      <td>Samuel Gonçalves</td>\n",
              "      <td>21</td>\n",
              "      <td>2023-10-03</td>\n",
              "      <td>3884.99</td>\n",
              "      <td>True</td>\n",
              "      <td>3</td>\n",
              "      <td>46619.88</td>\n",
              "    </tr>\n",
              "  </tbody>\n",
              "</table>\n",
              "</div>"
            ],
            "text/plain": [
              "    ID                       Nome  Idade Data de Registro  Salário  Ativo  \\\n",
              "0    1   Sra. Isabela Vasconcelos     44       2022-02-11  4435.13   True   \n",
              "1    2            Heitor Teixeira     40       2022-01-17  7834.97  False   \n",
              "2    3         Bianca Vasconcelos     44       2022-10-28  3094.55  False   \n",
              "3    4              Alice Machado     40       2023-10-10  6287.20   True   \n",
              "4    5          Antônio Fernandes     54       2023-08-09  7138.43   True   \n",
              "5    6      Henry Gabriel da Mata     42       2024-01-26  4941.62  False   \n",
              "6    7  Sra. Maria Luiza Oliveira     58       2024-08-24  7111.25   True   \n",
              "7    8               Isis Marques     24       2023-02-05  8438.66   True   \n",
              "8    9          Sr. Vitor da Rosa     61       2024-03-25  2363.85  False   \n",
              "9   10               Théo Cardoso     54       2022-09-05  8029.65   True   \n",
              "10  11          Marcelo Rodrigues     57       2024-02-06  8109.35   True   \n",
              "11  12         Maria Clara Santos     39       2023-10-21  2601.68   True   \n",
              "12  13                 Sofia Rios     45       2023-05-19  4990.01  False   \n",
              "13  14          Benicio das Neves     22       2022-04-15  2541.54   True   \n",
              "14  15              Levi Silveira     42       2024-02-10  9261.98   True   \n",
              "15  16     Maria Fernanda Rezende     29       2023-11-18  7436.21  False   \n",
              "16  17         Thomas Casa Grande     33       2024-03-29  8205.90  False   \n",
              "17  18        Davi Miguel Ribeiro     48       2022-07-10  2625.01  False   \n",
              "18  19     Dr. Mathias Montenegro     20       2023-08-17  9566.83  False   \n",
              "19  20           Samuel Gonçalves     21       2023-10-03  3884.99   True   \n",
              "\n",
              "    ID Departamento  Salário Anual  \n",
              "0                 4       53221.56  \n",
              "1                 2       94019.64  \n",
              "2                 2       37134.60  \n",
              "3                 2       75446.40  \n",
              "4                 4       85661.16  \n",
              "5                 4       59299.44  \n",
              "6                 5       85335.00  \n",
              "7                 1      101263.92  \n",
              "8                 1       28366.20  \n",
              "9                 2       96355.80  \n",
              "10                1       97312.20  \n",
              "11                4       31220.16  \n",
              "12                1       59880.12  \n",
              "13                5       30498.48  \n",
              "14                5      111143.76  \n",
              "15                3       89234.52  \n",
              "16                2       98470.80  \n",
              "17                5       31500.12  \n",
              "18                4      114801.96  \n",
              "19                3       46619.88  "
            ]
          },
          "execution_count": 16,
          "metadata": {},
          "output_type": "execute_result"
        }
      ],
      "source": [
        "df['Salário Anual'] = df['Salário'] * 12\n",
        "df"
      ]
    },
    {
      "cell_type": "code",
      "execution_count": 17,
      "id": "07327bdd-f1e7-4941-8f34-308eaa0063be",
      "metadata": {
        "colab": {
          "base_uri": "https://localhost:8080/",
          "height": 321
        },
        "id": "07327bdd-f1e7-4941-8f34-308eaa0063be",
        "outputId": "e277145b-a90e-462e-a15b-14e41fd8ea2f"
      },
      "outputs": [],
      "source": [
        "# axis=0 significa linhas, axis=1 significa colunas.\n",
        "# Como queremos excluir a coluna \"Salário\", usamos axis=1.\n",
        "df = df.drop('Salário', axis=1)\n"
      ]
    },
    {
      "cell_type": "markdown",
      "id": "6dbabc65-8fdf-4717-a328-4dd8d88f54f3",
      "metadata": {
        "id": "6dbabc65-8fdf-4717-a328-4dd8d88f54f3"
      },
      "source": [
        "### Resumindo dados"
      ]
    },
    {
      "cell_type": "code",
      "execution_count": 18,
      "id": "a7efdc5d-c786-4d55-846e-3ec46aeb3072",
      "metadata": {
        "colab": {
          "base_uri": "https://localhost:8080/"
        },
        "id": "a7efdc5d-c786-4d55-846e-3ec46aeb3072",
        "outputId": "63581d84-26b3-4ee8-cce4-55189eda03a4"
      },
      "outputs": [
        {
          "name": "stdout",
          "output_type": "stream",
          "text": [
            "<class 'pandas.core.frame.DataFrame'>\n",
            "RangeIndex: 20 entries, 0 to 19\n",
            "Data columns (total 7 columns):\n",
            " #   Column            Non-Null Count  Dtype  \n",
            "---  ------            --------------  -----  \n",
            " 0   ID                20 non-null     int64  \n",
            " 1   Nome              20 non-null     object \n",
            " 2   Idade             20 non-null     int64  \n",
            " 3   Data de Registro  20 non-null     object \n",
            " 4   Ativo             20 non-null     bool   \n",
            " 5   ID Departamento   20 non-null     int64  \n",
            " 6   Salário Anual     20 non-null     float64\n",
            "dtypes: bool(1), float64(1), int64(3), object(2)\n",
            "memory usage: 1.1+ KB\n"
          ]
        }
      ],
      "source": [
        "df.info()"
      ]
    },
    {
      "cell_type": "code",
      "execution_count": 19,
      "id": "033dfb4c-1131-458c-a575-68a2d6fbf2b6",
      "metadata": {
        "colab": {
          "base_uri": "https://localhost:8080/",
          "height": 300
        },
        "id": "033dfb4c-1131-458c-a575-68a2d6fbf2b6",
        "outputId": "956a1c28-4d35-4aff-fe55-51c7c6545d6a"
      },
      "outputs": [
        {
          "data": {
            "application/vnd.microsoft.datawrangler.viewer.v0+json": {
              "columns": [
                {
                  "name": "index",
                  "rawType": "object",
                  "type": "string"
                },
                {
                  "name": "ID",
                  "rawType": "float64",
                  "type": "float"
                },
                {
                  "name": "Idade",
                  "rawType": "float64",
                  "type": "float"
                },
                {
                  "name": "ID Departamento",
                  "rawType": "float64",
                  "type": "float"
                },
                {
                  "name": "Salário Anual",
                  "rawType": "float64",
                  "type": "float"
                }
              ],
              "ref": "33f3c757-1f64-465c-b28b-c9870269adea",
              "rows": [
                [
                  "count",
                  "20.0",
                  "20.0",
                  "20.0",
                  "20.0"
                ],
                [
                  "mean",
                  "10.5",
                  "40.85",
                  "3.0",
                  "71339.286"
                ],
                [
                  "std",
                  "5.916079783099616",
                  "12.716648846875374",
                  "1.4867838833500564",
                  "29695.66372709524"
                ],
                [
                  "min",
                  "1.0",
                  "20.0",
                  "1.0",
                  "28366.199999999997"
                ],
                [
                  "25%",
                  "5.75",
                  "32.0",
                  "2.0",
                  "44248.56"
                ],
                [
                  "50%",
                  "10.5",
                  "42.0",
                  "3.0",
                  "80390.7"
                ],
                [
                  "75%",
                  "15.25",
                  "49.5",
                  "4.0",
                  "96594.9"
                ],
                [
                  "max",
                  "20.0",
                  "61.0",
                  "5.0",
                  "114801.95999999999"
                ]
              ],
              "shape": {
                "columns": 4,
                "rows": 8
              }
            },
            "text/html": [
              "<div>\n",
              "<style scoped>\n",
              "    .dataframe tbody tr th:only-of-type {\n",
              "        vertical-align: middle;\n",
              "    }\n",
              "\n",
              "    .dataframe tbody tr th {\n",
              "        vertical-align: top;\n",
              "    }\n",
              "\n",
              "    .dataframe thead th {\n",
              "        text-align: right;\n",
              "    }\n",
              "</style>\n",
              "<table border=\"1\" class=\"dataframe\">\n",
              "  <thead>\n",
              "    <tr style=\"text-align: right;\">\n",
              "      <th></th>\n",
              "      <th>ID</th>\n",
              "      <th>Idade</th>\n",
              "      <th>ID Departamento</th>\n",
              "      <th>Salário Anual</th>\n",
              "    </tr>\n",
              "  </thead>\n",
              "  <tbody>\n",
              "    <tr>\n",
              "      <th>count</th>\n",
              "      <td>20.00000</td>\n",
              "      <td>20.000000</td>\n",
              "      <td>20.000000</td>\n",
              "      <td>20.000000</td>\n",
              "    </tr>\n",
              "    <tr>\n",
              "      <th>mean</th>\n",
              "      <td>10.50000</td>\n",
              "      <td>40.850000</td>\n",
              "      <td>3.000000</td>\n",
              "      <td>71339.286000</td>\n",
              "    </tr>\n",
              "    <tr>\n",
              "      <th>std</th>\n",
              "      <td>5.91608</td>\n",
              "      <td>12.716649</td>\n",
              "      <td>1.486784</td>\n",
              "      <td>29695.663727</td>\n",
              "    </tr>\n",
              "    <tr>\n",
              "      <th>min</th>\n",
              "      <td>1.00000</td>\n",
              "      <td>20.000000</td>\n",
              "      <td>1.000000</td>\n",
              "      <td>28366.200000</td>\n",
              "    </tr>\n",
              "    <tr>\n",
              "      <th>25%</th>\n",
              "      <td>5.75000</td>\n",
              "      <td>32.000000</td>\n",
              "      <td>2.000000</td>\n",
              "      <td>44248.560000</td>\n",
              "    </tr>\n",
              "    <tr>\n",
              "      <th>50%</th>\n",
              "      <td>10.50000</td>\n",
              "      <td>42.000000</td>\n",
              "      <td>3.000000</td>\n",
              "      <td>80390.700000</td>\n",
              "    </tr>\n",
              "    <tr>\n",
              "      <th>75%</th>\n",
              "      <td>15.25000</td>\n",
              "      <td>49.500000</td>\n",
              "      <td>4.000000</td>\n",
              "      <td>96594.900000</td>\n",
              "    </tr>\n",
              "    <tr>\n",
              "      <th>max</th>\n",
              "      <td>20.00000</td>\n",
              "      <td>61.000000</td>\n",
              "      <td>5.000000</td>\n",
              "      <td>114801.960000</td>\n",
              "    </tr>\n",
              "  </tbody>\n",
              "</table>\n",
              "</div>"
            ],
            "text/plain": [
              "             ID      Idade  ID Departamento  Salário Anual\n",
              "count  20.00000  20.000000        20.000000      20.000000\n",
              "mean   10.50000  40.850000         3.000000   71339.286000\n",
              "std     5.91608  12.716649         1.486784   29695.663727\n",
              "min     1.00000  20.000000         1.000000   28366.200000\n",
              "25%     5.75000  32.000000         2.000000   44248.560000\n",
              "50%    10.50000  42.000000         3.000000   80390.700000\n",
              "75%    15.25000  49.500000         4.000000   96594.900000\n",
              "max    20.00000  61.000000         5.000000  114801.960000"
            ]
          },
          "execution_count": 19,
          "metadata": {},
          "output_type": "execute_result"
        }
      ],
      "source": [
        "df.describe()"
      ]
    },
    {
      "cell_type": "code",
      "execution_count": 22,
      "id": "c7a696a5-3117-469e-a9f8-ca45eeb397e8",
      "metadata": {
        "colab": {
          "base_uri": "https://localhost:8080/"
        },
        "id": "c7a696a5-3117-469e-a9f8-ca45eeb397e8",
        "outputId": "51eb287a-4d40-450a-df64-2e213a6c0e3a"
      },
      "outputs": [
        {
          "data": {
            "text/plain": [
              "np.float64(1426785.72)"
            ]
          },
          "execution_count": 22,
          "metadata": {},
          "output_type": "execute_result"
        }
      ],
      "source": [
        "df['Salário Anual'].sum()"
      ]
    },
    {
      "cell_type": "code",
      "execution_count": 23,
      "id": "adc3826e-cd5d-4f2e-a2b9-f9b44fcb1216",
      "metadata": {
        "colab": {
          "base_uri": "https://localhost:8080/"
        },
        "id": "adc3826e-cd5d-4f2e-a2b9-f9b44fcb1216",
        "outputId": "d5ba20b2-c63f-4df2-d3e4-dd770b7ea3fb"
      },
      "outputs": [
        {
          "data": {
            "text/plain": [
              "np.float64(71339.286)"
            ]
          },
          "execution_count": 23,
          "metadata": {},
          "output_type": "execute_result"
        }
      ],
      "source": [
        "df['Salário Anual'].mean()"
      ]
    },
    {
      "cell_type": "markdown",
      "id": "f719ab02-a1cc-447f-bbdc-0f59d7e46a2f",
      "metadata": {
        "id": "f719ab02-a1cc-447f-bbdc-0f59d7e46a2f"
      },
      "source": [
        "### Contando ocorrências"
      ]
    },
    {
      "cell_type": "code",
      "execution_count": 24,
      "id": "28227736-da97-4229-8382-2fe724c1a7bf",
      "metadata": {
        "colab": {
          "base_uri": "https://localhost:8080/",
          "height": 178
        },
        "id": "28227736-da97-4229-8382-2fe724c1a7bf",
        "outputId": "7f6d8d06-0fc4-46ef-b53f-235f8545c450"
      },
      "outputs": [
        {
          "data": {
            "application/vnd.microsoft.datawrangler.viewer.v0+json": {
              "columns": [
                {
                  "name": "Ativo",
                  "rawType": "bool",
                  "type": "boolean"
                },
                {
                  "name": "count",
                  "rawType": "int64",
                  "type": "integer"
                }
              ],
              "ref": "0ed5f120-453a-4e99-965a-e3da406ad7bc",
              "rows": [
                [
                  "True",
                  "11"
                ],
                [
                  "False",
                  "9"
                ]
              ],
              "shape": {
                "columns": 1,
                "rows": 2
              }
            },
            "text/plain": [
              "Ativo\n",
              "True     11\n",
              "False     9\n",
              "Name: count, dtype: int64"
            ]
          },
          "execution_count": 24,
          "metadata": {},
          "output_type": "execute_result"
        }
      ],
      "source": [
        "#Vamos chegar quem está ativo e quem se desligou da empresa\n",
        "df['Ativo'].value_counts()"
      ]
    },
    {
      "cell_type": "code",
      "execution_count": 26,
      "id": "17ee6e3f-a066-4e48-b2ca-553bb5e02487",
      "metadata": {
        "colab": {
          "base_uri": "https://localhost:8080/",
          "height": 272
        },
        "id": "17ee6e3f-a066-4e48-b2ca-553bb5e02487",
        "outputId": "6ab83f09-6a77-4543-b5bb-24289f9fad85"
      },
      "outputs": [
        {
          "data": {
            "application/vnd.microsoft.datawrangler.viewer.v0+json": {
              "columns": [
                {
                  "name": "ID Departamento",
                  "rawType": "int64",
                  "type": "integer"
                },
                {
                  "name": "count",
                  "rawType": "int64",
                  "type": "integer"
                }
              ],
              "ref": "fe7a2a84-bed7-461f-9e36-da3cf638a0ec",
              "rows": [
                [
                  "4",
                  "5"
                ],
                [
                  "2",
                  "5"
                ],
                [
                  "5",
                  "4"
                ],
                [
                  "1",
                  "4"
                ],
                [
                  "3",
                  "2"
                ]
              ],
              "shape": {
                "columns": 1,
                "rows": 5
              }
            },
            "text/plain": [
              "ID Departamento\n",
              "4    5\n",
              "2    5\n",
              "5    4\n",
              "1    4\n",
              "3    2\n",
              "Name: count, dtype: int64"
            ]
          },
          "execution_count": 26,
          "metadata": {},
          "output_type": "execute_result"
        }
      ],
      "source": [
        "df['ID Departamento'].value_counts()"
      ]
    },
    {
      "cell_type": "markdown",
      "id": "d17748d9-2a55-4dae-b375-17fa68815b2f",
      "metadata": {
        "id": "d17748d9-2a55-4dae-b375-17fa68815b2f"
      },
      "source": [
        "### Operações de agregação"
      ]
    },
    {
      "cell_type": "code",
      "execution_count": 27,
      "id": "1c2a1346-601a-476c-990e-f8233887a16b",
      "metadata": {
        "colab": {
          "base_uri": "https://localhost:8080/",
          "height": 272
        },
        "id": "1c2a1346-601a-476c-990e-f8233887a16b",
        "outputId": "45ee8334-97f1-4d0c-bedc-16fd1f9db6eb"
      },
      "outputs": [
        {
          "data": {
            "application/vnd.microsoft.datawrangler.viewer.v0+json": {
              "columns": [
                {
                  "name": "ID Departamento",
                  "rawType": "int64",
                  "type": "integer"
                },
                {
                  "name": "Salário Anual",
                  "rawType": "float64",
                  "type": "float"
                }
              ],
              "ref": "3ef0bd18-4b73-4f53-b4e2-f8b21be39f68",
              "rows": [
                [
                  "1",
                  "71705.61"
                ],
                [
                  "2",
                  "80285.448"
                ],
                [
                  "3",
                  "67927.2"
                ],
                [
                  "4",
                  "68840.856"
                ],
                [
                  "5",
                  "64619.34"
                ]
              ],
              "shape": {
                "columns": 1,
                "rows": 5
              }
            },
            "text/plain": [
              "ID Departamento\n",
              "1    71705.610\n",
              "2    80285.448\n",
              "3    67927.200\n",
              "4    68840.856\n",
              "5    64619.340\n",
              "Name: Salário Anual, dtype: float64"
            ]
          },
          "execution_count": 27,
          "metadata": {},
          "output_type": "execute_result"
        }
      ],
      "source": [
        "df.groupby('ID Departamento')['Salário Anual'].mean()"
      ]
    },
    {
      "cell_type": "code",
      "execution_count": 30,
      "id": "030b7f93-8491-484e-9763-87a68abc3931",
      "metadata": {
        "colab": {
          "base_uri": "https://localhost:8080/",
          "height": 272
        },
        "id": "030b7f93-8491-484e-9763-87a68abc3931",
        "outputId": "8e344e1c-afbd-4145-cfe1-ff7f0a63df2f"
      },
      "outputs": [
        {
          "data": {
            "application/vnd.microsoft.datawrangler.viewer.v0+json": {
              "columns": [
                {
                  "name": "('ID Departamento', 'Ativo')",
                  "rawType": "object",
                  "type": "unknown"
                },
                {
                  "name": "Salário Anual",
                  "rawType": "float64",
                  "type": "float"
                }
              ],
              "ref": "f391706d-9ace-4b41-b0e1-67b2f1b99fa8",
              "rows": [
                [
                  "(np.int64(1), np.False_)",
                  "88246.32"
                ],
                [
                  "(np.int64(1), np.True_)",
                  "198576.12"
                ],
                [
                  "(np.int64(2), np.False_)",
                  "229625.03999999998"
                ],
                [
                  "(np.int64(2), np.True_)",
                  "171802.19999999998"
                ],
                [
                  "(np.int64(3), np.False_)",
                  "89234.52"
                ],
                [
                  "(np.int64(3), np.True_)",
                  "46619.88"
                ],
                [
                  "(np.int64(4), np.False_)",
                  "174101.4"
                ],
                [
                  "(np.int64(4), np.True_)",
                  "170102.88"
                ],
                [
                  "(np.int64(5), np.False_)",
                  "31500.120000000003"
                ],
                [
                  "(np.int64(5), np.True_)",
                  "226977.24"
                ]
              ],
              "shape": {
                "columns": 1,
                "rows": 10
              }
            },
            "text/plain": [
              "ID Departamento  Ativo\n",
              "1                False     88246.32\n",
              "                 True     198576.12\n",
              "2                False    229625.04\n",
              "                 True     171802.20\n",
              "3                False     89234.52\n",
              "                 True      46619.88\n",
              "4                False    174101.40\n",
              "                 True     170102.88\n",
              "5                False     31500.12\n",
              "                 True     226977.24\n",
              "Name: Salário Anual, dtype: float64"
            ]
          },
          "execution_count": 30,
          "metadata": {},
          "output_type": "execute_result"
        }
      ],
      "source": [
        "df.groupby(['ID Departamento', 'Ativo'])['Salário Anual'].sum()"
      ]
    },
    {
      "cell_type": "code",
      "execution_count": 31,
      "id": "a18f3a0d-13bc-4b74-a016-4fb8faedceda",
      "metadata": {
        "colab": {
          "base_uri": "https://localhost:8080/",
          "height": 272
        },
        "id": "a18f3a0d-13bc-4b74-a016-4fb8faedceda",
        "outputId": "c69bbff6-7ecc-471a-d7fd-9529396bf42b"
      },
      "outputs": [
        {
          "data": {
            "application/vnd.microsoft.datawrangler.viewer.v0+json": {
              "columns": [
                {
                  "name": "ID Departamento",
                  "rawType": "int64",
                  "type": "integer"
                },
                {
                  "name": "Salário Anual",
                  "rawType": "float64",
                  "type": "float"
                }
              ],
              "ref": "05e08b5f-e547-48d6-9488-4b945882caf4",
              "rows": [
                [
                  "1",
                  "101263.92"
                ],
                [
                  "2",
                  "98470.79999999999"
                ],
                [
                  "3",
                  "89234.52"
                ],
                [
                  "4",
                  "114801.95999999999"
                ],
                [
                  "5",
                  "111143.76"
                ]
              ],
              "shape": {
                "columns": 1,
                "rows": 5
              }
            },
            "text/plain": [
              "ID Departamento\n",
              "1    101263.92\n",
              "2     98470.80\n",
              "3     89234.52\n",
              "4    114801.96\n",
              "5    111143.76\n",
              "Name: Salário Anual, dtype: float64"
            ]
          },
          "execution_count": 31,
          "metadata": {},
          "output_type": "execute_result"
        }
      ],
      "source": [
        "df.groupby('ID Departamento')['Salário Anual'].max()"
      ]
    },
    {
      "cell_type": "markdown",
      "id": "1674f18a-1144-498e-9f95-218080ee7282",
      "metadata": {
        "id": "1674f18a-1144-498e-9f95-218080ee7282"
      },
      "source": [
        "### Ordenando dados"
      ]
    },
    {
      "cell_type": "code",
      "execution_count": 32,
      "id": "f8873396-c3ea-4f32-b4dd-8823f2b22049",
      "metadata": {
        "colab": {
          "base_uri": "https://localhost:8080/",
          "height": 676
        },
        "id": "f8873396-c3ea-4f32-b4dd-8823f2b22049",
        "outputId": "31ac9580-c2fa-4407-f8ce-b76b474eb260"
      },
      "outputs": [
        {
          "data": {
            "application/vnd.microsoft.datawrangler.viewer.v0+json": {
              "columns": [
                {
                  "name": "index",
                  "rawType": "int64",
                  "type": "integer"
                },
                {
                  "name": "ID",
                  "rawType": "int64",
                  "type": "integer"
                },
                {
                  "name": "Nome",
                  "rawType": "object",
                  "type": "string"
                },
                {
                  "name": "Idade",
                  "rawType": "int64",
                  "type": "integer"
                },
                {
                  "name": "Data de Registro",
                  "rawType": "object",
                  "type": "string"
                },
                {
                  "name": "Ativo",
                  "rawType": "bool",
                  "type": "boolean"
                },
                {
                  "name": "ID Departamento",
                  "rawType": "int64",
                  "type": "integer"
                },
                {
                  "name": "Salário Anual",
                  "rawType": "float64",
                  "type": "float"
                }
              ],
              "ref": "0cd4e8e8-b9ee-41f7-8c23-b463b1f811ac",
              "rows": [
                [
                  "8",
                  "9",
                  "Sr. Vitor da Rosa",
                  "61",
                  "2024-03-25",
                  "False",
                  "1",
                  "28366.199999999997"
                ],
                [
                  "13",
                  "14",
                  "Benicio das Neves",
                  "22",
                  "2022-04-15",
                  "True",
                  "5",
                  "30498.48"
                ],
                [
                  "11",
                  "12",
                  "Maria Clara Santos",
                  "39",
                  "2023-10-21",
                  "True",
                  "4",
                  "31220.159999999996"
                ],
                [
                  "17",
                  "18",
                  "Davi Miguel Ribeiro",
                  "48",
                  "2022-07-10",
                  "False",
                  "5",
                  "31500.120000000003"
                ],
                [
                  "2",
                  "3",
                  "Bianca Vasconcelos",
                  "44",
                  "2022-10-28",
                  "False",
                  "2",
                  "37134.600000000006"
                ],
                [
                  "19",
                  "20",
                  "Samuel Gonçalves",
                  "21",
                  "2023-10-03",
                  "True",
                  "3",
                  "46619.88"
                ],
                [
                  "0",
                  "1",
                  "Sra. Isabela Vasconcelos",
                  "44",
                  "2022-02-11",
                  "True",
                  "4",
                  "53221.56"
                ],
                [
                  "5",
                  "6",
                  "Henry Gabriel da Mata",
                  "42",
                  "2024-01-26",
                  "False",
                  "4",
                  "59299.44"
                ],
                [
                  "12",
                  "13",
                  "Sofia Rios",
                  "45",
                  "2023-05-19",
                  "False",
                  "1",
                  "59880.12"
                ],
                [
                  "3",
                  "4",
                  "Alice Machado",
                  "40",
                  "2023-10-10",
                  "True",
                  "2",
                  "75446.4"
                ],
                [
                  "6",
                  "7",
                  "Sra. Maria Luiza Oliveira",
                  "58",
                  "2024-08-24",
                  "True",
                  "5",
                  "85335.0"
                ],
                [
                  "4",
                  "5",
                  "Antônio Fernandes",
                  "54",
                  "2023-08-09",
                  "True",
                  "4",
                  "85661.16"
                ],
                [
                  "15",
                  "16",
                  "Maria Fernanda Rezende",
                  "29",
                  "2023-11-18",
                  "False",
                  "3",
                  "89234.52"
                ],
                [
                  "1",
                  "2",
                  "Heitor Teixeira",
                  "40",
                  "2022-01-17",
                  "False",
                  "2",
                  "94019.64"
                ],
                [
                  "9",
                  "10",
                  "Théo Cardoso",
                  "54",
                  "2022-09-05",
                  "True",
                  "2",
                  "96355.79999999999"
                ],
                [
                  "10",
                  "11",
                  "Marcelo Rodrigues",
                  "57",
                  "2024-02-06",
                  "True",
                  "1",
                  "97312.20000000001"
                ],
                [
                  "16",
                  "17",
                  "Thomas Casa Grande",
                  "33",
                  "2024-03-29",
                  "False",
                  "2",
                  "98470.79999999999"
                ],
                [
                  "7",
                  "8",
                  "Isis Marques",
                  "24",
                  "2023-02-05",
                  "True",
                  "1",
                  "101263.92"
                ],
                [
                  "14",
                  "15",
                  "Levi Silveira",
                  "42",
                  "2024-02-10",
                  "True",
                  "5",
                  "111143.76"
                ],
                [
                  "18",
                  "19",
                  "Dr. Mathias Montenegro",
                  "20",
                  "2023-08-17",
                  "False",
                  "4",
                  "114801.95999999999"
                ]
              ],
              "shape": {
                "columns": 7,
                "rows": 20
              }
            },
            "text/html": [
              "<div>\n",
              "<style scoped>\n",
              "    .dataframe tbody tr th:only-of-type {\n",
              "        vertical-align: middle;\n",
              "    }\n",
              "\n",
              "    .dataframe tbody tr th {\n",
              "        vertical-align: top;\n",
              "    }\n",
              "\n",
              "    .dataframe thead th {\n",
              "        text-align: right;\n",
              "    }\n",
              "</style>\n",
              "<table border=\"1\" class=\"dataframe\">\n",
              "  <thead>\n",
              "    <tr style=\"text-align: right;\">\n",
              "      <th></th>\n",
              "      <th>ID</th>\n",
              "      <th>Nome</th>\n",
              "      <th>Idade</th>\n",
              "      <th>Data de Registro</th>\n",
              "      <th>Ativo</th>\n",
              "      <th>ID Departamento</th>\n",
              "      <th>Salário Anual</th>\n",
              "    </tr>\n",
              "  </thead>\n",
              "  <tbody>\n",
              "    <tr>\n",
              "      <th>8</th>\n",
              "      <td>9</td>\n",
              "      <td>Sr. Vitor da Rosa</td>\n",
              "      <td>61</td>\n",
              "      <td>2024-03-25</td>\n",
              "      <td>False</td>\n",
              "      <td>1</td>\n",
              "      <td>28366.20</td>\n",
              "    </tr>\n",
              "    <tr>\n",
              "      <th>13</th>\n",
              "      <td>14</td>\n",
              "      <td>Benicio das Neves</td>\n",
              "      <td>22</td>\n",
              "      <td>2022-04-15</td>\n",
              "      <td>True</td>\n",
              "      <td>5</td>\n",
              "      <td>30498.48</td>\n",
              "    </tr>\n",
              "    <tr>\n",
              "      <th>11</th>\n",
              "      <td>12</td>\n",
              "      <td>Maria Clara Santos</td>\n",
              "      <td>39</td>\n",
              "      <td>2023-10-21</td>\n",
              "      <td>True</td>\n",
              "      <td>4</td>\n",
              "      <td>31220.16</td>\n",
              "    </tr>\n",
              "    <tr>\n",
              "      <th>17</th>\n",
              "      <td>18</td>\n",
              "      <td>Davi Miguel Ribeiro</td>\n",
              "      <td>48</td>\n",
              "      <td>2022-07-10</td>\n",
              "      <td>False</td>\n",
              "      <td>5</td>\n",
              "      <td>31500.12</td>\n",
              "    </tr>\n",
              "    <tr>\n",
              "      <th>2</th>\n",
              "      <td>3</td>\n",
              "      <td>Bianca Vasconcelos</td>\n",
              "      <td>44</td>\n",
              "      <td>2022-10-28</td>\n",
              "      <td>False</td>\n",
              "      <td>2</td>\n",
              "      <td>37134.60</td>\n",
              "    </tr>\n",
              "    <tr>\n",
              "      <th>19</th>\n",
              "      <td>20</td>\n",
              "      <td>Samuel Gonçalves</td>\n",
              "      <td>21</td>\n",
              "      <td>2023-10-03</td>\n",
              "      <td>True</td>\n",
              "      <td>3</td>\n",
              "      <td>46619.88</td>\n",
              "    </tr>\n",
              "    <tr>\n",
              "      <th>0</th>\n",
              "      <td>1</td>\n",
              "      <td>Sra. Isabela Vasconcelos</td>\n",
              "      <td>44</td>\n",
              "      <td>2022-02-11</td>\n",
              "      <td>True</td>\n",
              "      <td>4</td>\n",
              "      <td>53221.56</td>\n",
              "    </tr>\n",
              "    <tr>\n",
              "      <th>5</th>\n",
              "      <td>6</td>\n",
              "      <td>Henry Gabriel da Mata</td>\n",
              "      <td>42</td>\n",
              "      <td>2024-01-26</td>\n",
              "      <td>False</td>\n",
              "      <td>4</td>\n",
              "      <td>59299.44</td>\n",
              "    </tr>\n",
              "    <tr>\n",
              "      <th>12</th>\n",
              "      <td>13</td>\n",
              "      <td>Sofia Rios</td>\n",
              "      <td>45</td>\n",
              "      <td>2023-05-19</td>\n",
              "      <td>False</td>\n",
              "      <td>1</td>\n",
              "      <td>59880.12</td>\n",
              "    </tr>\n",
              "    <tr>\n",
              "      <th>3</th>\n",
              "      <td>4</td>\n",
              "      <td>Alice Machado</td>\n",
              "      <td>40</td>\n",
              "      <td>2023-10-10</td>\n",
              "      <td>True</td>\n",
              "      <td>2</td>\n",
              "      <td>75446.40</td>\n",
              "    </tr>\n",
              "    <tr>\n",
              "      <th>6</th>\n",
              "      <td>7</td>\n",
              "      <td>Sra. Maria Luiza Oliveira</td>\n",
              "      <td>58</td>\n",
              "      <td>2024-08-24</td>\n",
              "      <td>True</td>\n",
              "      <td>5</td>\n",
              "      <td>85335.00</td>\n",
              "    </tr>\n",
              "    <tr>\n",
              "      <th>4</th>\n",
              "      <td>5</td>\n",
              "      <td>Antônio Fernandes</td>\n",
              "      <td>54</td>\n",
              "      <td>2023-08-09</td>\n",
              "      <td>True</td>\n",
              "      <td>4</td>\n",
              "      <td>85661.16</td>\n",
              "    </tr>\n",
              "    <tr>\n",
              "      <th>15</th>\n",
              "      <td>16</td>\n",
              "      <td>Maria Fernanda Rezende</td>\n",
              "      <td>29</td>\n",
              "      <td>2023-11-18</td>\n",
              "      <td>False</td>\n",
              "      <td>3</td>\n",
              "      <td>89234.52</td>\n",
              "    </tr>\n",
              "    <tr>\n",
              "      <th>1</th>\n",
              "      <td>2</td>\n",
              "      <td>Heitor Teixeira</td>\n",
              "      <td>40</td>\n",
              "      <td>2022-01-17</td>\n",
              "      <td>False</td>\n",
              "      <td>2</td>\n",
              "      <td>94019.64</td>\n",
              "    </tr>\n",
              "    <tr>\n",
              "      <th>9</th>\n",
              "      <td>10</td>\n",
              "      <td>Théo Cardoso</td>\n",
              "      <td>54</td>\n",
              "      <td>2022-09-05</td>\n",
              "      <td>True</td>\n",
              "      <td>2</td>\n",
              "      <td>96355.80</td>\n",
              "    </tr>\n",
              "    <tr>\n",
              "      <th>10</th>\n",
              "      <td>11</td>\n",
              "      <td>Marcelo Rodrigues</td>\n",
              "      <td>57</td>\n",
              "      <td>2024-02-06</td>\n",
              "      <td>True</td>\n",
              "      <td>1</td>\n",
              "      <td>97312.20</td>\n",
              "    </tr>\n",
              "    <tr>\n",
              "      <th>16</th>\n",
              "      <td>17</td>\n",
              "      <td>Thomas Casa Grande</td>\n",
              "      <td>33</td>\n",
              "      <td>2024-03-29</td>\n",
              "      <td>False</td>\n",
              "      <td>2</td>\n",
              "      <td>98470.80</td>\n",
              "    </tr>\n",
              "    <tr>\n",
              "      <th>7</th>\n",
              "      <td>8</td>\n",
              "      <td>Isis Marques</td>\n",
              "      <td>24</td>\n",
              "      <td>2023-02-05</td>\n",
              "      <td>True</td>\n",
              "      <td>1</td>\n",
              "      <td>101263.92</td>\n",
              "    </tr>\n",
              "    <tr>\n",
              "      <th>14</th>\n",
              "      <td>15</td>\n",
              "      <td>Levi Silveira</td>\n",
              "      <td>42</td>\n",
              "      <td>2024-02-10</td>\n",
              "      <td>True</td>\n",
              "      <td>5</td>\n",
              "      <td>111143.76</td>\n",
              "    </tr>\n",
              "    <tr>\n",
              "      <th>18</th>\n",
              "      <td>19</td>\n",
              "      <td>Dr. Mathias Montenegro</td>\n",
              "      <td>20</td>\n",
              "      <td>2023-08-17</td>\n",
              "      <td>False</td>\n",
              "      <td>4</td>\n",
              "      <td>114801.96</td>\n",
              "    </tr>\n",
              "  </tbody>\n",
              "</table>\n",
              "</div>"
            ],
            "text/plain": [
              "    ID                       Nome  Idade Data de Registro  Ativo  \\\n",
              "8    9          Sr. Vitor da Rosa     61       2024-03-25  False   \n",
              "13  14          Benicio das Neves     22       2022-04-15   True   \n",
              "11  12         Maria Clara Santos     39       2023-10-21   True   \n",
              "17  18        Davi Miguel Ribeiro     48       2022-07-10  False   \n",
              "2    3         Bianca Vasconcelos     44       2022-10-28  False   \n",
              "19  20           Samuel Gonçalves     21       2023-10-03   True   \n",
              "0    1   Sra. Isabela Vasconcelos     44       2022-02-11   True   \n",
              "5    6      Henry Gabriel da Mata     42       2024-01-26  False   \n",
              "12  13                 Sofia Rios     45       2023-05-19  False   \n",
              "3    4              Alice Machado     40       2023-10-10   True   \n",
              "6    7  Sra. Maria Luiza Oliveira     58       2024-08-24   True   \n",
              "4    5          Antônio Fernandes     54       2023-08-09   True   \n",
              "15  16     Maria Fernanda Rezende     29       2023-11-18  False   \n",
              "1    2            Heitor Teixeira     40       2022-01-17  False   \n",
              "9   10               Théo Cardoso     54       2022-09-05   True   \n",
              "10  11          Marcelo Rodrigues     57       2024-02-06   True   \n",
              "16  17         Thomas Casa Grande     33       2024-03-29  False   \n",
              "7    8               Isis Marques     24       2023-02-05   True   \n",
              "14  15              Levi Silveira     42       2024-02-10   True   \n",
              "18  19     Dr. Mathias Montenegro     20       2023-08-17  False   \n",
              "\n",
              "    ID Departamento  Salário Anual  \n",
              "8                 1       28366.20  \n",
              "13                5       30498.48  \n",
              "11                4       31220.16  \n",
              "17                5       31500.12  \n",
              "2                 2       37134.60  \n",
              "19                3       46619.88  \n",
              "0                 4       53221.56  \n",
              "5                 4       59299.44  \n",
              "12                1       59880.12  \n",
              "3                 2       75446.40  \n",
              "6                 5       85335.00  \n",
              "4                 4       85661.16  \n",
              "15                3       89234.52  \n",
              "1                 2       94019.64  \n",
              "9                 2       96355.80  \n",
              "10                1       97312.20  \n",
              "16                2       98470.80  \n",
              "7                 1      101263.92  \n",
              "14                5      111143.76  \n",
              "18                4      114801.96  "
            ]
          },
          "execution_count": 32,
          "metadata": {},
          "output_type": "execute_result"
        }
      ],
      "source": [
        "df.sort_values(by='Salário Anual')"
      ]
    },
    {
      "cell_type": "code",
      "execution_count": 33,
      "id": "6cc1d470-6917-4352-ab81-c01e51e1a53a",
      "metadata": {
        "colab": {
          "base_uri": "https://localhost:8080/",
          "height": 676
        },
        "id": "6cc1d470-6917-4352-ab81-c01e51e1a53a",
        "outputId": "97fb5cec-2e85-432c-af14-415a95182959"
      },
      "outputs": [
        {
          "data": {
            "application/vnd.microsoft.datawrangler.viewer.v0+json": {
              "columns": [
                {
                  "name": "index",
                  "rawType": "int64",
                  "type": "integer"
                },
                {
                  "name": "ID",
                  "rawType": "int64",
                  "type": "integer"
                },
                {
                  "name": "Nome",
                  "rawType": "object",
                  "type": "string"
                },
                {
                  "name": "Idade",
                  "rawType": "int64",
                  "type": "integer"
                },
                {
                  "name": "Data de Registro",
                  "rawType": "object",
                  "type": "string"
                },
                {
                  "name": "Ativo",
                  "rawType": "bool",
                  "type": "boolean"
                },
                {
                  "name": "ID Departamento",
                  "rawType": "int64",
                  "type": "integer"
                },
                {
                  "name": "Salário Anual",
                  "rawType": "float64",
                  "type": "float"
                }
              ],
              "ref": "e533263f-fd24-495e-8ca3-b9ab75114198",
              "rows": [
                [
                  "18",
                  "19",
                  "Dr. Mathias Montenegro",
                  "20",
                  "2023-08-17",
                  "False",
                  "4",
                  "114801.95999999999"
                ],
                [
                  "14",
                  "15",
                  "Levi Silveira",
                  "42",
                  "2024-02-10",
                  "True",
                  "5",
                  "111143.76"
                ],
                [
                  "7",
                  "8",
                  "Isis Marques",
                  "24",
                  "2023-02-05",
                  "True",
                  "1",
                  "101263.92"
                ],
                [
                  "16",
                  "17",
                  "Thomas Casa Grande",
                  "33",
                  "2024-03-29",
                  "False",
                  "2",
                  "98470.79999999999"
                ],
                [
                  "10",
                  "11",
                  "Marcelo Rodrigues",
                  "57",
                  "2024-02-06",
                  "True",
                  "1",
                  "97312.20000000001"
                ],
                [
                  "9",
                  "10",
                  "Théo Cardoso",
                  "54",
                  "2022-09-05",
                  "True",
                  "2",
                  "96355.79999999999"
                ],
                [
                  "1",
                  "2",
                  "Heitor Teixeira",
                  "40",
                  "2022-01-17",
                  "False",
                  "2",
                  "94019.64"
                ],
                [
                  "15",
                  "16",
                  "Maria Fernanda Rezende",
                  "29",
                  "2023-11-18",
                  "False",
                  "3",
                  "89234.52"
                ],
                [
                  "4",
                  "5",
                  "Antônio Fernandes",
                  "54",
                  "2023-08-09",
                  "True",
                  "4",
                  "85661.16"
                ],
                [
                  "6",
                  "7",
                  "Sra. Maria Luiza Oliveira",
                  "58",
                  "2024-08-24",
                  "True",
                  "5",
                  "85335.0"
                ],
                [
                  "3",
                  "4",
                  "Alice Machado",
                  "40",
                  "2023-10-10",
                  "True",
                  "2",
                  "75446.4"
                ],
                [
                  "12",
                  "13",
                  "Sofia Rios",
                  "45",
                  "2023-05-19",
                  "False",
                  "1",
                  "59880.12"
                ],
                [
                  "5",
                  "6",
                  "Henry Gabriel da Mata",
                  "42",
                  "2024-01-26",
                  "False",
                  "4",
                  "59299.44"
                ],
                [
                  "0",
                  "1",
                  "Sra. Isabela Vasconcelos",
                  "44",
                  "2022-02-11",
                  "True",
                  "4",
                  "53221.56"
                ],
                [
                  "19",
                  "20",
                  "Samuel Gonçalves",
                  "21",
                  "2023-10-03",
                  "True",
                  "3",
                  "46619.88"
                ],
                [
                  "2",
                  "3",
                  "Bianca Vasconcelos",
                  "44",
                  "2022-10-28",
                  "False",
                  "2",
                  "37134.600000000006"
                ],
                [
                  "17",
                  "18",
                  "Davi Miguel Ribeiro",
                  "48",
                  "2022-07-10",
                  "False",
                  "5",
                  "31500.120000000003"
                ],
                [
                  "11",
                  "12",
                  "Maria Clara Santos",
                  "39",
                  "2023-10-21",
                  "True",
                  "4",
                  "31220.159999999996"
                ],
                [
                  "13",
                  "14",
                  "Benicio das Neves",
                  "22",
                  "2022-04-15",
                  "True",
                  "5",
                  "30498.48"
                ],
                [
                  "8",
                  "9",
                  "Sr. Vitor da Rosa",
                  "61",
                  "2024-03-25",
                  "False",
                  "1",
                  "28366.199999999997"
                ]
              ],
              "shape": {
                "columns": 7,
                "rows": 20
              }
            },
            "text/html": [
              "<div>\n",
              "<style scoped>\n",
              "    .dataframe tbody tr th:only-of-type {\n",
              "        vertical-align: middle;\n",
              "    }\n",
              "\n",
              "    .dataframe tbody tr th {\n",
              "        vertical-align: top;\n",
              "    }\n",
              "\n",
              "    .dataframe thead th {\n",
              "        text-align: right;\n",
              "    }\n",
              "</style>\n",
              "<table border=\"1\" class=\"dataframe\">\n",
              "  <thead>\n",
              "    <tr style=\"text-align: right;\">\n",
              "      <th></th>\n",
              "      <th>ID</th>\n",
              "      <th>Nome</th>\n",
              "      <th>Idade</th>\n",
              "      <th>Data de Registro</th>\n",
              "      <th>Ativo</th>\n",
              "      <th>ID Departamento</th>\n",
              "      <th>Salário Anual</th>\n",
              "    </tr>\n",
              "  </thead>\n",
              "  <tbody>\n",
              "    <tr>\n",
              "      <th>18</th>\n",
              "      <td>19</td>\n",
              "      <td>Dr. Mathias Montenegro</td>\n",
              "      <td>20</td>\n",
              "      <td>2023-08-17</td>\n",
              "      <td>False</td>\n",
              "      <td>4</td>\n",
              "      <td>114801.96</td>\n",
              "    </tr>\n",
              "    <tr>\n",
              "      <th>14</th>\n",
              "      <td>15</td>\n",
              "      <td>Levi Silveira</td>\n",
              "      <td>42</td>\n",
              "      <td>2024-02-10</td>\n",
              "      <td>True</td>\n",
              "      <td>5</td>\n",
              "      <td>111143.76</td>\n",
              "    </tr>\n",
              "    <tr>\n",
              "      <th>7</th>\n",
              "      <td>8</td>\n",
              "      <td>Isis Marques</td>\n",
              "      <td>24</td>\n",
              "      <td>2023-02-05</td>\n",
              "      <td>True</td>\n",
              "      <td>1</td>\n",
              "      <td>101263.92</td>\n",
              "    </tr>\n",
              "    <tr>\n",
              "      <th>16</th>\n",
              "      <td>17</td>\n",
              "      <td>Thomas Casa Grande</td>\n",
              "      <td>33</td>\n",
              "      <td>2024-03-29</td>\n",
              "      <td>False</td>\n",
              "      <td>2</td>\n",
              "      <td>98470.80</td>\n",
              "    </tr>\n",
              "    <tr>\n",
              "      <th>10</th>\n",
              "      <td>11</td>\n",
              "      <td>Marcelo Rodrigues</td>\n",
              "      <td>57</td>\n",
              "      <td>2024-02-06</td>\n",
              "      <td>True</td>\n",
              "      <td>1</td>\n",
              "      <td>97312.20</td>\n",
              "    </tr>\n",
              "    <tr>\n",
              "      <th>9</th>\n",
              "      <td>10</td>\n",
              "      <td>Théo Cardoso</td>\n",
              "      <td>54</td>\n",
              "      <td>2022-09-05</td>\n",
              "      <td>True</td>\n",
              "      <td>2</td>\n",
              "      <td>96355.80</td>\n",
              "    </tr>\n",
              "    <tr>\n",
              "      <th>1</th>\n",
              "      <td>2</td>\n",
              "      <td>Heitor Teixeira</td>\n",
              "      <td>40</td>\n",
              "      <td>2022-01-17</td>\n",
              "      <td>False</td>\n",
              "      <td>2</td>\n",
              "      <td>94019.64</td>\n",
              "    </tr>\n",
              "    <tr>\n",
              "      <th>15</th>\n",
              "      <td>16</td>\n",
              "      <td>Maria Fernanda Rezende</td>\n",
              "      <td>29</td>\n",
              "      <td>2023-11-18</td>\n",
              "      <td>False</td>\n",
              "      <td>3</td>\n",
              "      <td>89234.52</td>\n",
              "    </tr>\n",
              "    <tr>\n",
              "      <th>4</th>\n",
              "      <td>5</td>\n",
              "      <td>Antônio Fernandes</td>\n",
              "      <td>54</td>\n",
              "      <td>2023-08-09</td>\n",
              "      <td>True</td>\n",
              "      <td>4</td>\n",
              "      <td>85661.16</td>\n",
              "    </tr>\n",
              "    <tr>\n",
              "      <th>6</th>\n",
              "      <td>7</td>\n",
              "      <td>Sra. Maria Luiza Oliveira</td>\n",
              "      <td>58</td>\n",
              "      <td>2024-08-24</td>\n",
              "      <td>True</td>\n",
              "      <td>5</td>\n",
              "      <td>85335.00</td>\n",
              "    </tr>\n",
              "    <tr>\n",
              "      <th>3</th>\n",
              "      <td>4</td>\n",
              "      <td>Alice Machado</td>\n",
              "      <td>40</td>\n",
              "      <td>2023-10-10</td>\n",
              "      <td>True</td>\n",
              "      <td>2</td>\n",
              "      <td>75446.40</td>\n",
              "    </tr>\n",
              "    <tr>\n",
              "      <th>12</th>\n",
              "      <td>13</td>\n",
              "      <td>Sofia Rios</td>\n",
              "      <td>45</td>\n",
              "      <td>2023-05-19</td>\n",
              "      <td>False</td>\n",
              "      <td>1</td>\n",
              "      <td>59880.12</td>\n",
              "    </tr>\n",
              "    <tr>\n",
              "      <th>5</th>\n",
              "      <td>6</td>\n",
              "      <td>Henry Gabriel da Mata</td>\n",
              "      <td>42</td>\n",
              "      <td>2024-01-26</td>\n",
              "      <td>False</td>\n",
              "      <td>4</td>\n",
              "      <td>59299.44</td>\n",
              "    </tr>\n",
              "    <tr>\n",
              "      <th>0</th>\n",
              "      <td>1</td>\n",
              "      <td>Sra. Isabela Vasconcelos</td>\n",
              "      <td>44</td>\n",
              "      <td>2022-02-11</td>\n",
              "      <td>True</td>\n",
              "      <td>4</td>\n",
              "      <td>53221.56</td>\n",
              "    </tr>\n",
              "    <tr>\n",
              "      <th>19</th>\n",
              "      <td>20</td>\n",
              "      <td>Samuel Gonçalves</td>\n",
              "      <td>21</td>\n",
              "      <td>2023-10-03</td>\n",
              "      <td>True</td>\n",
              "      <td>3</td>\n",
              "      <td>46619.88</td>\n",
              "    </tr>\n",
              "    <tr>\n",
              "      <th>2</th>\n",
              "      <td>3</td>\n",
              "      <td>Bianca Vasconcelos</td>\n",
              "      <td>44</td>\n",
              "      <td>2022-10-28</td>\n",
              "      <td>False</td>\n",
              "      <td>2</td>\n",
              "      <td>37134.60</td>\n",
              "    </tr>\n",
              "    <tr>\n",
              "      <th>17</th>\n",
              "      <td>18</td>\n",
              "      <td>Davi Miguel Ribeiro</td>\n",
              "      <td>48</td>\n",
              "      <td>2022-07-10</td>\n",
              "      <td>False</td>\n",
              "      <td>5</td>\n",
              "      <td>31500.12</td>\n",
              "    </tr>\n",
              "    <tr>\n",
              "      <th>11</th>\n",
              "      <td>12</td>\n",
              "      <td>Maria Clara Santos</td>\n",
              "      <td>39</td>\n",
              "      <td>2023-10-21</td>\n",
              "      <td>True</td>\n",
              "      <td>4</td>\n",
              "      <td>31220.16</td>\n",
              "    </tr>\n",
              "    <tr>\n",
              "      <th>13</th>\n",
              "      <td>14</td>\n",
              "      <td>Benicio das Neves</td>\n",
              "      <td>22</td>\n",
              "      <td>2022-04-15</td>\n",
              "      <td>True</td>\n",
              "      <td>5</td>\n",
              "      <td>30498.48</td>\n",
              "    </tr>\n",
              "    <tr>\n",
              "      <th>8</th>\n",
              "      <td>9</td>\n",
              "      <td>Sr. Vitor da Rosa</td>\n",
              "      <td>61</td>\n",
              "      <td>2024-03-25</td>\n",
              "      <td>False</td>\n",
              "      <td>1</td>\n",
              "      <td>28366.20</td>\n",
              "    </tr>\n",
              "  </tbody>\n",
              "</table>\n",
              "</div>"
            ],
            "text/plain": [
              "    ID                       Nome  Idade Data de Registro  Ativo  \\\n",
              "18  19     Dr. Mathias Montenegro     20       2023-08-17  False   \n",
              "14  15              Levi Silveira     42       2024-02-10   True   \n",
              "7    8               Isis Marques     24       2023-02-05   True   \n",
              "16  17         Thomas Casa Grande     33       2024-03-29  False   \n",
              "10  11          Marcelo Rodrigues     57       2024-02-06   True   \n",
              "9   10               Théo Cardoso     54       2022-09-05   True   \n",
              "1    2            Heitor Teixeira     40       2022-01-17  False   \n",
              "15  16     Maria Fernanda Rezende     29       2023-11-18  False   \n",
              "4    5          Antônio Fernandes     54       2023-08-09   True   \n",
              "6    7  Sra. Maria Luiza Oliveira     58       2024-08-24   True   \n",
              "3    4              Alice Machado     40       2023-10-10   True   \n",
              "12  13                 Sofia Rios     45       2023-05-19  False   \n",
              "5    6      Henry Gabriel da Mata     42       2024-01-26  False   \n",
              "0    1   Sra. Isabela Vasconcelos     44       2022-02-11   True   \n",
              "19  20           Samuel Gonçalves     21       2023-10-03   True   \n",
              "2    3         Bianca Vasconcelos     44       2022-10-28  False   \n",
              "17  18        Davi Miguel Ribeiro     48       2022-07-10  False   \n",
              "11  12         Maria Clara Santos     39       2023-10-21   True   \n",
              "13  14          Benicio das Neves     22       2022-04-15   True   \n",
              "8    9          Sr. Vitor da Rosa     61       2024-03-25  False   \n",
              "\n",
              "    ID Departamento  Salário Anual  \n",
              "18                4      114801.96  \n",
              "14                5      111143.76  \n",
              "7                 1      101263.92  \n",
              "16                2       98470.80  \n",
              "10                1       97312.20  \n",
              "9                 2       96355.80  \n",
              "1                 2       94019.64  \n",
              "15                3       89234.52  \n",
              "4                 4       85661.16  \n",
              "6                 5       85335.00  \n",
              "3                 2       75446.40  \n",
              "12                1       59880.12  \n",
              "5                 4       59299.44  \n",
              "0                 4       53221.56  \n",
              "19                3       46619.88  \n",
              "2                 2       37134.60  \n",
              "17                5       31500.12  \n",
              "11                4       31220.16  \n",
              "13                5       30498.48  \n",
              "8                 1       28366.20  "
            ]
          },
          "execution_count": 33,
          "metadata": {},
          "output_type": "execute_result"
        }
      ],
      "source": [
        "# Ordenar o DataFrame df pela coluna \"Salário Anual\"\n",
        "# O parâmetro by='Salário Anual' indica a coluna usada para a ordenação\n",
        "# O parâmetro ascending=False significa ordem decrescente (do maior para o menor)\n",
        "# inplace=True faz a ordenação ser aplicada diretamente no df, sem precisar criar uma cópia\n",
        "df.sort_values(by=\"Salário Anual\", ascending=False, inplace=True)\n",
        "\n",
        "# Mostrar o DataFrame já ordenado\n",
        "df\n"
      ]
    },
    {
      "cell_type": "markdown",
      "id": "fb2239dd-144d-483c-a61d-9d2b7da126bf",
      "metadata": {
        "id": "fb2239dd-144d-483c-a61d-9d2b7da126bf"
      },
      "source": [
        "### Combinando dados"
      ]
    },
    {
      "cell_type": "code",
      "execution_count": 34,
      "id": "2132afba-0f21-46af-969f-dd597c5f7d13",
      "metadata": {
        "colab": {
          "base_uri": "https://localhost:8080/",
          "height": 262
        },
        "id": "2132afba-0f21-46af-969f-dd597c5f7d13",
        "outputId": "3827a419-3f10-4802-a72e-3c16d16445e9"
      },
      "outputs": [
        {
          "data": {
            "application/vnd.microsoft.datawrangler.viewer.v0+json": {
              "columns": [
                {
                  "name": "index",
                  "rawType": "int64",
                  "type": "integer"
                },
                {
                  "name": "ID Departamento",
                  "rawType": "int64",
                  "type": "integer"
                },
                {
                  "name": "Nome Departamento",
                  "rawType": "object",
                  "type": "string"
                }
              ],
              "ref": "c1a00b87-9ee8-4f97-bbbb-51a2092cb2c7",
              "rows": [
                [
                  "0",
                  "1",
                  "Vendas"
                ],
                [
                  "1",
                  "2",
                  "TI"
                ],
                [
                  "2",
                  "3",
                  "RH"
                ],
                [
                  "3",
                  "4",
                  "Financeiro"
                ],
                [
                  "4",
                  "5",
                  "Marketing"
                ]
              ],
              "shape": {
                "columns": 2,
                "rows": 5
              }
            },
            "text/html": [
              "<div>\n",
              "<style scoped>\n",
              "    .dataframe tbody tr th:only-of-type {\n",
              "        vertical-align: middle;\n",
              "    }\n",
              "\n",
              "    .dataframe tbody tr th {\n",
              "        vertical-align: top;\n",
              "    }\n",
              "\n",
              "    .dataframe thead th {\n",
              "        text-align: right;\n",
              "    }\n",
              "</style>\n",
              "<table border=\"1\" class=\"dataframe\">\n",
              "  <thead>\n",
              "    <tr style=\"text-align: right;\">\n",
              "      <th></th>\n",
              "      <th>ID Departamento</th>\n",
              "      <th>Nome Departamento</th>\n",
              "    </tr>\n",
              "  </thead>\n",
              "  <tbody>\n",
              "    <tr>\n",
              "      <th>0</th>\n",
              "      <td>1</td>\n",
              "      <td>Vendas</td>\n",
              "    </tr>\n",
              "    <tr>\n",
              "      <th>1</th>\n",
              "      <td>2</td>\n",
              "      <td>TI</td>\n",
              "    </tr>\n",
              "    <tr>\n",
              "      <th>2</th>\n",
              "      <td>3</td>\n",
              "      <td>RH</td>\n",
              "    </tr>\n",
              "    <tr>\n",
              "      <th>3</th>\n",
              "      <td>4</td>\n",
              "      <td>Financeiro</td>\n",
              "    </tr>\n",
              "    <tr>\n",
              "      <th>4</th>\n",
              "      <td>5</td>\n",
              "      <td>Marketing</td>\n",
              "    </tr>\n",
              "  </tbody>\n",
              "</table>\n",
              "</div>"
            ],
            "text/plain": [
              "   ID Departamento Nome Departamento\n",
              "0                1            Vendas\n",
              "1                2                TI\n",
              "2                3                RH\n",
              "3                4        Financeiro\n",
              "4                5         Marketing"
            ]
          },
          "execution_count": 34,
          "metadata": {},
          "output_type": "execute_result"
        }
      ],
      "source": [
        "#uploaded = files.upload()\n",
        "df_dept = pd.read_csv('departamentos.csv')\n",
        "df_dept"
      ]
    },
    {
      "cell_type": "code",
      "execution_count": 39,
      "id": "79a28c46-f73d-4edf-bc73-05d6ccc3cead",
      "metadata": {
        "colab": {
          "base_uri": "https://localhost:8080/",
          "height": 676
        },
        "id": "79a28c46-f73d-4edf-bc73-05d6ccc3cead",
        "outputId": "ed1991bf-7c07-4ba3-a5ff-f708a0ab7701"
      },
      "outputs": [
        {
          "data": {
            "application/vnd.microsoft.datawrangler.viewer.v0+json": {
              "columns": [
                {
                  "name": "index",
                  "rawType": "int64",
                  "type": "integer"
                },
                {
                  "name": "ID",
                  "rawType": "int64",
                  "type": "integer"
                },
                {
                  "name": "Nome",
                  "rawType": "object",
                  "type": "string"
                },
                {
                  "name": "Idade",
                  "rawType": "int64",
                  "type": "integer"
                },
                {
                  "name": "Data de Registro",
                  "rawType": "object",
                  "type": "string"
                },
                {
                  "name": "Ativo",
                  "rawType": "bool",
                  "type": "boolean"
                },
                {
                  "name": "ID Departamento",
                  "rawType": "int64",
                  "type": "integer"
                },
                {
                  "name": "Salário Anual",
                  "rawType": "float64",
                  "type": "float"
                },
                {
                  "name": "Nome Departamento",
                  "rawType": "object",
                  "type": "string"
                }
              ],
              "ref": "e8876569-0134-4662-88a2-8574f197df77",
              "rows": [
                [
                  "0",
                  "19",
                  "Dr. Mathias Montenegro",
                  "20",
                  "2023-08-17",
                  "False",
                  "4",
                  "114801.95999999999",
                  "Financeiro"
                ],
                [
                  "1",
                  "15",
                  "Levi Silveira",
                  "42",
                  "2024-02-10",
                  "True",
                  "5",
                  "111143.76",
                  "Marketing"
                ],
                [
                  "2",
                  "8",
                  "Isis Marques",
                  "24",
                  "2023-02-05",
                  "True",
                  "1",
                  "101263.92",
                  "Vendas"
                ],
                [
                  "3",
                  "17",
                  "Thomas Casa Grande",
                  "33",
                  "2024-03-29",
                  "False",
                  "2",
                  "98470.79999999999",
                  "TI"
                ],
                [
                  "4",
                  "11",
                  "Marcelo Rodrigues",
                  "57",
                  "2024-02-06",
                  "True",
                  "1",
                  "97312.20000000001",
                  "Vendas"
                ],
                [
                  "5",
                  "10",
                  "Théo Cardoso",
                  "54",
                  "2022-09-05",
                  "True",
                  "2",
                  "96355.79999999999",
                  "TI"
                ],
                [
                  "6",
                  "2",
                  "Heitor Teixeira",
                  "40",
                  "2022-01-17",
                  "False",
                  "2",
                  "94019.64",
                  "TI"
                ],
                [
                  "7",
                  "16",
                  "Maria Fernanda Rezende",
                  "29",
                  "2023-11-18",
                  "False",
                  "3",
                  "89234.52",
                  "RH"
                ],
                [
                  "8",
                  "5",
                  "Antônio Fernandes",
                  "54",
                  "2023-08-09",
                  "True",
                  "4",
                  "85661.16",
                  "Financeiro"
                ],
                [
                  "9",
                  "7",
                  "Sra. Maria Luiza Oliveira",
                  "58",
                  "2024-08-24",
                  "True",
                  "5",
                  "85335.0",
                  "Marketing"
                ],
                [
                  "10",
                  "4",
                  "Alice Machado",
                  "40",
                  "2023-10-10",
                  "True",
                  "2",
                  "75446.4",
                  "TI"
                ],
                [
                  "11",
                  "13",
                  "Sofia Rios",
                  "45",
                  "2023-05-19",
                  "False",
                  "1",
                  "59880.12",
                  "Vendas"
                ],
                [
                  "12",
                  "6",
                  "Henry Gabriel da Mata",
                  "42",
                  "2024-01-26",
                  "False",
                  "4",
                  "59299.44",
                  "Financeiro"
                ],
                [
                  "13",
                  "1",
                  "Sra. Isabela Vasconcelos",
                  "44",
                  "2022-02-11",
                  "True",
                  "4",
                  "53221.56",
                  "Financeiro"
                ],
                [
                  "14",
                  "20",
                  "Samuel Gonçalves",
                  "21",
                  "2023-10-03",
                  "True",
                  "3",
                  "46619.88",
                  "RH"
                ],
                [
                  "15",
                  "3",
                  "Bianca Vasconcelos",
                  "44",
                  "2022-10-28",
                  "False",
                  "2",
                  "37134.600000000006",
                  "TI"
                ],
                [
                  "16",
                  "18",
                  "Davi Miguel Ribeiro",
                  "48",
                  "2022-07-10",
                  "False",
                  "5",
                  "31500.120000000003",
                  "Marketing"
                ],
                [
                  "17",
                  "12",
                  "Maria Clara Santos",
                  "39",
                  "2023-10-21",
                  "True",
                  "4",
                  "31220.159999999996",
                  "Financeiro"
                ],
                [
                  "18",
                  "14",
                  "Benicio das Neves",
                  "22",
                  "2022-04-15",
                  "True",
                  "5",
                  "30498.48",
                  "Marketing"
                ],
                [
                  "19",
                  "9",
                  "Sr. Vitor da Rosa",
                  "61",
                  "2024-03-25",
                  "False",
                  "1",
                  "28366.199999999997",
                  "Vendas"
                ]
              ],
              "shape": {
                "columns": 8,
                "rows": 20
              }
            },
            "text/html": [
              "<div>\n",
              "<style scoped>\n",
              "    .dataframe tbody tr th:only-of-type {\n",
              "        vertical-align: middle;\n",
              "    }\n",
              "\n",
              "    .dataframe tbody tr th {\n",
              "        vertical-align: top;\n",
              "    }\n",
              "\n",
              "    .dataframe thead th {\n",
              "        text-align: right;\n",
              "    }\n",
              "</style>\n",
              "<table border=\"1\" class=\"dataframe\">\n",
              "  <thead>\n",
              "    <tr style=\"text-align: right;\">\n",
              "      <th></th>\n",
              "      <th>ID</th>\n",
              "      <th>Nome</th>\n",
              "      <th>Idade</th>\n",
              "      <th>Data de Registro</th>\n",
              "      <th>Ativo</th>\n",
              "      <th>ID Departamento</th>\n",
              "      <th>Salário Anual</th>\n",
              "      <th>Nome Departamento</th>\n",
              "    </tr>\n",
              "  </thead>\n",
              "  <tbody>\n",
              "    <tr>\n",
              "      <th>0</th>\n",
              "      <td>19</td>\n",
              "      <td>Dr. Mathias Montenegro</td>\n",
              "      <td>20</td>\n",
              "      <td>2023-08-17</td>\n",
              "      <td>False</td>\n",
              "      <td>4</td>\n",
              "      <td>114801.96</td>\n",
              "      <td>Financeiro</td>\n",
              "    </tr>\n",
              "    <tr>\n",
              "      <th>1</th>\n",
              "      <td>15</td>\n",
              "      <td>Levi Silveira</td>\n",
              "      <td>42</td>\n",
              "      <td>2024-02-10</td>\n",
              "      <td>True</td>\n",
              "      <td>5</td>\n",
              "      <td>111143.76</td>\n",
              "      <td>Marketing</td>\n",
              "    </tr>\n",
              "    <tr>\n",
              "      <th>2</th>\n",
              "      <td>8</td>\n",
              "      <td>Isis Marques</td>\n",
              "      <td>24</td>\n",
              "      <td>2023-02-05</td>\n",
              "      <td>True</td>\n",
              "      <td>1</td>\n",
              "      <td>101263.92</td>\n",
              "      <td>Vendas</td>\n",
              "    </tr>\n",
              "    <tr>\n",
              "      <th>3</th>\n",
              "      <td>17</td>\n",
              "      <td>Thomas Casa Grande</td>\n",
              "      <td>33</td>\n",
              "      <td>2024-03-29</td>\n",
              "      <td>False</td>\n",
              "      <td>2</td>\n",
              "      <td>98470.80</td>\n",
              "      <td>TI</td>\n",
              "    </tr>\n",
              "    <tr>\n",
              "      <th>4</th>\n",
              "      <td>11</td>\n",
              "      <td>Marcelo Rodrigues</td>\n",
              "      <td>57</td>\n",
              "      <td>2024-02-06</td>\n",
              "      <td>True</td>\n",
              "      <td>1</td>\n",
              "      <td>97312.20</td>\n",
              "      <td>Vendas</td>\n",
              "    </tr>\n",
              "    <tr>\n",
              "      <th>5</th>\n",
              "      <td>10</td>\n",
              "      <td>Théo Cardoso</td>\n",
              "      <td>54</td>\n",
              "      <td>2022-09-05</td>\n",
              "      <td>True</td>\n",
              "      <td>2</td>\n",
              "      <td>96355.80</td>\n",
              "      <td>TI</td>\n",
              "    </tr>\n",
              "    <tr>\n",
              "      <th>6</th>\n",
              "      <td>2</td>\n",
              "      <td>Heitor Teixeira</td>\n",
              "      <td>40</td>\n",
              "      <td>2022-01-17</td>\n",
              "      <td>False</td>\n",
              "      <td>2</td>\n",
              "      <td>94019.64</td>\n",
              "      <td>TI</td>\n",
              "    </tr>\n",
              "    <tr>\n",
              "      <th>7</th>\n",
              "      <td>16</td>\n",
              "      <td>Maria Fernanda Rezende</td>\n",
              "      <td>29</td>\n",
              "      <td>2023-11-18</td>\n",
              "      <td>False</td>\n",
              "      <td>3</td>\n",
              "      <td>89234.52</td>\n",
              "      <td>RH</td>\n",
              "    </tr>\n",
              "    <tr>\n",
              "      <th>8</th>\n",
              "      <td>5</td>\n",
              "      <td>Antônio Fernandes</td>\n",
              "      <td>54</td>\n",
              "      <td>2023-08-09</td>\n",
              "      <td>True</td>\n",
              "      <td>4</td>\n",
              "      <td>85661.16</td>\n",
              "      <td>Financeiro</td>\n",
              "    </tr>\n",
              "    <tr>\n",
              "      <th>9</th>\n",
              "      <td>7</td>\n",
              "      <td>Sra. Maria Luiza Oliveira</td>\n",
              "      <td>58</td>\n",
              "      <td>2024-08-24</td>\n",
              "      <td>True</td>\n",
              "      <td>5</td>\n",
              "      <td>85335.00</td>\n",
              "      <td>Marketing</td>\n",
              "    </tr>\n",
              "    <tr>\n",
              "      <th>10</th>\n",
              "      <td>4</td>\n",
              "      <td>Alice Machado</td>\n",
              "      <td>40</td>\n",
              "      <td>2023-10-10</td>\n",
              "      <td>True</td>\n",
              "      <td>2</td>\n",
              "      <td>75446.40</td>\n",
              "      <td>TI</td>\n",
              "    </tr>\n",
              "    <tr>\n",
              "      <th>11</th>\n",
              "      <td>13</td>\n",
              "      <td>Sofia Rios</td>\n",
              "      <td>45</td>\n",
              "      <td>2023-05-19</td>\n",
              "      <td>False</td>\n",
              "      <td>1</td>\n",
              "      <td>59880.12</td>\n",
              "      <td>Vendas</td>\n",
              "    </tr>\n",
              "    <tr>\n",
              "      <th>12</th>\n",
              "      <td>6</td>\n",
              "      <td>Henry Gabriel da Mata</td>\n",
              "      <td>42</td>\n",
              "      <td>2024-01-26</td>\n",
              "      <td>False</td>\n",
              "      <td>4</td>\n",
              "      <td>59299.44</td>\n",
              "      <td>Financeiro</td>\n",
              "    </tr>\n",
              "    <tr>\n",
              "      <th>13</th>\n",
              "      <td>1</td>\n",
              "      <td>Sra. Isabela Vasconcelos</td>\n",
              "      <td>44</td>\n",
              "      <td>2022-02-11</td>\n",
              "      <td>True</td>\n",
              "      <td>4</td>\n",
              "      <td>53221.56</td>\n",
              "      <td>Financeiro</td>\n",
              "    </tr>\n",
              "    <tr>\n",
              "      <th>14</th>\n",
              "      <td>20</td>\n",
              "      <td>Samuel Gonçalves</td>\n",
              "      <td>21</td>\n",
              "      <td>2023-10-03</td>\n",
              "      <td>True</td>\n",
              "      <td>3</td>\n",
              "      <td>46619.88</td>\n",
              "      <td>RH</td>\n",
              "    </tr>\n",
              "    <tr>\n",
              "      <th>15</th>\n",
              "      <td>3</td>\n",
              "      <td>Bianca Vasconcelos</td>\n",
              "      <td>44</td>\n",
              "      <td>2022-10-28</td>\n",
              "      <td>False</td>\n",
              "      <td>2</td>\n",
              "      <td>37134.60</td>\n",
              "      <td>TI</td>\n",
              "    </tr>\n",
              "    <tr>\n",
              "      <th>16</th>\n",
              "      <td>18</td>\n",
              "      <td>Davi Miguel Ribeiro</td>\n",
              "      <td>48</td>\n",
              "      <td>2022-07-10</td>\n",
              "      <td>False</td>\n",
              "      <td>5</td>\n",
              "      <td>31500.12</td>\n",
              "      <td>Marketing</td>\n",
              "    </tr>\n",
              "    <tr>\n",
              "      <th>17</th>\n",
              "      <td>12</td>\n",
              "      <td>Maria Clara Santos</td>\n",
              "      <td>39</td>\n",
              "      <td>2023-10-21</td>\n",
              "      <td>True</td>\n",
              "      <td>4</td>\n",
              "      <td>31220.16</td>\n",
              "      <td>Financeiro</td>\n",
              "    </tr>\n",
              "    <tr>\n",
              "      <th>18</th>\n",
              "      <td>14</td>\n",
              "      <td>Benicio das Neves</td>\n",
              "      <td>22</td>\n",
              "      <td>2022-04-15</td>\n",
              "      <td>True</td>\n",
              "      <td>5</td>\n",
              "      <td>30498.48</td>\n",
              "      <td>Marketing</td>\n",
              "    </tr>\n",
              "    <tr>\n",
              "      <th>19</th>\n",
              "      <td>9</td>\n",
              "      <td>Sr. Vitor da Rosa</td>\n",
              "      <td>61</td>\n",
              "      <td>2024-03-25</td>\n",
              "      <td>False</td>\n",
              "      <td>1</td>\n",
              "      <td>28366.20</td>\n",
              "      <td>Vendas</td>\n",
              "    </tr>\n",
              "  </tbody>\n",
              "</table>\n",
              "</div>"
            ],
            "text/plain": [
              "    ID                       Nome  Idade Data de Registro  Ativo  \\\n",
              "0   19     Dr. Mathias Montenegro     20       2023-08-17  False   \n",
              "1   15              Levi Silveira     42       2024-02-10   True   \n",
              "2    8               Isis Marques     24       2023-02-05   True   \n",
              "3   17         Thomas Casa Grande     33       2024-03-29  False   \n",
              "4   11          Marcelo Rodrigues     57       2024-02-06   True   \n",
              "5   10               Théo Cardoso     54       2022-09-05   True   \n",
              "6    2            Heitor Teixeira     40       2022-01-17  False   \n",
              "7   16     Maria Fernanda Rezende     29       2023-11-18  False   \n",
              "8    5          Antônio Fernandes     54       2023-08-09   True   \n",
              "9    7  Sra. Maria Luiza Oliveira     58       2024-08-24   True   \n",
              "10   4              Alice Machado     40       2023-10-10   True   \n",
              "11  13                 Sofia Rios     45       2023-05-19  False   \n",
              "12   6      Henry Gabriel da Mata     42       2024-01-26  False   \n",
              "13   1   Sra. Isabela Vasconcelos     44       2022-02-11   True   \n",
              "14  20           Samuel Gonçalves     21       2023-10-03   True   \n",
              "15   3         Bianca Vasconcelos     44       2022-10-28  False   \n",
              "16  18        Davi Miguel Ribeiro     48       2022-07-10  False   \n",
              "17  12         Maria Clara Santos     39       2023-10-21   True   \n",
              "18  14          Benicio das Neves     22       2022-04-15   True   \n",
              "19   9          Sr. Vitor da Rosa     61       2024-03-25  False   \n",
              "\n",
              "    ID Departamento  Salário Anual Nome Departamento  \n",
              "0                 4      114801.96        Financeiro  \n",
              "1                 5      111143.76         Marketing  \n",
              "2                 1      101263.92            Vendas  \n",
              "3                 2       98470.80                TI  \n",
              "4                 1       97312.20            Vendas  \n",
              "5                 2       96355.80                TI  \n",
              "6                 2       94019.64                TI  \n",
              "7                 3       89234.52                RH  \n",
              "8                 4       85661.16        Financeiro  \n",
              "9                 5       85335.00         Marketing  \n",
              "10                2       75446.40                TI  \n",
              "11                1       59880.12            Vendas  \n",
              "12                4       59299.44        Financeiro  \n",
              "13                4       53221.56        Financeiro  \n",
              "14                3       46619.88                RH  \n",
              "15                2       37134.60                TI  \n",
              "16                5       31500.12         Marketing  \n",
              "17                4       31220.16        Financeiro  \n",
              "18                5       30498.48         Marketing  \n",
              "19                1       28366.20            Vendas  "
            ]
          },
          "execution_count": 39,
          "metadata": {},
          "output_type": "execute_result"
        }
      ],
      "source": [
        "#Vamos juntar os dois\n",
        "df_final = pd.merge(df, df_dept, on=\"ID Departamento\")\n",
        "df_final"
      ]
    },
    {
      "cell_type": "code",
      "execution_count": 40,
      "id": "mTXB4L3hGJDf",
      "metadata": {
        "colab": {
          "base_uri": "https://localhost:8080/",
          "height": 676
        },
        "id": "mTXB4L3hGJDf",
        "outputId": "c3041ffa-62ee-4916-a602-e68c5c31d88c"
      },
      "outputs": [
        {
          "data": {
            "application/vnd.microsoft.datawrangler.viewer.v0+json": {
              "columns": [
                {
                  "name": "index",
                  "rawType": "int64",
                  "type": "integer"
                },
                {
                  "name": "ID",
                  "rawType": "int64",
                  "type": "integer"
                },
                {
                  "name": "Nome",
                  "rawType": "object",
                  "type": "string"
                },
                {
                  "name": "Idade",
                  "rawType": "int64",
                  "type": "integer"
                },
                {
                  "name": "Data de Registro",
                  "rawType": "object",
                  "type": "string"
                },
                {
                  "name": "Ativo",
                  "rawType": "bool",
                  "type": "boolean"
                },
                {
                  "name": "Salário Anual",
                  "rawType": "float64",
                  "type": "float"
                },
                {
                  "name": "Nome Departamento",
                  "rawType": "object",
                  "type": "string"
                }
              ],
              "ref": "6d6a06f7-a718-42da-8312-37c745328e59",
              "rows": [
                [
                  "0",
                  "19",
                  "Dr. Mathias Montenegro",
                  "20",
                  "2023-08-17",
                  "False",
                  "114801.96",
                  "Financeiro"
                ],
                [
                  "1",
                  "15",
                  "Levi Silveira",
                  "42",
                  "2024-02-10",
                  "True",
                  "111143.76",
                  "Marketing"
                ],
                [
                  "2",
                  "8",
                  "Isis Marques",
                  "24",
                  "2023-02-05",
                  "True",
                  "101263.92",
                  "Vendas"
                ],
                [
                  "3",
                  "17",
                  "Thomas Casa Grande",
                  "33",
                  "2024-03-29",
                  "False",
                  "98470.8",
                  "TI"
                ],
                [
                  "4",
                  "11",
                  "Marcelo Rodrigues",
                  "57",
                  "2024-02-06",
                  "True",
                  "97312.2",
                  "Vendas"
                ],
                [
                  "5",
                  "10",
                  "Théo Cardoso",
                  "54",
                  "2022-09-05",
                  "True",
                  "96355.8",
                  "TI"
                ],
                [
                  "6",
                  "2",
                  "Heitor Teixeira",
                  "40",
                  "2022-01-17",
                  "False",
                  "94019.64",
                  "TI"
                ],
                [
                  "7",
                  "16",
                  "Maria Fernanda Rezende",
                  "29",
                  "2023-11-18",
                  "False",
                  "89234.52",
                  "RH"
                ],
                [
                  "8",
                  "5",
                  "Antônio Fernandes",
                  "54",
                  "2023-08-09",
                  "True",
                  "85661.16",
                  "Financeiro"
                ],
                [
                  "9",
                  "7",
                  "Sra. Maria Luiza Oliveira",
                  "58",
                  "2024-08-24",
                  "True",
                  "85335.0",
                  "Marketing"
                ],
                [
                  "10",
                  "4",
                  "Alice Machado",
                  "40",
                  "2023-10-10",
                  "True",
                  "75446.4",
                  "TI"
                ],
                [
                  "11",
                  "13",
                  "Sofia Rios",
                  "45",
                  "2023-05-19",
                  "False",
                  "59880.12",
                  "Vendas"
                ],
                [
                  "12",
                  "6",
                  "Henry Gabriel da Mata",
                  "42",
                  "2024-01-26",
                  "False",
                  "59299.44",
                  "Financeiro"
                ],
                [
                  "13",
                  "1",
                  "Sra. Isabela Vasconcelos",
                  "44",
                  "2022-02-11",
                  "True",
                  "53221.56",
                  "Financeiro"
                ],
                [
                  "14",
                  "20",
                  "Samuel Gonçalves",
                  "21",
                  "2023-10-03",
                  "True",
                  "46619.88",
                  "RH"
                ],
                [
                  "15",
                  "3",
                  "Bianca Vasconcelos",
                  "44",
                  "2022-10-28",
                  "False",
                  "37134.6",
                  "TI"
                ],
                [
                  "16",
                  "18",
                  "Davi Miguel Ribeiro",
                  "48",
                  "2022-07-10",
                  "False",
                  "31500.12",
                  "Marketing"
                ],
                [
                  "17",
                  "12",
                  "Maria Clara Santos",
                  "39",
                  "2023-10-21",
                  "True",
                  "31220.16",
                  "Financeiro"
                ],
                [
                  "18",
                  "14",
                  "Benicio das Neves",
                  "22",
                  "2022-04-15",
                  "True",
                  "30498.48",
                  "Marketing"
                ],
                [
                  "19",
                  "9",
                  "Sr. Vitor da Rosa",
                  "61",
                  "2024-03-25",
                  "False",
                  "28366.2",
                  "Vendas"
                ]
              ],
              "shape": {
                "columns": 7,
                "rows": 20
              }
            },
            "text/html": [
              "<div>\n",
              "<style scoped>\n",
              "    .dataframe tbody tr th:only-of-type {\n",
              "        vertical-align: middle;\n",
              "    }\n",
              "\n",
              "    .dataframe tbody tr th {\n",
              "        vertical-align: top;\n",
              "    }\n",
              "\n",
              "    .dataframe thead th {\n",
              "        text-align: right;\n",
              "    }\n",
              "</style>\n",
              "<table border=\"1\" class=\"dataframe\">\n",
              "  <thead>\n",
              "    <tr style=\"text-align: right;\">\n",
              "      <th></th>\n",
              "      <th>ID</th>\n",
              "      <th>Nome</th>\n",
              "      <th>Idade</th>\n",
              "      <th>Data de Registro</th>\n",
              "      <th>Ativo</th>\n",
              "      <th>Salário Anual</th>\n",
              "      <th>Nome Departamento</th>\n",
              "    </tr>\n",
              "  </thead>\n",
              "  <tbody>\n",
              "    <tr>\n",
              "      <th>0</th>\n",
              "      <td>19</td>\n",
              "      <td>Dr. Mathias Montenegro</td>\n",
              "      <td>20</td>\n",
              "      <td>2023-08-17</td>\n",
              "      <td>False</td>\n",
              "      <td>114801.96</td>\n",
              "      <td>Financeiro</td>\n",
              "    </tr>\n",
              "    <tr>\n",
              "      <th>1</th>\n",
              "      <td>15</td>\n",
              "      <td>Levi Silveira</td>\n",
              "      <td>42</td>\n",
              "      <td>2024-02-10</td>\n",
              "      <td>True</td>\n",
              "      <td>111143.76</td>\n",
              "      <td>Marketing</td>\n",
              "    </tr>\n",
              "    <tr>\n",
              "      <th>2</th>\n",
              "      <td>8</td>\n",
              "      <td>Isis Marques</td>\n",
              "      <td>24</td>\n",
              "      <td>2023-02-05</td>\n",
              "      <td>True</td>\n",
              "      <td>101263.92</td>\n",
              "      <td>Vendas</td>\n",
              "    </tr>\n",
              "    <tr>\n",
              "      <th>3</th>\n",
              "      <td>17</td>\n",
              "      <td>Thomas Casa Grande</td>\n",
              "      <td>33</td>\n",
              "      <td>2024-03-29</td>\n",
              "      <td>False</td>\n",
              "      <td>98470.80</td>\n",
              "      <td>TI</td>\n",
              "    </tr>\n",
              "    <tr>\n",
              "      <th>4</th>\n",
              "      <td>11</td>\n",
              "      <td>Marcelo Rodrigues</td>\n",
              "      <td>57</td>\n",
              "      <td>2024-02-06</td>\n",
              "      <td>True</td>\n",
              "      <td>97312.20</td>\n",
              "      <td>Vendas</td>\n",
              "    </tr>\n",
              "    <tr>\n",
              "      <th>5</th>\n",
              "      <td>10</td>\n",
              "      <td>Théo Cardoso</td>\n",
              "      <td>54</td>\n",
              "      <td>2022-09-05</td>\n",
              "      <td>True</td>\n",
              "      <td>96355.80</td>\n",
              "      <td>TI</td>\n",
              "    </tr>\n",
              "    <tr>\n",
              "      <th>6</th>\n",
              "      <td>2</td>\n",
              "      <td>Heitor Teixeira</td>\n",
              "      <td>40</td>\n",
              "      <td>2022-01-17</td>\n",
              "      <td>False</td>\n",
              "      <td>94019.64</td>\n",
              "      <td>TI</td>\n",
              "    </tr>\n",
              "    <tr>\n",
              "      <th>7</th>\n",
              "      <td>16</td>\n",
              "      <td>Maria Fernanda Rezende</td>\n",
              "      <td>29</td>\n",
              "      <td>2023-11-18</td>\n",
              "      <td>False</td>\n",
              "      <td>89234.52</td>\n",
              "      <td>RH</td>\n",
              "    </tr>\n",
              "    <tr>\n",
              "      <th>8</th>\n",
              "      <td>5</td>\n",
              "      <td>Antônio Fernandes</td>\n",
              "      <td>54</td>\n",
              "      <td>2023-08-09</td>\n",
              "      <td>True</td>\n",
              "      <td>85661.16</td>\n",
              "      <td>Financeiro</td>\n",
              "    </tr>\n",
              "    <tr>\n",
              "      <th>9</th>\n",
              "      <td>7</td>\n",
              "      <td>Sra. Maria Luiza Oliveira</td>\n",
              "      <td>58</td>\n",
              "      <td>2024-08-24</td>\n",
              "      <td>True</td>\n",
              "      <td>85335.00</td>\n",
              "      <td>Marketing</td>\n",
              "    </tr>\n",
              "    <tr>\n",
              "      <th>10</th>\n",
              "      <td>4</td>\n",
              "      <td>Alice Machado</td>\n",
              "      <td>40</td>\n",
              "      <td>2023-10-10</td>\n",
              "      <td>True</td>\n",
              "      <td>75446.40</td>\n",
              "      <td>TI</td>\n",
              "    </tr>\n",
              "    <tr>\n",
              "      <th>11</th>\n",
              "      <td>13</td>\n",
              "      <td>Sofia Rios</td>\n",
              "      <td>45</td>\n",
              "      <td>2023-05-19</td>\n",
              "      <td>False</td>\n",
              "      <td>59880.12</td>\n",
              "      <td>Vendas</td>\n",
              "    </tr>\n",
              "    <tr>\n",
              "      <th>12</th>\n",
              "      <td>6</td>\n",
              "      <td>Henry Gabriel da Mata</td>\n",
              "      <td>42</td>\n",
              "      <td>2024-01-26</td>\n",
              "      <td>False</td>\n",
              "      <td>59299.44</td>\n",
              "      <td>Financeiro</td>\n",
              "    </tr>\n",
              "    <tr>\n",
              "      <th>13</th>\n",
              "      <td>1</td>\n",
              "      <td>Sra. Isabela Vasconcelos</td>\n",
              "      <td>44</td>\n",
              "      <td>2022-02-11</td>\n",
              "      <td>True</td>\n",
              "      <td>53221.56</td>\n",
              "      <td>Financeiro</td>\n",
              "    </tr>\n",
              "    <tr>\n",
              "      <th>14</th>\n",
              "      <td>20</td>\n",
              "      <td>Samuel Gonçalves</td>\n",
              "      <td>21</td>\n",
              "      <td>2023-10-03</td>\n",
              "      <td>True</td>\n",
              "      <td>46619.88</td>\n",
              "      <td>RH</td>\n",
              "    </tr>\n",
              "    <tr>\n",
              "      <th>15</th>\n",
              "      <td>3</td>\n",
              "      <td>Bianca Vasconcelos</td>\n",
              "      <td>44</td>\n",
              "      <td>2022-10-28</td>\n",
              "      <td>False</td>\n",
              "      <td>37134.60</td>\n",
              "      <td>TI</td>\n",
              "    </tr>\n",
              "    <tr>\n",
              "      <th>16</th>\n",
              "      <td>18</td>\n",
              "      <td>Davi Miguel Ribeiro</td>\n",
              "      <td>48</td>\n",
              "      <td>2022-07-10</td>\n",
              "      <td>False</td>\n",
              "      <td>31500.12</td>\n",
              "      <td>Marketing</td>\n",
              "    </tr>\n",
              "    <tr>\n",
              "      <th>17</th>\n",
              "      <td>12</td>\n",
              "      <td>Maria Clara Santos</td>\n",
              "      <td>39</td>\n",
              "      <td>2023-10-21</td>\n",
              "      <td>True</td>\n",
              "      <td>31220.16</td>\n",
              "      <td>Financeiro</td>\n",
              "    </tr>\n",
              "    <tr>\n",
              "      <th>18</th>\n",
              "      <td>14</td>\n",
              "      <td>Benicio das Neves</td>\n",
              "      <td>22</td>\n",
              "      <td>2022-04-15</td>\n",
              "      <td>True</td>\n",
              "      <td>30498.48</td>\n",
              "      <td>Marketing</td>\n",
              "    </tr>\n",
              "    <tr>\n",
              "      <th>19</th>\n",
              "      <td>9</td>\n",
              "      <td>Sr. Vitor da Rosa</td>\n",
              "      <td>61</td>\n",
              "      <td>2024-03-25</td>\n",
              "      <td>False</td>\n",
              "      <td>28366.20</td>\n",
              "      <td>Vendas</td>\n",
              "    </tr>\n",
              "  </tbody>\n",
              "</table>\n",
              "</div>"
            ],
            "text/plain": [
              "    ID                       Nome  Idade Data de Registro  Ativo  \\\n",
              "0   19     Dr. Mathias Montenegro     20       2023-08-17  False   \n",
              "1   15              Levi Silveira     42       2024-02-10   True   \n",
              "2    8               Isis Marques     24       2023-02-05   True   \n",
              "3   17         Thomas Casa Grande     33       2024-03-29  False   \n",
              "4   11          Marcelo Rodrigues     57       2024-02-06   True   \n",
              "5   10               Théo Cardoso     54       2022-09-05   True   \n",
              "6    2            Heitor Teixeira     40       2022-01-17  False   \n",
              "7   16     Maria Fernanda Rezende     29       2023-11-18  False   \n",
              "8    5          Antônio Fernandes     54       2023-08-09   True   \n",
              "9    7  Sra. Maria Luiza Oliveira     58       2024-08-24   True   \n",
              "10   4              Alice Machado     40       2023-10-10   True   \n",
              "11  13                 Sofia Rios     45       2023-05-19  False   \n",
              "12   6      Henry Gabriel da Mata     42       2024-01-26  False   \n",
              "13   1   Sra. Isabela Vasconcelos     44       2022-02-11   True   \n",
              "14  20           Samuel Gonçalves     21       2023-10-03   True   \n",
              "15   3         Bianca Vasconcelos     44       2022-10-28  False   \n",
              "16  18        Davi Miguel Ribeiro     48       2022-07-10  False   \n",
              "17  12         Maria Clara Santos     39       2023-10-21   True   \n",
              "18  14          Benicio das Neves     22       2022-04-15   True   \n",
              "19   9          Sr. Vitor da Rosa     61       2024-03-25  False   \n",
              "\n",
              "    Salário Anual Nome Departamento  \n",
              "0       114801.96        Financeiro  \n",
              "1       111143.76         Marketing  \n",
              "2       101263.92            Vendas  \n",
              "3        98470.80                TI  \n",
              "4        97312.20            Vendas  \n",
              "5        96355.80                TI  \n",
              "6        94019.64                TI  \n",
              "7        89234.52                RH  \n",
              "8        85661.16        Financeiro  \n",
              "9        85335.00         Marketing  \n",
              "10       75446.40                TI  \n",
              "11       59880.12            Vendas  \n",
              "12       59299.44        Financeiro  \n",
              "13       53221.56        Financeiro  \n",
              "14       46619.88                RH  \n",
              "15       37134.60                TI  \n",
              "16       31500.12         Marketing  \n",
              "17       31220.16        Financeiro  \n",
              "18       30498.48         Marketing  \n",
              "19       28366.20            Vendas  "
            ]
          },
          "execution_count": 40,
          "metadata": {},
          "output_type": "execute_result"
        }
      ],
      "source": [
        "# Arredondar os salários anuais para 2 casas decimais\n",
        "df_final[\"Salário Anual\"] = df_final[\"Salário Anual\"].round(2)\n",
        "\n",
        "# Remover a coluna ID Departamento\n",
        "df_final.drop(\"ID Departamento\", axis=1, inplace=True)\n",
        "\n",
        "# Ordenar do maior para o menor salário anual\n",
        "df_final.sort_values(by=\"Salário Anual\", ascending=False, inplace=True)\n",
        "\n",
        "# Mostrar o resultado final\n",
        "df_final\n"
      ]
    },
    {
      "cell_type": "markdown",
      "id": "bfeab667-6480-4c53-a40a-f0c7e5ebf177",
      "metadata": {
        "id": "bfeab667-6480-4c53-a40a-f0c7e5ebf177"
      },
      "source": [
        "### Escrevendo dados em arquivos"
      ]
    },
    {
      "cell_type": "code",
      "execution_count": null,
      "id": "b5bb5b4c-56d9-4f6d-b43f-fdd5c10572be",
      "metadata": {
        "id": "b5bb5b4c-56d9-4f6d-b43f-fdd5c10572be"
      },
      "outputs": [],
      "source": [
        "df_final.to_csv(\"df_final.csv\", sep=\";\", decimal=\",\", index=False, encoding=\"utf-8-sig\")\n",
        "\n",
        "\n",
        "# Faz o download para o seu computador\n",
        "#files.download(\"df_final.csv\")"
      ]
    },
    {
      "cell_type": "code",
      "execution_count": null,
      "id": "VV8y9x-IFnIU",
      "metadata": {
        "id": "VV8y9x-IFnIU"
      },
      "outputs": [],
      "source": []
    }
  ],
  "metadata": {
    "colab": {
      "include_colab_link": true,
      "provenance": []
    },
    "kernelspec": {
      "display_name": "Python 3",
      "language": "python",
      "name": "python3"
    },
    "language_info": {
      "codemirror_mode": {
        "name": "ipython",
        "version": 3
      },
      "file_extension": ".py",
      "mimetype": "text/x-python",
      "name": "python",
      "nbconvert_exporter": "python",
      "pygments_lexer": "ipython3",
      "version": "3.12.1"
    }
  },
  "nbformat": 4,
  "nbformat_minor": 5
}
