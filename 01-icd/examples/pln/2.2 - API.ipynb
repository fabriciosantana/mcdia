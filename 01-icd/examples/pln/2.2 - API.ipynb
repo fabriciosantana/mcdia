{
  "cells": [
    {
      "cell_type": "markdown",
      "metadata": {
        "id": "view-in-github",
        "colab_type": "text"
      },
      "source": [
        "<a href=\"https://colab.research.google.com/github/fabriciosantana/mcdia/blob/main/01-icd/examples/pln/2.2%20-%20API.ipynb\" target=\"_parent\"><img src=\"https://colab.research.google.com/assets/colab-badge.svg\" alt=\"Open In Colab\"/></a>"
      ]
    },
    {
      "cell_type": "markdown",
      "metadata": {
        "id": "NrhVydDDG9mY"
      },
      "source": [
        "# 📌 Consulta de Previsão do Tempo usando a API OpenWeather\n",
        "\n",
        "📍 Objetivo\n",
        "\n",
        "Este código faz uma consulta à API OpenWeather para obter informações meteorológicas de uma cidade específica. Ele retorna:\n",
        "\n",
        "🌡️ Temperatura\n",
        "\n",
        "🌥️ Condição climática\n",
        "\n",
        "💧 Umidade do ar\n",
        "\n",
        "💨 Velocidade do vento\n",
        "\n",
        "Vamos entender cada parte do código!"
      ]
    },
    {
      "cell_type": "markdown",
      "metadata": {
        "id": "kG6Q7MxSHJMj"
      },
      "source": [
        "#📥 1. Importando a Biblioteca Necessária\n",
        "\n",
        "A biblioteca requests é usada para fazer requisições HTTP e obter os dados da API."
      ]
    },
    {
      "cell_type": "code",
      "execution_count": 1,
      "metadata": {
        "id": "FGhkmdObHO7N"
      },
      "outputs": [],
      "source": [
        "import requests  # Biblioteca para fazer requisições HTTP"
      ]
    },
    {
      "cell_type": "markdown",
      "metadata": {
        "id": "w3fzl-hGHXlN"
      },
      "source": [
        "# 🌎 2. Definição da Cidade e Chave da API\n",
        "\n",
        "Para acessar os dados da API, precisamos definir a cidade e a chave da API.\n"
      ]
    },
    {
      "cell_type": "code",
      "execution_count": 2,
      "metadata": {
        "id": "ocHWGAa4HVzN"
      },
      "outputs": [],
      "source": [
        "# Definição da cidade para busca\n",
        "cidade = \"Brasília\"  # Nome da cidade desejada\n",
        "\n",
        "# Chave de autenticação da API (conseguida por meio de um cadastro no site https://openweathermap.org/)\n",
        "api_key = \"a89bcde3d694995d52ff68333d85a3f3\"\n"
      ]
    },
    {
      "cell_type": "markdown",
      "metadata": {
        "id": "6tXIhVU5HroG"
      },
      "source": [
        "🔹 Observação: A API exige uma chave de acesso válida. Se a chave expirar ou estiver errada, a requisição não funcionará."
      ]
    },
    {
      "cell_type": "markdown",
      "metadata": {
        "id": "EtLsO7pMHt9U"
      },
      "source": [
        "# 🔗 3. Construção da URL da API\n",
        "\n",
        "A URL contém os parâmetros necessários para obter a previsão do tempo."
      ]
    },
    {
      "cell_type": "code",
      "execution_count": 3,
      "metadata": {
        "id": "ZFkQKFKEHV3O"
      },
      "outputs": [],
      "source": [
        "# Criamos a URL para consultar os dados climáticos\n",
        "url = f\"http://api.openweathermap.org/data/2.5/weather?q={cidade}&appid={api_key}&units=metric&lang=pt_br\"\n"
      ]
    },
    {
      "cell_type": "markdown",
      "metadata": {
        "id": "e0Y2ZbDUH6uo"
      },
      "source": [
        "# 📌 Explicação da URL:\n",
        "\n",
        "Parâmetro\n",
        "\n",
        "- q={cidade}\tDefine a cidade que será pesquisada\n",
        "\n",
        "- appid={api_key}\tInsere a chave da API para autenticação\n",
        "\n",
        "- units=metric\tDefine a temperatura em graus Celsius\n",
        "\n",
        "- lang=pt_br\tRetorna as descrições do tempo em português do Brasil\n"
      ]
    },
    {
      "cell_type": "markdown",
      "metadata": {
        "id": "OVsyDtiXIr95"
      },
      "source": [
        "# 🔄 4. Fazendo a Requisição à API\n",
        "\n",
        "Agora, enviamos a requisição para a API e obtemos os dados no formato JSON."
      ]
    },
    {
      "cell_type": "code",
      "execution_count": 4,
      "metadata": {
        "id": "eP5D1NphHV8l"
      },
      "outputs": [],
      "source": [
        "# Fazendo a requisição HTTP para a API\n",
        "resposta = requests.get(url)  # Envia uma requisição GET para obter os dados\n",
        "\n",
        "# Convertendo a resposta para um dicionário JSON\n",
        "dados = resposta.json()\n"
      ]
    },
    {
      "cell_type": "markdown",
      "metadata": {
        "id": "6i1NC8e2I6pF"
      },
      "source": [
        "🔹 Se a requisição for bem-sucedida, os dados meteorológicos serão armazenados na variável dados.\n",
        "\n"
      ]
    },
    {
      "cell_type": "code",
      "source": [
        "resposta"
      ],
      "metadata": {
        "colab": {
          "base_uri": "https://localhost:8080/"
        },
        "id": "Uz-boZC-Kh15",
        "outputId": "0e62a770-a45e-4b3e-eea0-8ab2078f7c95"
      },
      "execution_count": 5,
      "outputs": [
        {
          "output_type": "execute_result",
          "data": {
            "text/plain": [
              "<Response [200]>"
            ]
          },
          "metadata": {},
          "execution_count": 5
        }
      ]
    },
    {
      "cell_type": "code",
      "source": [
        "dados"
      ],
      "metadata": {
        "colab": {
          "base_uri": "https://localhost:8080/"
        },
        "id": "lriEfB_LKnuU",
        "outputId": "cb0e5d42-70ad-4f7b-d563-71b68712b060"
      },
      "execution_count": 6,
      "outputs": [
        {
          "output_type": "execute_result",
          "data": {
            "text/plain": [
              "{'coord': {'lon': -47.9297, 'lat': -15.7797},\n",
              " 'weather': [{'id': 801,\n",
              "   'main': 'Clouds',\n",
              "   'description': 'algumas nuvens',\n",
              "   'icon': '02d'}],\n",
              " 'base': 'stations',\n",
              " 'main': {'temp': 25.01,\n",
              "  'feels_like': 24.69,\n",
              "  'temp_min': 25.01,\n",
              "  'temp_max': 25.01,\n",
              "  'pressure': 1017,\n",
              "  'humidity': 43,\n",
              "  'sea_level': 1017,\n",
              "  'grnd_level': 890},\n",
              " 'visibility': 10000,\n",
              " 'wind': {'speed': 2.99, 'deg': 88, 'gust': 2.8},\n",
              " 'clouds': {'all': 24},\n",
              " 'dt': 1758911258,\n",
              " 'sys': {'country': 'BR', 'sunrise': 1758877078, 'sunset': 1758920877},\n",
              " 'timezone': -10800,\n",
              " 'id': 3469058,\n",
              " 'name': 'Brasília',\n",
              " 'cod': 200}"
            ]
          },
          "metadata": {},
          "execution_count": 6
        }
      ]
    },
    {
      "cell_type": "markdown",
      "metadata": {
        "id": "rM4ulPNUI74-"
      },
      "source": [
        "# ✅ 5. Verificando se a Requisição foi Bem-Sucedida\n",
        "\n",
        "Antes de extrair os dados, verificamos se a requisição funcionou corretamente."
      ]
    },
    {
      "cell_type": "code",
      "execution_count": 7,
      "metadata": {
        "colab": {
          "base_uri": "https://localhost:8080/"
        },
        "id": "0QuqKKlgI6Dd",
        "outputId": "54f0ea23-71b4-4225-899d-5428280699f4"
      },
      "outputs": [
        {
          "output_type": "stream",
          "name": "stdout",
          "text": [
            "✅ Conexão bem-sucedida! Dados recebidos da API.\n"
          ]
        }
      ],
      "source": [
        "# Verificamos se a resposta foi bem-sucedida (código 200)\n",
        "if resposta.status_code == 200:\n",
        "    print(\"✅ Conexão bem-sucedida! Dados recebidos da API.\")\n",
        "else:\n",
        "    print(f\"❌ Erro ao acessar a API! Código: {resposta.status_code}\")\n",
        "\n"
      ]
    },
    {
      "cell_type": "markdown",
      "metadata": {
        "id": "2RN8JP5CJIDM"
      },
      "source": [
        "# 📌 Código de Status HTTP\n",
        "Código\n",
        "\n",
        "200\t✅ Sucesso, a API retornou os dados corretamente\n",
        "\n",
        "401\t🔒 Erro de autenticação (chave da API inválida)\n",
        "\n",
        "404\t❌ Cidade não encontrada\n",
        "\n",
        "500\t⚠️ Erro interno da API"
      ]
    },
    {
      "cell_type": "markdown",
      "metadata": {
        "id": "NaMomwOsJRiM"
      },
      "source": [
        "# 🔍 6. Exibindo os Dados de Forma Organizada\n",
        "\n",
        "Por fim, formatamos os dados e exibimos uma previsão do tempo organizada."
      ]
    },
    {
      "cell_type": "code",
      "execution_count": 8,
      "metadata": {
        "colab": {
          "base_uri": "https://localhost:8080/"
        },
        "id": "c-CXSwtAHV_f",
        "outputId": "103fb285-35a0-4bed-a265-b4f238b1ebea"
      },
      "outputs": [
        {
          "output_type": "stream",
          "name": "stdout",
          "text": [
            "📍 Previsão do tempo em Brasília:\n",
            "🌡️ Temperatura: 25.01°C\n",
            "🌥️ Condição: Algumas nuvens\n",
            "💧 Umidade: 43%\n",
            "💨 Velocidade do vento: 2.99 m/s\n"
          ]
        }
      ],
      "source": [
        "if resposta.status_code == 200:\n",
        "    temperatura = dados[\"main\"][\"temp\"]  # 🌡️ Temperatura em graus Celsius\n",
        "    descricao = dados[\"weather\"][0][\"description\"]  # 🌥️ Descrição do clima (ex: céu limpo, chuva)\n",
        "    umidade = dados[\"main\"][\"humidity\"]  # 💧 Umidade relativa do ar (%)\n",
        "    vento = dados[\"wind\"][\"speed\"]  # 💨 Velocidade do vento em metros por segundo\n",
        "\n",
        "# Exibir os dados da previsão do tempo de forma formatada\n",
        "    print(f\"📍 Previsão do tempo em {cidade}:\")\n",
        "    print(f\"🌡️ Temperatura: {temperatura}°C\")\n",
        "    print(f\"🌥️ Condição: {descricao.capitalize()}\")  # Capitaliza a primeira letra\n",
        "    print(f\"💧 Umidade: {umidade}%\")\n",
        "    print(f\"💨 Velocidade do vento: {vento} m/s\")\n"
      ]
    }
  ],
  "metadata": {
    "colab": {
      "provenance": [],
      "include_colab_link": true
    },
    "kernelspec": {
      "display_name": "Python 3 (ipykernel)",
      "language": "python",
      "name": "python3"
    },
    "language_info": {
      "codemirror_mode": {
        "name": "ipython",
        "version": 3
      },
      "file_extension": ".py",
      "mimetype": "text/x-python",
      "name": "python",
      "nbconvert_exporter": "python",
      "pygments_lexer": "ipython3",
      "version": "3.12.7"
    }
  },
  "nbformat": 4,
  "nbformat_minor": 0
}