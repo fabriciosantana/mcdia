{
  "cells": [
    {
      "cell_type": "markdown",
      "metadata": {
        "id": "IaQohLvsb3cN"
      },
      "source": [
        "#  1 - Introdução à Manipulação de Variáveis em Python 🐍\n",
        "\n",
        "## 🚀 Sobre este Notebook\n",
        "\n",
        "Este notebook tem como objetivo apresentar os conceitos fundamentais de **manipulação de variáveis em Python**. Você aprenderá como criar, modificar e utilizar variáveis para armazenar diferentes tipos de dados.\n",
        "\n",
        "## 📖 O que você vai aprender?\n",
        "✔️ O que são variáveis e como usá-las  \n",
        "✔️ Tipos de dados (inteiros, floats, strings, booleanos)  \n",
        "✔️ Operações matemáticas e manipulação de strings  \n",
        "✔️ Atribuição de valores e boas práticas  \n",
        "\n",
        "## ⚡ Como executar este notebook?\n",
        "- Para rodar uma célula de código, clique no **botão \"Play\"** ▶️ ao lado da célula ou utilize um dos atalhos:\n",
        "  - **Shift + Enter** → Executa a célula e avança para a próxima  \n",
        "  - **Ctrl + Enter** → Executa a célula sem sair dela  \n",
        "  - **Alt + Enter** → Executa a célula e insere uma nova abaixo  \n",
        "\n",
        "## 📌 Dicas para um bom aprendizado\n",
        "- Teste modificando as variáveis e observe o que acontece 📝  \n",
        "- Sempre execute uma célula antes de usar uma variável definida nela ⚠️  \n",
        "- Use `print()` para visualizar os valores armazenados nas variáveis 👀  \n",
        "\n",
        "## 📌 Dicas para um bom código\n",
        "\n",
        "- Rapidamente você perceberá que quanto mais organizado e padronizado mantiverem-se os seus códigos, melhor para você e para sua equipe.\n",
        "\n",
        "- Dentre as dicas de boa prática, algumas são mais importantes, como, por exemplo: não use acentos e caracteres especiais.\n",
        "\n",
        "- Coloque #comentários por todo o código sobre o que está fazendo e, principalmente, por que está fazendo\n",
        "\n",
        "- Lembre-se outras pessoas poderão e irão ler o seu código depois\n",
        "\n",
        "- O principal de tudo é: seja qual for o padrão que você preferir, escolha apenas um padrão e seja consistente a ele.\n",
        "\n",
        "\n",
        "### 🔥 Agora, vamos começar! 🚀  \n"
      ]
    },
    {
      "cell_type": "markdown",
      "metadata": {
        "id": "iFlLM6U5K2p9"
      },
      "source": [
        "# 📌 Seção 1: Introdução às Variáveis em Python\n"
      ]
    },
    {
      "cell_type": "code",
      "execution_count": 4,
      "metadata": {
        "colab": {
          "base_uri": "https://localhost:8080/"
        },
        "id": "2OJWvW20Jap0",
        "outputId": "3984b068-43c0-4183-f40e-cfc8ba823116"
      },
      "outputs": [
        {
          "output_type": "stream",
          "name": "stdout",
          "text": [
            "Hello World\n"
          ]
        }
      ],
      "source": [
        "print(\"Hello World\")"
      ]
    },
    {
      "cell_type": "code",
      "source": [
        "# As variáveis armazenam valores que podem ser usados e manipulados depois.\n",
        "\n",
        "# Criando uma variável numérica\n",
        "x = 1\n",
        "\n",
        "# Criando uma variável do tipo string (texto)\n",
        "nome = \"Maria\"\n",
        "\n",
        "# Exibindo os valores\n",
        "print(x)      # Isso imprime 1\n",
        "print(nome)   # Isso imprime \"Maria\""
      ],
      "metadata": {
        "id": "q7eIDLkT96uB"
      },
      "execution_count": null,
      "outputs": []
    },
    {
      "cell_type": "markdown",
      "metadata": {
        "id": "jJ1u3AOwK6l0"
      },
      "source": [
        "# 📌 Seção 2: Sensibilidade a Maiúsculas e Minúsculas\n"
      ]
    },
    {
      "cell_type": "code",
      "execution_count": 2,
      "metadata": {
        "id": "wsCEd30eLB9d",
        "colab": {
          "base_uri": "https://localhost:8080/"
        },
        "outputId": "4afa4331-0712-4e89-90f2-c8092951541e"
      },
      "outputs": [
        {
          "output_type": "stream",
          "name": "stdout",
          "text": [
            "False\n"
          ]
        }
      ],
      "source": [
        "# Em Python, 'Maria' e 'maria' são diferentes, pois a linguagem diferencia maiúsculas de minúsculas.\n",
        "\n",
        "a = \"Maria\"\n",
        "b = \"maria\"\n",
        "print(a == b)  # Isso vai imprimir False, porque \"Maria\" ≠ \"maria\""
      ]
    },
    {
      "cell_type": "markdown",
      "metadata": {
        "id": "kQ-CT8BpLETO"
      },
      "source": [
        "# 📌 Seção 3: Operações Matemáticas com Variáveis Numéricas\n"
      ]
    },
    {
      "cell_type": "code",
      "execution_count": 3,
      "metadata": {
        "id": "FqyLE_tOLGBx",
        "colab": {
          "base_uri": "https://localhost:8080/"
        },
        "outputId": "fca7e16a-ec69-4517-d78c-83c1214cae0d"
      },
      "outputs": [
        {
          "output_type": "stream",
          "name": "stdout",
          "text": [
            "3\n"
          ]
        }
      ],
      "source": [
        "y = 2\n",
        "z = x + y  # Somando x (1) + y (2)\n",
        "print(z)  # Isso vai imprimir 3"
      ]
    },
    {
      "cell_type": "markdown",
      "metadata": {
        "id": "9r5pZL6RLI7B"
      },
      "source": [
        "# 📌 Seção 4: Concatenando Textos (Strings)\n"
      ]
    },
    {
      "cell_type": "code",
      "execution_count": null,
      "metadata": {
        "id": "KpkvvADrLK7p"
      },
      "outputs": [],
      "source": [
        "saudacao = \"Olá\"\n",
        "nome = \"Maria\"\n",
        "mensagem = saudacao + \", \" + nome + \"!\"\n",
        "print(mensagem)  # Isso imprimirá \"Olá, Maria!\""
      ]
    },
    {
      "cell_type": "markdown",
      "metadata": {
        "id": "VtcrSzeVLNdh"
      },
      "source": [
        "# 📌 Seção 5: Tentando Somar Números com Strings (Erro!)\n"
      ]
    },
    {
      "cell_type": "code",
      "execution_count": 6,
      "metadata": {
        "id": "HH5NWZpXLO4Y"
      },
      "outputs": [],
      "source": [
        "x = 10\n",
        "y = \"5\"\n",
        "# print(x + y)  # Isso daria erro, pois não podemos somar um número com um texto!"
      ]
    },
    {
      "cell_type": "markdown",
      "metadata": {
        "id": "lfNImFdxLR2D"
      },
      "source": [
        "# 📌 Seção 6: Convertendo Tipos de Dados (Casting)\n"
      ]
    },
    {
      "cell_type": "code",
      "execution_count": 7,
      "metadata": {
        "id": "kd3ezkJmLQ8r",
        "colab": {
          "base_uri": "https://localhost:8080/"
        },
        "outputId": "bef4398a-034d-440b-9d6e-c8cebc1af2d6"
      },
      "outputs": [
        {
          "output_type": "stream",
          "name": "stdout",
          "text": [
            "O número é 10\n",
            "15\n"
          ]
        }
      ],
      "source": [
        "# Transformando o número 10 em uma string\n",
        "num_texto = str(x)\n",
        "print(\"O número é \" + num_texto)  # Agora funciona, pois ambos são strings\n",
        "\n",
        "# Convertendo uma string para número\n",
        "soma = x + int(y)  # Agora conseguimos somar 10 + 5 = 15\n",
        "print(soma)\n"
      ]
    },
    {
      "cell_type": "markdown",
      "metadata": {
        "id": "g_HuOeHLLZjz"
      },
      "source": [
        "# 📌 Seção 7: Exibir Tipos de Variáveis\n"
      ]
    },
    {
      "cell_type": "code",
      "execution_count": 8,
      "metadata": {
        "colab": {
          "base_uri": "https://localhost:8080/"
        },
        "id": "hnP8uWHULasl",
        "outputId": "09cf60da-8035-408f-a408-b88a82df9a2d"
      },
      "outputs": [
        {
          "output_type": "stream",
          "name": "stdout",
          "text": [
            "<class 'int'>\n",
            "<class 'str'>\n",
            "<class 'float'>\n"
          ]
        }
      ],
      "source": [
        "a = 10\n",
        "b = \"Python\"\n",
        "c = 3.14\n",
        "\n",
        "print(type(a))  # Mostra <class 'int'>\n",
        "print(type(b))  # Mostra <class 'str'>\n",
        "print(type(c))  # Mostra <class 'float'>"
      ]
    },
    {
      "cell_type": "markdown",
      "metadata": {
        "id": "-5IdbysRLw3J"
      },
      "source": [
        "# 📌 Seção 8: Operações Matemáticas Básicas"
      ]
    },
    {
      "cell_type": "code",
      "execution_count": 9,
      "metadata": {
        "colab": {
          "base_uri": "https://localhost:8080/"
        },
        "id": "pCLiybgzLcr-",
        "outputId": "a660a412-69fe-4a78-d428-0e27b6b4938f"
      },
      "outputs": [
        {
          "output_type": "stream",
          "name": "stdout",
          "text": [
            "Soma: 13\n",
            "Subtração: 7\n"
          ]
        }
      ],
      "source": [
        "# Podemos fazer operações matemáticas simples com Python\n",
        "\n",
        "a = 10\n",
        "b = 3\n",
        "\n",
        "soma = a + b\n",
        "subtracao = a - b\n",
        "\n",
        "\n",
        "print(\"Soma:\", soma)\n",
        "print(\"Subtração:\", subtracao)\n",
        "\n"
      ]
    },
    {
      "cell_type": "code",
      "execution_count": 10,
      "metadata": {
        "colab": {
          "base_uri": "https://localhost:8080/"
        },
        "id": "f4JI8G6FODy9",
        "outputId": "5cd295b7-f402-4af3-eb31-66c3ecd8ef57"
      },
      "outputs": [
        {
          "output_type": "stream",
          "name": "stdout",
          "text": [
            "Multiplicação: 30\n",
            "Divisão: 3.3333333333333335\n"
          ]
        }
      ],
      "source": [
        "multiplicacao = a * b\n",
        "divisao = a / b  # Retorna um número decimal\n",
        "\n",
        "print(\"Multiplicação:\", multiplicacao)\n",
        "print(\"Divisão:\", divisao)\n"
      ]
    },
    {
      "cell_type": "code",
      "execution_count": 11,
      "metadata": {
        "id": "X-9fgLQzONrA",
        "colab": {
          "base_uri": "https://localhost:8080/"
        },
        "outputId": "4352a1e0-6660-4598-dbd0-39cbe98d4439"
      },
      "outputs": [
        {
          "output_type": "stream",
          "name": "stdout",
          "text": [
            "Divisão Inteira: 3\n",
            "Módulo (Resto da divisão): 1\n",
            "Potência: 1000\n"
          ]
        }
      ],
      "source": [
        "divisao_inteira = a // b  # Retorna apenas a parte inteira\n",
        "modulo = a % b  # Resto da divisão\n",
        "potencia = a ** b  # a elevado a b\n",
        "print(\"Divisão Inteira:\", divisao_inteira)\n",
        "print(\"Módulo (Resto da divisão):\", modulo)\n",
        "print(\"Potência:\", potencia)"
      ]
    },
    {
      "cell_type": "markdown",
      "metadata": {
        "id": "KZq-0qqwL2Ta"
      },
      "source": [
        "# 📌 Seção 9: Estruturas Condicionais (if, elif, else)"
      ]
    },
    {
      "cell_type": "code",
      "execution_count": null,
      "metadata": {
        "id": "F8Tc6dJQMDtN"
      },
      "outputs": [],
      "source": [
        "# Permitem tomar decisões baseadas em condições\n",
        "\n",
        "idade = int(input(\"Digite sua idade: \"))\n",
        "\n",
        "if idade < 18:\n",
        "    print(\"Você é menor de idade.\")\n",
        "elif idade < 60:\n",
        "    print(\"Você é adulto.\")\n",
        "else:\n",
        "    print(\"Você é idoso.\")\n"
      ]
    },
    {
      "cell_type": "markdown",
      "metadata": {
        "id": "EUjVviYuMP5C"
      },
      "source": [
        "# 📌 Seção 10: Estruturas de Repetição (for)"
      ]
    },
    {
      "cell_type": "code",
      "execution_count": null,
      "metadata": {
        "colab": {
          "base_uri": "https://localhost:8080/"
        },
        "id": "0ozSRs9_MJXB",
        "outputId": "73adb9c4-0c89-43ee-d33e-8f339a5e3d89"
      },
      "outputs": [
        {
          "name": "stdout",
          "output_type": "stream",
          "text": [
            "Número: 1\n",
            "Número: 2\n",
            "Número: 3\n",
            "Número: 4\n",
            "Número: 5\n"
          ]
        }
      ],
      "source": [
        "# O loop 'for' percorre uma sequência de valores\n",
        "\n",
        "for i in range(1, 6):  # De 1 a 5\n",
        "    print(\"Número:\", i)"
      ]
    },
    {
      "cell_type": "markdown",
      "metadata": {
        "id": "MnG0EmTiMiz-"
      },
      "source": [
        "# 📌 Seção 11: Trabalhando com Listas"
      ]
    },
    {
      "cell_type": "code",
      "execution_count": 12,
      "metadata": {
        "colab": {
          "base_uri": "https://localhost:8080/"
        },
        "id": "ZODWKQHKMgFN",
        "outputId": "e5d32e5c-b596-4443-990d-8ec1693ceccc"
      },
      "outputs": [
        {
          "output_type": "stream",
          "name": "stdout",
          "text": [
            "Lista completa: [10, 20, 30, 40, 50]\n",
            "Primeiro elemento: 10\n",
            "Último elemento: 50\n"
          ]
        }
      ],
      "source": [
        "# Listas armazenam vários valores em uma única variável\n",
        "\n",
        "numeros = [10, 20, 30, 40, 50]\n",
        "\n",
        "print(\"Lista completa:\", numeros)\n",
        "print(\"Primeiro elemento:\", numeros[0])  # Índice começa em 0\n",
        "print(\"Último elemento:\", numeros[-1])  # Índice negativo acessa de trás para frente"
      ]
    },
    {
      "cell_type": "markdown",
      "metadata": {
        "id": "YSjLu2TvMroP"
      },
      "source": [
        "#📌 Seção 13: Manipulação de Listas"
      ]
    },
    {
      "cell_type": "code",
      "execution_count": 13,
      "metadata": {
        "colab": {
          "base_uri": "https://localhost:8080/"
        },
        "id": "sxb1GXGsMmCI",
        "outputId": "8373de70-3105-4c23-a3c0-bd08b21c8d97"
      },
      "outputs": [
        {
          "output_type": "stream",
          "name": "stdout",
          "text": [
            "Lista modificada: ['Pera', 'Laranja', 'Uva']\n"
          ]
        }
      ],
      "source": [
        "# Podemos adicionar, remover e modificar elementos de uma lista\n",
        "\n",
        "frutas = [\"Maçã\", \"Banana\", \"Laranja\"]\n",
        "\n",
        "frutas.append(\"Uva\")  # Adiciona um item ao final\n",
        "frutas.remove(\"Banana\")  # Remove um item específico\n",
        "frutas[0] = \"Pera\"  # Modifica um item\n",
        "\n",
        "print(\"Lista modificada:\", frutas)"
      ]
    },
    {
      "cell_type": "markdown",
      "metadata": {
        "id": "dNIsaT2bM108"
      },
      "source": [
        "# 📌 Seção 14: Criando Funções"
      ]
    },
    {
      "cell_type": "code",
      "execution_count": null,
      "metadata": {
        "colab": {
          "base_uri": "https://localhost:8080/"
        },
        "id": "lL_j5Ea5MwJA",
        "outputId": "62897028-751a-493c-d2ee-1a5192d70bf3"
      },
      "outputs": [
        {
          "name": "stdout",
          "output_type": "stream",
          "text": [
            "Olá, Maria!\n"
          ]
        }
      ],
      "source": [
        "# Funções ajudam a organizar o código e evitam repetições\n",
        "\n",
        "def saudacao(nome):\n",
        "    return \"Olá, \" + nome + \"!\"\n",
        "\n",
        "mensagem = saudacao(\"Maria\")\n",
        "print(mensagem)"
      ]
    }
  ],
  "metadata": {
    "colab": {
      "provenance": []
    },
    "kernelspec": {
      "display_name": "Python 3 (ipykernel)",
      "language": "python",
      "name": "python3"
    },
    "language_info": {
      "codemirror_mode": {
        "name": "ipython",
        "version": 3
      },
      "file_extension": ".py",
      "mimetype": "text/x-python",
      "name": "python",
      "nbconvert_exporter": "python",
      "pygments_lexer": "ipython3",
      "version": "3.12.7"
    }
  },
  "nbformat": 4,
  "nbformat_minor": 0
}