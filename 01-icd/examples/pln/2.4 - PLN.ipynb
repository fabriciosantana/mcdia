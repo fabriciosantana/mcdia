{
  "cells": [
    {
      "cell_type": "code",
      "execution_count": null,
      "metadata": {},
      "outputs": [],
      "source": [
        "!pip install nltk"
      ]
    },
    {
      "cell_type": "code",
      "execution_count": null,
      "metadata": {
        "colab": {
          "base_uri": "https://localhost:8080/",
          "height": 90
        },
        "id": "vo0VBqYUOjkM",
        "outputId": "d8310ddd-ffe4-4d49-ecd0-d6623cb3277a"
      },
      "outputs": [],
      "source": [
        "# 1) Upload e leitura\n",
        "#from google.colab import files\n",
        "import pandas as pd\n",
        "import nltk\n",
        "from nltk.corpus import stopwords\n",
        "from collections import Counter\n",
        "import re\n",
        "\n",
        "print(\"Selecione o Excel (ex.: comentários_site.xlsx)\")\n",
        "#files.upload()\n",
        "ARQ = \"comentários_site.xlsx\"   # troque se o nome for outro\n",
        "df = pd.read_excel(ARQ)\n",
        "\n"
      ]
    },
    {
      "cell_type": "code",
      "execution_count": null,
      "metadata": {
        "colab": {
          "base_uri": "https://localhost:8080/",
          "height": 206
        },
        "id": "jzRTpz0dOw6m",
        "outputId": "2b2168c3-e274-4c78-a02a-50a2513cd61c"
      },
      "outputs": [],
      "source": [
        "df.head()"
      ]
    },
    {
      "cell_type": "code",
      "execution_count": null,
      "metadata": {
        "colab": {
          "base_uri": "https://localhost:8080/",
          "height": 300
        },
        "id": "pho90uZoOxnH",
        "outputId": "ca7b41f2-e21b-4568-8dbc-ae2ec7618016"
      },
      "outputs": [],
      "source": [
        "df.describe()"
      ]
    },
    {
      "cell_type": "code",
      "execution_count": null,
      "metadata": {
        "colab": {
          "base_uri": "https://localhost:8080/",
          "height": 178
        },
        "id": "1pua_MmqOz0f",
        "outputId": "d5ebb497-35ba-477c-c3da-b3d8f22daffd"
      },
      "outputs": [],
      "source": [
        "df[\"Sexo\"].value_counts()"
      ]
    },
    {
      "cell_type": "code",
      "execution_count": null,
      "metadata": {
        "id": "qXtNrMrLPDpM"
      },
      "outputs": [],
      "source": [
        "df[\"Estado\"].value_counts()"
      ]
    },
    {
      "cell_type": "code",
      "execution_count": null,
      "metadata": {
        "colab": {
          "base_uri": "https://localhost:8080/"
        },
        "id": "B4XoOK2uPQRP",
        "outputId": "4cf49baa-f044-4a45-b7d1-13bed2d18954"
      },
      "outputs": [],
      "source": [
        "\n",
        "\n",
        "# Baixar stopwords do NLTK (só precisa rodar 1 vez no Colab)\n",
        "nltk.download(\"stopwords\")\n",
        "\n",
        "# Definir stopwords em português\n",
        "stopwords_pt = set(stopwords.words(\"portuguese\"))\n",
        "\n",
        "# Função para limpar e tokenizar comentários\n",
        "def tokenize(texto):\n",
        "    texto = str(texto).lower()\n",
        "    texto = re.sub(r\"[^a-záéíóúàâêôãõç\\s]\", \" \", texto)  # mantém só letras e espaços\n",
        "    tokens = texto.split()\n",
        "    tokens = [t for t in tokens if t not in stopwords_pt and len(t) > 2]\n",
        "    return tokens\n",
        "\n",
        "# Aplicar nos comentários\n",
        "tokens = []\n",
        "for comentario in df[\"Comentário\"]:\n",
        "    tokens.extend(tokenize(comentario))\n",
        "\n",
        "# Contagem (Bag of Words)\n",
        "bag = Counter(tokens)\n",
        "\n",
        "# Mostrar as 20 palavras mais comuns\n",
        "print(\"▶ Bag of Words (top 20):\")\n",
        "for palavra, freq in bag.most_common(20):\n",
        "    print(f\"{palavra}: {freq}\")\n"
      ]
    }
  ],
  "metadata": {
    "colab": {
      "provenance": []
    },
    "kernelspec": {
      "display_name": "Python 3",
      "name": "python3"
    },
    "language_info": {
      "codemirror_mode": {
        "name": "ipython",
        "version": 3
      },
      "file_extension": ".py",
      "mimetype": "text/x-python",
      "name": "python",
      "nbconvert_exporter": "python",
      "pygments_lexer": "ipython3",
      "version": "3.12.1"
    }
  },
  "nbformat": 4,
  "nbformat_minor": 0
}
