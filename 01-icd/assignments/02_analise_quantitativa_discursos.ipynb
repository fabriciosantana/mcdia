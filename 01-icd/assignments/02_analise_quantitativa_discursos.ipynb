{
 "cells": [
  {
   "cell_type": "markdown",
   "id": "8eab4308",
   "metadata": {},
   "source": [
    "<a href=\"https://colab.research.google.com/github/fabriciosantana/mcdia/blob/main/01-icd/assignments/02_analise_quantitativa_discursos.ipynb\" target=\"_parent\"><img src=\"https://colab.research.google.com/assets/colab-badge.svg\" alt=\"Open In Colab\"/></a>"
   ]
  },
  {
   "cell_type": "markdown",
   "id": "0f49ebd1",
   "metadata": {},
   "source": [
    "## Análise Quantitativa dos Discursos do Senado (56ª Legislatura)"
   ]
  },
  {
   "cell_type": "markdown",
   "id": "ffdd91cc",
   "metadata": {},
   "source": [
    "Este notebook examina o conjunto de discursos proferidos no Senado Federal durante a 56ª Legislatura (01/02/2019 a 31/01/2023).\n",
    "\n",
    "Principais objetivos:\n",
    "- compreender a composição do acervo (autores, partidos, datas e metadados)\n",
    "- identificar padrões temporais de produção de discursos\n",
    "- analisar o tamanho dos textos e a distribuição de temas (tipos de uso da palavra)\n",
    "- gerar sumários numéricos e visuais que sirvam de base para estudos posteriores"
   ]
  },
  {
   "cell_type": "markdown",
   "id": "306a7886",
   "metadata": {},
   "source": [
    "## Inicializar e carregar dados"
   ]
  },
  {
   "cell_type": "markdown",
   "id": "528a8323",
   "metadata": {},
   "source": [
    "### Importar bibliotecas"
   ]
  },
  {
   "cell_type": "code",
   "execution_count": null,
   "id": "1017ff5e",
   "metadata": {},
   "outputs": [],
   "source": [
    "import pandas as pd\n",
    "import numpy as np\n",
    "from pathlib import Path\n",
    "import matplotlib.pyplot as plt\n",
    "import seaborn as sns\n",
    "from IPython.display import display\n",
    "from datasets import load_dataset\n",
    "from datasets import load_dataset_builder\n",
    "\n",
    "pd.set_option('display.max_columns', None)\n",
    "sns.set_theme(style='whitegrid', palette='tab10')\n",
    "plt.rcParams['figure.figsize'] = (12, 6)\n",
    "plt.rcParams['axes.titlesize'] = 14\n",
    "plt.rcParams['axes.labelsize'] = 12"
   ]
  },
  {
   "cell_type": "markdown",
   "id": "4cbbd3d8",
   "metadata": {},
   "source": [
    "### Carregar dataset"
   ]
  },
  {
   "cell_type": "code",
   "execution_count": null,
   "id": "d77d9371",
   "metadata": {},
   "outputs": [],
   "source": [
    "#local do arquivo de dados no huggingface\n",
    "DATASET_HF_REPO = \"fabriciosantana/discursos-senado-legislatura-56\"\n",
    "DATA_FILE_HF = {\"train\": \"data/full/discursos_2019-02-01_2023-01-31.parquet\"}\n",
    "\n",
    "ds_builder = load_dataset_builder(DATASET_HF_REPO)\n",
    "\n",
    "ds_builder.info"
   ]
  },
  {
   "cell_type": "markdown",
   "id": "504bf860",
   "metadata": {},
   "source": [
    "### Converter dataset para dataframe"
   ]
  },
  {
   "cell_type": "code",
   "execution_count": null,
   "id": "fec033e1",
   "metadata": {},
   "outputs": [],
   "source": [
    "dataset = load_dataset(DATASET_HF_REPO, data_files=DATA_FILE_HF)\n",
    "df = dataset[\"train\"].to_pandas()\n",
    "\n",
    "df"
   ]
  },
  {
   "cell_type": "markdown",
   "id": "77db1075",
   "metadata": {},
   "source": [
    "### Analisar estrutura do dataframe"
   ]
  },
  {
   "cell_type": "code",
   "execution_count": null,
   "id": "55d55500",
   "metadata": {},
   "outputs": [],
   "source": [
    "print(f'Linhas: {df.shape[0]} | Colunas: {df.shape[1]}')\n",
    "df.info()"
   ]
  },
  {
   "cell_type": "markdown",
   "id": "443a94f2",
   "metadata": {},
   "source": [
    "## Analisar qualidade dos dados"
   ]
  },
  {
   "cell_type": "markdown",
   "id": "0a9e902a",
   "metadata": {},
   "source": [
    "### Visão geral dos dados"
   ]
  },
  {
   "cell_type": "code",
   "execution_count": null,
   "id": "884b4759",
   "metadata": {},
   "outputs": [],
   "source": [
    "overview = pd.DataFrame({\n",
    "    'dtype': df.dtypes.astype(str),\n",
    "    'missing': df.isna().sum()\n",
    "}).sort_values('missing', ascending=False)\n",
    "overview"
   ]
  },
  {
   "cell_type": "markdown",
   "id": "7ed0593c",
   "metadata": {},
   "source": [
    "### Métricas dos dados"
   ]
  },
  {
   "cell_type": "code",
   "execution_count": null,
   "id": "287f9856",
   "metadata": {},
   "outputs": [],
   "source": [
    "metrics = pd.Series({\n",
    "    'Discursos': len(df),\n",
    "    'Autores únicos': df['NomeAutor'].nunique(),\n",
    "    'Partidos únicos': df['Partido'].nunique(),\n",
    "    'UFs representadas': df['UF'].replace('', np.nan).nunique(dropna=True),\n",
    "    'Funções de autor únicas': df['FuncaoAutor'].replace('', np.nan).nunique(dropna=True),\n",
    "    'Discursos com resumo': int((df['Resumo'].str.len() > 0).sum()),\n",
    "    'Discursos com indexação': int((df['Indexacao'].str.len() > 0).sum()),\n",
    "    'Discursos com texto integral': int((df['TextoDiscursoIntegral'].str.len() > 0).sum())\n",
    "}).to_frame('quantidade')\n",
    "metrics"
   ]
  },
  {
   "cell_type": "markdown",
   "id": "1f2c0637",
   "metadata": {},
   "source": [
    "### Separar dados faltantes"
   ]
  },
  {
   "cell_type": "code",
   "execution_count": null,
   "id": "ea0472fa",
   "metadata": {},
   "outputs": [],
   "source": [
    "missing = (\n",
    "    df.isna()\n",
    "      .sum()\n",
    "      .to_frame('faltantes')\n",
    "      .assign(percentual=lambda s: (s['faltantes'] / len(df) * 100).round(2))\n",
    "      .sort_values('faltantes', ascending=False)\n",
    ")\n",
    "missing.head(10)"
   ]
  },
  {
   "cell_type": "markdown",
   "id": "1b4a21ee",
   "metadata": {},
   "source": [
    "## Analisar discursos por data\n",
    "Criar campos para ano, mês e dia da semana"
   ]
  },
  {
   "cell_type": "code",
   "execution_count": null,
   "id": "08c97e9f",
   "metadata": {},
   "outputs": [],
   "source": [
    "#converte o tipo para datetime\n",
    "df['Data'] = pd.to_datetime(df['Data'], errors='coerce')\n",
    "\n",
    "#cria coluna para o ano\n",
    "df['ano'] = df['Data'].dt.year\n",
    "\n",
    "#cria coluna para o mês\n",
    "df['mes'] = df['Data'].dt.to_period('M')\n",
    "\n",
    "dias_map = {\n",
    "    'Monday': 'Segunda',\n",
    "    'Tuesday': 'Terça',\n",
    "    'Wednesday': 'Quarta',\n",
    "    'Thursday': 'Quinta',\n",
    "    'Friday': 'Sexta',\n",
    "    'Saturday': 'Sábado',\n",
    "    'Sunday': 'Domingo'\n",
    "}\n",
    "\n",
    "#cria coluna para a semana\n",
    "df['dia_semana'] = df['Data'].dt.day_name().map(dias_map)\n",
    "\n",
    "df[[\"Data\", \"ano\", \"mes\", \"dia_semana\"]].head()"
   ]
  },
  {
   "cell_type": "markdown",
   "id": "abc8b885",
   "metadata": {},
   "source": [
    "### Discursos por ano"
   ]
  },
  {
   "cell_type": "code",
   "execution_count": null,
   "id": "1cd2344e",
   "metadata": {},
   "outputs": [],
   "source": [
    "discursos_por_ano = (df.groupby([\"ano\"])\n",
    "                     .size()\n",
    "                     .reset_index(name=\"qtd_discursos\")\n",
    "                    )\n",
    "\n",
    "ax = discursos_por_ano.plot(x=\"ano\", y=\"qtd_discursos\", kind=\"bar\", legend=False)\n",
    "ax.set_title(\"Discursos por ano\")\n",
    "ax.set_xlabel(\"Ano\")\n",
    "ax.set_ylabel(\"Qtd. de discursos\")\n",
    "\n",
    "discursos_por_ano"
   ]
  },
  {
   "cell_type": "markdown",
   "id": "cdbcb62a",
   "metadata": {},
   "source": [
    "### Discursos por mês"
   ]
  },
  {
   "cell_type": "code",
   "execution_count": null,
   "id": "13ab008e",
   "metadata": {},
   "outputs": [],
   "source": [
    "discursos_por_mes = (\n",
    "    df.dropna(subset=['mes'])\n",
    "      .groupby('mes')\n",
    "      .size()\n",
    "      .rename('discursos')\n",
    "      .sort_index()\n",
    ")\n",
    "\n",
    "fig, ax = plt.subplots()\n",
    "sns.lineplot(x=discursos_por_mes.index.to_timestamp(), y=discursos_por_mes.values, marker='o', ax=ax)\n",
    "ax.set(title='Volume mensal de discursos', xlabel='Mês', ylabel='Quantidade')\n",
    "plt.xticks(rotation=45)\n",
    "plt.tight_layout()\n",
    "discursos_por_mes.tail()"
   ]
  },
  {
   "cell_type": "markdown",
   "id": "75c65074",
   "metadata": {},
   "source": [
    "### Discursos por dia da semana"
   ]
  },
  {
   "cell_type": "code",
   "execution_count": null,
   "id": "caa45e0c",
   "metadata": {},
   "outputs": [],
   "source": [
    "dias_semana = ['Segunda', 'Terça', 'Quarta', 'Quinta', 'Sexta']\n",
    "discurso_por_dia_semana = (\n",
    "    df.dropna(subset=['dia_semana'])\n",
    "      .groupby('dia_semana')\n",
    "      .size()\n",
    "      .reindex(dias_semana, fill_value=0)\n",
    "      .rename('discursos')\n",
    "      .reset_index()\n",
    ")\n",
    "fig, ax = plt.subplots(figsize=(8, 5))\n",
    "sns.barplot(\n",
    "    data=discurso_por_dia_semana,\n",
    "    x=\"dia_semana\", y=\"discursos\",\n",
    "    order=dias_semana,\n",
    "    color=\"C0\"            # usa uma cor única (evita warning do seaborn)\n",
    ")\n",
    "ax.set(title='Distribuição de discursos por dia da semana', \n",
    "       xlabel='Dia da semana', \n",
    "       ylabel='Quantidade de discursos'\n",
    "      )\n",
    "\n",
    "plt.tight_layout()\n",
    "\n",
    "discurso_por_dia_semana"
   ]
  },
  {
   "cell_type": "markdown",
   "id": "5de5caac",
   "metadata": {},
   "source": [
    "### Discursos anuais por partido"
   ]
  },
  {
   "cell_type": "code",
   "execution_count": null,
   "id": "5293432f",
   "metadata": {},
   "outputs": [],
   "source": [
    "top_partidos_lista = (\n",
    "    df['Partido']\n",
    "    .dropna()\n",
    "    .value_counts()\n",
    "    .head(10)\n",
    "    .index\n",
    "    .tolist()\n",
    ")\n",
    "heatmap_data = (\n",
    "    df[df['Partido'].isin(top_partidos_lista)]\n",
    "      .dropna(subset=['ano'])\n",
    "      .groupby(['ano', 'Partido'])\n",
    "      .size()\n",
    "      .unstack(fill_value=0)\n",
    "      .reindex(columns=top_partidos_lista)\n",
    "      .sort_index()\n",
    ")\n",
    "fig, ax = plt.subplots(figsize=(12, 6))\n",
    "sns.heatmap(heatmap_data, cmap='Blues', linewidths=0.5, ax=ax)\n",
    "ax.set(title='Participação anual por partido (top 10)', xlabel='Partido', ylabel='Ano')\n",
    "plt.tight_layout()\n",
    "heatmap_data\n"
   ]
  },
  {
   "cell_type": "markdown",
   "id": "5d142e0f",
   "metadata": {},
   "source": [
    "## Analisar discursos por autor, partido e UF"
   ]
  },
  {
   "cell_type": "markdown",
   "id": "1aff9916",
   "metadata": {},
   "source": [
    "### Discursos por autor"
   ]
  },
  {
   "cell_type": "code",
   "execution_count": null,
   "id": "44dc90ad",
   "metadata": {},
   "outputs": [],
   "source": [
    "discursos_por_autor = (\n",
    "    df.groupby('NomeAutor')\n",
    "      .size()\n",
    "      .sort_values(ascending=False)\n",
    "      .head(10)\n",
    "      .rename('discursos')\n",
    "      .reset_index()\n",
    ")\n",
    "fig, ax = plt.subplots(figsize=(12, 6))\n",
    "sns.barplot(data=discursos_por_autor, y='NomeAutor', x='discursos', hue='NomeAutor', ax=ax, palette='crest')\n",
    "ax.set(title='Autores com mais discursos', xlabel='Quantidade de discursos', ylabel='')\n",
    "plt.tight_layout()\n",
    "discursos_por_autor"
   ]
  },
  {
   "cell_type": "markdown",
   "id": "4d14e97a",
   "metadata": {},
   "source": [
    "### Discursos por partido"
   ]
  },
  {
   "cell_type": "code",
   "execution_count": null,
   "id": "ecf65612",
   "metadata": {},
   "outputs": [],
   "source": [
    "discursos_por_partido = (\n",
    "    df.groupby('Partido')\n",
    "      .size()\n",
    "      .sort_values(ascending=False)\n",
    "      .head(10)\n",
    "      .rename('discursos')\n",
    "      .reset_index()\n",
    ")\n",
    "fig, ax = plt.subplots(figsize=(12, 6))\n",
    "sns.barplot(data=discursos_por_partido, x='Partido', y='discursos', ax=ax)\n",
    "ax.set(title='Partidos com mais discursos', xlabel='Partido', ylabel='Quantidade de discursos')\n",
    "plt.xticks(rotation=45)\n",
    "plt.tight_layout()\n",
    "discursos_por_partido"
   ]
  },
  {
   "cell_type": "markdown",
   "id": "8d77ec14",
   "metadata": {},
   "source": [
    "### Discursos por UF"
   ]
  },
  {
   "cell_type": "code",
   "execution_count": null,
   "id": "995761ee",
   "metadata": {},
   "outputs": [],
   "source": [
    "discursos_por_partido = (\n",
    "    df['UF']\n",
    "      .replace('', 'Não informado')\n",
    "      .value_counts()\n",
    "      .head(10)\n",
    "      .rename('discursos')\n",
    "      .reset_index()\n",
    "      .rename(columns={'index': 'UF'})\n",
    ")\n",
    "fig, ax = plt.subplots(figsize=(10, 6))\n",
    "sns.barplot(data=discursos_por_partido, x='discursos', y='UF', ax=ax)\n",
    "ax.set(title='Estados com mais discursos registrados', xlabel='Quantidade de discursos', ylabel='UF')\n",
    "plt.tight_layout()\n",
    "discursos_por_partido"
   ]
  },
  {
   "cell_type": "markdown",
   "id": "08be27dc",
   "metadata": {},
   "source": [
    "### Discursos por tipo de uso da palavra"
   ]
  },
  {
   "cell_type": "code",
   "execution_count": null,
   "id": "a7c0c501",
   "metadata": {},
   "outputs": [],
   "source": [
    "tipo_uso_palavra = (\n",
    "    df['TipoUsoPalavra.Descricao']\n",
    "      .replace('', 'Não informado')\n",
    "      .value_counts()\n",
    "      .head(10)\n",
    "      .rename('discursos')\n",
    "      .reset_index()\n",
    "      .rename(columns={'index': 'Tipo de uso'})\n",
    ")\n",
    "fig, ax = plt.subplots(figsize=(12, 6))\n",
    "sns.barplot(data=tipo_uso_palavra, x='discursos', y='TipoUsoPalavra.Descricao', ax=ax)\n",
    "ax.set(title='Principais tipos de uso da palavra', xlabel='Quantidade de discursos', ylabel='')\n",
    "plt.tight_layout()\n",
    "tipo_uso_palavra"
   ]
  },
  {
   "cell_type": "markdown",
   "id": "b8a31dc7",
   "metadata": {},
   "source": [
    "## Analisar texto dos discursos\n",
    "\n",
    "Todos as colunas vazias devem conter uma string vazia"
   ]
  },
  {
   "cell_type": "code",
   "execution_count": null,
   "id": "20fd2c44",
   "metadata": {},
   "outputs": [],
   "source": [
    "text_columns = [\n",
    "    'Resumo', 'Indexacao', 'TextoIntegral', 'TextoIntegralTxt',\n",
    "    'TextoDiscursoIntegral', 'TipoUsoPalavra.Descricao', 'TipoUsoPalavra.Sigla',\n",
    "    'TipoUsoPalavra.Codigo', 'TipoUsoPalavra.IndicadorAtivo',\n",
    "    'Publicacoes.Publicacao', 'Apartes.Aparteante', 'CargoAutor',\n",
    "    'OrgaoAutor', 'PaisAutor'\n",
    "]\n",
    "for col in text_columns:\n",
    "    if col in df.columns:\n",
    "        df[col] = df[col].fillna('').astype(str)\n",
    "\n",
    "df[df['TextoDiscursoIntegral'] == '']"
   ]
  },
  {
   "cell_type": "markdown",
   "id": "a86b7548",
   "metadata": {},
   "source": [
    "### Palavras e caracteres por discurso"
   ]
  },
  {
   "cell_type": "code",
   "execution_count": null,
   "id": "3008341e",
   "metadata": {},
   "outputs": [],
   "source": [
    "\n",
    "df['texto_len_palavras'] = df['TextoDiscursoIntegral'].str.split().str.len()\n",
    "df['texto_len_caracteres'] = df['TextoDiscursoIntegral'].str.len()\n",
    "df['resumo_len_palavras'] = df['Resumo'].str.split().str.len()\n",
    "\n",
    "df[['id', 'texto_len_palavras', 'texto_len_caracteres', 'resumo_len_palavras']].head()"
   ]
  },
  {
   "cell_type": "markdown",
   "id": "96fb5c0c",
   "metadata": {},
   "source": [
    "### Distribuição do tamanho dos discursos"
   ]
  },
  {
   "cell_type": "code",
   "execution_count": null,
   "id": "9de14adb",
   "metadata": {},
   "outputs": [],
   "source": [
    "fig, ax = plt.subplots()\n",
    "sns.histplot(df['texto_len_palavras'], bins=50, ax=ax)\n",
    "ax.set(title='Distribuição do tamanho dos discursos (palavras)', xlabel='Número de palavras', ylabel='Frequência')\n",
    "plt.tight_layout()"
   ]
  },
  {
   "cell_type": "markdown",
   "id": "7c2898c2",
   "metadata": {},
   "source": [
    "### Tamanho do discurso (palavras e caracteres)"
   ]
  },
  {
   "cell_type": "code",
   "execution_count": null,
   "id": "5dd3e46e",
   "metadata": {},
   "outputs": [],
   "source": [
    "tamanho_discursos = pd.DataFrame({\n",
    "    'palavras': df['texto_len_palavras'].describe().round(2),\n",
    "    'caracteres': df['texto_len_caracteres'].describe().round(2)\n",
    "})\n",
    "tamanho_discursos"
   ]
  },
  {
   "cell_type": "markdown",
   "id": "f647b55c",
   "metadata": {},
   "source": [
    "## Principais achados\n",
    "\n",
    "- Os discursos se concentram entre 2019 e 2022, com picos mensais próximos às sessões de maior atividade legislativa.\n",
    "- Autores como os líderes partidários respondem pelo maior volume de pronunciamentos, e PT, Podemos e MDB aparecem como partidos mais prolíficos.\n",
    "- A maioria dos discursos possui texto integral disponível, com mediana de aproximadamente 464 palavras (≈2,8 mil caracteres) e cauda longa que indica pronunciamentos extensos.\n",
    "- Tipos de uso da palavra relacionados a relatorias e lideranças dominam o plenário, reforçando o papel institucional desses cargos.\n",
    "- A distribuição semanal mostra concentração entre terça e quinta-feira, dias tradicionalmente destinados às deliberações no Senado."
   ]
  }
 ],
 "metadata": {
  "kernelspec": {
   "display_name": "Python 3",
   "language": "python",
   "name": "python3"
  },
  "language_info": {
   "codemirror_mode": {
    "name": "ipython",
    "version": 3
   },
   "file_extension": ".py",
   "mimetype": "text/x-python",
   "name": "python",
   "nbconvert_exporter": "python",
   "pygments_lexer": "ipython3",
   "version": "3.12.1"
  }
 },
 "nbformat": 4,
 "nbformat_minor": 5
}
