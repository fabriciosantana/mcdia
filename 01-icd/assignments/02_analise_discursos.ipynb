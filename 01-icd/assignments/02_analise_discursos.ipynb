{
  "cells": [
    {
      "cell_type": "markdown",
      "metadata": {
        "colab_type": "text",
        "id": "view-in-github"
      },
      "source": [
        "<a href=\"https://colab.research.google.com/github/fabriciosantana/mcdia/blob/main/01-icd/assignments/02_analise_discursos.ipynb\" target=\"_parent\"><img src=\"https://colab.research.google.com/assets/colab-badge.svg\" alt=\"Open In Colab\"/></a>"
      ]
    },
    {
      "cell_type": "markdown",
      "id": "62a0a3d3",
      "metadata": {
        "id": "62a0a3d3"
      },
      "source": [
        "# Analisar discursos\n",
        "\n",
        "O objetivo desse notebook é analisar discursos disponíveis no diretório _data. Para preparar uma nova base, execute o notebook 01_preparar_base_discursos.ipynb"
      ]
    },
    {
      "cell_type": "markdown",
      "id": "1cd08135",
      "metadata": {
        "id": "1cd08135"
      },
      "source": [
        "## Carregar dados"
      ]
    },
    {
      "cell_type": "code",
      "execution_count": 3,
      "id": "d79af89a",
      "metadata": {
        "id": "d79af89a"
      },
      "outputs": [
        {
          "name": "stdout",
          "output_type": "stream",
          "text": [
            "Requirement already satisfied: datasets in /usr/local/python/3.12.1/lib/python3.12/site-packages (4.1.1)\n",
            "Requirement already satisfied: filelock in /home/codespace/.local/lib/python3.12/site-packages (from datasets) (3.13.1)\n",
            "Requirement already satisfied: numpy>=1.17 in /home/codespace/.local/lib/python3.12/site-packages (from datasets) (2.3.1)\n",
            "Requirement already satisfied: pyarrow>=21.0.0 in /usr/local/python/3.12.1/lib/python3.12/site-packages (from datasets) (21.0.0)\n",
            "Requirement already satisfied: dill<0.4.1,>=0.3.0 in /usr/local/python/3.12.1/lib/python3.12/site-packages (from datasets) (0.4.0)\n",
            "Requirement already satisfied: pandas in /home/codespace/.local/lib/python3.12/site-packages (from datasets) (2.3.1)\n",
            "Requirement already satisfied: requests>=2.32.2 in /home/codespace/.local/lib/python3.12/site-packages (from datasets) (2.32.4)\n",
            "Requirement already satisfied: tqdm>=4.66.3 in /usr/local/python/3.12.1/lib/python3.12/site-packages (from datasets) (4.67.1)\n",
            "Requirement already satisfied: xxhash in /usr/local/python/3.12.1/lib/python3.12/site-packages (from datasets) (3.5.0)\n",
            "Requirement already satisfied: multiprocess<0.70.17 in /usr/local/python/3.12.1/lib/python3.12/site-packages (from datasets) (0.70.16)\n",
            "Requirement already satisfied: fsspec<=2025.9.0,>=2023.1.0 in /home/codespace/.local/lib/python3.12/site-packages (from fsspec[http]<=2025.9.0,>=2023.1.0->datasets) (2024.6.1)\n",
            "Requirement already satisfied: huggingface-hub>=0.24.0 in /usr/local/python/3.12.1/lib/python3.12/site-packages (from datasets) (0.35.0)\n",
            "Requirement already satisfied: packaging in /home/codespace/.local/lib/python3.12/site-packages (from datasets) (25.0)\n",
            "Requirement already satisfied: pyyaml>=5.1 in /home/codespace/.local/lib/python3.12/site-packages (from datasets) (6.0.2)\n",
            "Requirement already satisfied: aiohttp!=4.0.0a0,!=4.0.0a1 in /usr/local/python/3.12.1/lib/python3.12/site-packages (from fsspec[http]<=2025.9.0,>=2023.1.0->datasets) (3.12.15)\n",
            "Requirement already satisfied: aiohappyeyeballs>=2.5.0 in /usr/local/python/3.12.1/lib/python3.12/site-packages (from aiohttp!=4.0.0a0,!=4.0.0a1->fsspec[http]<=2025.9.0,>=2023.1.0->datasets) (2.6.1)\n",
            "Requirement already satisfied: aiosignal>=1.4.0 in /usr/local/python/3.12.1/lib/python3.12/site-packages (from aiohttp!=4.0.0a0,!=4.0.0a1->fsspec[http]<=2025.9.0,>=2023.1.0->datasets) (1.4.0)\n",
            "Requirement already satisfied: attrs>=17.3.0 in /home/codespace/.local/lib/python3.12/site-packages (from aiohttp!=4.0.0a0,!=4.0.0a1->fsspec[http]<=2025.9.0,>=2023.1.0->datasets) (25.3.0)\n",
            "Requirement already satisfied: frozenlist>=1.1.1 in /usr/local/python/3.12.1/lib/python3.12/site-packages (from aiohttp!=4.0.0a0,!=4.0.0a1->fsspec[http]<=2025.9.0,>=2023.1.0->datasets) (1.7.0)\n",
            "Requirement already satisfied: multidict<7.0,>=4.5 in /usr/local/python/3.12.1/lib/python3.12/site-packages (from aiohttp!=4.0.0a0,!=4.0.0a1->fsspec[http]<=2025.9.0,>=2023.1.0->datasets) (6.6.4)\n",
            "Requirement already satisfied: propcache>=0.2.0 in /usr/local/python/3.12.1/lib/python3.12/site-packages (from aiohttp!=4.0.0a0,!=4.0.0a1->fsspec[http]<=2025.9.0,>=2023.1.0->datasets) (0.3.2)\n",
            "Requirement already satisfied: yarl<2.0,>=1.17.0 in /usr/local/python/3.12.1/lib/python3.12/site-packages (from aiohttp!=4.0.0a0,!=4.0.0a1->fsspec[http]<=2025.9.0,>=2023.1.0->datasets) (1.20.1)\n",
            "Requirement already satisfied: idna>=2.0 in /home/codespace/.local/lib/python3.12/site-packages (from yarl<2.0,>=1.17.0->aiohttp!=4.0.0a0,!=4.0.0a1->fsspec[http]<=2025.9.0,>=2023.1.0->datasets) (3.10)\n",
            "Requirement already satisfied: typing-extensions>=4.2 in /home/codespace/.local/lib/python3.12/site-packages (from aiosignal>=1.4.0->aiohttp!=4.0.0a0,!=4.0.0a1->fsspec[http]<=2025.9.0,>=2023.1.0->datasets) (4.14.1)\n",
            "Requirement already satisfied: hf-xet<2.0.0,>=1.1.3 in /usr/local/python/3.12.1/lib/python3.12/site-packages (from huggingface-hub>=0.24.0->datasets) (1.1.10)\n",
            "Requirement already satisfied: charset_normalizer<4,>=2 in /home/codespace/.local/lib/python3.12/site-packages (from requests>=2.32.2->datasets) (3.4.2)\n",
            "Requirement already satisfied: urllib3<3,>=1.21.1 in /home/codespace/.local/lib/python3.12/site-packages (from requests>=2.32.2->datasets) (2.5.0)\n",
            "Requirement already satisfied: certifi>=2017.4.17 in /home/codespace/.local/lib/python3.12/site-packages (from requests>=2.32.2->datasets) (2025.7.9)\n",
            "Requirement already satisfied: python-dateutil>=2.8.2 in /home/codespace/.local/lib/python3.12/site-packages (from pandas->datasets) (2.9.0.post0)\n",
            "Requirement already satisfied: pytz>=2020.1 in /home/codespace/.local/lib/python3.12/site-packages (from pandas->datasets) (2025.2)\n",
            "Requirement already satisfied: tzdata>=2022.7 in /home/codespace/.local/lib/python3.12/site-packages (from pandas->datasets) (2025.2)\n",
            "Requirement already satisfied: six>=1.5 in /home/codespace/.local/lib/python3.12/site-packages (from python-dateutil>=2.8.2->pandas->datasets) (1.17.0)\n",
            "Note: you may need to restart the kernel to use updated packages.\n",
            "Collecting ipywidgets\n",
            "  Downloading ipywidgets-8.1.7-py3-none-any.whl.metadata (2.4 kB)\n",
            "Requirement already satisfied: comm>=0.1.3 in /home/codespace/.local/lib/python3.12/site-packages (from ipywidgets) (0.2.2)\n",
            "Requirement already satisfied: ipython>=6.1.0 in /home/codespace/.local/lib/python3.12/site-packages (from ipywidgets) (9.4.0)\n",
            "Requirement already satisfied: traitlets>=4.3.1 in /home/codespace/.local/lib/python3.12/site-packages (from ipywidgets) (5.14.3)\n",
            "Collecting widgetsnbextension~=4.0.14 (from ipywidgets)\n",
            "  Downloading widgetsnbextension-4.0.14-py3-none-any.whl.metadata (1.6 kB)\n",
            "Collecting jupyterlab_widgets~=3.0.15 (from ipywidgets)\n",
            "  Downloading jupyterlab_widgets-3.0.15-py3-none-any.whl.metadata (20 kB)\n",
            "Requirement already satisfied: decorator in /home/codespace/.local/lib/python3.12/site-packages (from ipython>=6.1.0->ipywidgets) (5.2.1)\n",
            "Requirement already satisfied: ipython-pygments-lexers in /home/codespace/.local/lib/python3.12/site-packages (from ipython>=6.1.0->ipywidgets) (1.1.1)\n",
            "Requirement already satisfied: jedi>=0.16 in /home/codespace/.local/lib/python3.12/site-packages (from ipython>=6.1.0->ipywidgets) (0.19.2)\n",
            "Requirement already satisfied: matplotlib-inline in /home/codespace/.local/lib/python3.12/site-packages (from ipython>=6.1.0->ipywidgets) (0.1.7)\n",
            "Requirement already satisfied: pexpect>4.3 in /home/codespace/.local/lib/python3.12/site-packages (from ipython>=6.1.0->ipywidgets) (4.9.0)\n",
            "Requirement already satisfied: prompt_toolkit<3.1.0,>=3.0.41 in /home/codespace/.local/lib/python3.12/site-packages (from ipython>=6.1.0->ipywidgets) (3.0.51)\n",
            "Requirement already satisfied: pygments>=2.4.0 in /home/codespace/.local/lib/python3.12/site-packages (from ipython>=6.1.0->ipywidgets) (2.19.2)\n",
            "Requirement already satisfied: stack_data in /home/codespace/.local/lib/python3.12/site-packages (from ipython>=6.1.0->ipywidgets) (0.6.3)\n",
            "Requirement already satisfied: wcwidth in /home/codespace/.local/lib/python3.12/site-packages (from prompt_toolkit<3.1.0,>=3.0.41->ipython>=6.1.0->ipywidgets) (0.2.13)\n",
            "Requirement already satisfied: parso<0.9.0,>=0.8.4 in /home/codespace/.local/lib/python3.12/site-packages (from jedi>=0.16->ipython>=6.1.0->ipywidgets) (0.8.4)\n",
            "Requirement already satisfied: ptyprocess>=0.5 in /home/codespace/.local/lib/python3.12/site-packages (from pexpect>4.3->ipython>=6.1.0->ipywidgets) (0.7.0)\n",
            "Requirement already satisfied: executing>=1.2.0 in /home/codespace/.local/lib/python3.12/site-packages (from stack_data->ipython>=6.1.0->ipywidgets) (2.2.0)\n",
            "Requirement already satisfied: asttokens>=2.1.0 in /home/codespace/.local/lib/python3.12/site-packages (from stack_data->ipython>=6.1.0->ipywidgets) (3.0.0)\n",
            "Requirement already satisfied: pure-eval in /home/codespace/.local/lib/python3.12/site-packages (from stack_data->ipython>=6.1.0->ipywidgets) (0.2.3)\n",
            "Downloading ipywidgets-8.1.7-py3-none-any.whl (139 kB)\n",
            "Downloading jupyterlab_widgets-3.0.15-py3-none-any.whl (216 kB)\n",
            "Downloading widgetsnbextension-4.0.14-py3-none-any.whl (2.2 MB)\n",
            "\u001b[2K   \u001b[90m━━━━━━━━━━━━━━━━━━━━━━━━━━━━━━━━━━━━━━━━\u001b[0m \u001b[32m2.2/2.2 MB\u001b[0m \u001b[31m39.1 MB/s\u001b[0m  \u001b[33m0:00:00\u001b[0m\n",
            "\u001b[?25hInstalling collected packages: widgetsnbextension, jupyterlab_widgets, ipywidgets\n",
            "\u001b[2K   \u001b[90m━━━━━━━━━━━━━━━━━━━━━━━━━━━━━━━━━━━━━━━━\u001b[0m \u001b[32m3/3\u001b[0m [ipywidgets]3\u001b[0m [ipywidgets]\n",
            "\u001b[1A\u001b[2KSuccessfully installed ipywidgets-8.1.7 jupyterlab_widgets-3.0.15 widgetsnbextension-4.0.14\n",
            "Note: you may need to restart the kernel to use updated packages.\n"
          ]
        }
      ],
      "source": [
        "%pip install datasets\n",
        "%pip install ipywidgets"
      ]
    },
    {
      "cell_type": "code",
      "execution_count": 4,
      "id": "61d8e814",
      "metadata": {},
      "outputs": [],
      "source": [
        "import pandas as pd\n",
        "from datasets import load_dataset\n",
        "from datasets import load_dataset_builder"
      ]
    },
    {
      "cell_type": "code",
      "execution_count": 5,
      "id": "2c1c856d",
      "metadata": {},
      "outputs": [
        {
          "data": {
            "text/plain": [
              "{'id': Value('string'),\n",
              " 'CodigoPronunciamento': Value('string'),\n",
              " 'Casa': Value('string'),\n",
              " 'Data': Value('string'),\n",
              " 'Resumo': Value('string'),\n",
              " 'Indexacao': Value('string'),\n",
              " 'TextoIntegral': Value('string'),\n",
              " 'TextoIntegralTxt': Value('string'),\n",
              " 'UrlTextoBinario': Value('string'),\n",
              " 'TipoAutor': Value('string'),\n",
              " 'FuncaoAutor': Value('string'),\n",
              " 'NomeAutor': Value('string'),\n",
              " 'CodigoParlamentar': Value('string'),\n",
              " 'Partido': Value('string'),\n",
              " 'UF': Value('string'),\n",
              " 'TipoUsoPalavra.Codigo': Value('string'),\n",
              " 'TipoUsoPalavra.Sigla': Value('string'),\n",
              " 'TipoUsoPalavra.Descricao': Value('string'),\n",
              " 'TipoUsoPalavra.IndicadorAtivo': Value('string'),\n",
              " 'Publicacoes.Publicacao': List({'DataPublicacao': Value('string'), 'FontePublicacao': Value('string'), 'PaginaFinal': Value('string'), 'PaginaInicial': Value('string'), 'SiglaFonte': Value('string'), 'TipoPublicacao': Value('string'), 'UrlDiario': Value('string')}),\n",
              " 'Apartes.Aparteante': List(Value('string')),\n",
              " '__janela_inicio': Value('string'),\n",
              " '__janela_fim': Value('string'),\n",
              " 'CargoAutor': Value('string'),\n",
              " 'OrgaoAutor': Value('string'),\n",
              " 'PaisAutor': Value('string'),\n",
              " 'TextoDiscursoIntegral': Value('string'),\n",
              " 'ok': Value('bool'),\n",
              " 'status': Value('int64'),\n",
              " 'msg': Value('string')}"
            ]
          },
          "execution_count": 5,
          "metadata": {},
          "output_type": "execute_result"
        }
      ],
      "source": [
        "ds_builder = load_dataset_builder(\"fabriciosantana/discursos-senado-legislatura-56\")\n",
        "\n",
        "ds_builder.info.description\n",
        "\n",
        "ds_builder.info.features"
      ]
    },
    {
      "cell_type": "code",
      "execution_count": 6,
      "id": "41a06086",
      "metadata": {
        "id": "41a06086"
      },
      "outputs": [],
      "source": [
        "\n",
        "#from pathlib import Path\n",
        "\n",
        "#DATA = Path(\"_data/discursos_2019-02-01_2023-01-31.parquet\")\n",
        "#df = pd.read_parquet(DATA)\n",
        "\n",
        "data_files = {\"train\": \"data/full/discursos_2019-02-01_2023-01-31.parquet\"}\n",
        "dataset = load_dataset(\"fabriciosantana/discursos-senado-legislatura-56\", data_files=data_files)"
      ]
    },
    {
      "cell_type": "code",
      "execution_count": 10,
      "id": "779a2d40",
      "metadata": {},
      "outputs": [
        {
          "name": "stdout",
          "output_type": "stream",
          "text": [
            "<class 'datasets.dataset_dict.DatasetDict'>\n"
          ]
        },
        {
          "data": {
            "text/plain": [
              "DatasetDict({\n",
              "    train: Dataset({\n",
              "        features: ['id', 'CodigoPronunciamento', 'Casa', 'Data', 'Resumo', 'Indexacao', 'TextoIntegral', 'TextoIntegralTxt', 'UrlTextoBinario', 'TipoAutor', 'FuncaoAutor', 'NomeAutor', 'CodigoParlamentar', 'Partido', 'UF', 'TipoUsoPalavra.Codigo', 'TipoUsoPalavra.Sigla', 'TipoUsoPalavra.Descricao', 'TipoUsoPalavra.IndicadorAtivo', 'Publicacoes.Publicacao', 'Apartes.Aparteante', '__janela_inicio', '__janela_fim', 'CargoAutor', 'OrgaoAutor', 'PaisAutor', 'TextoDiscursoIntegral', 'ok', 'status', 'msg'],\n",
              "        num_rows: 15729\n",
              "    })\n",
              "})"
            ]
          },
          "execution_count": 10,
          "metadata": {},
          "output_type": "execute_result"
        }
      ],
      "source": [
        "print(type(dataset))\n",
        "dataset"
      ]
    },
    {
      "cell_type": "code",
      "execution_count": null,
      "id": "67b4eed9",
      "metadata": {
        "id": "67b4eed9"
      },
      "outputs": [
        {
          "data": {
            "application/vnd.microsoft.datawrangler.viewer.v0+json": {
              "columns": [
                {
                  "name": "index",
                  "rawType": "int64",
                  "type": "integer"
                },
                {
                  "name": "id",
                  "rawType": "object",
                  "type": "string"
                },
                {
                  "name": "CodigoPronunciamento",
                  "rawType": "object",
                  "type": "string"
                },
                {
                  "name": "Casa",
                  "rawType": "object",
                  "type": "string"
                },
                {
                  "name": "Data",
                  "rawType": "object",
                  "type": "string"
                },
                {
                  "name": "Resumo",
                  "rawType": "object",
                  "type": "string"
                },
                {
                  "name": "Indexacao",
                  "rawType": "object",
                  "type": "string"
                },
                {
                  "name": "TextoIntegral",
                  "rawType": "object",
                  "type": "string"
                },
                {
                  "name": "TextoIntegralTxt",
                  "rawType": "object",
                  "type": "string"
                },
                {
                  "name": "UrlTextoBinario",
                  "rawType": "object",
                  "type": "string"
                },
                {
                  "name": "TipoAutor",
                  "rawType": "object",
                  "type": "string"
                },
                {
                  "name": "FuncaoAutor",
                  "rawType": "object",
                  "type": "string"
                },
                {
                  "name": "NomeAutor",
                  "rawType": "object",
                  "type": "string"
                },
                {
                  "name": "CodigoParlamentar",
                  "rawType": "object",
                  "type": "string"
                },
                {
                  "name": "Partido",
                  "rawType": "object",
                  "type": "string"
                },
                {
                  "name": "UF",
                  "rawType": "object",
                  "type": "string"
                },
                {
                  "name": "TipoUsoPalavra.Codigo",
                  "rawType": "object",
                  "type": "string"
                },
                {
                  "name": "TipoUsoPalavra.Sigla",
                  "rawType": "object",
                  "type": "string"
                },
                {
                  "name": "TipoUsoPalavra.Descricao",
                  "rawType": "object",
                  "type": "string"
                },
                {
                  "name": "TipoUsoPalavra.IndicadorAtivo",
                  "rawType": "object",
                  "type": "string"
                },
                {
                  "name": "Publicacoes.Publicacao",
                  "rawType": "object",
                  "type": "unknown"
                },
                {
                  "name": "Apartes.Aparteante",
                  "rawType": "object",
                  "type": "unknown"
                },
                {
                  "name": "__janela_inicio",
                  "rawType": "object",
                  "type": "string"
                },
                {
                  "name": "__janela_fim",
                  "rawType": "object",
                  "type": "string"
                },
                {
                  "name": "CargoAutor",
                  "rawType": "object",
                  "type": "unknown"
                },
                {
                  "name": "OrgaoAutor",
                  "rawType": "object",
                  "type": "unknown"
                },
                {
                  "name": "PaisAutor",
                  "rawType": "object",
                  "type": "unknown"
                },
                {
                  "name": "TextoDiscursoIntegral",
                  "rawType": "object",
                  "type": "string"
                },
                {
                  "name": "ok",
                  "rawType": "bool",
                  "type": "boolean"
                },
                {
                  "name": "status",
                  "rawType": "int64",
                  "type": "integer"
                },
                {
                  "name": "msg",
                  "rawType": "object",
                  "type": "string"
                }
              ],
              "ref": "f6fd804c-9d54-4193-b852-caa887603c89",
              "rows": [
                [
                  "0",
                  "451286",
                  "451286",
                  "Senado Federal",
                  "2019-02-27",
                  "Comentários a respeito da concentração bancária no Brasil e de como ela afeta a cobrança de juros, das tarifas e dos spreads cobrados pelas instituições financeiras. Dúvidas se ocadastro positivo de bons pagadores, aprovado na Câmara dos Deputados, estimulará a redução da taxa básica de juros.",
                  "COMENTARIO, CONCENTRAÇÃO, REDE BANCARIA, COBRANÇA, JUROS, TARIFAS, REGISTRO, AUSENCIA, COMPETIÇÃO, PREJUIZO, CONSUMIDOR, DUVIDA, BENEFICIO, CADASTRO, PAGAMENTO, DEVEDOR, REFERENCIA, REDUÇÃO, TAXA, JUROS.",
                  "https://www25.senado.leg.br/web/atividade/pronunciamentos/-/p/texto/451286",
                  "https://legis.senado.leg.br/dadosabertos/discurso/texto-integral/451286",
                  "https://legis.senado.leg.br/dadosabertos/discurso/texto-binario/451286",
                  "Senador(a)",
                  "SENADOR",
                  "Ciro Nogueira",
                  "739",
                  "PP",
                  "PI",
                  "4819",
                  "DIS",
                  "Discurso",
                  "Sim",
                  "[{'DataPublicacao': '2019-02-28', 'FontePublicacao': 'Diário do Senado Federal', 'PaginaFinal': '118', 'PaginaInicial': '117', 'SiglaFonte': 'DSF', 'TipoPublicacao': 'PUB', 'UrlDiario': 'http://legis.senado.leg.br/diarios/BuscaDiario?tipDiario=1&datDiario=28/02/2019&paginaDireta=117'}]",
                  null,
                  "2019-02-01",
                  "2019-03-03",
                  null,
                  null,
                  null,
                  "SENADO FEDERAL SF -\nSECRETARIA-GERAL DA MESA\nSECRETARIA DE REGISTRO E REDAÇÃO PARLAMENTAR - SERERP\nCOORDENAÇÃO DE REDAÇÃO E MONTAGEM - COREM\n27/02/2019\n    O SR. CIRO NOGUEIRA (Bloco Parlamentar Unidos pelo Brasil/PP-PI. Sem apanhamento taquigráfico.) - Sr. Presidente, Sras. Senadoras e Srs. Senadores, no início deste ano, o ilustre Deputado Júlio César, meu companheiro piauiense, reuniu um conjunto de dados que demonstram a realidade da concentração bancária no Brasil e como ela afeta a cobrança dos juros, das tarifas bancárias e do spread cobrado pelas instituições financeiras no país.\n    Nesse sentido, destaco, primeiramente, o índice, que não chega a ser surpreendente, de que os cinco maiores bancos brasileiros - Banco do Brasil, Bradesco, Itaú, Santander e Caixa - concentram cerca de 82% dos ativos financeiros.\n    Digo que o número não surpreende porque assistimos nos últimos anos, infelizmente, a um aumento da concentração bancária. No período entre 2006 e 2016, esse índice subiu 22 pontos percentuais, saindo de 60% para 82%.\n    Assim, têm-se a sensação de que os órgãos reguladores, especialmente o Banco Central, pareceram, ao longo desse período, não se preocupar com o avanço da concentração bancária.\n    O problema real, contudo, se revela é na outra ponta, a do consumidor: a baixa competição entre as instituições financeiras faz com que as pessoas físicas e jurídicas que utilizam os serviços bancários paguem juros, tarifas e spreads mais altos.\n    Nas tarifas bancárias, a falta de competição entre os cinco maiores bancos é visível. O custo dos pacotes padronizados de serviços oferecidos por essas instituições varia muito pouco, o que traz a impressão de que não só os serviços são padronizados, mas também os preços por eles estabelecidos.\n    Veja-se, por exemplo, o chamado pacote básico, que dá ao cliente a possibilidade de realizar mensalmente quatro saques, duas transferências entre contas da própria instituição e a impressão de dois extratos, além dos serviços obrigatoriamente gratuitos. A tarifa mais barata, entre os cinco maiores bancos, de acordo com o Banco Central, é de R$ 12,00 e a mais cara de R$ 12,40 por mês. Uma variação, portanto, de apenas 40 centavos. Dois dos cincos bancos pesquisados praticam tarifas praticamente idênticas.\n    No que tange à questão do spread, isto é, a diferença entre os juros para captar e emprestar dinheiro, o Brasil ostenta uma posição desonrosa no cenário internacional. Segundo informações publicadas pelo Banco Mundial em 2016, de 92 países pesquisados, apenas Madagascar possuía spread bancário maior que o Brasil.\n    Naquele ano, o Brasil registrou um spread médio de 39,6%, já no Uruguai, Argentina, Bolívia e Chile, as taxas foram, respectivamente, de 10,6%, 6,9%, 6,5% e 1,7%. É inexplicável que os nossos números sejam tão expressivos quando comparados, por exemplo, aos demais países da América do Sul.\n    No capítulo dos juros não é diferente. Os bancos cobram taxas estratosféricas, que seriam impensáveis em outros países. Os juros do cheque especial para pessoas jurídicas variam, entre as cinco maiores instituições financeiras, de 350,17% a 379,59% ao ano. Já para as pessoas físicas, as taxas iniciam em 288,40% e podem chegar até a 421,19% anuais. O mesmo ocorre com os juros aplicados aos empréstimos rotativos dos cartões de crédito, cujo valores, coletados pelo Banco Central, encontram-se entre 196,94% e 259,34%.\n    Como explicar esses números? Ainda mais considerando que a Selic, taxa básica de juros, de janeiro passado foi de 0,53% e a taxa acumulada dos últimos 12 meses foi de 6,54%.\n    Não é crível imaginar que os índices de inadimplência em operações de crédito, de 2,9% entre as pessoas jurídicas e de 3,6% entre as pessoas físicas, possam justificar tamanha desproporção. Na realidade, são os próprios juros absurdos que alimentam a inadimplência.\n    As instituições financeiras têm propagado que parte da solução para esse problema estaria na aprovação do cadastro positivo de bons pagadores.\n    Na semana passada, a Câmara dos Deputados aprovou o projeto de lei que autoriza as instituições financeiras a incluírem informações acerca do histórico de crédito dos consumidores, independentemente de autorização, no banco de dados do cadastro positivo já existente.\n    A matéria tramitará agora neste Senado Federal e creio que cabe aos bancos convencer esta Casa e assumir o compromisso de que, com as novas regras, a queda dos juros, de fato, ocorrerá. Do contrário, ficará a desconfiança de que os juros não baixarão para os \"bons pagadores\" e serão ainda mais onerosos para aqueles consumidores que, infelizmente, não conseguem se manter adimplentes.\n    Creio, porém, que a questão não se equalizará com a redução dos juros para patamares aceitáveis, enquanto não atacarmos a concentração e verticalização dos bancos.\n    Os cinco maiores bancos brasileiros ampliaram e diversificaram cada vez mais seus negócios, atuando, por exemplo, no setor de meio de pagamentos, de seguros e de corretagem. Será que essa verticalização beneficia o consumidor ou aumenta a concentração bancária, contribuindo para reduzir ainda mais a concorrência?\n    Fiquei muito feliz quando o Ministro Paulo Guedes anunciou que combaterá a concentração e a verticalização nas instituições financeiras. No entanto, a assunto não se encontra na lista das metas para os 100 primeiros dias anunciada pelo Governo.\n    É preciso endereçar o problema com a urgência que ele requer e que a população brasileira merece. Os consumidores e as empresas não suportam mais pagar juros tão elevados.\n    Era o que tinha a dizer.\n    Muito obrigado.",
                  "True",
                  "200",
                  ""
                ],
                [
                  "1",
                  "451285",
                  "451285",
                  "Senado Federal",
                  "2019-02-27",
                  "Registro do impacto da reforma da previdência social na Lei nº 13.146, de 2015, que dispõe sobre o Estatuto da Pessoa com Deficiência, no que diz respeito à avaliação da deficiência.",
                  "REGISTRO, REFORMA, PREVIDENCIA SOCIAL, ALTERAÇÃO, ESTATUTO, PESSOA DEFICIENTE, REGULAMENTAÇÃO, AVALIAÇÃO, DEFICIENCIA, OBJETIVO, ACRESCIMO, SALARIO, RETORNO, MERCADO DE TRABALHO. \n\n\nDEFESA, MULHER, LUTA, DIREITOS, COMENTARIO, DIVULGAÇÃO, ASSEDIO MORAL, ASSEDIO SEXUAL, REGISTRO, ESTATISTICA, INSTITUTO BRASILEIRO DE GEOGRAFIA E ESTATISTICA (IBGE), AUSENCIA, IGUALDADE.",
                  "https://www25.senado.leg.br/web/atividade/pronunciamentos/-/p/texto/451285",
                  "https://legis.senado.leg.br/dadosabertos/discurso/texto-integral/451285",
                  "https://legis.senado.leg.br/dadosabertos/discurso/texto-binario/451285",
                  "Senador(a)",
                  "SENADOR",
                  "Paulo Paim",
                  "825",
                  "PT",
                  "RS",
                  "4819",
                  "DIS",
                  "Discurso",
                  "Sim",
                  "[{'DataPublicacao': '2019-02-28', 'FontePublicacao': 'Diário do Senado Federal', 'PaginaFinal': '116', 'PaginaInicial': '113', 'SiglaFonte': 'DSF', 'TipoPublicacao': 'PUB', 'UrlDiario': 'http://legis.senado.leg.br/diarios/BuscaDiario?tipDiario=1&datDiario=28/02/2019&paginaDireta=113'}]",
                  null,
                  "2019-02-01",
                  "2019-03-03",
                  null,
                  null,
                  null,
                  "SENADO FEDERAL SF -\nSECRETARIA-GERAL DA MESA\nSECRETARIA DE REGISTRO E REDAÇÃO PARLAMENTAR - SERERP\nCOORDENAÇÃO DE REDAÇÃO E MONTAGEM - COREM\n27/02/2019\n    O SR. PAULO PAIM (Bloco Parlamentar da Resistência Democrática/PT - RS. Sem apanhamento taquigráfico.) - Sr. Presidente, Sras. e Srs. Senadores, a reforma da Previdência está mexendo com a vida de todos, e, neste cenário a vida das pessoas com deficiência também será impactada.\n    A Lei 13.146 de 2015, do Estatuto da Pessoa com Deficiência, diz que a avaliação da deficiência será feita por equipe multiprofissional e interdisciplinar e que os instrumentos para essa avaliação deverão ser criados pelo poder executivo por meio de regulamentação.\n    O prazo para esta regulamentação, estabelecido pelo Estatuto, se esgotou em janeiro de 2018.\n    E agora, Senhoras e Senhores, algo torna essa regulamentação ainda mais urgente.\n    A PEC 06/2019, da reforma da Previdência, ao falar na aposentadoria especial da pessoa com deficiência e no BPC remete-se à avaliação da deficiência, que deverá ser feita por equipe multiprofissional e interdisciplinar.\n    Há, porém, Sr. Presidente, se dizer que essa avaliação depende de instrumentos que ainda não foram criados. Portanto, é preciso que o artigo 2º do Estatuto da Pessoa com Deficiência seja regulamentado, criando assim esse instrumento.\n    Nessa mesma linha, carecendo de regulamentação, outro dispositivo do estatuto dispõe sobre o auxílio inclusão.\n    Este auxílio é um acréscimo ao salário da pessoa com deficiência para que esta se sinta estimulada a deixar o BPC (Benefício de Prestação Continuada) e vá para o mercado de trabalho, segundo o artigo 94 do Estatuto.\n    O valor desse acréscimo também precisa ser regulamentado. Existe um projeto na Câmara dos Deputados, o PL 4410/2016, de autoria da deputada Flávia Moraes, que estabelece esse valor em no mínimo 50% do salário-mínimo. Já a PEC 06/2019, da reforma da Previdência, estabelece este valor em 10% do salário-mínimo.\n    Sr. Presidente, mas outro ponto importante, como já falei na semana passada, aqui mesmo desta tribuna, é o critério de miséria que se busca constitucionalizar.\n    Qual seja, exige a renda familiar de até do salário mínimo.\n    Esse critério já foi declarado de inconstitucional pelo STF no julgamento dos Recursos Extraordinários n° 567985 e 580963, ambos com repercussão geral. Foi fixado prazo para o Congresso Nacional aprovar nova legislação.\n    Lembro que apresentei em 2005, o projeto para regulamentar a renda per capita para reconhecer a miséria, para 3A do salário mínimo.\n    Infelizmente, essa casa não aprovou o projeto, que foi arquivado. Já requeri o desarquivamento.\n    Senhoras e Senhores. O que quero realmente com esta fala, é sensibilizar o executivo para a continuidade do processo de regulamentação do artigo segundo do Estatuto da Pessoa com Deficiência.\n    Estamos diante do permanente desafio de tornar mais eficientes as políticas de acessibilidade e que estas alcancem aqueles que delas necessitam.\n    Neste caminho, todos os poderes da República têm seu papel, na elaboração das leis, na implementação das políticas e no acompanhamento da execução das ações.\n    Era o que tinha a dizer.\n    O SR. PAULO PAIM (Bloco Parlamentar da Resistência Democrática/PT - RS. Sem apanhamento taquigráfico.) - Sr. Presidente, Sras. e Srs. Senadores, recentemente, a luta das mulheres por direitos, igualdade e segurança ganhou significativo destaque nos noticiários pelo mundo.\n    No final de 2017, uma verdadeira avalanche de denúncias começou quando grandes atrizes perderam o medo, quebraram o silêncio e acusaram de assédio sexual e moral, estupro e outros abusos produtores e atores dos Estados Unidos.\n    Grupos poderosos foram obrigados a tomar atitudes severas diante da repercussão negativa dos testemunhos, para evitar serem considerados cúmplices ou coniventes com os crimes.\n    Houve várias demissões e pedidos públicos de desculpas. Ricos e famosos, antes intocáveis, foram obrigados a reconhecer seus erros e a ver suas fotos estampadas nos jornais, nas páginas policiais.\n    Como consequência, o movimento \"Eu Também\" cresceu e se disseminou. Principalmente nas redes sociais, mulheres de todo o mundo, fossem pessoas comuns ou celebridades, passaram a denunciar casos de abusos.\n    A onda reverberou no mundo do esporte. Ginastas olímpicas americanas denunciaram treinadores. No Brasil, atletas da ginástica, da natação e até do futebol meninos e adolescentes, inclusive - expuseram abusadores.\n    No início de 2018, foram assinados termos de cooperação entre o Ministério Público do Trabalho e diversas confederações desportivas, que juntavam forças para combater o assédio e outros crimes sexuais.\n    O próprio Comitê Olímpico Brasileiro criou um canal para facilitar as denúncias. O Código de Conduta Ética da entidade, atualizado em junho do ano passado, estabeleceu penas de multa e até banimento para os culpados.\n    Parecia que as vítimas finalmente encontravam apoio e que o debate do assunto, antes tabu, seria amplo e definitivo. A vergonha deu lugar à coragem. O silêncio deu lugar à denúncia. Alguns foram punidos.\n    Uma nova consciência dos riscos de ser mulher num mundo machista crescia também entre os homens, que timidamente iam aderindo a movimentos de combate ao assédio em todo o mundo.\n    Até no Vaticano houve quebra do silêncio. Publicação dedicada às mulheres, em edição de fevereiro de 2019, divulgou casos de abuso moral e sexual sofrido por freiras que foram cometidos - Sras. e Srs. Senadores - por clérigos, dentro de igrejas e conventos.\n    A enxurrada de denúncias tinha ares de movimento sem volta, mas não foi exatamente o que aconteceu.\n    Estamos pertos de mais um 8 de março, Dia Internacional da Mulher, ao fazer um balanço das conquistas obtidas e das derrotas, não é difícil ver que essas bravas guerreiras ainda têm muito por que batalhar. A luta está longe do fim!\n    A reação do patriarcado é forte. Muitas mulheres que se sentiram encorajadas a delatar seus agressores sofreram perseguições no local de trabalho. Muitas das freiras, vítimas do Vaticano, foram transferidas ou expulsas de suas ordens religiosas. Em Hollywood, os escândalos já são jornal de ontem. Pouco se fala no assunto!\n    E, é claro, os velhos problemas continuam aí!\n    Segundo o estudo Estatística de Gênero do IBGE, publicado recentemente, as mulheres ocupam menos postos de trabalho do que os homens, recebem menos - ainda que exerçam a mesmíssima função - e são expostas à violência moral e sexual.\n    Se têm ensino superior completo ou mais, elas ganham cerca de 63% do que os homens com formação equivalente. Os cargos de coordenação e chefia são majoritariamente ocupados por eles! As trabalhadoras negras não são mais do que 1,6% do quadro de gerentes nas empresas, segundo estudo do Instituto Ethos.\n    Levantamento do mesmo IBGE dá conta de que a jornada de trabalho das mulheres é, em média, de 54,5 horas por semana, das quais 36,5h são dedicadas ao serviço remunerado e outras 18h ao serviço doméstico. Para os homens, esse número cai para 51,6 horas por semana, das quais apenas 10 horas são dedicadas à casa.\n    Se durante a vida laboral o desafio para as mulheres é sempre maior, as perdas, com a atual proposta de reforma da previdência, também são maiores para elas do que para eles.\n    Serão obrigadas a trabalhar por mais 7 anos e a contribuir por mais 10 além do que se exige na legislação em vigor, se quiserem contar com uma aposentadoria integral capaz de atender suas necessidades na velhice.\n    Na política, a participação feminina ainda está muito longe do ideal. Hoje contamos com apenas 12 colegas no Senado Federal. Antes eram 13! Não mais do que 30% dos 108 suplentes nesta Casa são mulheres.\n    Graças à Câmara dos Deputados, nem tudo são más notícias. Hoje, contamos com 77 deputadas, 16 a mais do que na composição da Casa até 2018. Isso há que se reconhecer e mencionar!\n    No Executivo, a baixíssima representatividade feminina chama a atenção. Apenas uma Governadora foi eleita em segundo turno, Fátima Bezerra, do PT do Rio Grande do Norte.\n    Poucas na política, as mulheres são muitas nas estatísticas da violência.\n    Levantamento do Instituto Datafolha divulgado recentemente informa que, abro aspas, “nos últimos 12 meses, 1,6 milhão de mulheres foram espancadas ou sofreram tentativa de estrangulamento no Brasil, enquanto 22 milhões (37,1%) de brasileiras passaram por algum tipo de assédio.\n    Dentro de casa, a situação não é melhor. Entre os casos de violência, 42% ocorreram no ambiente doméstico. Mais da metade das mulheres (52%) não denunciou o agressor ou procurou ajuda”. Fecho aspas.\n    Apenas nos 11 primeiros dias de 2019, 33 mulheres foram vítimas de feminicídio. Outras 17 sobreviveram a agressões que poderiam ter sido letais.\n    Há pouco mais de uma semana, as fotos do rosto desfigurado de Elaine Caparroz emocionaram o país. Ela foi espancada durante horas, teve os ossos da face fraturados.\n    Causou-me desconcerto, revolta, raiva, tristeza profunda ver que, mesmo diante do sofrimento daquela mulher, muitos ainda puderam falar contra ela. \"Levou um desconhecido para dentro de casa, um homem que conheceu na internet\".\n    Até quando insistiremos nesse infame hábito de culpar as vítimas, de lhes impor o ônus de se proteger diante da violência? Até quando?\n    Não há lugar seguro para as mulheres. Elas são atacadas na escola, na igreja, em casa, no trabalho. O agressor, na maioria dos casos, é alguém que a vítima conhece. Um professor, um padre, o companheiro, o chefe.\n    Sem dúvidas, Senhoras e Senhores Senadores, as certezas que se renovam neste dia 8 de março de 2019 são de que a luta é grande, o desafio é imenso, mas as lutadoras são fortes, as guerreiras não desanimam. Nós, os homens, precisamos engrossar as fileiras da infantaria nessa guerra.\n    Por um mundo seguro para todas; por igualdade no mercado de trabalho; por respeito aos direitos, à dignidade e à vida das mulheres; lutemos! Lutemos todos! Todos os dias!\n    Era o que tinha a dizer.",
                  "True",
                  "200",
                  ""
                ],
                [
                  "2",
                  "451205",
                  "451205",
                  "Senado Federal",
                  "2019-02-27",
                  "Comentários a respeito da catástrofe ocorrida em Brumadinho (MG) e satisfação com a aprovação, pela Comissão de Constituição e Justiça, do Projeto de Lei do Senado (PLS) nº 550, de 2019, que endurece a legislação relacionada às barragens de mineração. Elogio à Usina de Manso, no Mato Grosso, como exemplo de engenharia no que tange às barragens.",
                  "COMENTARIO, DESASTRE, ROMPIMENTO, BARRAGEM, BRUMADINHO (MG), ESTADO DE MINAS GERAIS (MG), REGISTRO, APRESENTAÇÃO, PROJETO DE LEI DO SENADO (PLS), ASSUNTO, LEGISLAÇÃO, POLITICA NACIONAL DE SEGURANÇA DE BARRAGENS (PNSB), ELOGIO, USINA, CUIABA (MT), ESTADO DE MATO GROSSO (MT), REFERENCIA, ENGENHARIA, OBRAS, SEGURANÇA. \n\n\nELOGIO, PROJETO DE LEI DO SENADO (PLS), AUTORIA, JAYME CAMPOS, SENADOR, ASSUNTO, RESPONSABILIDADE, PROCESSO PENAL, GOVERNANTE, DESCUMPRIMENTO, LEI KANDIR. \n\n\nCOMENTARIO, PROJETO DE LEI DO SENADO (PLS), PROJETO DE LEI DA CAMARA (PLC), ASSUNTO, CONTRIBUIÇÃO, IMPEDIMENTO, DESASTRE, BRUMADINHO (MG), CASA NOTURNA, SANTA MARIA (RS), CENTRO DE TREINAMENTO, CLUBE, FUTEBOL, ESTADO DO RIO DE JANEIRO (RJ).",
                  "https://www25.senado.leg.br/web/atividade/pronunciamentos/-/p/texto/451205",
                  "https://legis.senado.leg.br/dadosabertos/discurso/texto-integral/451205",
                  "https://legis.senado.leg.br/dadosabertos/discurso/texto-binario/451205",
                  "Senador(a)",
                  "SENADOR",
                  "Wellington Fagundes",
                  "1173",
                  "PR",
                  "MT",
                  "4819",
                  "DIS",
                  "Discurso",
                  "Sim",
                  "[{'DataPublicacao': '2019-02-28', 'FontePublicacao': 'Diário do Senado Federal', 'PaginaFinal': '99', 'PaginaInicial': '91', 'SiglaFonte': 'DSF', 'TipoPublicacao': 'PUB', 'UrlDiario': 'http://legis.senado.leg.br/diarios/BuscaDiario?tipDiario=1&datDiario=28/02/2019&paginaDireta=91'}]",
                  null,
                  "2019-02-01",
                  "2019-03-03",
                  null,
                  null,
                  null,
                  "O SR. WELLINGTON FAGUNDES (Bloco Parlamentar Vanguarda/PR - MT. Para discursar.) – Senador Marcos Rogério, que bom poder falar aqui sob a presidência de V. Exa.\n    O SR. PRESIDENTE (Marcos Rogério. Bloco Parlamentar Vanguarda/DEM - RO) – Obrigado.\n    O SR. WELLINGTON FAGUNDES (Bloco Parlamentar Vanguarda/PR - MT) – V. Exa. preside hoje esta sessão, mas também é o Presidente da Comissão de Infraestrutura aqui do Senado.\n    Como eu abordava agora há pouco, no aparte que fazia ao Senador Confúcio, tenho certeza de que o Brasil, neste momento, vive problemas tão grandiosos. E aqui quero falar um pouco sobre Brumadinho, do projeto que aprovamos hoje à tarde, com a competência dos novos que aqui chegam. Em nome da Senadora Leila, quero parabenizar todos aqueles que chegam a esta Casa.\n    E esse projeto é uma resposta que o Senado da República faz ao Brasil. É um alerta, na verdade, ao Brasil e à necessidade de que toda a sociedade não precisa esperar o mal pior para resolver as coisas. A questão de Brumadinho foi um acidente avisado, porque já houve a questão de Mariana. E o projeto que aprovamos aqui traz rigidez, traz, principalmente, mais responsabilização daqueles que vão fazer a exploração do meio ambiente. É claro que a preocupação maior do projeto eram as barragens dos rejeitos minerais, mas, na verdade, o projeto trata das barragens hídricas, de todo potencial hídrico também do Brasil.\n    Por isso, Senador Confúcio, eu coloquei lá uma preocupação com a Emenda nº 3, que trazia praticamente um engessamento total à construção de barragens, e às barragens hídricas... Eu lá chamava a atenção para o fato de que nós precisamos nos preocupar, acima de tudo, com o equilíbrio do meio ambiente, mas também com a vida. E, quando eu falo vida, é com a vida das pessoas, a vida dos animais, enfim. Às vezes, uma cidade, como Manaus, que eu citava, está totalmente rodeada de água e não tem água potável praticamente. A dificuldade da cidade é que o grande volume de água é contaminado pelas palafitas, pela falta de esgoto. E a cidade vive e viveu, em muitos momentos, muitas dificuldades nessa área.\n    Na minha capital, a nossa capital de Mato Grosso... Eu me lembro também que, na década de 70, houve uma enchente que dizimou grande parte da nossa capital, o bairro Terceiro, em função da enchente do Rio Cuiabá. À época, discutiu-se muito qual seria a solução e, na iluminação de um competente engenheiro, projetou-se a Usina de Manso. A Usina de Manso está acima da cidade, no Rio Manso, com outros afluentes que são afluentes do Rio Cuiabá.\n    Sobre essa usina houve, à época, uma discussão muito grande sobre se deveria ou não ser construída. À época, quando Dante de Oliveira era o Governador, eu, como coordenador aqui, tive a oportunidade de alocar os recursos que foram fundamentais, Senador Confúcio, aliás imprescindíveis, para a construção da Usina de Manso.\n    A Usina de Manso, na verdade, foi um projeto de engenharia para solucionar o problema das enchentes do Rio Cuiabá, mas é uma usina com atividade múltipla, ou seja, controlar as enchentes do Rio Cuiabá, fazer a perenidade do Rio Cuiabá, porque também na seca morriam os peixes, enfim todo um problema ambiental. Além disso, havia a questão do turismo, de uma grande caixa d'água para resolver o problema da falta de água de Cuiabá e ainda da agricultura irrigável.\n    Depois de toda essa discussão, conseguimos então concluir a construção da Usina de Manso. Portanto, foi uma solução. Hoje a Usina de Manso tem um parque aquático, onde o turismo é muito forte, com vários investimentos, gerando emprego, gerando renda, agricultura, piscicultura – só a Usina de Manso, Senador Confúcio, tem capacidade de produzir todo o peixe que produz hoje o Estado de Mato Grosso, que já é o maior produtor de peixe em tanques-rede –, ou seja, é um projeto de uma dimensão extremamente estratégica para a cidade. E eu sempre falo nesse projeto com grande orgulho, porque, junto com Dante de Oliveira... Quero lembrar aqui também o Berinho, que era Diretor da Eletronorte; o Rodrigues Palma, que era Deputado Federal, que esteve junto com Dante, para que eu, às 10 horas da noite, assinasse então aquela emenda, que foi fundamental.\n    E sempre faço questão de dizer, porque é uma obra que resolveu o problema da cidade por todos esses aspectos que eu aqui disse: \"Nunca mais houve enchente\". Aliás, à margem do Rio Cuiabá, nessa região, que era o antigo bairro Terceiro, hoje há várias universidades – faculdades, universidade instalada –, hoje está toda ela construída. O Parque de Exposições era sempre alagado. Então, tudo isso hoje se resolveu com a Usina de Manso.\n    Mas aqui nós estamos também preocupados: imagina se houver um rompimento de uma barragem como essa. Dizimaria praticamente toda a nossa capital Cuiabá e Várzea Grande. Por isso é que já propus hoje, na Comissão, e quero fazer esse requerimento, para ser aprovado, para que tenhamos uma audiência pública, lá em Cuiabá, para discutir exatamente, com os engenheiros, a segurança que aquela usina hoje nos garante, se tem alguma medida a ser tomada, para que a gente não tenha um incidente seja amanhã, seja daqui a qualquer momento. Por isso, eu creio que esse projeto é fundamental. Mas não podemos também, por uma situação dessas, fazer uma lei engessada.\n    Então, eu quero aqui parabenizar, inclusive, o Senador Anastasia, que, com a sua equipe, adaptou, ou seja, fez todas as correções possíveis. Acredito – aliás, até chamei a atenção dos técnicos – que uma vírgula, às vezes, pode mudar a interpretação de uma lei. Por isso, a regulamentação será extremamente imprescindível.\n    O que votamos hoje, no Senado, é terminativo, já vai agora para o Plenário da Câmara dos Deputados e, sendo votado na Câmara, será sancionado. Mas nós não podemos impedir que amanhã uma comunidade que precisa da água não possa ter uma barragem, não possa ter ali um reservatório de água.\n    Na minha cidade natal, Rondonópolis, por exemplo, hoje toda a captação de água é feita do Rio Vermelho. É um rio, como o nome diz, vermelho, de água barrenta, água muito arenosa. Quando chega o momento da seca, a captação de água suga praticamente o mesmo volume de água e areia, e isso leva a um custo muito de alto de tratamento.\n    Então, existe um projeto idealizado lá com a possibilidade de se fazer uma barragem acima da cidade, sobre o Rio Arareau. O Rio Arareau é um rio de pequeno curso, nasce próximo da cidade, com água de boa qualidade. Esse poderia ser um grande projeto para a cidade de Rondonópolis.\n    Eu creio que toda lei feita, às vezes, na opressão, na pressão, pode não ser uma lei ideal. Então, com o que votamos aqui no Senado, acho que demos uma resposta, mas quero continuar acompanhando o que acontecerá na Câmara dos Deputados. Vou pedir, inclusive, à consultoria, às assessorias, para analisarem muito bem esse projeto, porque nós queremos fazer um projeto que seja ideal para preservar o meio ambiente, mas também para garantir a vida no nosso Brasil tão grande, tão imenso.\n    Da mesma forma, Sr. Presidente, chega aqui o Senador Jayme Campos. Hoje eu o ouvi falando do projeto de lei que está apresentando para criminalizar aquele governante que não cumprir com a responsabilidade de fazer a transferência, principalmente no caso da Lei Kandir. Eu quero parabenizá-lo, Senador Jayme Campos. É exatamente essa parceria que precisamos fazer aqui, inclusive de dois Estados, porque estamos aqui com os Parlamentares de dois Estados vizinhos. Eu sempre tenho dito que o problema de Rondônia é problema de Mato Grosso. E a solução de Rondônia também é a solução de Mato Grosso. Por isso, projetos como o da BR-364 – e o Ministro, inclusive, anunciou ontem que será feita a concessão a partir de Comodoro – são extremamente importantes para Mato Grosso, para Rondônia. E nós queremos que seja realidade tudo aquilo que o Ministro falou. E V. Exa., como Presidente, vai nos ajudar. A infraestrutura, principalmente no caso de Mato Grosso, que está no centro do Brasil, é fundamental.\n    Por isso é que também a Lei Kandir, que o Senador Jayme abordou aqui... E eu tenho trabalhado durante este mandato como Senador junto com a Confederação Nacional dos Municípios, junto com a Associação Mato-Grossense dos Municípios. Eu quero aqui registrar que o Presidente Neurilan... Na verdade, a Associação dos Municípios é que trouxe a ideia de um projeto de lei que apresentei aqui no sentido de regulamentar e de tornar obrigatória essa questão da compensação.\n    Então, o projeto que relatei na Comissão Especial do Congresso Nacional também torna obrigatório se o aprovarmos. O Senador Jayme vai mais fundo ainda: ele responsabiliza criminalmente o governante que não fizer a compensação justa àqueles que estão cumprindo o seu papel.\n    Eu falava aqui antes, num aparte ao Senador Rodrigues, Senador Jayme, exatamente que Estados, como Minas Gerais, que hoje está vivendo esse problema de Brumadinho... A riqueza de Minas Gerais foi exportada. O Brasil ganhou com isso. Então, Minas Gerais, que vive hoje essas dificuldades... Não pode o Governo Federal, que deve tanto para Estados, como Minas Gerais, como o Rio Grande do Sul, como o Estado do Mato Grosso... Mato Grosso é o Estado que, nesses últimos 15, 20 anos, tem a cada ano implementado, incrementado a sua produção com uma produtividade altíssima. Estamos no centro do Brasil. Lá a gente sempre diz que o produtor é muito competente da porteira para dentro, mas, da porteira para fora, a obrigação é exatamente do Governo, seja do Governo estadual, seja do Governo Federal, principalmente na questão da infraestrutura.\n    Então, Senador Jayme, eu aproveito a presença de V. Exa. aqui para parabenizá-lo por esse projeto e dizer que trabalharemos juntos porque Mato Grosso não pode abrir mão desses recursos. Inclusive ontem, nós estávamos votando, na Comissão de Assuntos Econômicos e depois aqui no Plenário, os três Diretores do Banco Central, e fiz questão de registrar que o Presidente do Banco Central, Roberto Campos Neto, é neto de um grande mato-grossense, nascido próximo a Cuiabá, ali na cidade de Nossa Senhora do Livramento. Seu avô era, assim como Juscelino Kubitschek, um visionário: criou o Banco Central, criou o BNH. Naquela época, ele, como Senador da República que foi eleito exatamente com Júlio Campos como Governador, foi responsável por ajudar o Estado de Mato Grosso a tomar empréstimo para melhorar nossa infraestrutura. Não fossem esses recursos, talvez Mato Grosso não fosse esse Estado tão pujante como o é hoje ajudando o Brasil. Com esses recursos, o Governo Júlio Campos, à época, construiu estradas federais, como a BR-070, ligando Cuiabá até a nossa capital do Araguaia, que é Barra do Garças – com recursos do Estado. E o Governo Federal não indenizou até hoje o Estado de Mato Grosso.\n    Por isso, Senador Jayme Campos, é que nós temos que ter a voz firme, sim, com o trabalho de V. Exa. junto com a Senadora Selma, a união dos três Senadores de Mato Grosso que representam o Estado e também dos Estados vizinhos do Centro-Oeste, da Região Amazônica, porque, aqui no Senado, nós, sim, podemos fazer a diferença. Enquanto na Câmara dos Deputados temos uma representação relativamente pequena, aqui no Senado, não! Se unirmos o Centro-Oeste com a Região Amazônica, nós somos a maioria, e nós somos a maioria do Território nacional. Estamos lá cumprindo o nosso papel principalmente o de desenvolver o Brasil.\n    V. Exa., que é de Rondônia, sabe como a gente diz lá: \"Os brasileiros foram para lá, chamados pelo Governo, para integrar a Amazônia, e não para entregar a Amazônia\". E hoje temos as consequências de um frete, de um custo de logística muito alto, de uma regularização fundiária, pois estão lá famílias há 20, 30, 40 anos sem documentos.\n    Então, é exatamente por meio desse trabalho conjunto, com a sua experiência, Senador Jayme, que eu tenho a esperança de que vamos, neste mandato, trabalhar para que Mato Grosso realmente, a população de Mato Grosso tenha de volta aquilo que representou o suor, o sangue e a vida de muitos. E aqui temos esta missão de representar o Mato Grosso e trabalhar para que possamos trazer mais esperança e mais perspectivas.\n    V. Exa. gostaria de fazer um aparte?\n    O Sr. Jayme Campos (Bloco Parlamentar Vanguarda/DEM - MT) – Perfeitamente.\n    Agradeço a V. Exa. e cumprimento o Senador Wellington Fagundes.\n    Particularmente, eu escutei pouca coisa que o senhor falou e ainda fala na tarde-noite de hoje. Vi V. Exa. falando sobre a usina do Manso que, à época, foi construída com a finalidade de ser de múltiplo uso, sobretudo porque acabamos com a época das enchentes, que havia muito em Cuiabá. Graças a Deus, a usina, hoje, resolveu o problema energético da região metropolitana de Cuiabá, Várzea Grande, gerando firmemente algo em torno de 100, 120 mega – na época das águas chega-se até a 200.\n    V. Exa. também falou sobre o projeto de lei que apresentei no dia de hoje com a finalidade de responsabilizar o Presidente da República, se for o caso, de acordo com a Lei de Responsabilidade Fiscal, pois, lamentavelmente, ele não está repassando e transferindo para os Estados que exportam produtos primários e que contribuem sobremaneira com a balança comercial. Nós não estamos recebendo nada.\n    Eu vou lhe dar apenas um dado, Senador, que foi levantado pelo Tribunal de Contas do Estado do Pará. Os Estados que teriam que ser contemplados perderam, nos últimos anos, algo em torno de R$657 bilhões. Nós já perdemos quase R$1 trilhão. Nós perdemos muito dinheiro.\n    O que precisamos fazer? No projeto de que V. Exa. é Relator, na comissão especial, da Câmara e do Senado, nós, naturalmente, exigimos do Governo Federal uma cobrança que não tem que ser uma cobrança quase pacífica, mas tem que ser uma cobrança dura, firme, para que o Governo, com certeza, nos dê aquilo que é de nosso direito. V. Exa. já é Parlamentar há muitos anos. Eu tive o privilégio de, quando eu era Governador, Marcos, nosso Presidente, levar o Senador Wellington Fagundes para a política. Na verdade, ele era um grande empresário, bem-sucedido, muito jovem. Eu, também jovem naquela oportunidade – eu tinha menos de 40 anos, tinha 38 anos de idade –, saí Governador, procurei o Senador Wellington Fagundes e o convidei para ser Deputado Federal. Ele disse: \"Olha, não está no meu radar, mas, de qualquer forma, vou pensar, ouvir a minha família e dar a resposta\". E, graças a Deus, ele veio a ser candidato e, de lá para cá, disputou seis, sete eleições, dos sete mandatos que tem –, não é, Wellington? –...\n    O SR. WELLINGTON FAGUNDES (Bloco Parlamentar Vanguarda/PR - MT) – Isso.\n    O Sr. Jayme Campos (Bloco Parlamentar Vanguarda/DEM - MT) – ... todas vitoriosas, como Deputado Federal e desta feita como Senador. Então, o Senador Wellington é um moço por quem tenho o maior respeito, como cidadão mato-grossense, como empresário, como político, e que tem feito um trabalho exemplar, sobretudo em relação à logística em Mato Grosso, assunto em que é um expert.\n    Eu acho que nós temos que fazer essa conjunção de esforços, independentemente de questão pessoal ou partidária, e não só o Mato Grosso, mas a própria Rondônia, que também está tendo prejuízo, Goiás, Mato Grosso do Sul, Paraná, Rio Grande do Sul, Minas Gerais, etc., para fazermos com que isso possa ser realidade.\n    Nós estamos perdendo, Senador Wellington, em torno de R$6 bilhões a R$6,6 bilhões, que é o que nós estamos deixando de arrecadar, pelos dados levantados pelo Ministério da Fazenda no ano de 2018. O Governo Federal tinha comprometido, de R$1,950 bilhão que estava, através de medida provisória, repassando, R$500 milhões para Mato Grosso. É muito pouco, mas é aquela velha história: antes comer canjica a dormir sem ceia! Já nos ajudaria a resolver os inúmeros problemas que nós temos. Aí veio o atraso de folha de pagamento, de que V. Exa. tem conhecimento. Está faltando tudo praticamente. Na sua cidade mesmo, onde V. Exa. reside, Rondonópolis, na época da campanha eu estive lá e, com muita tristeza, dor no coração, vi 12 ou 15 UTIs fechadas por falta de pagamento lá, na Santa Casa da sua cidade, etc. A educação está precária.\n    E nós temos o quê? Um saldo altamente positivo, não é isso? Positivo, embora tenhamos perdido R$6 bilhões, dos quais R$500 milhões iriam ser compensados e até hoje não foram.\n    Então, vamos colocar um freio de arrumação, vamos parar de brincadeira e aprovar uma lei regulamentada para que o Estado não fique todos os anos com a mesma peleja aqui, com medida provisória, etc., batendo à porta da Presidência da República, do Ministério da Economia, para repassar.\n    V. Exa. tem um papel preponderante, até porque foi Relator da matéria na comissão especial criada para nós fazermos essa transferência urgentemente para a sobrevivência dos Estados. Caso contrário, também há outra saída, Senador Wellington, que é fazermos uma compensação. Mato Grosso deve em torno de R$6 bilhões que nós temos como dívida fundada junto ao Governo Federal. Por que talvez não compensarmos em último caso? \"Você não vai mais me pagar? Então, vamos fazer um encontro de dívida\".\n(Soa a campainha.)\n    O Sr. Jayme Campos (Bloco Parlamentar Vanguarda/DEM - MT) – Vamos fazer um encontro de dívida, e, com isso, Mato Grosso, que já tem um saldo positivo, se todos os meses embolsar milhões de reais para pagar a dívida fundada que nós temos aqui, vai fazer um encontro de dívida e sanear esse problema, que é grave e sério e que tem prejudicado, muito Mato Grosso e os demais Estados da Federação, assim como os Municípios.\n    Portanto, quero cumprimentar V. Exa. pela sua expertise no assunto não só em relação à questão do transporte intermodal, ferroviário, rodoviário, etc., mas também pelo assunto que V. Exa. conhece perfeitamente bem, que é esse prejuízo que nós estamos tomando em relação a essa Lei Kandir, que já foi muito boa, lá em 1996, para nós naturalmente melhorarmos a nossa exportação com o apoio do Governo Federal.\n    Lamentavelmente, agora, o Governo Federal está fazendo cortesia com o chapéu dos outros, ou seja, quem paga a conta são os Estados, e essa conta já está quase insuportável de ser paga pelo fato de que nós estamos hoje muito dependentes dessa transferência governamental.\n    Portanto, Senador Wellington, parabéns a V. Exa.! Estamos juntos. Estamos lutando aqui com toda a nossa medida possível para conseguirmos melhorar o Mato Grosso e melhorar o Brasil.\n    Parabéns, Senador!\n    O SR. WELLINGTON FAGUNDES (Bloco Parlamentar Vanguarda/PR - MT) – Eu agradeço ao Senador Jayme.\n    Senador Marcos, eu quero pedir a tolerância de V. Exa., mais um pouquinho, para aqui também registrar que o Estado de V. Exa. tem um potencial muito grande ainda na geração de energia. É um exportador de energia, assim como o Mato Grosso. Quando o Jayme Campos foi Governador, nós éramos importadores de energia. Hoje também o Estado de Mato Grosso é um grande exportador, ajudando o Brasil. Na questão também dos impostos da exportação de energia para os outros Estados, esses Estados produtores têm que ser mais bem recompensados. Essa é outra discussão que também haveremos de fazer aqui.\n    Aliás, temos que discutir exatamente o que falamos do pacto federativo. Essa concentração muito grande no Governo Federal já não se suporta mais.\n    Nós vamos depois, em outro momento, registrar essas discussões, enfim, e todos esses assuntos que serão pertinentes principalmente ao nosso mandato.\n    Quero dizer que, inclusive, assinei já também a Frente Parlamentar em Defesa dos Municípios. Tenho certeza de que teremos o apoio do Jayme Campos e de V. Exa., porque todos somos municipalistas. O Senador Jayme foi Prefeito de Várzea Grande...\n    O Sr. Jayme Campos (Bloco Parlamentar Vanguarda/DEM - MT) – Quero só fazer um aparte a V. Exa. novamente. Eu não tenho como não ser da frente municipalista. Fui Prefeito por 14 anos, três mandatos; e desta feita minha mulher também é Prefeita, em segundo mandato. Então, não há ninguém mais municipalista do que Jayme Campos, que já foi sofredor muito, não é, Wellington?\n    O SR. WELLINGTON FAGUNDES (Bloco Parlamentar Vanguarda/PR - MT) – Exatamente. (Risos.)\n    Então, ele sabe fazer as contas e sabe das dificuldades, como eu falava aqui agora há pouco em um aparte que eu também fiz.\n    Eu quero, ainda, para encerrar, dizer que, assim como o Senador Jayme Campos, nós recebemos aqui na semana passada uma delegação de 14 engenheiros que integram o Conselho Regional de Engenharia e Arquitetura do nosso Estado de Mato Grosso, o Crea. Eles foram liderados pelo Presidente João Pedro Valente e também pelo Eloi Pereira, que é o Assessor de Relações Institucionais, uma pessoa muito competente. Na ocasião, reafirmei meus compromissos com a Agenda Legislativa do Sistema Confea/Crea. Recebi deles um documento reunindo 12 projetos de lei prioritários que podem contribuir sobremaneira para que sejam adotadas medidas que evitem tragédias, não só como essa de Brumadinho, em Minas Gerais, mas também como a da boate Kiss, no Rio Grande do Sul, e ainda como a do Ninho do Urubu, lá no Rio de Janeiro, que inclusive foi interditado hoje pela Prefeitura do Rio de Janeiro.\n    São vários projetos de lei em tramitação na Câmara e no Senado.\n    Faz parte da Agenda Legislativa do Sistema Confea/Crea em 2019 o Projeto de Lei 13/2013, que caracteriza como essenciais e exclusivas de Estado as atividades exercidas por engenheiros e engenheiros agrônomos ocupantes de cargo efetivo no serviço público. Também vejo como essencial o PL 6699/2002 – de 2002! Olhem por quanto tempo isso está tramitando! Por isso, eu acredito em projetos como esse que aprovamos hoje à tarde, do Senador do Espírito Santo que já não está mais conosco, o Ferraço. Olhem só: ele já não é mais Senador, mas deixou aqui uma herança boa, que foi o que nós aprovamos hoje.\n    Então, esse Projeto 6699 criminaliza o exercício ilegal da profissão de engenheiro, arquiteto, agrônomo. Mas eu acredito que isso, na verdade, tem que ser em todas as profissões. E quero dizer que, de maneira geral, todos estão devidamente incorporados na pauta dos debates que vamos trabalhar para fazer com que a engenharia volte a ser pensada sobre os quatro pilares fundamentais, ou seja, planejamento, projeto, execução e manutenção, conforme as palavras do Presidente João Valente, que foi da universidade Federal, um competente profissional.\n    Por isso, eu quero dizer que, ao ofertar essa pauta de projetos à engenharia brasileira, responde a uma inequívoca demonstração, acima de tudo, de compromisso com a nossa Nação, com o desenvolvimento de todo o Estado e também com o bem-estar do nosso povo.\n    Inclusive nesta audiência que pretendo fazer sobre a questão da Usina de Manso, o grande parceiro que eu quero convidar é exatamente o Crea. O Crea foi atuante em outros mandatos, inclusive com o projeto inacabado do VLT que temos lá. Por isso, eu quero também convidar o Crea para que a gente trabalhe na fiscalização conjuntamente.\n    Finalizando, Sr. Presidente, quero pedir aqui o registro também... Hoje aqui, além do ato que fizemos da Frenlog... Eu quero agradecer aos Senadores que já assinaram. A Frenlog é uma frente que, na verdade, foi idealizada pelo Deputado Homero Pereira, o saudoso Homero Pereira, que era do meu Estado, foi acometido por um câncer e não está aqui mais conosco. E eu quero sempre reverenciá-lo porque a Frenlog tem muito do idealismo do Homero.\n    Já temos o Instituto Brasil Logística. Eu quero convidar todos os nossos Senadores, Senador Girão, a participar conosco. Logo após o feriadão, queremos fazer uma grande reunião, porque a discussão da infraestrutura é fundamental para o Brasil, que é um país ainda em desenvolvimento.\n    Ouvi a palavra do Presidente Trump lá no Congresso Nacional, e no seu discurso ele dizia que um dos problemas que hoje vivem os Estados Unidos é a infraestrutura, que já está depauperada. Imaginem o Brasil, em que ainda temos tudo por fazer! Por isso, eu quero convidar todos os Senadores, especialmente os três companheiros que aqui estão...\n(Soa a campainha.)\n    O SR. WELLINGTON FAGUNDES (Bloco Parlamentar Vanguarda/PR - MT) – ... para que a gente possa trabalhar junto também para melhorar a infraestrutura, porque o nosso trabalhador, o nosso produtor precisa exatamente de uma logística eficiente para que a gente possa ter mais competitividade neste mundo extremamente competitivo.\n    Eu sempre tenho dito que a logística, na verdade, se faz exatamente com uma infraestrutura que seja conectada.\n    Infelizmente, Senador Jayme, a gente está ouvindo falar novamente das ferrovias. No mandato passado, o Ministério dos Transportes praticamente era uma coisa reservada num cantinho, principalmente o Dnit. A diretoria ferroviária era a menos valorizada. O nosso Brasil é um país rodoviário, temos uma indústria automobilística muito forte, mas não dá para competir no mundo se nós não investirmos nas hidrovias e, principalmente, nas ferrovias.\n    Essa é uma bandeira do Jayme, principalmente por ser cuiabano, várzea-grandense. Nós temos que fazer com que a Ferronorte chegue a Cuiabá. Esse é o projeto principal. Inclusive, hoje, tive a oportunidade de falar com o Vuolinho que está esperando essa audiência conjunta.\n    Então, para mim, que sou nascido em Rondonópolis, temos na cidade de Rondonópolis o maior terminal ferroviário da América Latina, mas nós queremos que a ferrovia vá para Cuiabá, vá para o nortão. Nós queremos integrar o Estado do Mato Grosso. A Fico também, saindo de Campinorte, chegando a Água Boa e, depois, indo também até o nortão de Mato Grosso, encontrando... E depois construir também a Ferronorte. É importante. Quanto mais infraestrutura, melhor. Agora, há prioridades. Eu penso que o momento de fazer com que a ferrovia chegue a Cuiabá é agora, Senador Jayme Campos. Eu tenho certeza de que V. Exa., que é cuiabano nato, vai estar aqui liderando esse projeto para que a gente trabalhe conjuntamente.\n    Senador Girão, vamos trabalhar pelo Brasil. V. Exa. já mostrou aqui a sua competência, já ouvi alguns de seus pronunciamentos. Pela iluminação de V. Exa., nós vamos fazer com que o Brasil tenha mais esperança, todos nós aqui trabalhando com afinco.\n    Agradeço, Presidente, principalmente a oportunidade de ser seu Vice-Presidente lá na Comissão de Infraestrutura. O desafio é muito grande, mas será exatamente com muito trabalho que vamos vencer todas essas dificuldades.\n    Muito obrigado.\n    O SR. PRESIDENTE (Marcos Rogério. Bloco Parlamentar Vanguarda/DEM - RO) – Esta Presidência saúda V. Exa., Senador Wellington Fagundes, pelo grande pronunciamento que faz, pela abordagem que faz de temas que V. Exa. domina e em que tem expertise, não só o tema da infraestrutura. Quem se sente honrado em tê-lo ao nosso lado na Presidência da Comissão de Infraestrutura sou eu, jovem que chega a este Senado Federal graças à vontade de Deus e à escolha do povo rondoniense. Ter V. Exa., que preside a Frente Parlamentar da Logística, junto à Presidência da Comissão de Infraestrutura certamente dá uma segurança, dá um norte para todos nós naquela Comissão.\n    Cumprimento V. Exa., que, entre outros assuntos, sublinha, já na fala final, um tema que para mim também é muito caro e que nós vamos ter oportunidade de discutir na Comissão de Infraestrutura, que é a questão da energia. Essa diferenciação entre Estados que produzem e Estados que não produzem, eu vou ter oportunidade de relatar, e, somando o esforço de todos os Senadores, teremos um projeto de lei que, na verdade, se traduzirá numa espécie de novo marco regulatório do setor elétrico. Acho que nós temos que enfrentar esse tema em profundidade, com responsabilidade, respeitando regionalidades e essa – é uma questão que V. Exa. coloca aqui – diferenciação de Estados produtores. Quem produz, com exceção dos royalties, depois fica com um passivo ambiental e social, e a arrecadação de tributos fica concentrada em outra região. É um tema que nós vamos ter oportunidade de enfrentar. Tenho certeza de que a experiência de V. Exa., com a expertise que tem, contribuirá, e muito, para uma legislação absolutamente conectada com esses novos tempos do Brasil.\n    Saúdo V. Exa. pelo grande pronunciamento que fez na tarde de hoje.\n    O SR. WELLINGTON FAGUNDES (Bloco Parlamentar Vanguarda/PR - MT) – Muito obrigado.",
                  "True",
                  "200",
                  ""
                ],
                [
                  "3",
                  "451203",
                  "451203",
                  "Senado Federal",
                  "2019-02-27",
                  "Expectativa com o início dos trabalhos no âmbito das Comissões para as quais S. Exª foi designado.",
                  "EXPECTATIVA, INICIO, TRABALHO, COMISSÕES, SENADO, PARTICIPAÇÃO, ORADOR.\n\n\nCOMENTARIO, SUGESTÃO, SENADOR, ADOÇÃO, ESTABELECIMENTO DE ENSINO, VISITA, OBJETIVO, REFORMA, EDUCAÇÃO.",
                  "https://www25.senado.leg.br/web/atividade/pronunciamentos/-/p/texto/451203",
                  "https://legis.senado.leg.br/dadosabertos/discurso/texto-integral/451203",
                  "https://legis.senado.leg.br/dadosabertos/discurso/texto-binario/451203",
                  "Senador(a)",
                  "SENADOR",
                  "Confúcio Moura",
                  "475",
                  "MDB",
                  "RO",
                  "4819",
                  "DIS",
                  "Discurso",
                  "Sim",
                  "[{'DataPublicacao': '2019-02-28', 'FontePublicacao': 'Diário do Senado Federal', 'PaginaFinal': '91', 'PaginaInicial': '85', 'SiglaFonte': 'DSF', 'TipoPublicacao': 'PUB', 'UrlDiario': 'http://legis.senado.leg.br/diarios/BuscaDiario?tipDiario=1&datDiario=28/02/2019&paginaDireta=85'}]",
                  null,
                  "2019-02-01",
                  "2019-03-03",
                  null,
                  null,
                  null,
                  "O SR. CONFÚCIO MOURA (Bloco Parlamentar Unidos pelo Brasil/MDB - RO. Para discursar.) – Sr. Presidente, Srs. Senadores, povo brasileiro que assiste no final da tarde a esta sessão do Senado na véspera de um feriadão muito longo de Carnaval. Todo povo brasileiro vai estar bem ligado aos festejos culturais e tradicionais do nosso País. Que tudo corra bem, sem tragédias! Que tudo fique em paz, tudo com muitas cores, brilhos e música! É isso que eu desejo neste feriado de Carnaval.\n    Eu cheguei aqui – hoje eu estou com 26 dias ou 27 dias no Senado – e ganhei de presente seis Comissões. Eu vi, analisei e falei: \"Poxa, não dá para dar conta de seis Comissões, não é?\". Em três, titular; em três, suplente. Eu falei: \"Ah, impossível!\". Eu sempre uso uma expressão bem interessante: se a gente não cuidar, tanto na Câmara como aqui, a gente vira uma massa de bolo. Você fica nesse corre-corre daqui para ali e, ao chegar o fim da tarde, você olha para trás e se pergunta: \"O que eu fiz de prático, de bom?\". Bem pouca coisa. A gente participa, aprende muito – só em ouvir, aprende muito. Ouvir um discurso como esse que Senador Rodrigo acabou de fazer dá gosto, a gente aprende bastante. Ainda mais eu que sou de outra área, fico observando e é um aprendizado constante. Mas, como vou me dedicar muito à educação, em cada Comissão em que eu estiver, Comissão de Meio Ambiente, Comissão de Assuntos Econômicos e Comissão de Educação, que é a minha preferida, em todas elas eu vou procurar intervir nos projetos. Cada projeto, se couber e puder, eu vou emendar, alterar, para que vincule alguma coisa relacionada à educação. Em muitos casos não cabe essa minha participação, mas, se for possível, o nosso gabinete já está avisado: nós vamos observar, ler as pautas com antecedência, mandar para as comissões, para a Assessoria Legislativa do Senado, muito competente, para verificar em que a gente pode incluir alguma coisa relacionada que possa atingir aluno, atingir a educação brasileira. Isso é muito importante.\n    Mas há um tema aqui, que também já destaquei em discurso anterior, que eu vou ampliar: meu Presidente Marcos Rogério, eu tinha aqui proposto que cada Senador adotasse uma escola em seu Estado, a gosto, uma escola pobre, uma escola de periferia, para que ele, a cada três meses, dois meses, quatro meses, visitasse a escola, conversasse com os professores, passeasse na escola e fosse, gradativamente, durante todo o mandato, visitando aquela mesma escola. Se puder duas, ótimo; se puder três, ótimo; se puder ser um Município, melhor ainda. Mas vamos colocar uma escola. Vejo aqui pelos discursos que cada um tem uma especialidade, uns são da área de infraestrutura, outros da área ambiental, cada um tem uma área. E aqui há muitos ex-Governadores, ex-Prefeitos, ex-secretários, ex-tudo, que falam: \"Eu não vou a escola, não. O que vou fazer em escola? Escola não vai dar Ibope para mim\". Mas é extremamente importante a visita de um Senador, de um Deputado ou de um Deputado Estadual a uma escola. Ali ele vai se ligando, ele vai observando os meninos e ele termina gostando da escola – termina gostando e termina adotando e termina querendo mostrar serviço gradativamente.\n    Vou encaminhar um expediente a todos os Senadores fazendo essa sugestão. Vou encaminhar expediente a todos os Deputados Federais fazendo essa mesma sugestão. Vou encaminhar um expediente para todos os Deputados Estaduais do Brasil fazendo essa mesma sugestão. Vou encaminhar esse expediente à Mesa do Senado para que discuta esse assunto internamente e possa, depois, explicitar isso através de uma recomendação aos Exmos. Senadores e Senadoras.\n    Bem, por que eu faço isso? Porque a gente precisa reagir. Aqui, Senador Marcos Rogério, nós não precisamos fazer reforma da educação porque está tudo aprovado. Já está tudo aprovado em leis ordinárias, já está tudo feito. A discussão acalorada que teremos aqui sobre a reforma da previdência não teremos para a educação, já está pronta. Então, a gente tem que colocar em prática. O que temos que fazer agora é brigar para que realmente a coisa aconteça. Não adianta aprovar reforma, não adianta só fazer uma ponte, não adianta tapar um buraco se nós não melhorarmos as crianças.\n    Pensem bem: aqui nós estamos entrando agora com um mandato previsto para oito anos – salvaguardando qualquer acontecimento que venha a surgir fora do nosso planejamento, teremos oito anos pela frente. Se nascer um menino hoje, daqui a oito anos esse menino já estará no terceiro ano, lá na frente. Já imaginaram uma criança dessa bem cuidada, seja ela pobre, seja ela rica? Se ele for bem acompanhado, lá na frente, com oito anos, esse menino já estará com uma vivência e se expressando bem, escrevendo bem, lendo bem. Essa já é uma contribuição prática muito importante para o Brasil. Mas a gente fica observando – eu passei por cargos executivos – como se faz chegar o dinheiro da educação. É muito dinheiro para a educação – a educação dispõe de muito dinheiro. Como a gente faz para que o dinheiro chegue ao aluno, ao menino de qualquer cidade brasileira, de qualquer escola brasileira? Como a gente faz para chegar o dinheiro àquele menino? A escola pode ser bacana, mas, se não for bem gerida, com cautela, ela pode ser desastrosa, pode ser uma fonte de desigualdade, de revolta, porque há menino que vai bem arrumadinho, com sapato novo, com roupa bonita, vai cheiroso; outro menino vai descalço; outro vai de sandálias havaianas; outros vão com a calça rasgada, com a camiseta também muito simples. Então, esse ambiente de desigualdade na escola é mortal. Isso faz com que as crianças comecem a praticar bullying contra aquela criança mais pobre, aquela criança mais desprotegida. Mas como a gente faz para que esse dinheiro chegue lá? Eu recomendei a muitas escolas: \"Eu vou passar o dinheiro direto para a escola, e você compre sapato para os meninos. Compre sapato!\". Outras vezes, o menino pobre está com dor de dente. Quem é que consegue prestar atenção com dor de dente? Não tem cabimento a criança precisar de um dentista para fazer a restauração de uma cárie e não ter acesso a um dentista. Há criança que não escuta bem, que não consegue entender o professor porque tem deficiência auditiva – o professor não percebe, e o aluno fica desligado. Há criança que não enxerga direito e precisa de um oftalmologista. Há criança com anemia, com subnutrição. Então, como a gente faz para que esse dinheiro chegue lá e seja usado para a comida desses meninos?\n    Quando exerci esses cargos, eu incluí o peixe na merenda – duas vezes por semana, o aluno come peixe, que é industrializado para se tirar a espinha. A criança come lá tipo uma carne moída, mas com peixe – nós temos muito peixe no Estado de Rondônia. Damos peixe para os meninos da rede estadual. Isso é muito importante!\n    Então, esse conjunto de ações para fazer com que o dinheiro da escola... \"Ah, mas não se pode comprar um chinelo para o menino, não se pode comprar um tênis\". Como é que não pode? Você vai deixar um menino com um sapato bonito e outro descalço? Em determinado momento, um coralzinho de uma escola veio fazer uma homenagem e cantar, e eu vi um menino maiorzinho escondendo os pés. Ele ficava por trás dos outros para não mostrar o seu chinelo, aquela sandália havaiana. Eu falei: \"Professora, por que a senhora não compra um chinelo para esse menino com a verba que vai para a educação?\". \"Ah, porque não pode.\" Mas tem que poder! É preciso encontrar um mecanismo para atender a criança na sua necessidade mais primária.\n    Esses fundamentos de que estou falando aqui são para fazer com que o dinheiro chegue ao objeto maior. Agora, ficam, por exemplo, criando estruturas ricas, construção muito cara, ministérios com muitos cargos, com muitas coisas. Há uma gastança interna, muita viagem de avião para cima e para baixo. E muitas vezes falam que não há dinheiro para mandar direto para as escolas, para os Municípios pequenos, no interior.\n    Olhem, o Senador Cristovam passou aqui 8 anos – ou foram 16, não sei ao certo – só falando nisso. Inclusive, há um projeto dele arquivado, que vou reestudar, que é de federalização da educação. Isto é, há Município brasileiro... Falei hoje com um Prefeito lá de Rondônia, o Prefeito de Primavera, o Eduardo, que me falou o seguinte: \"Eu tenho o dinheiro do Fundeb: 60% são para pagar o pessoal e 40% para investimentos, mas estou gastando os 100% para pagar o pessoal e ainda estou tirando da Prefeitura para completar o resto. Então, o dinheiro do Fundeb não está dando para pagar nem o pessoal, nem os pisos. Estou tirando dinheiro da própria fonte para completar o dinheiro da educação\".\n    Ora, mas como é que nós queremos, assim, melhorar a educação? Por exemplo, Presidente Marcos Rogério: um médico, do Mais Médicos, recém-formado, estrangeiro ou brasileiro, vai trabalhar em qualquer cidade distante e termina recebendo lá uns R$15 mil no começo da carreira. Outros profissionais já saem com uma distância grande: o professor, hoje... Pergunte ao filho, se tem filho pequeno. Fale assim: \"Meu filho\"... Se ele falar: \"Vou ser médico\", você fala: \"Ótimo, meu filho, pode ser médico, vou ajudá-lo, você vai ser médico\". \"Vou ser advogado.\" \"Meu filho, vou ajudá-lo, vou pagar a faculdade para você.\" \"Vou ser engenheiro.\" \"Vou ajudá-lo.\" Mas, se esse menino falar: \"Vou ser professor\", você fala: \"Meu filho, não me mate de desgosto, não. Você vai me matar do coração? Ser professor para trabalhar na rede pública? Você é maluco? Estou aqui trabalhando e você quer ser professor? Que negócio é esse?\".\n    Já lá nos Estados Unidos, em Harvard, nas grandes universidades, estão as escolas catando os melhores alunos, os mais capazes, para saírem de lá e darem aula. Eles vão dar aulas, os das melhores universidades vão para a rede pública! Eles são adequadamente remunerados. Mas de quanto é que deve ser esse salário? Igual ao dos outros!\n    O Senador Cristovam propôs aqui que pegassem, por exemplo, mil Municípios, os pequenos, os menores do País, os mais distantes, os mais longe. Não há o Mais Médicos? Por que não pode haver o Mais Professor? Existe o Mais Médico: o médico não vai lá para o fim do mundo, vai de barco, vai de qualquer jeito, vai de surpresa lá para Guajará-Mirim, vai lá para Calama, lá embaixo, na divisa com o Amazonas? E o Mais Professor? Será que se a gente pagasse de R$12 mil a R$15 mil não teríamos uma grande quantidade de agrônomos e de outros graduados que pudessem fazer uma licenciatura curta para poderem dar aulas em qualquer lugar? Não é preciso nem formar tantos professores, já existe, na praça, uma quantidade enorme de graduados competentes. Abram um concurso aí! Olhem a fila de um concurso público! Abram um emprego num supermercado aqui de Brasília, a fila roda o quarteirão de gente para ganhar R$1,5 mil. Agora você abre, por exemplo, um concurso para a pessoa ir, novo, para dar aula, bem capacitado, num Município pequeno, para ele fazer...\n    Ontem o Ministro da Educação estava aqui na Comissão de Educação. Perguntei a ele: \"Ministro, por onde começar a revolução da educação? Começa por cima, por Brasília, ou começa pelo Município?\". Ele falou: \"Pelo Município. Começa pelo Município, começa de baixo para cima\". Eu falei: \"Ótimo, então vamos dar condições para os Municípios\".\n    Ele quer que comece a revolução da educação de baixo para cima, e eu acredito que isso seja bom, porque nós temos excelentes exemplos. Há exemplos brasileiros de Municípios, lá em nosso Estado, Senador Marcos Rogério, como o Município de Nova Brasilândia, pequenino, você conhece, que dá um show de bola – show de bola –, um Município pequeno. Lá em Cerejeiras, há uma escola que também se destaca todo ano, um dos melhores IDEBs do Estado, um Município pequeno. As escolas, cada uma, conseguem, pela gestão do diretor, destacar-se em relação a outras.\n    Então, nós temos que encontrar o mecanismo de treino, de capacitação da gestão escolar, mas é fundamental que esse projeto... Nós vamos estudar aqui, eu vou verificar de onde nós vamos tirar o dinheiro para criar o Mais Professor, para começar de baixo para cima, para virmos lá do fundão do Brasil, das favelas brasileiras, de todos os cantos de pobreza, atacando os pequenos até chegar às capitais progressivamente, dando essa virada revolucionária na educação brasileira. Acho isso extremamente importante.\n    Devemos deixar esse consumismo do dinheiro da educação ficar no meio caminho, no meio da burocracia, no meio de viagem, de custo de coffee break, de alugar grandes salões para fazer grandes seminários improdutivos, que não levam a coisa nenhuma. Reúne gente, traz fulano, traz beltrano, dá aquele show, aquela palestra, paga avião para a pessoa vir, coisa e tal e, no fim da picada, a turma vai para o shopping center, quem vem do interior vai para o restaurante, vai é namorar, não quer saber de ficar ouvindo lero-lero de jeito nenhum. Então, o negócio é a capacitação do professor ali mesmo no Município; no mais, treina um e repassa o treinamento no chão da escola – começar dentro da realidade brasileira, de baixo para cima.\n    Estes são os meus princípios aqui no Senado: fazer essa pregação missionária, sistemática, incansável, no sentido de contagiar as pessoas, de convencer, de verificar. Vamos fazer reforma da previdência? Vamos. No todo, como ela chegou, recebe umas melhoradas, termina sendo aprovada lá na frente e pronto. Depois, vem outra reforma e outra reforma. E a educação? E as pessoas? E daqui a 30 anos? E daqui a 20 anos? E o menino que nasceu hoje? Como é que vai ser no futuro? Que geração? Que Brasil nós queremos para o futuro? Que Brasil nós queremos entregar para as futuras gerações? O que nós queremos de bom para o Brasil se não for a nossa própria gente melhorada?\n    Então, Senador Marcos Rogério, fico muito satisfeito de o senhor estar dirigindo os trabalhos, estar me ouvindo pacientemente. Eu estou falando que tenho que agradecer muito ao Wellington Fagundes – que está ali também e vai me suceder, vai fazer o fechamento da tarde.\n    Quero agradecer muito a oportunidade de estar aqui, nestes poucos dias, no Senado. Não sei nem o nome de todos os colegas Senadores, não conheço todos ainda. Existem alguns de que não sei o nome, mas, gradualmente, a gente vai se conhecendo. Certo é que a gente vai aprendendo muito, é uma Casa muito especial.\n    Quero dizer para o povo brasileiro e para V. Exa. que tenho muita honra de estar aqui no Senado, porque eu fui criado aqui em Brasília. Eu morava aqui na Vila Planalto, na década de 50. Eu cheguei à Brasília em 1957, eu tinha de oito a nove anos de idade. Meu pai foi candango do Juscelino. Morávamos bem aqui na Vila Planalto, era um acampamento de uma construtora chamada Pacheco – há muito velho por aqui, de Brasília, que está me escutando e que fala que é verdade –, numa casa de madeira. Meu pai andava por aqui, por essas obras, trabalhando.\n    Então, eu tenho, assim, uma gratidão, uma honra imensa de ser o filho de um candango, criado aqui na Vila Planalto, em Brasília, e hoje estar aqui nesta função tão importante, que é a de Senador da República.\n    Quero agradecer muito pela ousadia e parabenizar o Juscelino Kubitschek, pela coragem de ter edificado, no miolo do Planalto Central, num Brasil profundo e estranho, no Cerrado, a Capital da República. Juscelino descortinou e mostrou os rumos do interior do Brasil para o povo brasileiro e para o mundo e criou o Mato Grosso em consequência.\n(Soa a campainha.)\n    O SR. CONFÚCIO MOURA (Bloco Parlamentar Unidos pelo Brasil/MDB - RO) – Goiás também cresceu bastante, prosperou. Rondônia também é uma consequência desse crescimento, como o Estado de Tocantins. Tudo isso veio graças a uma irradiação, uma energia maravilhosa da construção de Brasília, que veio, assim, mostrando onde não produzia nada, só o Cerrado bruto, e hoje ser uma região das mais produtivas do Brasil, que é o Brasil Central, o Estado de Rondônia e o Estado também do Tocantins, grandes produtores de alimentos para o mundo inteiro.\n    Assim, eu agradeço a V. Exa. Estou honradíssimo aqui com a Presidência de V. Exa., um companheiro, um amigo, um jovem Senador brilhante do nosso Estado de Rondônia.\n    Muito obrigado.\n    Senador Wellington Fagundes.\n    O Sr. Wellington Fagundes (Bloco Parlamentar Vanguarda/PR - MT) – Senador Confúcio, eu gostaria aqui de registrar, primeiro, que o Senado ganha muito com a presença de V. Exa.\n    Como V. Exa. já colocou aqui, a sua origem, um homem de origem humilde, também como a maioria de todos nós que estamos aqui no Congresso Nacional. Aliás, o político é a representação da população brasileira de um modo geral.\n    Então, V. Exa. falou aqui da Vila Planalto. É importante para muitos brasileiros que não conhecem, Presidente, a Vila Planalto. É a primeira vila dos trabalhadores aqui de Brasília, formada ali ao lado do Catetinho.\n    O SR. CONFÚCIO MOURA (Bloco Parlamentar Unidos pelo Brasil/MDB - RO) – É.\n    O Sr. Wellington Fagundes (Bloco Parlamentar Vanguarda/PR - MT) – Então, criou-se a vila do trabalhador, daqueles que vieram do Nordeste, de todos os recantos do Brasil para construir Brasília, pelo chamamento desse visionário que V. Exa. aqui cita, Juscelino Kubitschek, a quem todo o Brasil deve muito, pela sua história, mas, principalmente, pela sua coragem de vir aqui para este Planalto Central, uma região totalmente inóspita, e cavar aqui a Capital do Brasil.\n    Eu vou falar daqui a pouco, todos nós falamos aqui de Brumadinho, vou falar um pouco sobre isso, mas quero me ater mais ao seu pronunciamento e dizer aqui da sua experiência. Eu que tive a honra e a felicidade de conviver com V. Exa. na Câmara dos Deputados, trocando experiências, mas, principalmente, ouvindo essa voz paciente, educada, de um homem moderado. Eu tenho certeza de que V. Exa. chega aqui ao Senado no momento ideal, com toda a sua experiência de ter sido Governador por oito anos consecutivos. Uma reeleição no Executivo não é fácil, não é, Senador Marcos? São companheiros de Rondônia, não é? Então, o povo de Rondônia reconheceu em V. Exa. não só a capacidade do administrador, mas também a capacidade do legislador, que vem aqui agora para este momento em que todo o Brasil espera muito de nós.\n    Houve uma renovação muito grande. Houve, sim, uma renovação. Há muitos Senadores que nunca estiveram à frente de cargo político eleitoral, mas, com certeza, cada um, a seu modo, vai contribuir muito.\n    Hoje o Presidente da Comissão do Meio Ambiente, que é um delegado de polícia, que foi eleito pelo Espírito Santo, demonstrou a sua competência para tratar de um assunto do meio ambiente, assim como a Senadora Leila, a quem eu quero aqui me referir no meu pronunciamento também.\n    Eu tenho certeza de que a humildade de V. Exa. será exatamente o ponto principal que nós precisamos aqui no Senado da República e no Congresso Nacional. E eu sempre tenho dito que, na época de crise, a gente tira o \"s\" e cria. E V. Exa. teve essa capacidade de criar muitos bons projetos para Rondônia e, com certeza, será também um dos orientadores nossos, de todos nós aqui no Congresso Nacional. Principalmente o Presidente Davi... Muitos não acreditavam na sua competência, na sua capacidade de poder fazer uma eleição tranquila, sentado nessa cadeira em que está o Senador Marcos, e mostrar o equilíbrio de um jovem.\n    Então, eu acho que isso é exatamente o momento fértil que vive o Brasil. E, principalmente, nos momentos de tensão que ele viveu como candidato e depois logo que assumiu, teve a capacidade praticamente de convergência de todos nós. Estou aqui há 28 anos. Foi a primeira vez que tivemos uma eleição das Comissões de forma tranquila, sem nenhum problema praticamente – praticamente não, no acordo, com todos sendo eleitos ali sem disputa. A disputa foi pelo merecimento do cargo de cada um, tanto é que tenho aqui a honra de ser Vice-Presidente também da Comissão de Infraestrutura, do jovem Marcos Rogério, mas já experiente. Com certeza, é uma Comissão extremamente importante para o Brasil de hoje e o Brasil de amanhã.\n    Tivemos ontem a presença do agora Ministro da Infraestrutura. O Ministro esteve lá mostrando a sua competência, mas, com certeza, será cobrado por todos nós. É nisso que eu tenho certeza de que V. Exa. aqui, nesse equilíbrio, vai nos ajudar muito, para responder ao povo brasileiro, que espera tanto. Que a gente tenha a competência de fazer da crise um momento exatamente de oportunidades para todos os brasileiros. E, sem dúvida nenhuma, a experiência de V. Exa. será fundamental para isso.\n    Deus te abençoe! Deus te ilumine, como possa iluminar a todos nós que aqui estamos!\n    O SR. CONFÚCIO MOURA (Bloco Parlamentar Unidos pelo Brasil/MDB - RO) – Muito obrigado.",
                  "True",
                  "200",
                  ""
                ],
                [
                  "4",
                  "451202",
                  "451202",
                  "Senado Federal",
                  "2019-02-27",
                  "Relato da origem e das motivações do Projeto de Lei nº 550/2019, que torna mais rígida a gestão das barragens no Brasil.",
                  "COMENTARIO, ORIGEM, MOTIVO, PROJETO DE LEI, OBJETIVO, MELHORIA, CRITERIOS, GESTÃO, BARRAGEM, PAIS.\n\nPREOCUPAÇÃO, SOLUÇÃO, ECONOMIA, MINERAÇÃO, ESTADO DE MINAS GERAIS (MG), MOTIVO, PREJUIZO, ROMPIMENTO, BARRAGEM, BRUMADINHO (MG).\n\nDEFESA, DISCUSSÃO, PACTO FEDERATIVO, OBJETIVO, RECUPERAÇÃO, FINANÇAS, ESTADOS, MUNICIPIOS.",
                  "https://www25.senado.leg.br/web/atividade/pronunciamentos/-/p/texto/451202",
                  "https://legis.senado.leg.br/dadosabertos/discurso/texto-integral/451202",
                  "https://legis.senado.leg.br/dadosabertos/discurso/texto-binario/451202",
                  "Senador(a)",
                  "SENADOR",
                  "Rodrigo Pacheco",
                  "5732",
                  "DEM",
                  "MG",
                  "4819",
                  "DIS",
                  "Discurso",
                  "Sim",
                  "[{'DataPublicacao': '2019-02-28', 'FontePublicacao': 'Diário do Senado Federal', 'PaginaFinal': '85', 'PaginaInicial': '75', 'SiglaFonte': 'DSF', 'TipoPublicacao': 'PUB', 'UrlDiario': 'http://legis.senado.leg.br/diarios/BuscaDiario?tipDiario=1&datDiario=28/02/2019&paginaDireta=75'}]",
                  null,
                  "2019-02-01",
                  "2019-03-03",
                  null,
                  null,
                  null,
                  "O SR. RODRIGO PACHECO (Bloco Parlamentar Vanguarda/DEM - MG. Para discursar.) – Sr. Presidente, Senador Weverton, Srs. Senadores, não vejo Sras. Senadoras, mas, também, as cumprimento, público em geral, eu subo a esta tribuna na data de hoje por ser uma data marcante para o Senado e marcante para o Estado de Minas Gerais especialmente.\n    Hoje foi aprovado o Projeto de Lei 550, no Senado Federal, terminativo nas Comissões, na Comissão de Constituição e Justiça, sob a relatoria do Senador Antonio Anastasia. E, logo, na sequência, quase que concomitantemente, na Comissão de Meio Ambiente, sob a relatoria do Senador Randolfe Rodrigues. Trata-se de um projeto que regulamenta, que define, que torna mais rígida a gestão das barragens no Brasil.\n    De tudo quanto foi dito aqui, tendo ocupado a tribuna o Senador Randolfe Rodrigues, em relação às evoluções desse tema de barragens, infelizmente muito atual, há de se acrescentar também algumas medidas tomadas, e gostaria de revelar as circunstâncias em que essa ideia nasceu: especialmente quando eu e o Senador Antonio Anastasia, juntos, estivemos na cidade de Brumadinho.\n    Visitamos o Prefeito municipal e alguns de seus secretários. Era um sábado de manhã e, Senador Weverton, era um cenário de terror e de tristeza. O desespero no olhar do Prefeito, que era o desespero de toda a população de Brumadinho, de uma tragédia sem precedentes, de uma tragédia que muitos vão dizer previsível, mas até então inimaginável em termos de proporções. O quão forte foi aquela lama ao desabar daquela barragem, que retorceu vagões de trem que, se fossem atingidos por um caminhão em alta velocidade, não ficariam tão destruídos quanto ficaram com a força da lama, de veículos que mais pareciam veículos acidentados numa rodovia batendo de frente com uma carreta, de corpos mutilados e, por vezes, já sepultados e, depois, encontrava-se uma outra parte do corpo e, aí, o dilema do que se faz com essa situação. Então, um cenário de terror, um cenário de absoluta infelicidade, de tristeza e que tornou o Estado de Minas Gerais deprimido.\n    Por isso, eu disse, de fato, esse acontecimento é o 11 de setembro do Estado de Minas Gerais, que infelizmente aconteceu. E, naquela ocasião da visita ao Prefeito, o Prefeito Neném da Asa, de Brumadinho, ele, ali, externava uma grande preocupação, a tristeza no olhar dele por tudo que havia acontecido, mas uma preocupação do que seria o futuro e do que será o futuro de Brumadinho e dessas cidades atingidas. Como é o desespero do Prefeito Duarte, da cidade de Mariana, do que será o futuro da cidade de Mariana em razão desses acontecimentos.\n    E algo ali me tocou, porque, para mim, era inimaginável, depois de tantas pessoas mortas, de um acidente gravíssimo, se é que se pode chamar de acidente, diga-se de passagem, mas de um acontecimento daquela natureza, de o Prefeito ter uma preocupação com o futuro da cidade, porque o futuro da cidade hoje é de responsabilidade da empresa Vale. O futuro da cidade de Brumadinho é responsabilidade dos entes Federados, União e Governo do Estado.\n    O Prefeito não tem que estar com aquela preocupação. Ele não tinha que estar gastando energia, pensando como é que vai ser a cadeia produtiva sem a mineração na cidade dele. A obrigação de indenizar existe e essa indenização terá que ser quase que perene ao longo do tempo.\n    E, aí, surgiu uma ideia, fruto da inteligência do Senador Antônio Anastasia, que é um dos mais brilhantes homens públicos do Brasil na minha opinião, que foi por que não pensar, Senador Marcos Rogério, numa fórmula de se manter a contribuição e o recolhimento da CFEM por parte da mineradora diante daquele acontecimento, mesmo que ela não pratique ali atividade minerária. Como a ideia de se reverter as multas administrativas atinentes ao acontecimento aos Municípios que são atingidos.\n    Então, esse projeto de lei hoje, que foi aprovado no Senado, que vai à Câmara com uma grande expectativa de aprovação célere e de sanção do Presidente da República, traz institutos que são institutos de prevenção em relação ao uso de barragens nas minerações Brasil afora, mas também de previsões de reparação para que a preocupação do Prefeito Neném da Asa do que seja o futuro do seu Município não precise existir, a dúvida de que a obrigação é da empresa, de que a obrigação é da União, de que a obrigação é do Governo do Estado de atender Brumadinho quase que perenemente, repito.\n    E é bom que se faça justiça também, porque além do projeto hoje aprovado, do Senado, Governador, Senador Confúcio Moura, também na Assembleia Legislativa de Minas Gerais foi aprovado um projeto do mesmo viés, obviamente, não tratando de matéria penal das reformulações da Lei 9.605, porque de atribuição e de competência federal, mas a Assembleia Legislativa tomou as suas providências, numa Comissão que foi lá instalada e que conferiu ali os parâmetros para essa lei que foi aprovada, na semana que correu, na Assembleia Legislativa de Minas Gerais. E, aí, destaco o trabalho de um Deputado Estadual especificamente, o Deputado João Vitor Xavier, que incorporou a causa que personificou, de certo modo, o tema e que acabou redundando na aprovação por parte da Assembleia Legislativa de Minas Gerais desse projeto de lei.\n    Então, temos uma iniciativa legislativa no Senado, que tocará à Câmara em breve, uma iniciativa já, real, na Assembleia Legislativa de Minas Gerais e, agora, uma terceira providência, que é a instalação, que já se avizinha, logo após o Carnaval, em 11, 12 de março, da instalação da Comissão Parlamentar de Inquérito.\n    Em algum momento houve uma dúvida se uma CPI do Senado e uma CPI da Câmara ou se uma CPMI... A CPMI talvez, em tese, pudesse reunir todos os esforços, mas devemos reconhecer que aguardar uma reunião do Congresso Nacional é realmente difícil num momento em que nós precisamos de respostas imediatas. Então, a instalação da comissão parlamentar de inquérito vai ao encontro dessas iniciativas legislativas para poder, de fato, coibir não só o acontecimento para trás, mas prevenir que novos acontecimentos ocorram em Minas Gerais e no Brasil.\n    E aí vem um grande dilema em relação à mineração em si. Minas Gerais é um Estado minerador, tem minas até no nome. E ao que se declara guerra agora e o que indigna é em relação à mineração irresponsável, à mineração que usa a barragem sem a devida a prevenção, à mineração que sobrepõe o interesse econômico e o interesse do lucro ao interesse da vida humana. É em relação a essa mineração que nós plantamos toda a nossa ojeriza, todas as nossas providências, para poder extirpá-las do cenário econômico de Minas Gerais e do Brasil.\n    Mas há diversos Municípios em Minas Gerais – e somos 853 Municípios, o Estado que tem o maior número de Municípios – que dependem da mineração. Esse marco desse triste acontecimento, que vitimou tantas pessoas, talvez seja o marco de uma renovação de ideias e de vocações econômicas do Estado de Minas Gerais.\n    Temos um produto interno bruto em que cerca de 30% depende da indústria e significativamente da mineração. É preciso agora os Municípios de Minas Gerais e o Estado de Minas Gerais terem uma reflexão sobre as suas próximas vocações e alternativa que temos. A alternativa é inclusive a própria mineração, mas uma mineração responsável, uma mineração eventualmente a seco, que não use água, tampouco use barragem – 32% das minerações em Minas já são assim, a seco. Não há nada que falar em relação a elas, especialmente se estiverem dentro da legislação, com o cumprimento das licenças, devidamente autorizadas.\n    Mas é preciso encontrarmos soluções para a economia de Minas Gerais. E por que precisamos encontrar soluções para a economia de Minas Gerais? Porque somos um Estado hoje quebrado. Um déficit público anual de cerca de R$10 bilhões, R$12 bilhões, que sucessivamente vem se acumulando ao longo dos anos. Um produto interno bruto em que, de 2015 para 2016, houve decréscimo, o que é absolutamente raro na história de Minas Gerais. Normalmente aumentava R$30 bilhões, R$20 bilhões, R$40 bilhões por ano o produto interno bruto. De 2015 para 2016, tivemos um decréscimo do produto interno bruto.\n    Então, é um Estado que sofre com uma dívida altíssima com a União. Senador Luis Carlos Heinze acabou de se referir a Minas Gerais especificamente – eu acho até que é mais, mas R$102 bilhões de dívida com a União. Então, é um Estado com uma dívida enorme, a segunda maior dívida de ente federado do Brasil, um déficit público abissal, da ordem de R$10 bilhões.\n    Senador Confúcio Moura, que foi Governador, inaugurou-se em Minas Gerais um novo método no governo passado, de reter os recursos constitucionais dos Municípios: ICMS, IPVA, Fundeb, que pertencem aos Municípios e o Governador retém e não repassa aos Municípios.\n    Essa situação, infelizmente, ainda persiste. Temos uma expectativa do Governador Romeu Zema de regularizar. Essa expectativa é sincera e estamos ajudando para que isso aconteça. Mas há Municípios que não tem o seu repasse em dia, servidores que não recebem os seus salários em dia. E aí, sejamos honestos, dívida alta, déficit alto, servidores que não recebem em dia, Municípios que não recebem a sua cota constitucional... Isso é uma herança do Governo passado. Sejamos justos, e abstraindo aqui eventuais divergências ideológicas e políticas, sejamos justos com o novo Governador do Estado Romeu Zema, que herdou essa herança e que tem procurado por seus próprios meios, por suas próprias fórmulas, reduzir o déficit público, economizar o máximo que pode e girar a economia do Estado.\n    Mas aí vem essa catástrofe, esse crime de Brumadinho, que compromete toda a cadeia produtiva do Estado de Minas Gerais.\n    A solução é uma só, a solução é a união do Estado de Minas Gerais, do Governador Romeu Zema, dos seus secretários, da bancada dos 53 Deputados Federais, de nós, os três Senadores, o Senador Antonio Anastasia e o Senador Carlos Viana, de nos unirmos dentro de um propósito comum, porque o nosso inimigo é outro. O nosso inimigo é a depressão, é a crise e a falência iminente do Estado de Minas Gerais, que está à beira de concretizar um colapso financeiro, um colapso fiscal e um colapso social.\n    Senador Marcos Rogério, meu estimado colega do Democratas, eu não medirei esforços para poder concretizar essa união. Eu tenho conversado sistematicamente com o Governador Romeu Zema, com a bancada de Deputados Federais, especialmente com o Deputado Federal Diego Andrade, que é o coordenador da bancada em Minas Gerais, para que possamos achar uma solução para esse grave problema.\n    Algumas realizações já têm acontecido. Foi até Minas Gerais o Ministro Luiz Henrique Mandetta, da Saúde, e lá anunciou, na presença do Governador, na minha presença e de alguns Deputados Federais, inclusive do Deputado Diego Andrade, a destinação de R$94 milhões para a saúde de Minas Gerais.\n    Ontem, recebi o Ministro da Infraestrutura, Tarcísio Freitas, que inclusive me gerou a melhor impressão possível, Senador Wellington Fagundes – e creio que a V. Exa. também –, pelo preparo, pelo conhecimento, pelo domínio da informação, porque conhece a realidade que ele quer transformar, e com ideias muito inovadoras. Ele assumiu um compromisso conosco de um olhar diferenciado para a infraestrutura do Estado de Minas Gerais, que, por não ter dinheiro nem para pagar a folha de pagamento e nem para repassar recursos constitucionais para os Municípios, tampouco consegue fazer investimentos na área de infraestrutura. Temos lá uma BR-381, que mata constantemente pessoas. É a chamada rodovia da morte, que está matando pessoas sistematicamente em Minas Gerais; temos uma série de rodovias – temos a maior malha rodoviária do Brasil – com problemas crônicos de déficit de investimentos.\n    O Ministro Tarcísio disse que terá esse olhar e que já há uma programação, inclusive um método de concessões públicas para resolver o problema dessa malha rodoviária mais crítica em Minas Gerais. E anunciou, inclusive, a perspectiva da malha ferroviária, com investimentos da ordem de R$3 bilhões só no Estado de Minas Gerais, o que vai, inclusive, injetar na economia um valor muito considerável.\n    Então, é isso o que nos cabe fazer neste momento no nosso Estado. Peço desculpas por resumir os assuntos aqui ao meu Estado de Minas Gerais. Há tantos outros assuntos nacionais que precisávamos tratar: a reforma da previdência, a escolha agora do Banco Central e das políticas monetárias e de tudo quanto há de repercussão nacional, que atinge os Estados. Mas eu resumo esta minha fala de hoje a esse interesse bairrista, mas sincero, do meu Estado de Minas Gerais, por conta do momento de depressão que nós vivemos, em que a única solução é a união.\n    Mas, tudo isso feito – a união das forças políticas, a união de todos os mineiros –, não será suficiente se não houver no Brasil uma nova estruturação do pacto federativo. E aí, com a concordância do Governador, Senador Confúcio Moura, devemos reconhecer que o pacto federativo será a solução para os Estados e a solução para os Municípios não só de Minas Gerais, mas de todo o Brasil. O que me anima, Senador Marcos Rogério e Senador Wellington Fagundes, é que, se o ponto de resistência para a rediscussão do pacto federativo, que significa mais receita para Municípios e para Estados, era da União, já se revela menos resistência ao tema por parte da União, do Ministro Paulo Guedes, que norteia nossa economia hoje em relação à rediscussão do pacto federativo. Então, juntamente com a reforma da previdência, que toca neste momento à Câmara dos Deputados, e a reforma do pacto federativo, que eventualmente tocará ao Senado, nós podemos ter um otimismo em relação à recuperação das finanças dos Estados e dos Municípios, de uma vez por todas.\n    Portanto, Sr. Presidente, ao tempo em que destaco o dia de hoje como um dia importante no combate à irresponsabilidade do uso de barragens em mineração, com a aprovação do projeto da relatoria do Senador Antonio Anastasia e do Senador Randolfe Rodrigues, eu gostaria de dedicar este meu pronunciamento de hoje – de união no Estado de Minas Gerais, de renovação das expectativas e da esperança do nosso povo de superar a crise e de encontrar uma fórmula para o desenvolvimento econômico do Estado, sem o que não se faz desenvolvimento humano e desenvolvimento social, que dependem do desenvolvimento econômico – ao povo de Minas Gerais, em especial aos 3,616 milhões de mineiros e mineiras que me deram esta cadeira no Senado Federal. É em função desse povo que eu trabalharei diuturnamente para buscar soluções do meu Estado.\n    Senador Marcos Rogério.\n    O Sr. Marcos Rogério (Bloco Parlamentar Vanguarda/DEM - RO) – Senador Rodrigo Pacheco, se V. Exa. me permite o aparte, eu queria fazê-lo no sentido de homenagear V. Exa. por trazer ao Plenário do Senado Federal, na tarde de hoje, esse tema, que não é um tema só de Minas Gerais, não é um tema só de Brumadinho, é um tema do Brasil. Essa tragédia que se abateu sobre o Município de Brumadinho, na verdade, levou a população brasileira às lágrimas, a um sentimento muito forte com relação a essas famílias de tantos mineiros. V. Exa. traz o assunto fazendo uma reflexão inicialmente sobre o marco legal que aprovamos hoje na Comissão de Constituição e Justiça, tendo como subscritor da Relatoria o Senador Professor Anastasia, por sinal uma inovação extremamente importante; mas eu, ao cumprimentar V. Exa. por trazer esse assunto ao Plenário do Senado, diria que a tragédia de Brumadinho tirou a vida de muita gente, mas tirou, além da vida, o sonho de muitas famílias, tirou o brilho, a alegria da cidade. V. Exa. apontou alguns aspectos na questão das compensações que são devidas. Eu diria que a reparação que se propõe às famílias, embora necessária, não traz de volta a vida de ninguém, nem afasta a dor de quem perdeu alguém nessa tragédia lamentável.\n(Soa a campainha.)\n    O Sr. Marcos Rogério (Bloco Parlamentar Vanguarda/DEM - RO) – Mais ainda, fica um passivo enorme para a cidade, que perde economicamente. A cidade está vivendo o seu pior momento, com o comércio parado, com os serviços privados reduzidos e serviços públicos ampliados, com perda de arrecadação. Esse é o cenário que vive o Município de Brumadinho, como também viveu certamente o Município de Mariana, também no Estado das Minas Gerais.\n    Então, V. Exa. não traz um assunto que é atinente apenas ao interesse dos mineiros, das Minas Gerais. É um assunto que deve levar à reflexão todos nós, porque é uma matéria que interessa ao País. Essas indenizações não são necessárias apenas às famílias, embora – repito – não corrijam a dor de quem sofre ou tragam de volta a vida...\n(Interrupção do som.)\n(Soa a campainha.)\n    O Sr. Marcos Rogério (Bloco Parlamentar Vanguarda/DEM - RO) – Sr. Presidente, estou dizendo que a cidade precisa refazer a sua infraestrutura, precisa cuidar dos transtornos sociais, dos danos ambientais, dos problemas da saúde que são advindos dessa situação toda.\n    Então, as ponderações que V. Exa. traz ao Plenário do Senado hoje são absolutamente pertinentes, mostram justamente a sensibilidade de V. Exa. com essa situação trágica, mas sobretudo o compromisso público que V. Exa. tem com Minas Gerais e com o Brasil.\n    Minhas homenagens!\n    O Sr. Confúcio Moura (Bloco Parlamentar Unidos pelo Brasil/MDB - RO) – Um aparte, Senador.\n    O SR. RODRIGO PACHECO (Bloco Parlamentar Vanguarda/DEM - MG) – Agradeço ao Senador Marcos Rogério\n    Senador Confúcio Moura.\n    O Sr. Confúcio Moura (Bloco Parlamentar Unidos pelo Brasil/MDB - RO) – Senador Rodrigo Pacheco, eu queria aproveitar a oportunidade, porque deve haver muitos rondonienses ligados na TV Senado, para apresentar um filho de Rondônia, de nascimento, que é V. Exa., para que o povo lá o conheça, mas de coração mineiro, efetivamente.\n    Quero louvar o seu discurso, tão oportuno. Vou destacar só um ponto, que é o pacto federativo, que representa hoje uma situação dramática. Não passa pela minha cabeça aceitar que o Estado de Minas Gerais esteja quebrado. Para mim isso é uma aberração das aberrações, Minas Gerais de tanta tradição, Minas Gerais que, do Império até recentemente, teve ilustres personalidades históricas e da política brasileira, Minas Gerais da Inconfidência, Minas Gerais de Juscelino, Minas Gerais de todo mundo, Minas Gerais efervescente, de Uberlândia e tantas outras regiões. É difícil para mim, que sou admirador de Minas Gerais, aceitar uma situação dessas. Se a gente vê Minas, com a sua pujança, a sua riqueza, assim, como é que a gente pode imaginar os demais Estados periféricos da Amazônia, do Nordeste, mais frágeis, susceptíveis de acontecimentos como esse? Então, nós todos aqui teremos que pensar muito, Senadores, raciocinar, para enfrentar essa situação do pacto federativo e não aceitar. Como é que a gente pode aceitar Minas quebrado, como? Não tem como. E o Rio Grande do Sul? Como imaginar o Rio Grande do Sul? Não pode, não convence. Nós temos que encontrar uma solução. Se, de repente, ampliar mais Estados assim, como é que fica esta Federação? A União não existe, existem Estados.\n    Então, o senhor toca na ferida mesmo e propõe, brilhantemente, com a força da sua juventude e do seu conhecimento, um pacto, um encontro, um pensamento, uma confluência de ideias para que a gente possa sair desse buraco.\n    Eu parabenizo V. Exa. nesse dia de hoje, final de tarde, com esse discurso tão oportuno, tão brilhante que o senhor faz aqui no Plenário do Senado Federal.\n    Meus sinceros parabéns.\n    O SR. RODRIGO PACHECO (Bloco Parlamentar Vanguarda/DEM - MG) – Agradeço a V. Exa., Senador Confúcio, e aqui também na pessoa do Sr. Marcos Rogério, mando um grande abraço ao povo rondoniense. De fato, em 1976, os meus pais, mineiros, se mudaram para Porto Velho e eu nasci no hospital Maternidade Darcy Vargas, no barranco do Rio Madeira. Morei lá até dois, três anos de idade. Depois eles voltaram para Minas Gerais, onde fui criado na cidade de Passos, no sudoeste de Minas. O coração, de fato, é mineiro, mas a naturalidade é rondoniense, e com orgulho.\n    Agradeço muito pelo carinho dos nossos colegas de bancada, de Rondônia.\n    Senador Wellington Fagundes.\n    O Sr. Wellington Fagundes (Bloco Parlamentar Vanguarda/PR - MT) – Senador Rodrigo Pacheco, sempre tenho dito que eu gosto tanto dos mineiros que eu arrumei uma mineira para me casar, lá de Monte Alegre de Minas, bem próximo de Uberlândia e quero registrar com muito carinho, porque namorei oito anos e quase 40 de casados. Então, a paixão é muito grande. Confesso aqui a minha admiração pelo povo mineiro, a minha esposa Mariene de Abreu Fagundes com a sua família. A mãe também é professora lá.\n    Eu falo isso exatamente para enaltecer, primeiro, a sapiência mineira. Todos os brasileiros reconhecem que o mineiro tem um jeito especial de agir, inclusive nas dificuldades. Por isso, eu fiz questão de fazer este aparte aqui a V. Exa., enaltecendo não só a competência, já provada na Câmara dos Deputados como Presidente da comissão mais importante da Câmara dos Deputados, a Comissão de Constituição e Justiça. Então, V. Exa. chega a esta Casa... Hoje eu tive a oportunidade de falar na comissão, quando aprovávamos esse projeto – enaltecendo inclusive a Senadora Leia –, que este Congresso, principalmente o Senado, se rejuvenesce com a presença de novos Parlamentares, muitos até que não exerceram mandatos e que aqui estão como a própria Senadora Leila e V. Exa., que já vem da experiência da Câmara dos Deputados. Eu tenho certeza de que o que aprovamos hoje foi importante demais, para dar o exemplo.\n    O que aconteceu com Brumadinho já tinha acontecido em Mariana. Então, tudo isso nos deixa muito apreensivos porque, às vezes, medidas que deveriam ser tomadas não são tomadas e V. Exa., com a competência de Líder do DEM, já tem demonstrado que está aqui exatamente para chamar a atenção de todo o Congresso Nacional, mas além de tudo para contribuir neste momento em que o Brasil precisa de transformações.\n    O drama que vive hoje o povo mineiro com Brumadinho... Todos nós brasileiros ficamos a perguntar se essa angústia outros Estados poderão viver.\n    Eu vou, inclusive, daqui a pouco, fazer um pronunciamento em que vou citar essa questão, mas quero também aqui falar um pouco dessas dificuldades do Estado das Minas Gerais que V. Exa. coloca. Por que eu falo isto? Exatamente porque eu também discuti muito no mandato passado a questão da Lei Kandir. Sou Relator na comissão especial que trata da regulamentação do FEX, do fundo de compensação das exportações. Estados como Minas Gerais, Pará, Rio Grande do Sul, Mato Grosso, o Centro-Oeste de um modo geral, fizeram o dever de casa de ajudar o Brasil a exportar as matérias-primas, os semielaborados, e o que se previa era uma compensação devida pelo esforço de cada Estado. Quanto mais cada Estado exportasse, mais teria a compensação. Mas foi o contrário: quanto mais aumentou a sua exportação, menos recebeu. Por isso, é fundamental que façamos a regulamentação da Lei Kandir, inclusive aproveitando este momento de crise para discutir exatamente, como disse aqui o Confúcio, o pacto federativo. Não pode essa concentração de toda a renda nacional ficar aqui, em Brasília. E quando a gente vai discutir lá no Ministério da Fazenda, há insensibilidade dos técnicos: \"Não, tem que ficar concentrado\".\n    Então, eu quero aproveitar inclusive este momento de sofrimento do povo mineiro, mas dizer que Minas Gerais contribuiu também demais com o Brasil até hoje. Só com as minas gerais que foram através dos minérios exportados... E muitos mineiros sofreram inclusive também as doenças, as consequências de tudo isso. Então, eu acho que está na hora, realmente, de todos nós nos debruçarmos sobre o pacto federativo, porque os Municípios... Foram criados tantos programas pelos governos que passaram, e a responsabilidade ficou lá na ponta. O prefeito e os vereadores que estão lá é que têm que atender ao cidadão que chega reclamando porque paga os impostos e o serviço, na maioria das vezes, não é de qualidade. A culpa não é dos Prefeitos e dos Vereadores; é exatamente porque a distribuição dos recursos não chega de acordo com os programas que foram criados. Por isso, quero aqui enaltecer a atuação de V. Exa. aqui já como Líder, na certeza de que vamos estar trabalhando juntos principalmente para fazer com que o pacto federativo não seja mais uma falácia, mas que seja verdadeiro. Já conseguimos melhorar. Há poucos anos, os Municípios recebiam menos de 15%. Conseguimos aumentar para 16%, 17%, 18%, mas a Constituição é clara: 21%. Mas, além de ser os 21% que a Constituição prevê, também há os programas que são criados, às vezes com isenções fiscais. Nós aqui votamos muitos programas de regularização fiscal isentando, isentando, isentando, sem consultar os Prefeitos. E a esses recursos os Prefeitos também teriam direito, os Municípios teriam direito à sua parte.\n    Eu quero aqui parabenizar V. Exa. e dizer que vamos estar trabalhando juntos exatamente para trazer mais justiça tributária na distribuição de renda e, principalmente, de justiça social aqui, no Brasil.\n    O SR. RODRIGO PACHECO (Bloco Parlamentar Vanguarda/DEM - MG) – Agradeço a V. Exa. Como Líder do nosso Bloco, o Bloco Vanguarda, contamos muito com V. Exa. e com a sua liderança justamente para estabelecer esses três pilares...\n(Soa a campainha.)\n    O SR. RODRIGO PACHECO (Bloco Parlamentar Vanguarda/DEM - MG) – ... que V. Exa. muito bem expõe: da questão da Lei Kandir, que sacrifica os Estados que contribuíram tanto para o País com as suas exportações – no caso de Minas Gerais não é diferente –, com a reforma tributária, que nós temos que discutir definitivamente, porque o sistema tributário nacional precisa ser mais claro, mais simplificado, eventualmente taxando o consumo, não tendo essa quantidade de tributos que nós temos e unificando esses tributos nacionais; e essa discussão do pacto federativo, que para mim é tão óbvia, porque as pessoas vivem nos Municípios, as pessoas habitam, casam-se, criam seus filhos nas cidades. E é inimaginável pensar essa romaria de Prefeitos e vereadores em Brasília, com pires na mão, para poder ter uma parte do bolo, num universo muito pequeno de pessoas que decidem os destinos nacionais. Então, essa descentralização é fundamental.\n    E quando alguém diz: \"Ah, mas com a descentralização vai ser muito difícil controlar, pode haver mais incidência de corrupção\"... Isso é uma falácia. Na verdade, a corrupção está numa raiz, que precisa ser combatida com métodos menos burocráticos, com mais simplificação, com mais controles, que tanto podem ser feitos no ambiente da União quanto no ambiente dos Municípios. Então, a descentralização dos recursos eu acho que é uma causa de nós todos. Se nós nos unirmos, eu não tenho dúvida de que nós vamos decidir isso para bem do País.\n    O Sr. Weverton (Bloco Parlamentar Senado Independente/PDT - MA) – Senador Rodrigo...\n    O Sr. Reguffe (S/Partido - DF) – Senador...\n    O SR. RODRIGO PACHECO (Bloco Parlamentar Vanguarda/DEM - MG) – Senador Weverton; na sequência, Senador Reguffe.\n    O Sr. Weverton (Bloco Parlamentar Senado Independente/PDT - MA) – Primeiro, toda a solidariedade ao povo mineiro. Toda a nossa solidariedade. Nós, que representamos todos os Estados, as unidades desta Federação, temos que transformar essa solidariedade... Isso foi feito com o Projeto 550, e a gente espera que a Câmara dos Deputados também dê a mesma celeridade que foi dada nesta Casa – parabéns a todos que tiveram esse protagonismo importante nesse projeto de lei – para que essa nossa solidariedade, principalmente dos Parlamentares, vire indignação. Há que se endurecer muito, e não apenas com a Vale. Há que se endurecer com todas essas grandes empresas que apenas pensam no lucro, apenas pensam em números, e as pessoas lá da ponta, os seus trabalhadores sempre ficam por último.\n    Está aí a tragédia que, infelizmente, deixa todo o País até agora sem acreditar. E ontem a gente comentava na reunião do Colégio de Líderes: o que está sendo dessas famílias que ainda nem encontraram, não puderam ainda nem se despedir dos seus entes queridos? Estão lá: olham para aquele mar de lama e não têm mais esperança, Presidente Rogério. Estão começando a perder as esperanças de ter a chance de pelo menos se despedir dos seus entes. É realmente revoltante, dá para a gente se indignar. E a Vale não tem matado o povo brasileiro só com essas barragens. Basta ver a sua ferrovia e todos esses Municípios onde, aos poucos, ela foi deixando o pó do minério nos pulmões das nossas crianças do Norte, do Nordeste. Lá no nosso Estado, o Comefc, um consórcio dos Municípios, há anos luta para que a Vale de verdade comece a fazer o repasse necessário. Não é indenização, mas o royalty mínimo, porque ali você transporta a riqueza, e eles passam por cima da pobreza, deixando apenas acidentados, pessoas que vão adoecendo, repito, com o pó daquele minério que fica na cidade. E aí a gente vê realmente o desrespeito total, e essa riqueza toda está indo para fora do Brasil.\n    Então, quero parabenizá-lo. Tenho certeza de que esse time novo que chega ao Senado, com o time já decano e experiente, nós vamos juntar tudo isso para transformar essa nossa indignação em trabalho. E isso é muito importante.\n    Hoje, no meu Twitter, eu comentei: o Banco Central anuncia as taxas de juros. Cheque especial, 315% e, no cartão rotativo, 287%, meus amigos! Como é que nós estamos querendo falar de enfrentar a crise ainda com os da ponta, o trabalhador, o assalariado sendo extorquido, assaltado de forma oficial pela nossa política de juros? Trezentos por cento no cartão de crédito e no cheque especial! É inimaginável, surreal! E infelizmente hoje a grande população está aí vivendo desses cheques especiais.\n    Então, eu encerro aqui fazendo este registro, dizendo que dos Estados que estão aí sofrendo muito com os débitos com a União nós temos que dar um jeito de resolver a situação, assim como temos que dar um jeito de premiar os que conseguiram manter a sua saúde fiscal, que estão conseguindo sobreviver e fazer o dever de casa. É preciso dar um prêmio aos bons pagadores.\n    Ontem, dia 26 de fevereiro, o primeiro Estado do Brasil a pagar a sua folha foi o meu Estado. O Governador Flávio Dino anunciou que todos os servidores ontem já estavam com dinheiro na conta, já pagando o mês de fevereiro.\n    Então, assim tem sido, mas não era...\n(Soa a campainha.)\n    O Sr. Weverton (Bloco Parlamentar Senado Independente/PDT - MA) – ... mera obrigação dele. Hoje podia ser: \"Ah, mera obrigação do gestor\", mas os senhores que conhecem as realidades fiscais dos seus Estados sabem que o Governador que chega em pleno 26 de fevereiro e paga uma conta em dia do seu servidor é realmente um Governador que está com um ajuste fiscal, que está olhando realmente para os seus trabalhadores e está tendo o controle da sua gestão. Não é à toa que conseguiu se reeleger com mais de 60% dos votos.\n    Então, estamos à sua disposição. Parabéns!\n    Eu tenho certeza de que nós vamos conseguir contribuir muito para vários debates que esta Casa vai enfrentar.\n    O SR. RODRIGO PACHECO (Bloco Parlamentar Vanguarda/DEM - MG) – Agradeço muito, Senador Weverton.\n    Senador Reguffe.\n    O Sr. Reguffe (S/Partido - DF) – Senador Rodrigo Pacheco, eu quero, em primeiro lugar, parabenizar V. Exa., que vem para esta Casa com respeito da população mineira, mas também trazendo para cá conteúdo, preparo e muito conhecimento. Então, considero muito importante a vinda de V. Exa. para esta Casa Legislativa, para o nosso Senado Federal.\n    Com relação ao pronunciamento de V. Exa., primeiro, destaco a questão do pacto federativo. O Brasil vive uma falsa Federação. Nós não temos uma verdadeira Federação. Outros países do mundo, como, por exemplo, os Estados Unidos, funcionam sob um sistema federativo, mas ali você tem realmente uma Federação. No Brasil, não; no Brasil, os recursos ficam muito concentrados na União, no Governo Federal, e as responsabilidades às vezes não são claras – de quem é a responsabilidade de determinada coisa. Então, nós precisamos, sim, ter um pacto federativo e V. Exa. foi muito sábio no seu pronunciamento sobre isso.\n    Agora, apenas faço uma ponderação aqui: não é porque nós temos que fazer uma reforma da nossa Federação que isso exime alguns governantes de responderem pelo que fizeram não só no Estado de V. Exa. como em outros Estados também. Um Governo não pode gastar mais do que arrecada. Quando um Governo gasta mais do que arrecada, ele prejudica a população num ponto futuro porque alguém vai ter que pagar essa conta. Às vezes ela é paga com aumento de impostos, que o contribuinte tem que pagar, às vezes é paga de outras formas. Então, nós precisamos, sim, da questão do pacto federativo, mas precisamos também que sejam responsabilizadas aquelas pessoas, aqueles gestores que gastaram mais do que arrecadaram, que não foram responsáveis do ponto de vista fiscal neste País.\n    Com relação à questão de Brumadinho, eu fui um dos signatários aqui para a instalação da Comissão Parlamentar de Inquérito de Brumadinho.\n(Soa a campainha.)\n    O Sr. Reguffe (S/Partido - DF) – Assinei o pedido de instalação de uma comissão parlamentar de inquérito para investigar o que ocorreu em Brumadinho. Considero que não só Brumadinho como Mariana são dois vexames nacionais que colocaram o Brasil nas manchetes do mundo inteiro e uma irresponsabilidade não só dos gestores empresariais, mas também do próprio Poder Público, que não cumpriu a sua função de fiscalizar como deveria esses dois casos dessas barragens.\n    Então, isso precisa ser investigado com rigor. É um papel do Poder Legislativo fiscalizar isso.\n    Há outras barragens, e, cá ou lá, desde que isso ocorreu, escutamos que têm problemas. É importante que o Poder Público seja vigilante em relação a isso e cumpra a sua função perante a sociedade brasileira.\n    No mais, mais uma vez quero parabenizar V. Exa. e desejar muita sorte nesta Casa. Tenho certeza de que, com o preparo que V. Exa. tem, com o conhecimento técnico que V. Exa. tem, V. Exa. tem tudo para representar com muita dignidade a população de Minas Gerais aqui nesta Casa.\n    O SR. RODRIGO PACHECO (Bloco Parlamentar Vanguarda/DEM - MG) – Agradeço a V. Exa. a intervenção muito pertinente, especialmente quando se refere às causas da situação caótica nos Estados. De fato, as distorções do pacto federativo são uma das causas que levaram a essa situação, mas não é a única. Há outras causas, inclusive a irresponsabilidade individual de alguns governantes que gastaram mais do que arrecadaram. Isso até nas contas domésticas nós sabemos que não podemos fazer, que dirá com o dinheiro público no âmbito de um Governo de Estado.\n    Cumprimentando a Mesa do Estado do Rondônia, Senador Marcos Rogério, Senador Confúcio Moura, eu agradeço a oportunidade.",
                  "True",
                  "200",
                  ""
                ]
              ],
              "shape": {
                "columns": 30,
                "rows": 5
              }
            },
            "text/html": [
              "<div>\n",
              "<style scoped>\n",
              "    .dataframe tbody tr th:only-of-type {\n",
              "        vertical-align: middle;\n",
              "    }\n",
              "\n",
              "    .dataframe tbody tr th {\n",
              "        vertical-align: top;\n",
              "    }\n",
              "\n",
              "    .dataframe thead th {\n",
              "        text-align: right;\n",
              "    }\n",
              "</style>\n",
              "<table border=\"1\" class=\"dataframe\">\n",
              "  <thead>\n",
              "    <tr style=\"text-align: right;\">\n",
              "      <th></th>\n",
              "      <th>id</th>\n",
              "      <th>CodigoPronunciamento</th>\n",
              "      <th>Casa</th>\n",
              "      <th>Data</th>\n",
              "      <th>Resumo</th>\n",
              "      <th>Indexacao</th>\n",
              "      <th>TextoIntegral</th>\n",
              "      <th>TextoIntegralTxt</th>\n",
              "      <th>UrlTextoBinario</th>\n",
              "      <th>TipoAutor</th>\n",
              "      <th>...</th>\n",
              "      <th>Apartes.Aparteante</th>\n",
              "      <th>__janela_inicio</th>\n",
              "      <th>__janela_fim</th>\n",
              "      <th>CargoAutor</th>\n",
              "      <th>OrgaoAutor</th>\n",
              "      <th>PaisAutor</th>\n",
              "      <th>TextoDiscursoIntegral</th>\n",
              "      <th>ok</th>\n",
              "      <th>status</th>\n",
              "      <th>msg</th>\n",
              "    </tr>\n",
              "  </thead>\n",
              "  <tbody>\n",
              "    <tr>\n",
              "      <th>0</th>\n",
              "      <td>451286</td>\n",
              "      <td>451286</td>\n",
              "      <td>Senado Federal</td>\n",
              "      <td>2019-02-27</td>\n",
              "      <td>Comentários a respeito da concentração bancári...</td>\n",
              "      <td>COMENTARIO, CONCENTRAÇÃO, REDE BANCARIA, COBRA...</td>\n",
              "      <td>https://www25.senado.leg.br/web/atividade/pron...</td>\n",
              "      <td>https://legis.senado.leg.br/dadosabertos/discu...</td>\n",
              "      <td>https://legis.senado.leg.br/dadosabertos/discu...</td>\n",
              "      <td>Senador(a)</td>\n",
              "      <td>...</td>\n",
              "      <td>None</td>\n",
              "      <td>2019-02-01</td>\n",
              "      <td>2019-03-03</td>\n",
              "      <td>None</td>\n",
              "      <td>None</td>\n",
              "      <td>None</td>\n",
              "      <td>SENADO FEDERAL SF -\\nSECRETARIA-GERAL DA MESA\\...</td>\n",
              "      <td>True</td>\n",
              "      <td>200</td>\n",
              "      <td></td>\n",
              "    </tr>\n",
              "    <tr>\n",
              "      <th>1</th>\n",
              "      <td>451285</td>\n",
              "      <td>451285</td>\n",
              "      <td>Senado Federal</td>\n",
              "      <td>2019-02-27</td>\n",
              "      <td>Registro do impacto da reforma da previdência ...</td>\n",
              "      <td>REGISTRO, REFORMA, PREVIDENCIA SOCIAL, ALTERAÇ...</td>\n",
              "      <td>https://www25.senado.leg.br/web/atividade/pron...</td>\n",
              "      <td>https://legis.senado.leg.br/dadosabertos/discu...</td>\n",
              "      <td>https://legis.senado.leg.br/dadosabertos/discu...</td>\n",
              "      <td>Senador(a)</td>\n",
              "      <td>...</td>\n",
              "      <td>None</td>\n",
              "      <td>2019-02-01</td>\n",
              "      <td>2019-03-03</td>\n",
              "      <td>None</td>\n",
              "      <td>None</td>\n",
              "      <td>None</td>\n",
              "      <td>SENADO FEDERAL SF -\\nSECRETARIA-GERAL DA MESA\\...</td>\n",
              "      <td>True</td>\n",
              "      <td>200</td>\n",
              "      <td></td>\n",
              "    </tr>\n",
              "    <tr>\n",
              "      <th>2</th>\n",
              "      <td>451205</td>\n",
              "      <td>451205</td>\n",
              "      <td>Senado Federal</td>\n",
              "      <td>2019-02-27</td>\n",
              "      <td>Comentários a respeito da catástrofe ocorrida ...</td>\n",
              "      <td>COMENTARIO, DESASTRE, ROMPIMENTO, BARRAGEM, BR...</td>\n",
              "      <td>https://www25.senado.leg.br/web/atividade/pron...</td>\n",
              "      <td>https://legis.senado.leg.br/dadosabertos/discu...</td>\n",
              "      <td>https://legis.senado.leg.br/dadosabertos/discu...</td>\n",
              "      <td>Senador(a)</td>\n",
              "      <td>...</td>\n",
              "      <td>None</td>\n",
              "      <td>2019-02-01</td>\n",
              "      <td>2019-03-03</td>\n",
              "      <td>None</td>\n",
              "      <td>None</td>\n",
              "      <td>None</td>\n",
              "      <td>O SR. WELLINGTON FAGUNDES (Bloco Parlamentar V...</td>\n",
              "      <td>True</td>\n",
              "      <td>200</td>\n",
              "      <td></td>\n",
              "    </tr>\n",
              "    <tr>\n",
              "      <th>3</th>\n",
              "      <td>451203</td>\n",
              "      <td>451203</td>\n",
              "      <td>Senado Federal</td>\n",
              "      <td>2019-02-27</td>\n",
              "      <td>Expectativa com o início dos trabalhos no âmbi...</td>\n",
              "      <td>EXPECTATIVA, INICIO, TRABALHO, COMISSÕES, SENA...</td>\n",
              "      <td>https://www25.senado.leg.br/web/atividade/pron...</td>\n",
              "      <td>https://legis.senado.leg.br/dadosabertos/discu...</td>\n",
              "      <td>https://legis.senado.leg.br/dadosabertos/discu...</td>\n",
              "      <td>Senador(a)</td>\n",
              "      <td>...</td>\n",
              "      <td>None</td>\n",
              "      <td>2019-02-01</td>\n",
              "      <td>2019-03-03</td>\n",
              "      <td>None</td>\n",
              "      <td>None</td>\n",
              "      <td>None</td>\n",
              "      <td>O SR. CONFÚCIO MOURA (Bloco Parlamentar Unidos...</td>\n",
              "      <td>True</td>\n",
              "      <td>200</td>\n",
              "      <td></td>\n",
              "    </tr>\n",
              "    <tr>\n",
              "      <th>4</th>\n",
              "      <td>451202</td>\n",
              "      <td>451202</td>\n",
              "      <td>Senado Federal</td>\n",
              "      <td>2019-02-27</td>\n",
              "      <td>Relato da origem e das motivações do Projeto d...</td>\n",
              "      <td>COMENTARIO, ORIGEM, MOTIVO, PROJETO DE LEI, OB...</td>\n",
              "      <td>https://www25.senado.leg.br/web/atividade/pron...</td>\n",
              "      <td>https://legis.senado.leg.br/dadosabertos/discu...</td>\n",
              "      <td>https://legis.senado.leg.br/dadosabertos/discu...</td>\n",
              "      <td>Senador(a)</td>\n",
              "      <td>...</td>\n",
              "      <td>None</td>\n",
              "      <td>2019-02-01</td>\n",
              "      <td>2019-03-03</td>\n",
              "      <td>None</td>\n",
              "      <td>None</td>\n",
              "      <td>None</td>\n",
              "      <td>O SR. RODRIGO PACHECO (Bloco Parlamentar Vangu...</td>\n",
              "      <td>True</td>\n",
              "      <td>200</td>\n",
              "      <td></td>\n",
              "    </tr>\n",
              "  </tbody>\n",
              "</table>\n",
              "<p>5 rows × 30 columns</p>\n",
              "</div>"
            ],
            "text/plain": [
              "       id CodigoPronunciamento            Casa        Data  \\\n",
              "0  451286               451286  Senado Federal  2019-02-27   \n",
              "1  451285               451285  Senado Federal  2019-02-27   \n",
              "2  451205               451205  Senado Federal  2019-02-27   \n",
              "3  451203               451203  Senado Federal  2019-02-27   \n",
              "4  451202               451202  Senado Federal  2019-02-27   \n",
              "\n",
              "                                              Resumo  \\\n",
              "0  Comentários a respeito da concentração bancári...   \n",
              "1  Registro do impacto da reforma da previdência ...   \n",
              "2  Comentários a respeito da catástrofe ocorrida ...   \n",
              "3  Expectativa com o início dos trabalhos no âmbi...   \n",
              "4  Relato da origem e das motivações do Projeto d...   \n",
              "\n",
              "                                           Indexacao  \\\n",
              "0  COMENTARIO, CONCENTRAÇÃO, REDE BANCARIA, COBRA...   \n",
              "1  REGISTRO, REFORMA, PREVIDENCIA SOCIAL, ALTERAÇ...   \n",
              "2  COMENTARIO, DESASTRE, ROMPIMENTO, BARRAGEM, BR...   \n",
              "3  EXPECTATIVA, INICIO, TRABALHO, COMISSÕES, SENA...   \n",
              "4  COMENTARIO, ORIGEM, MOTIVO, PROJETO DE LEI, OB...   \n",
              "\n",
              "                                       TextoIntegral  \\\n",
              "0  https://www25.senado.leg.br/web/atividade/pron...   \n",
              "1  https://www25.senado.leg.br/web/atividade/pron...   \n",
              "2  https://www25.senado.leg.br/web/atividade/pron...   \n",
              "3  https://www25.senado.leg.br/web/atividade/pron...   \n",
              "4  https://www25.senado.leg.br/web/atividade/pron...   \n",
              "\n",
              "                                    TextoIntegralTxt  \\\n",
              "0  https://legis.senado.leg.br/dadosabertos/discu...   \n",
              "1  https://legis.senado.leg.br/dadosabertos/discu...   \n",
              "2  https://legis.senado.leg.br/dadosabertos/discu...   \n",
              "3  https://legis.senado.leg.br/dadosabertos/discu...   \n",
              "4  https://legis.senado.leg.br/dadosabertos/discu...   \n",
              "\n",
              "                                     UrlTextoBinario   TipoAutor  ...  \\\n",
              "0  https://legis.senado.leg.br/dadosabertos/discu...  Senador(a)  ...   \n",
              "1  https://legis.senado.leg.br/dadosabertos/discu...  Senador(a)  ...   \n",
              "2  https://legis.senado.leg.br/dadosabertos/discu...  Senador(a)  ...   \n",
              "3  https://legis.senado.leg.br/dadosabertos/discu...  Senador(a)  ...   \n",
              "4  https://legis.senado.leg.br/dadosabertos/discu...  Senador(a)  ...   \n",
              "\n",
              "  Apartes.Aparteante __janela_inicio __janela_fim CargoAutor OrgaoAutor  \\\n",
              "0               None      2019-02-01   2019-03-03       None       None   \n",
              "1               None      2019-02-01   2019-03-03       None       None   \n",
              "2               None      2019-02-01   2019-03-03       None       None   \n",
              "3               None      2019-02-01   2019-03-03       None       None   \n",
              "4               None      2019-02-01   2019-03-03       None       None   \n",
              "\n",
              "  PaisAutor                              TextoDiscursoIntegral    ok status  \\\n",
              "0      None  SENADO FEDERAL SF -\\nSECRETARIA-GERAL DA MESA\\...  True    200   \n",
              "1      None  SENADO FEDERAL SF -\\nSECRETARIA-GERAL DA MESA\\...  True    200   \n",
              "2      None  O SR. WELLINGTON FAGUNDES (Bloco Parlamentar V...  True    200   \n",
              "3      None  O SR. CONFÚCIO MOURA (Bloco Parlamentar Unidos...  True    200   \n",
              "4      None  O SR. RODRIGO PACHECO (Bloco Parlamentar Vangu...  True    200   \n",
              "\n",
              "  msg  \n",
              "0      \n",
              "1      \n",
              "2      \n",
              "3      \n",
              "4      \n",
              "\n",
              "[5 rows x 30 columns]"
            ]
          },
          "execution_count": 18,
          "metadata": {},
          "output_type": "execute_result"
        },
        {
          "ename": "",
          "evalue": "",
          "output_type": "error",
          "traceback": [
            "\u001b[1;31mThe Kernel crashed while executing code in the current cell or a previous cell. \n",
            "\u001b[1;31mPlease review the code in the cell(s) to identify a possible cause of the failure. \n",
            "\u001b[1;31mClick <a href='https://aka.ms/vscodeJupyterKernelCrash'>here</a> for more info. \n",
            "\u001b[1;31mView Jupyter <a href='command:jupyter.viewOutput'>log</a> for further details."
          ]
        }
      ],
      "source": [
        "#df = pd.DataFrame(dataset[\"train\"])\n",
        "df = dataset[\"train\"].to_pandas()\n",
        "\n",
        "df.head()"
      ]
    },
    {
      "cell_type": "code",
      "execution_count": null,
      "id": "7835672d",
      "metadata": {},
      "outputs": [],
      "source": []
    },
    {
      "cell_type": "code",
      "execution_count": null,
      "id": "4263157c",
      "metadata": {
        "id": "4263157c"
      },
      "outputs": [],
      "source": [
        "df[\"Data\"] = pd.to_datetime(df[\"Data\"], errors=\"coerce\")\n",
        "df = df[df[\"ok\"].eq(True) & df[\"TextoDiscursoIntegral\"].notna() & df[\"TextoDiscursoIntegral\"].str.len().gt(0)]\n",
        "df[\"ano\"] = df[\"Data\"].dt.year\n",
        "df[\"mes\"] = df[\"Data\"].dt.to_period(\"M\").astype(str)  # ex.: '2019-03'\n",
        "\n",
        "df.head()"
      ]
    },
    {
      "cell_type": "markdown",
      "id": "81d50974",
      "metadata": {
        "id": "81d50974"
      },
      "source": [
        "## Mapa de temas (tópicos)"
      ]
    },
    {
      "cell_type": "code",
      "execution_count": null,
      "id": "ef1bca38",
      "metadata": {
        "id": "ef1bca38"
      },
      "outputs": [],
      "source": [
        "import re\n",
        "from unidecode import unidecode\n",
        "from sklearn.feature_extraction.text import TfidfVectorizer\n",
        "from sentence_transformers import SentenceTransformer\n",
        "from sklearn.cluster import KMeans\n",
        "import numpy as np\n",
        "import pandas as pd\n",
        "\n",
        "def normalize(s):\n",
        "    s = unidecode((s or \"\").lower())\n",
        "    s = re.sub(r\"[^a-z0-9áéíóúãõç\\s]\", \" \", s)  # simples; ajuste se quiser\n",
        "    s = re.sub(r\"\\s+\", \" \", s).strip()\n",
        "    return s\n",
        "\n",
        "df[\"texto_clean\"] = df[\"TextoDiscursoIntegral\"].apply(normalize)\n",
        "\n",
        "# embeddings (semântica)\n",
        "model = SentenceTransformer(\"paraphrase-multilingual-MiniLM-L12-v2\")\n",
        "emb = model.encode(df[\"texto_clean\"].tolist(), batch_size=64, show_progress_bar=True, normalize_embeddings=True)\n",
        "\n",
        "# clusterização\n",
        "k = 20  # ajuste depois de olhar coerência\n",
        "km = KMeans(n_clusters=k, n_init=10, random_state=42)\n",
        "df[\"topico\"] = km.fit_predict(emb)\n",
        "\n",
        "# palavras-chave por tópico via TF-IDF médio (c-TF-IDF simplificado)\n",
        "vec = TfidfVectorizer(ngram_range=(1,2), min_df=5, max_df=0.8)\n",
        "X = vec.fit_transform(df[\"texto_clean\"])\n",
        "vocab = np.array(vec.get_feature_names_out())\n",
        "\n",
        "def top_terms_for_topic(t, n=12):\n",
        "    idx = np.where(df[\"topico\"].values == t)[0]\n",
        "    if len(idx)==0: return []\n",
        "    mean_tfidf = X[idx].mean(axis=0).A1\n",
        "    return vocab[mean_tfidf.argsort()[::-1][:n]].tolist()\n",
        "\n",
        "termos = {t: top_terms_for_topic(t) for t in sorted(df[\"topico\"].unique())}\n",
        "pd.DataFrame({\"topico\": list(termos.keys()), \"termos\": list(termos.values())}).head()\n"
      ]
    },
    {
      "cell_type": "markdown",
      "id": "e5a3a64b",
      "metadata": {
        "id": "e5a3a64b"
      },
      "source": [
        "### Tendências (mês × tópico)"
      ]
    },
    {
      "cell_type": "code",
      "execution_count": null,
      "id": "8afc9f4e",
      "metadata": {
        "id": "8afc9f4e"
      },
      "outputs": [],
      "source": [
        "trend = (df.groupby([\"mes\",\"topico\"])\n",
        "           .size()\n",
        "           .reset_index(name=\"qtd\"))\n",
        "# se quiser por partido: .groupby([\"mes\",\"topico\",\"Partido\"]).size()...\n",
        "trend.head()"
      ]
    },
    {
      "cell_type": "markdown",
      "id": "ed4d1390",
      "metadata": {
        "id": "ed4d1390"
      },
      "source": [
        "### Tom/sentimento (baseline) e variações por grupo"
      ]
    },
    {
      "cell_type": "code",
      "execution_count": null,
      "id": "c6f23ae0",
      "metadata": {
        "id": "c6f23ae0"
      },
      "outputs": [],
      "source": [
        "pos = {\"importante\",\"saude\",\"melhoria\",\"progresso\",\"direito\",\"justica\",\"educacao\"}\n",
        "neg = {\"crise\",\"problema\",\"corrupcao\",\"retrocesso\",\"corte\",\"injustica\",\"deficit\"}\n",
        "\n",
        "def lex_sent(s):\n",
        "    toks = normalize(s).split()\n",
        "    p = sum(w in pos for w in toks); n = sum(w in neg for w in toks)\n",
        "    return (p - n) / max(1, len(toks))\n",
        "\n",
        "df[\"sent_lex\"] = df[\"TextoDiscursoIntegral\"].apply(lex_sent)\n",
        "sent_partido = df.groupby(\"Partido\")[\"sent_lex\"].mean().sort_values(ascending=False)\n"
      ]
    },
    {
      "cell_type": "code",
      "execution_count": null,
      "id": "b1c29cd6",
      "metadata": {
        "id": "b1c29cd6"
      },
      "outputs": [],
      "source": [
        "top_oradores = (df.groupby([\"topico\",\"NomeAutor\"])\n",
        "                  .size()\n",
        "                  .reset_index(name=\"falas\")\n",
        "                  .sort_values([\"topico\",\"falas\"], ascending=[True,False]))\n",
        "top_partidos = (df.groupby([\"topico\",\"Partido\"])\n",
        "                  .size()\n",
        "                  .reset_index(name=\"falas\")\n",
        "                  .sort_values([\"topico\",\"falas\"], ascending=[True,False]))\n"
      ]
    },
    {
      "cell_type": "code",
      "execution_count": null,
      "id": "0b752d52",
      "metadata": {
        "id": "0b752d52"
      },
      "outputs": [],
      "source": [
        "%pip install spacy\n",
        "import spacy\n",
        "\n",
        "nlp = spacy.load(\"pt_core_news_lg\")  # python -m spacy download pt_core_news_lg\n",
        "\n",
        "def ents(text):\n",
        "    doc = nlp(text[:20000])  # limite por desempenho\n",
        "    return [(e.text, e.label_) for e in doc.ents]\n",
        "\n",
        "sample = df.sample(500, random_state=42).copy()  # rode em lote\n",
        "sample[\"ents\"] = sample[\"TextoDiscursoIntegral\"].apply(ents)\n",
        "\n",
        "# co-ocorrência simples (pessoas dentro do mesmo discurso)\n",
        "from collections import Counter\n",
        "pairs = Counter()\n",
        "for lst in sample[\"ents\"]:\n",
        "    ps = sorted({e for e,l in lst if l in (\"PER\",\"ORG\")})\n",
        "    for i in range(len(ps)):\n",
        "        for j in range(i+1, len(ps)):\n",
        "            pairs[(ps[i], ps[j])] += 1\n",
        "\n",
        "pd.DataFrame([{\"a\":a,\"b\":b,\"peso\":w} for (a,b),w in pairs.items()]).sort_values(\"peso\", ascending=False).head(20)\n"
      ]
    },
    {
      "cell_type": "code",
      "execution_count": null,
      "id": "70486c34",
      "metadata": {
        "id": "70486c34"
      },
      "outputs": [],
      "source": [
        "df = pd.read_csv(\"_data/discursos_2019-01-01_2023-01-31.csv\", sep=\";\")\n",
        "df.head()"
      ]
    }
  ],
  "metadata": {
    "colab": {
      "include_colab_link": true,
      "provenance": []
    },
    "kernelspec": {
      "display_name": "Python 3",
      "language": "python",
      "name": "python3"
    },
    "language_info": {
      "codemirror_mode": {
        "name": "ipython",
        "version": 3
      },
      "file_extension": ".py",
      "mimetype": "text/x-python",
      "name": "python",
      "nbconvert_exporter": "python",
      "pygments_lexer": "ipython3",
      "version": "3.12.1"
    }
  },
  "nbformat": 4,
  "nbformat_minor": 5
}
