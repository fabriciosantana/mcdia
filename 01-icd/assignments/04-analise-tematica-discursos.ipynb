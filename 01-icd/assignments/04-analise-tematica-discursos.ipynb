{
 "cells": [
  {
   "cell_type": "markdown",
   "id": "5d16a2c3",
   "metadata": {},
   "source": [
    "<a href=\"https://colab.research.google.com/github/fabriciosantana/mcdia/blob/main/01-icd/assignments/04-analise-tematica-discursos.ipynb\" target=\"_parent\"><img src=\"https://colab.research.google.com/assets/colab-badge.svg\" alt=\"Open In Colab\"/></a>\n",
    "\n",
    "## Classificação em temas dos Discursos do Senado\n"
   ]
  },
  {
   "cell_type": "markdown",
   "id": "f4aa4027",
   "metadata": {},
   "source": [
    "## Importar bibliotecas"
   ]
  },
  {
   "cell_type": "code",
   "execution_count": null,
   "id": "7bbc4d23",
   "metadata": {
    "execution": {
     "iopub.execute_input": "2025-09-28T00:32:47.202382Z",
     "iopub.status.busy": "2025-09-28T00:32:47.202133Z",
     "iopub.status.idle": "2025-09-28T00:32:51.102091Z",
     "shell.execute_reply": "2025-09-28T00:32:51.101365Z"
    }
   },
   "outputs": [],
   "source": [
    "import pandas as pd\n",
    "import numpy as np\n",
    "from pathlib import Path\n",
    "import matplotlib.pyplot as plt\n",
    "import matplotlib.dates as mdates\n",
    "import matplotlib.cm as cm\n",
    "import seaborn as sns\n",
    "from datasets import load_dataset\n",
    "from datasets import load_dataset_builder\n",
    "from sklearn.model_selection import train_test_split\n",
    "from sklearn.feature_extraction.text import TfidfVectorizer\n",
    "from sklearn.pipeline import Pipeline\n",
    "from sklearn.decomposition import NMF\n",
    "from sklearn.linear_model import LogisticRegression, PassiveAggressiveClassifier\n",
    "from sklearn.svm import LinearSVC\n",
    "from sklearn.naive_bayes import MultinomialNB\n",
    "from sklearn.metrics import accuracy_score, classification_report, confusion_matrix, ConfusionMatrixDisplay\n",
    "sns.set_theme(style='whitegrid')\n",
    "plt.rcParams['figure.figsize'] = (12, 6)\n",
    "\n"
   ]
  },
  {
   "cell_type": "markdown",
   "id": "df31fd22",
   "metadata": {},
   "source": [
    "## Carregar dados"
   ]
  },
  {
   "cell_type": "code",
   "execution_count": null,
   "id": "0d119111",
   "metadata": {
    "execution": {
     "iopub.execute_input": "2025-09-28T00:32:51.107076Z",
     "iopub.status.busy": "2025-09-28T00:32:51.105601Z",
     "iopub.status.idle": "2025-09-28T00:32:52.058338Z",
     "shell.execute_reply": "2025-09-28T00:32:52.057361Z"
    }
   },
   "outputs": [],
   "source": [
    "#DATA_PATH = Path('data/hf_discursos/data/full/discursos_2019-02-01_2023-01-31.parquet')\n",
    "#df_raw = pd.read_parquet(DATA_PATH)\n",
    "\n",
    "DATASET_HF_REPO = \"fabriciosantana/discursos-senado-legislatura-56\"\n",
    "DATA_FILE_HF = {\"train\": \"data/full/discursos_2019-02-01_2023-01-31.parquet\"}\n",
    "\n",
    "dataset = load_dataset(DATASET_HF_REPO, data_files=DATA_FILE_HF)\n",
    "df_raw = dataset[\"train\"].to_pandas()\n",
    "\n",
    "df_raw.head()"
   ]
  },
  {
   "cell_type": "markdown",
   "id": "b44adadf432448d18b95da02e111f13b",
   "metadata": {},
   "source": [
    "## Preparar dados para análise temática\n",
    "\n",
    "Filtramos colunas relevantes, padronizamos o texto e removemos discursos muito curtos para reduzir ruído.\n"
   ]
  },
  {
   "cell_type": "code",
   "execution_count": null,
   "id": "d244eaadada74521914cf8c7b1bc7a57",
   "metadata": {
    "execution": {
     "iopub.execute_input": "2025-09-28T00:32:52.060830Z",
     "iopub.status.busy": "2025-09-28T00:32:52.060628Z",
     "iopub.status.idle": "2025-09-28T00:32:53.244617Z",
     "shell.execute_reply": "2025-09-28T00:32:53.243696Z"
    }
   },
   "outputs": [],
   "source": [
    "colunas = ['Data', 'NomeAutor', 'Partido', 'UF', 'TextoDiscursoIntegral']\n",
    "\n",
    "df = (\n",
    "    df_raw[colunas]\n",
    "    .rename(columns={\n",
    "        'TextoDiscursoIntegral': 'texto',\n",
    "        'NomeAutor': 'nome_autor'\n",
    "    })\n",
    "    .dropna(subset=['texto'])\n",
    ")\n",
    "\n",
    "# Limpeza básica do texto e metadados\n",
    "df['texto'] = df['texto'].str.strip()\n",
    "df = df[df['texto'].str.len() > 0]\n",
    "df['Data'] = pd.to_datetime(df['Data'], errors='coerce')\n",
    "df = df.dropna(subset=['Data'])\n",
    "df['n_palavras'] = df['texto'].str.split().str.len()\n",
    "df = df[df['n_palavras'] >= 30]\n",
    "df = df.sort_values('Data').reset_index(drop=True)\n",
    "\n",
    "print(f\"Discursos após limpeza: {len(df):,}\")\n",
    "df.head()\n"
   ]
  },
  {
   "cell_type": "markdown",
   "id": "7ca3c58a1e834b55b25826949bf948ae",
   "metadata": {},
   "source": [
    "## Selecionar amostra para acelerar modelagem\n",
    "\n",
    "O conjunto é reduzido para acelerar a vetorização e a extração de temas sem perder representatividade temporal.\n"
   ]
  },
  {
   "cell_type": "code",
   "execution_count": null,
   "id": "812fb7aa8bb84f5092c076187a056839",
   "metadata": {
    "execution": {
     "iopub.execute_input": "2025-09-28T00:32:53.247859Z",
     "iopub.status.busy": "2025-09-28T00:32:53.247505Z",
     "iopub.status.idle": "2025-09-28T00:32:53.262512Z",
     "shell.execute_reply": "2025-09-28T00:32:53.261614Z"
    }
   },
   "outputs": [],
   "source": [
    "MAX_DISCURSOS = 6000\n",
    "\n",
    "if len(df) > MAX_DISCURSOS:\n",
    "    df_modelo = df.sample(MAX_DISCURSOS, random_state=42).sort_values('Data').reset_index(drop=True)\n",
    "else:\n",
    "    df_modelo = df.copy()\n",
    "\n",
    "print(f'Tamanho final da amostra: {len(df_modelo):,}')\n",
    "\n",
    "df_modelo['Data'].agg(['min', 'max'])\n"
   ]
  },
  {
   "cell_type": "markdown",
   "id": "d2fc0972",
   "metadata": {},
   "source": [
    "## Configurar stop words"
   ]
  },
  {
   "cell_type": "code",
   "execution_count": null,
   "id": "17b16aefea7d4f62b111e8dc14df16a5",
   "metadata": {
    "execution": {
     "iopub.execute_input": "2025-09-28T00:32:53.267064Z",
     "iopub.status.busy": "2025-09-28T00:32:53.266827Z",
     "iopub.status.idle": "2025-09-28T00:32:53.272760Z",
     "shell.execute_reply": "2025-09-28T00:32:53.272027Z"
    }
   },
   "outputs": [],
   "source": [
    "stopwords_pt = \"\"\"\n",
    "a ao aos as ate com como contra da das de dela dele deles delas dentro depois desde dessa desse desta deste disso do dos e ela elas ele eles em entre essa esse essas esses esta este estou eu foi ha isso ja la mais mas mesmo mesma meus minhas na nas nem no nos nossa nosso nossas nossos ou para pela pelas pelo pelos perante pois por porque qual quando que quem se sem ser sob sobre sua suas tambem tem tendo tera teve todos todo um uma umas uns vai ver voce voces\n",
    "\"\"\".split()\n",
    "\n",
    "stopwords_pt = sorted(set(stopwords_pt))\n",
    "len(stopwords_pt)\n"
   ]
  },
  {
   "cell_type": "markdown",
   "id": "2e06e7f6cea9474d9e9efda01a9c0737",
   "metadata": {},
   "source": [
    "## Realizar vetorização com TF-IDF\n",
    "\n",
    "Transformamos os discursos em vetores de características, preservando unigramas e bigramas frequentes.\n"
   ]
  },
  {
   "cell_type": "code",
   "execution_count": null,
   "id": "4c6cfc007d9d42c0be8563a3f1897068",
   "metadata": {
    "execution": {
     "iopub.execute_input": "2025-09-28T00:32:53.275244Z",
     "iopub.status.busy": "2025-09-28T00:32:53.275015Z",
     "iopub.status.idle": "2025-09-28T00:33:05.484839Z",
     "shell.execute_reply": "2025-09-28T00:33:05.484120Z"
    }
   },
   "outputs": [],
   "source": [
    "tfidf_vectorizer = TfidfVectorizer(\n",
    "    max_features=15000,\n",
    "    min_df=20,\n",
    "    max_df=0.6,\n",
    "    ngram_range=(1, 2),\n",
    "    stop_words=stopwords_pt,\n",
    "    strip_accents='unicode'\n",
    ")\n",
    "\n",
    "tfidf_matrix = tfidf_vectorizer.fit_transform(df_modelo['texto'])\n",
    "\n",
    "print('Dimensões da matriz TF-IDF:', tfidf_matrix.shape)\n"
   ]
  },
  {
   "cell_type": "markdown",
   "id": "1b2b038113c541adbf6ad47e55c86902",
   "metadata": {},
   "source": [
    "## Descobrir temas com NMF\n",
    "\n",
    "Aplicamos NMF (Non-negative Matrix Factorization) para captar padrões latentes de vocabulário que sugerem temas.\n"
   ]
  },
  {
   "cell_type": "code",
   "execution_count": null,
   "id": "3d7b7a52f0f04b64a67667a7ae3f0e61",
   "metadata": {
    "execution": {
     "iopub.execute_input": "2025-09-28T00:33:05.486846Z",
     "iopub.status.busy": "2025-09-28T00:33:05.486627Z",
     "iopub.status.idle": "2025-09-28T00:33:09.152838Z",
     "shell.execute_reply": "2025-09-28T00:33:09.152217Z"
    }
   },
   "outputs": [],
   "source": [
    "N_TEMAS = 8\n",
    "\n",
    "nmf_model = NMF(\n",
    "    n_components=N_TEMAS,\n",
    "    random_state=42,\n",
    "    init='nndsvda',\n",
    "    max_iter=400\n",
    ")\n",
    "\n",
    "W = nmf_model.fit_transform(tfidf_matrix)\n",
    "H = nmf_model.components_\n",
    "\n",
    "print('Matriz W (documentos x temas):', W.shape)\n",
    "print('Matriz H (temas x termos):', H.shape)\n"
   ]
  },
  {
   "cell_type": "markdown",
   "id": "503ca0f0962240f69b13c7fb0e6acf08",
   "metadata": {},
   "source": [
    "## Analisar principais termos por tema\n",
    "\n",
    "Listamos as palavras com maior peso em cada tema para auxiliar na interpretação semântica.\n"
   ]
  },
  {
   "cell_type": "code",
   "execution_count": null,
   "id": "f7235067ea75483e9ceb18bbfb367ed3",
   "metadata": {
    "execution": {
     "iopub.execute_input": "2025-09-28T00:33:09.155409Z",
     "iopub.status.busy": "2025-09-28T00:33:09.155200Z",
     "iopub.status.idle": "2025-09-28T00:33:09.191569Z",
     "shell.execute_reply": "2025-09-28T00:33:09.190538Z"
    }
   },
   "outputs": [],
   "source": [
    "def extrair_top_termos(modelo, feature_names, top_n=12):\n",
    "    registros = []\n",
    "    for idx, topic in enumerate(modelo.components_):\n",
    "        top_indices = topic.argsort()[::-1][:top_n]\n",
    "        termos = [feature_names[i] for i in top_indices]\n",
    "        registros.append({\n",
    "            'tema_id': idx,\n",
    "            'termos': termos,\n",
    "            'principais_termos': ', '.join(termos[:10])\n",
    "        })\n",
    "    return pd.DataFrame(registros)\n",
    "\n",
    "feature_names = tfidf_vectorizer.get_feature_names_out()\n",
    "temas_df = extrair_top_termos(nmf_model, feature_names)\n",
    "temas_df['tema_label'] = temas_df['termos'].apply(lambda termos: ' / '.join(termos[:3]))\n",
    "\n",
    "# Visualiza termos chave por tema\n",
    "temas_df[['tema_id', 'tema_label', 'principais_termos']]\n"
   ]
  },
  {
   "cell_type": "markdown",
   "id": "3f7bab2c4d724c9d849562d4aab08d50",
   "metadata": {},
   "source": [
    "## Atribuir tema predominante aos discursos\n",
    "\n",
    "Cada discurso recebe o tema com maior peso na decomposição, além da força relativa desse tema.\n"
   ]
  },
  {
   "cell_type": "code",
   "execution_count": null,
   "id": "956b23ef097b4a949d6d34b5040276d3",
   "metadata": {
    "execution": {
     "iopub.execute_input": "2025-09-28T00:33:09.194598Z",
     "iopub.status.busy": "2025-09-28T00:33:09.193577Z",
     "iopub.status.idle": "2025-09-28T00:33:09.233876Z",
     "shell.execute_reply": "2025-09-28T00:33:09.233308Z"
    }
   },
   "outputs": [],
   "source": [
    "scores_df = pd.DataFrame(W, columns=[f'tema_{i}' for i in range(N_TEMAS)])\n",
    "\n",
    "df_temas = df_modelo.reset_index(drop=True).join(scores_df)\n",
    "df_temas['tema_id'] = scores_df.values.argmax(axis=1)\n",
    "df_temas = df_temas.merge(temas_df[['tema_id', 'tema_label']], on='tema_id', how='left')\n",
    "\n",
    "soma_scores = scores_df.sum(axis=1)\n",
    "df_temas['forca_tema'] = scores_df.max(axis=1) / soma_scores.replace(0, np.nan)\n",
    "\n",
    "df_temas[['Data', 'nome_autor', 'Partido', 'tema_label', 'forca_tema']].head()\n"
   ]
  },
  {
   "cell_type": "markdown",
   "id": "b1556b50f7234c328544a08ea0515edc",
   "metadata": {},
   "source": [
    "## Analisar distribuição geral de temas\n",
    "\n",
    "Observamos quais temas aparecem com maior frequência na amostra de discursos.\n"
   ]
  },
  {
   "cell_type": "code",
   "execution_count": null,
   "id": "3e39724506b247bbb3c22a9d8dc33109",
   "metadata": {
    "execution": {
     "iopub.execute_input": "2025-09-28T00:33:09.237401Z",
     "iopub.status.busy": "2025-09-28T00:33:09.237201Z",
     "iopub.status.idle": "2025-09-28T00:33:09.595119Z",
     "shell.execute_reply": "2025-09-28T00:33:09.594500Z"
    }
   },
   "outputs": [],
   "source": [
    "contagem_temas = (\n",
    "    df_temas['tema_label']\n",
    "        .value_counts()\n",
    "        .rename_axis('tema_label')\n",
    "        .reset_index(name='n_discursos')\n",
    ")\n",
    "\n",
    "plt.figure(figsize=(12, 6))\n",
    "sns.barplot(data=contagem_temas, x='n_discursos', y='tema_label', hue='tema_label', palette='viridis', legend=False)\n",
    "plt.title('Frequência de discursos por tema (NMF)')\n",
    "plt.xlabel('Número de discursos')\n",
    "plt.ylabel('Tema (palavras-chave)')\n",
    "plt.tight_layout()\n",
    "plt.show()\n",
    "\n",
    "contagem_temas\n"
   ]
  },
  {
   "cell_type": "markdown",
   "id": "b32d5118b67d423783413d03e6db9f6e",
   "metadata": {},
   "source": [
    "## Analisar evolução temporal do interesse por tema\n",
    "\n",
    "Acompanhamos como a participação relativa de cada tema varia mês a mês.\n"
   ]
  },
  {
   "cell_type": "code",
   "execution_count": null,
   "id": "e2d721532799455faf9e012f34672f3a",
   "metadata": {
    "execution": {
     "iopub.execute_input": "2025-09-28T00:33:09.597242Z",
     "iopub.status.busy": "2025-09-28T00:33:09.597072Z",
     "iopub.status.idle": "2025-09-28T00:33:10.007991Z",
     "shell.execute_reply": "2025-09-28T00:33:10.007326Z"
    }
   },
   "outputs": [],
   "source": [
    "df_temas['mes'] = df_temas['Data'].dt.to_period('M').dt.to_timestamp()\n",
    "serie_temas = (\n",
    "    df_temas.groupby(['mes', 'tema_label'])\n",
    "        .size()\n",
    "        .reset_index(name='n_discursos')\n",
    ")\n",
    "\n",
    "plt.figure(figsize=(14, 6))\n",
    "sns.lineplot(data=serie_temas, x='mes', y='n_discursos', hue='tema_label', marker='o')\n",
    "plt.title('Evolução mensal de discursos por tema')\n",
    "plt.xlabel('Mês')\n",
    "plt.ylabel('Quantidade de discursos')\n",
    "plt.xticks(rotation=45)\n",
    "plt.legend(title='Tema', bbox_to_anchor=(1.02, 1), loc='upper left')\n",
    "plt.tight_layout()\n",
    "plt.show()\n",
    "\n",
    "serie_temas.head()\n"
   ]
  },
  {
   "cell_type": "markdown",
   "id": "fa747f4e22fc4f9c99ade9efdf6eea1f",
   "metadata": {},
   "source": [
    "## Analisar participação percentual dos temas\n",
    "\n",
    "Analisamos a participação relativa de cada tema em relação ao total de discursos do mês para identificar mudanças de prioridade ao longo do tempo.\n"
   ]
  },
  {
   "cell_type": "code",
   "execution_count": null,
   "id": "659ae16db9f748a588d37c4e2796c4af",
   "metadata": {
    "execution": {
     "iopub.execute_input": "2025-09-28T00:33:10.010502Z",
     "iopub.status.busy": "2025-09-28T00:33:10.010222Z",
     "iopub.status.idle": "2025-09-28T00:33:10.536359Z",
     "shell.execute_reply": "2025-09-28T00:33:10.535722Z"
    }
   },
   "outputs": [],
   "source": [
    "serie_percentual = (\n",
    "    serie_temas\n",
    "        .assign(total_mes=lambda df: df.groupby('mes')['n_discursos'].transform('sum'))\n",
    "        .assign(percentual=lambda df: (df['n_discursos'] / df['total_mes']) * 100)\n",
    ")\n",
    "\n",
    "plt.figure(figsize=(14, 6))\n",
    "sns.lineplot(\n",
    "    data=serie_percentual,\n",
    "    x='mes',\n",
    "    y='percentual',\n",
    "    hue='tema_label',\n",
    "    marker='o'\n",
    ")\n",
    "plt.title('Participação percentual mensal por tema')\n",
    "plt.xlabel('Mês')\n",
    "plt.ylabel('Percentual de discursos (%)')\n",
    "plt.xticks(rotation=45)\n",
    "plt.legend(title='Tema', bbox_to_anchor=(1.02, 1), loc='upper left')\n",
    "plt.tight_layout()\n",
    "plt.show()\n",
    "\n",
    "serie_percentual.head()\n"
   ]
  },
  {
   "cell_type": "markdown",
   "id": "28d32da4",
   "metadata": {},
   "source": [
    "## Analisar percentual de discursos por tema e por mês"
   ]
  },
  {
   "cell_type": "code",
   "execution_count": null,
   "id": "5aeff625f868472dac32f046ec5ab529",
   "metadata": {
    "execution": {
     "iopub.execute_input": "2025-09-28T00:33:10.538318Z",
     "iopub.status.busy": "2025-09-28T00:33:10.538127Z",
     "iopub.status.idle": "2025-09-28T00:33:10.977052Z",
     "shell.execute_reply": "2025-09-28T00:33:10.976348Z"
    }
   },
   "outputs": [],
   "source": [
    "serie_area = (\n",
    "    serie_percentual\n",
    "        .pivot(index='mes', columns='tema_label', values='percentual')\n",
    "        .fillna(0)\n",
    "        .sort_index()\n",
    ")\n",
    "\n",
    "ax = serie_area.plot.area(figsize=(14, 6), cmap='viridis', linewidth=0)\n",
    "ax.set_title('Participação percentual acumulada por tema (área empilhada)')\n",
    "ax.set_xlabel('Mês')\n",
    "ax.set_ylabel('Percentual de discursos (%)')\n",
    "ax.legend(title='Tema', bbox_to_anchor=(1.02, 1), loc='upper left')\n",
    "plt.tight_layout()\n",
    "plt.show()\n",
    "\n",
    "serie_area.tail()\n"
   ]
  },
  {
   "cell_type": "markdown",
   "id": "b8594e11306a40f4b574959a78d1531b",
   "metadata": {},
   "source": [
    "## Analisar tema predominante por mês\n",
    "\n",
    "A tabela abaixo destaca qual tema liderou o volume de discursos em cada mês e a respectiva participação percentual.\n"
   ]
  },
  {
   "cell_type": "code",
   "execution_count": null,
   "id": "a528daeb7a36401e92ab178dc60db5a5",
   "metadata": {
    "execution": {
     "iopub.execute_input": "2025-09-28T00:33:10.979023Z",
     "iopub.status.busy": "2025-09-28T00:33:10.978827Z",
     "iopub.status.idle": "2025-09-28T00:33:10.994768Z",
     "shell.execute_reply": "2025-09-28T00:33:10.994159Z"
    }
   },
   "outputs": [],
   "source": [
    "tema_lider_mes = (\n",
    "    serie_percentual\n",
    "        .sort_values(['mes', 'percentual'], ascending=[True, False])\n",
    "        .groupby('mes', as_index=False)\n",
    "        .first()[['mes', 'tema_label', 'percentual']]\n",
    ")\n",
    "\n",
    "tema_lider_mes.head(12)\n"
   ]
  }
 ],
 "metadata": {
  "kernelspec": {
   "display_name": "Python 3",
   "language": "python",
   "name": "python3"
  },
  "language_info": {
   "codemirror_mode": {
    "name": "ipython",
    "version": 3
   },
   "file_extension": ".py",
   "mimetype": "text/x-python",
   "name": "python",
   "nbconvert_exporter": "python",
   "pygments_lexer": "ipython3",
   "version": "3.12.1"
  }
 },
 "nbformat": 4,
 "nbformat_minor": 5
}
