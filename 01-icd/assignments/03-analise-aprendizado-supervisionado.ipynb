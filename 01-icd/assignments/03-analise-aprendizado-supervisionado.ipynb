{
 "cells": [
  {
   "cell_type": "markdown",
   "id": "5d16a2c3",
   "metadata": {},
   "source": [
    "## Análise de Aprendizado Supervisionado dos Discursos do Senado\n",
    "\n",
    "Este notebook estuda modelos de aprendizado supervisionado para classificar discursos de senadores por partido político."
   ]
  },
  {
   "cell_type": "markdown",
   "id": "0a72ef9a",
   "metadata": {},
   "source": [
    "## Inicializar e carregar dados"
   ]
  },
  {
   "cell_type": "markdown",
   "id": "f4aa4027",
   "metadata": {},
   "source": [
    "### Importar bibliotecas"
   ]
  },
  {
   "cell_type": "code",
   "execution_count": null,
   "id": "7bbc4d23",
   "metadata": {},
   "outputs": [],
   "source": [
    "import pandas as pd\n",
    "import numpy as np\n",
    "from pathlib import Path\n",
    "import matplotlib.pyplot as plt\n",
    "import seaborn as sns\n",
    "from datasets import load_dataset\n",
    "from datasets import load_dataset_builder\n",
    "from sklearn.model_selection import train_test_split\n",
    "from sklearn.feature_extraction.text import TfidfVectorizer\n",
    "from sklearn.pipeline import Pipeline\n",
    "from sklearn.linear_model import LogisticRegression\n",
    "from sklearn.svm import LinearSVC\n",
    "from sklearn.metrics import accuracy_score, classification_report, confusion_matrix, ConfusionMatrixDisplay\n",
    "\n",
    "sns.set_theme(style='whitegrid')\n",
    "plt.rcParams['figure.figsize'] = (12, 6)"
   ]
  },
  {
   "cell_type": "markdown",
   "id": "df31fd22",
   "metadata": {},
   "source": [
    "### Carregar dados"
   ]
  },
  {
   "cell_type": "code",
   "execution_count": null,
   "id": "0d119111",
   "metadata": {},
   "outputs": [],
   "source": [
    "#DATA_PATH = Path('data/hf_discursos/data/full/discursos_2019-02-01_2023-01-31.parquet')\n",
    "#df_raw = pd.read_parquet(DATA_PATH)\n",
    "\n",
    "DATASET_HF_REPO = \"fabriciosantana/discursos-senado-legislatura-56\"\n",
    "DATA_FILE_HF = {\"train\": \"data/full/discursos_2019-02-01_2023-01-31.parquet\"}\n",
    "\n",
    "dataset = load_dataset(DATASET_HF_REPO, data_files=DATA_FILE_HF)\n",
    "df_raw = dataset[\"train\"].to_pandas()\n",
    "\n",
    "df_raw.head()"
   ]
  },
  {
   "cell_type": "markdown",
   "id": "f065513c",
   "metadata": {},
   "source": [
    "## Preparar dados para análise"
   ]
  },
  {
   "cell_type": "code",
   "execution_count": null,
   "id": "03ad4fdc",
   "metadata": {},
   "outputs": [],
   "source": [
    "colunas = ['Data', 'NomeAutor', 'Partido', 'UF', 'TextoDiscursoIntegral']\n",
    "df = (\n",
    "\n",
    "    df_raw[colunas]\n",
    "\n",
    "    .rename(columns={\n",
    "\n",
    "        'TextoDiscursoIntegral': 'texto',\n",
    "\n",
    "        'NomeAutor': 'nome_autor'\n",
    "\n",
    "    })\n",
    "\n",
    "    .dropna(subset=['Partido', 'texto'])\n",
    "\n",
    ")\n",
    "\n",
    "df['texto'] = df['texto'].str.strip()\n",
    "df = df[df['texto'].str.len() > 0]\n",
    "df['n_palavras'] = df['texto'].str.split().str.len()\n",
    "df = df[df['n_palavras'] >= 20]\n",
    "df"
   ]
  },
  {
   "cell_type": "markdown",
   "id": "362255e6",
   "metadata": {},
   "source": [
    "## Discursos por partido"
   ]
  },
  {
   "cell_type": "code",
   "execution_count": null,
   "id": "7822f682",
   "metadata": {},
   "outputs": [],
   "source": [
    "top_partidos = df['Partido'].value_counts().head(8)\n",
    "top_partidos"
   ]
  },
  {
   "cell_type": "markdown",
   "id": "8248d959",
   "metadata": {},
   "source": [
    "## Selecionar partidos"
   ]
  },
  {
   "cell_type": "code",
   "execution_count": null,
   "id": "a1f52cbc",
   "metadata": {},
   "outputs": [],
   "source": [
    "partidos_selecionados = top_partidos.index.tolist()\n",
    "df_modelo = df[df['Partido'].isin(partidos_selecionados)].copy()\n",
    "max_por_partido = 800\n",
    "df_balanceado = (\n",
    "    df_modelo\n",
    "        .groupby('Partido', group_keys=False)\n",
    "        .apply(lambda grupo: grupo.sample(min(len(grupo), max_por_partido), random_state=42))\n",
    "        .reset_index(drop=True)    \n",
    "    )\n",
    "\n",
    "df_balanceado['Partido'].value_counts()"
   ]
  },
  {
   "cell_type": "markdown",
   "id": "55b0ae40",
   "metadata": {},
   "source": [
    "## Separar conjunto de treino e teste"
   ]
  },
  {
   "cell_type": "code",
   "execution_count": null,
   "id": "43873e85",
   "metadata": {},
   "outputs": [],
   "source": [
    "X = df_balanceado['texto']\n",
    "y = df_balanceado['Partido']\n",
    "X_train, X_test, y_train, y_test = train_test_split(\n",
    "    X, y, test_size=0.2, random_state=42, stratify=y\n",
    ")\n",
    "len(X_train), len(X_test)"
   ]
  },
  {
   "cell_type": "markdown",
   "id": "8f8a1353",
   "metadata": {},
   "source": [
    "## Aplicar Regressão Logística com TF-IDF"
   ]
  },
  {
   "cell_type": "code",
   "execution_count": null,
   "id": "12eba30b",
   "metadata": {},
   "outputs": [],
   "source": [
    "pipeline_lr = Pipeline([\n",
    "    ('tfidf', TfidfVectorizer(\n",
    "        max_features=20000,\n",
    "        ngram_range=(1, 2),\n",
    "        min_df=5,\n",
    "        strip_accents='unicode'\n",
    "    )),\n",
    "    ('clf', LogisticRegression(\n",
    "        max_iter=1000,\n",
    "        #multi_class='multinomial',\n",
    "        solver='lbfgs',\n",
    "        random_state=42\n",
    "    ))\n",
    "])\n",
    "pipeline_lr.fit(X_train, y_train)\n",
    "y_pred_lr = pipeline_lr.predict(X_test)\n",
    "acc_lr = accuracy_score(y_test, y_pred_lr)\n",
    "print(f'Acurácia (logística): {acc_lr:.3f}')\n",
    "print(classification_report(y_test, y_pred_lr)) "
   ]
  },
  {
   "cell_type": "code",
   "execution_count": null,
   "id": "e694030b",
   "metadata": {},
   "outputs": [],
   "source": [
    "cm_lr = confusion_matrix(y_test, y_pred_lr, labels=partidos_selecionados)\n",
    "disp = ConfusionMatrixDisplay(confusion_matrix=cm_lr, display_labels=partidos_selecionados)\n",
    "disp.plot(cmap='Blues', xticks_rotation=45)\n",
    "plt.title('Matriz de confusão — Regressão Logística')\n",
    "plt.tight_layout()"
   ]
  },
  {
   "cell_type": "markdown",
   "id": "986d3c41",
   "metadata": {},
   "source": [
    "## Aplicar SVM Linear"
   ]
  },
  {
   "cell_type": "code",
   "execution_count": null,
   "id": "b226b111",
   "metadata": {},
   "outputs": [],
   "source": [
    "pipeline_svm = Pipeline([\n",
    "    ('tfidf', TfidfVectorizer(\n",
    "        max_features=20000,\n",
    "        ngram_range=(1, 2),\n",
    "        min_df=5,\n",
    "        strip_accents='unicode'\n",
    "    )),\n",
    "    ('clf', LinearSVC(random_state=42))\n",
    "])\n",
    "pipeline_svm.fit(X_train, y_train)\n",
    "y_pred_svm = pipeline_svm.predict(X_test)\n",
    "acc_svm = accuracy_score(y_test, y_pred_svm)\n",
    "print(f'Acurácia (SVM linear): {acc_svm:.3f}')\n",
    "print(classification_report(y_test, y_pred_svm))"
   ]
  },
  {
   "cell_type": "markdown",
   "id": "3fb3edf1",
   "metadata": {},
   "source": [
    "## Comparar desempenho"
   ]
  },
  {
   "cell_type": "code",
   "execution_count": null,
   "id": "ba500d41",
   "metadata": {},
   "outputs": [],
   "source": [
    "pd.DataFrame({\n",
    "    'modelo': ['Regressão Logística', 'SVM Linear'],\n",
    "    'acuracia': [acc_lr, acc_svm]\n",
    "})"
   ]
  },
  {
   "cell_type": "markdown",
   "id": "ac076e09",
   "metadata": {},
   "source": [
    "Os resultados indicam que modelos lineares com TF-IDF capturam bem o padrão de vocabulário associado a cada partido, tornando possível distinguir discursos com boa acurácia."
   ]
  }
 ],
 "metadata": {
  "kernelspec": {
   "display_name": "Python 3",
   "language": "python",
   "name": "python3"
  },
  "language_info": {
   "codemirror_mode": {
    "name": "ipython",
    "version": 3
   },
   "file_extension": ".py",
   "mimetype": "text/x-python",
   "name": "python",
   "nbconvert_exporter": "python",
   "pygments_lexer": "ipython3",
   "version": "3.12.1"
  }
 },
 "nbformat": 4,
 "nbformat_minor": 5
}
