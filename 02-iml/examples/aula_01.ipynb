{
 "cells": [
  {
   "cell_type": "code",
   "execution_count": null,
   "id": "bec09c94-0c46-4ea4-bb87-12625fafbbc7",
   "metadata": {},
   "outputs": [],
   "source": [
    "import pandas as pd"
   ]
  },
  {
   "cell_type": "code",
   "execution_count": null,
   "id": "09d05d6c-2b7f-4593-a2ae-dd17c7890c99",
   "metadata": {},
   "outputs": [],
   "source": [
    "df = pd.read_csv('aula_01_exemplo_01.csv', sep=\",\")\n",
    "\n",
    "df.head()"
   ]
  },
  {
   "cell_type": "code",
   "execution_count": null,
   "id": "3aae727e",
   "metadata": {},
   "outputs": [],
   "source": [
    "df.info()"
   ]
  },
  {
   "cell_type": "code",
   "execution_count": null,
   "id": "f5b2c319-9a6c-4925-a233-622f50d46e96",
   "metadata": {},
   "outputs": [],
   "source": [
    "df.describe()"
   ]
  },
  {
   "cell_type": "code",
   "execution_count": null,
   "id": "f64dda10",
   "metadata": {},
   "outputs": [],
   "source": [
    "df['sex'].value_counts()"
   ]
  },
  {
   "cell_type": "code",
   "execution_count": null,
   "id": "98359192",
   "metadata": {},
   "outputs": [],
   "source": [
    "df['region'].value_counts()"
   ]
  },
  {
   "cell_type": "code",
   "execution_count": null,
   "id": "a8e91958",
   "metadata": {},
   "outputs": [],
   "source": [
    "df['smoker'].value_counts()"
   ]
  },
  {
   "cell_type": "code",
   "execution_count": null,
   "id": "6843307a",
   "metadata": {},
   "outputs": [],
   "source": [
    "df.groupby('sex')['charges'].mean()"
   ]
  },
  {
   "cell_type": "code",
   "execution_count": null,
   "id": "092b75b3",
   "metadata": {},
   "outputs": [],
   "source": [
    "df.groupby('smoker')['charges'].mean()"
   ]
  },
  {
   "cell_type": "code",
   "execution_count": null,
   "id": "33133b14",
   "metadata": {},
   "outputs": [],
   "source": [
    "df.groupby('region')['charges'].mean()"
   ]
  },
  {
   "cell_type": "code",
   "execution_count": null,
   "id": "1289acad",
   "metadata": {},
   "outputs": [],
   "source": [
    "df[df['smoker'] == 'yes']"
   ]
  },
  {
   "cell_type": "code",
   "execution_count": null,
   "id": "ecebf912",
   "metadata": {},
   "outputs": [],
   "source": [
    "df[df['bmi'] > 30]"
   ]
  },
  {
   "cell_type": "code",
   "execution_count": null,
   "id": "5ee15346",
   "metadata": {},
   "outputs": [],
   "source": [
    "df['obese'] = df['bmi'] > 30\n",
    "\n",
    "df.head()"
   ]
  },
  {
   "cell_type": "code",
   "execution_count": null,
   "id": "4b86a400",
   "metadata": {},
   "outputs": [],
   "source": [
    "df.groupby('sex')['obese'].mean()"
   ]
  },
  {
   "cell_type": "code",
   "execution_count": null,
   "id": "5a3a856c",
   "metadata": {},
   "outputs": [],
   "source": [
    "df.corr(numeric_only=True)"
   ]
  },
  {
   "cell_type": "code",
   "execution_count": null,
   "id": "6fb9b7d9",
   "metadata": {},
   "outputs": [],
   "source": [
    "df['age_group'] = pd.cut(df['age'], bins=[0,18,30,45,60,100], labels=['0-18','19-30','31-45','46-60','60+'])\n",
    "\n",
    "df.head()"
   ]
  },
  {
   "cell_type": "code",
   "execution_count": null,
   "id": "48c9951f",
   "metadata": {},
   "outputs": [],
   "source": [
    "df.groupby('age_group')['charges'].mean()\n"
   ]
  },
  {
   "cell_type": "code",
   "execution_count": null,
   "id": "01204a58",
   "metadata": {},
   "outputs": [],
   "source": [
    "pd.pivot_table(df, values='charges', index='sex', columns='smoker', aggfunc='mean')"
   ]
  },
  {
   "cell_type": "code",
   "execution_count": null,
   "id": "6bc76fe8",
   "metadata": {},
   "outputs": [],
   "source": [
    "df['children'].hist()"
   ]
  },
  {
   "cell_type": "code",
   "execution_count": null,
   "id": "36330caa",
   "metadata": {},
   "outputs": [],
   "source": [
    "df['bmi'].hist()"
   ]
  },
  {
   "cell_type": "code",
   "execution_count": null,
   "id": "5088ebe9",
   "metadata": {},
   "outputs": [],
   "source": [
    "df['sex'].hist()"
   ]
  },
  {
   "cell_type": "code",
   "execution_count": null,
   "id": "7cdf8e50",
   "metadata": {},
   "outputs": [],
   "source": [
    "df.boxplot(column='charges', by='sex')"
   ]
  }
 ],
 "metadata": {
  "kernelspec": {
   "display_name": "Python 3",
   "language": "python",
   "name": "python3"
  },
  "language_info": {
   "codemirror_mode": {
    "name": "ipython",
    "version": 3
   },
   "file_extension": ".py",
   "mimetype": "text/x-python",
   "name": "python",
   "nbconvert_exporter": "python",
   "pygments_lexer": "ipython3",
   "version": "3.12.1"
  }
 },
 "nbformat": 4,
 "nbformat_minor": 5
}
