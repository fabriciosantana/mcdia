{
 "cells": [
  {
   "cell_type": "code",
   "execution_count": 1,
   "id": "649b29c8",
   "metadata": {
    "execution": {
     "iopub.execute_input": "2025-09-13T15:35:17.791301Z",
     "iopub.status.busy": "2025-09-13T15:35:17.791080Z",
     "iopub.status.idle": "2025-09-13T15:35:18.059731Z",
     "shell.execute_reply": "2025-09-13T15:35:18.059225Z"
    }
   },
   "outputs": [],
   "source": [
    "import pandas as pd\n",
    "import numpy as np"
   ]
  },
  {
   "cell_type": "code",
   "execution_count": 2,
   "id": "ee2b0e3d",
   "metadata": {
    "execution": {
     "iopub.execute_input": "2025-09-13T15:35:18.061898Z",
     "iopub.status.busy": "2025-09-13T15:35:18.061638Z",
     "iopub.status.idle": "2025-09-13T15:35:18.068152Z",
     "shell.execute_reply": "2025-09-13T15:35:18.067617Z"
    }
   },
   "outputs": [
    {
     "data": {
      "text/plain": [
       "0    4\n",
       "1    7\n",
       "2   -5\n",
       "3    3\n",
       "dtype: int64"
      ]
     },
     "execution_count": 2,
     "metadata": {},
     "output_type": "execute_result"
    }
   ],
   "source": [
    "obj = pd.Series([4, 7, -5, 3])\n",
    "obj"
   ]
  },
  {
   "cell_type": "code",
   "execution_count": 3,
   "id": "468ae688",
   "metadata": {
    "execution": {
     "iopub.execute_input": "2025-09-13T15:35:18.069963Z",
     "iopub.status.busy": "2025-09-13T15:35:18.069786Z",
     "iopub.status.idle": "2025-09-13T15:35:18.074791Z",
     "shell.execute_reply": "2025-09-13T15:35:18.074265Z"
    }
   },
   "outputs": [
    {
     "data": {
      "text/plain": [
       "d     4\n",
       "b     7\n",
       "a    -5\n",
       "c     3\n",
       "f     a\n",
       "dtype: object"
      ]
     },
     "execution_count": 3,
     "metadata": {},
     "output_type": "execute_result"
    }
   ],
   "source": [
    "obj2 = pd.Series([4, 7, -5, 3, 'a'], index=['d', 'b', 'a', 'c', 'f'])\n",
    "obj2"
   ]
  },
  {
   "cell_type": "code",
   "execution_count": 4,
   "id": "68f3b0d8",
   "metadata": {
    "execution": {
     "iopub.execute_input": "2025-09-13T15:35:18.076509Z",
     "iopub.status.busy": "2025-09-13T15:35:18.076350Z",
     "iopub.status.idle": "2025-09-13T15:35:18.079775Z",
     "shell.execute_reply": "2025-09-13T15:35:18.079256Z"
    }
   },
   "outputs": [
    {
     "data": {
      "text/plain": [
       "-5"
      ]
     },
     "execution_count": 4,
     "metadata": {},
     "output_type": "execute_result"
    }
   ],
   "source": [
    "obj2['a']"
   ]
  },
  {
   "cell_type": "code",
   "execution_count": 5,
   "id": "b7111beb",
   "metadata": {
    "execution": {
     "iopub.execute_input": "2025-09-13T15:35:18.081368Z",
     "iopub.status.busy": "2025-09-13T15:35:18.081185Z",
     "iopub.status.idle": "2025-09-13T15:35:18.084999Z",
     "shell.execute_reply": "2025-09-13T15:35:18.084607Z"
    }
   },
   "outputs": [
    {
     "data": {
      "text/plain": [
       "d     6\n",
       "b     7\n",
       "a    -5\n",
       "c     3\n",
       "f     a\n",
       "dtype: object"
      ]
     },
     "execution_count": 5,
     "metadata": {},
     "output_type": "execute_result"
    }
   ],
   "source": [
    "obj2['d'] = 6\n",
    "obj2"
   ]
  },
  {
   "cell_type": "code",
   "execution_count": 6,
   "id": "d281e4f8",
   "metadata": {
    "execution": {
     "iopub.execute_input": "2025-09-13T15:35:18.086589Z",
     "iopub.status.busy": "2025-09-13T15:35:18.086436Z",
     "iopub.status.idle": "2025-09-13T15:35:18.090721Z",
     "shell.execute_reply": "2025-09-13T15:35:18.090197Z"
    }
   },
   "outputs": [
    {
     "data": {
      "text/plain": [
       "c     3\n",
       "a    -5\n",
       "d     6\n",
       "dtype: object"
      ]
     },
     "execution_count": 6,
     "metadata": {},
     "output_type": "execute_result"
    }
   ],
   "source": [
    "obj2[['c', 'a', 'd']]"
   ]
  },
  {
   "cell_type": "code",
   "execution_count": 7,
   "id": "b6880732",
   "metadata": {
    "execution": {
     "iopub.execute_input": "2025-09-13T15:35:18.092396Z",
     "iopub.status.busy": "2025-09-13T15:35:18.092206Z",
     "iopub.status.idle": "2025-09-13T15:35:18.095553Z",
     "shell.execute_reply": "2025-09-13T15:35:18.095012Z"
    }
   },
   "outputs": [
    {
     "data": {
      "text/plain": [
       "True"
      ]
     },
     "execution_count": 7,
     "metadata": {},
     "output_type": "execute_result"
    }
   ],
   "source": [
    "'c' in obj2"
   ]
  },
  {
   "cell_type": "code",
   "execution_count": 8,
   "id": "ae33d740",
   "metadata": {
    "execution": {
     "iopub.execute_input": "2025-09-13T15:35:18.097174Z",
     "iopub.status.busy": "2025-09-13T15:35:18.097022Z",
     "iopub.status.idle": "2025-09-13T15:35:18.100348Z",
     "shell.execute_reply": "2025-09-13T15:35:18.099815Z"
    }
   },
   "outputs": [
    {
     "data": {
      "text/plain": [
       "False"
      ]
     },
     "execution_count": 8,
     "metadata": {},
     "output_type": "execute_result"
    }
   ],
   "source": [
    "'e' in obj2"
   ]
  },
  {
   "cell_type": "code",
   "execution_count": 9,
   "id": "1a93627e",
   "metadata": {
    "execution": {
     "iopub.execute_input": "2025-09-13T15:35:18.101911Z",
     "iopub.status.busy": "2025-09-13T15:35:18.101743Z",
     "iopub.status.idle": "2025-09-13T15:35:18.106358Z",
     "shell.execute_reply": "2025-09-13T15:35:18.105836Z"
    }
   },
   "outputs": [
    {
     "data": {
      "text/plain": [
       "d    6\n",
       "b    7\n",
       "c    3\n",
       "dtype: int64"
      ]
     },
     "execution_count": 9,
     "metadata": {},
     "output_type": "execute_result"
    }
   ],
   "source": [
    "obj3 = pd.Series([6, 7, -5, 3], index=['d', 'b', 'a', 'c'])\n",
    "\n",
    "obj3[obj3 > 0]"
   ]
  },
  {
   "cell_type": "code",
   "execution_count": 10,
   "id": "d9b8001f",
   "metadata": {
    "execution": {
     "iopub.execute_input": "2025-09-13T15:35:18.107971Z",
     "iopub.status.busy": "2025-09-13T15:35:18.107813Z",
     "iopub.status.idle": "2025-09-13T15:35:18.111788Z",
     "shell.execute_reply": "2025-09-13T15:35:18.111262Z"
    }
   },
   "outputs": [
    {
     "data": {
      "text/plain": [
       "d    12\n",
       "b    14\n",
       "a   -10\n",
       "c     6\n",
       "dtype: int64"
      ]
     },
     "execution_count": 10,
     "metadata": {},
     "output_type": "execute_result"
    }
   ],
   "source": [
    "obj3 * 2"
   ]
  },
  {
   "cell_type": "code",
   "execution_count": 11,
   "id": "778529ff",
   "metadata": {
    "execution": {
     "iopub.execute_input": "2025-09-13T15:35:18.113441Z",
     "iopub.status.busy": "2025-09-13T15:35:18.113270Z",
     "iopub.status.idle": "2025-09-13T15:35:18.118466Z",
     "shell.execute_reply": "2025-09-13T15:35:18.118039Z"
    }
   },
   "outputs": [
    {
     "data": {
      "text/plain": [
       "d     403.428793\n",
       "b    1096.633158\n",
       "a       0.006738\n",
       "c      20.085537\n",
       "dtype: float64"
      ]
     },
     "execution_count": 11,
     "metadata": {},
     "output_type": "execute_result"
    }
   ],
   "source": [
    "import numpy as np\n",
    "np.exp(obj3)"
   ]
  },
  {
   "cell_type": "code",
   "execution_count": 12,
   "id": "b76dd74c",
   "metadata": {
    "execution": {
     "iopub.execute_input": "2025-09-13T15:35:18.119939Z",
     "iopub.status.busy": "2025-09-13T15:35:18.119791Z",
     "iopub.status.idle": "2025-09-13T15:35:18.149178Z",
     "shell.execute_reply": "2025-09-13T15:35:18.148657Z"
    }
   },
   "outputs": [],
   "source": [
    "np.exp?"
   ]
  },
  {
   "cell_type": "code",
   "execution_count": 13,
   "id": "39cd9224",
   "metadata": {
    "execution": {
     "iopub.execute_input": "2025-09-13T15:35:18.151052Z",
     "iopub.status.busy": "2025-09-13T15:35:18.150858Z",
     "iopub.status.idle": "2025-09-13T15:35:18.155657Z",
     "shell.execute_reply": "2025-09-13T15:35:18.155116Z"
    }
   },
   "outputs": [
    {
     "data": {
      "text/plain": [
       "a    0.0\n",
       "b    1.0\n",
       "c    2.0\n",
       "d    3.0\n",
       "e    4.0\n",
       "dtype: float64"
      ]
     },
     "execution_count": 13,
     "metadata": {},
     "output_type": "execute_result"
    }
   ],
   "source": [
    "obj = pd.Series(np.arange(5.), index=['a', 'b', 'c', 'd', 'e'])\n",
    "obj"
   ]
  },
  {
   "cell_type": "code",
   "execution_count": 14,
   "id": "4352ab77",
   "metadata": {
    "execution": {
     "iopub.execute_input": "2025-09-13T15:35:18.157184Z",
     "iopub.status.busy": "2025-09-13T15:35:18.157030Z",
     "iopub.status.idle": "2025-09-13T15:35:18.161748Z",
     "shell.execute_reply": "2025-09-13T15:35:18.161164Z"
    }
   },
   "outputs": [
    {
     "data": {
      "text/plain": [
       "a    0.0\n",
       "b    1.0\n",
       "d    3.0\n",
       "e    4.0\n",
       "dtype: float64"
      ]
     },
     "execution_count": 14,
     "metadata": {},
     "output_type": "execute_result"
    }
   ],
   "source": [
    "new_obj = obj.drop('c')\n",
    "new_obj"
   ]
  },
  {
   "cell_type": "code",
   "execution_count": 15,
   "id": "d64ac0f2",
   "metadata": {
    "execution": {
     "iopub.execute_input": "2025-09-13T15:35:18.163542Z",
     "iopub.status.busy": "2025-09-13T15:35:18.163363Z",
     "iopub.status.idle": "2025-09-13T15:35:18.168031Z",
     "shell.execute_reply": "2025-09-13T15:35:18.167513Z"
    }
   },
   "outputs": [
    {
     "data": {
      "text/plain": [
       "a    0.0\n",
       "b    1.0\n",
       "e    4.0\n",
       "dtype: float64"
      ]
     },
     "execution_count": 15,
     "metadata": {},
     "output_type": "execute_result"
    }
   ],
   "source": [
    "obj.drop(['d', 'c'])"
   ]
  },
  {
   "cell_type": "code",
   "execution_count": 16,
   "id": "dec87b06",
   "metadata": {
    "execution": {
     "iopub.execute_input": "2025-09-13T15:35:18.169721Z",
     "iopub.status.busy": "2025-09-13T15:35:18.169548Z",
     "iopub.status.idle": "2025-09-13T15:35:18.173789Z",
     "shell.execute_reply": "2025-09-13T15:35:18.173230Z"
    }
   },
   "outputs": [
    {
     "data": {
      "text/plain": [
       "a    0.0\n",
       "b    1.0\n",
       "c    2.0\n",
       "d    3.0\n",
       "e    4.0\n",
       "dtype: float64"
      ]
     },
     "execution_count": 16,
     "metadata": {},
     "output_type": "execute_result"
    }
   ],
   "source": [
    "obj"
   ]
  },
  {
   "cell_type": "code",
   "execution_count": 17,
   "id": "068e8e65",
   "metadata": {
    "execution": {
     "iopub.execute_input": "2025-09-13T15:35:18.175688Z",
     "iopub.status.busy": "2025-09-13T15:35:18.175510Z",
     "iopub.status.idle": "2025-09-13T15:35:18.181692Z",
     "shell.execute_reply": "2025-09-13T15:35:18.181126Z"
    }
   },
   "outputs": [
    {
     "name": "stdout",
     "output_type": "stream",
     "text": [
      "Série de valores booleanos indicando os índices dos elementos que estão na intersecção das duas séries\n",
      "0    False\n",
      "1     True\n",
      "2    False\n",
      "3     True\n",
      "4    False\n",
      "5     True\n",
      "6    False\n",
      "7     True\n",
      "dtype: bool\n",
      "\n",
      "Série de valores booleanos indicando os índices dos elementos que NÃO estão na intersecção das duas séries\n",
      "0     True\n",
      "1    False\n",
      "2     True\n",
      "3    False\n",
      "4     True\n",
      "5    False\n",
      "6     True\n",
      "7    False\n",
      "dtype: bool\n",
      "\n",
      "Seleciona (filtra), apenas os elementos cujos índices correspondam a valores True na série booleana\n",
      "0    1\n",
      "2    3\n",
      "4    5\n",
      "6    7\n",
      "dtype: int64\n",
      "Seleciona (filtra), apenas os elementos que estão em s1, mas não estão em s2\n",
      "0    1\n",
      "2    3\n",
      "4    5\n",
      "6    7\n",
      "dtype: int64\n"
     ]
    }
   ],
   "source": [
    "## Faça seus testes aqui\n",
    "s1 = pd.Series([1, 2, 3, 4, 5, 6, 7, 8]) \n",
    "s2 = pd.Series([2, 4, 6, 8, 10, 12]) \n",
    "\n",
    "print('Série de valores booleanos indicando os índices dos elementos que estão na intersecção das duas séries')\n",
    "s3 = s1.isin(s2)\n",
    "print(s3)\n",
    "print()\n",
    "\n",
    "print('Série de valores booleanos indicando os índices dos elementos que NÃO estão na intersecção das duas séries')\n",
    "s4 = ~s3\n",
    "print(s4)\n",
    "print()\n",
    "\n",
    "print('Seleciona (filtra), apenas os elementos cujos índices correspondam a valores True na série booleana')\n",
    "s5 = s1[s4]\n",
    "print(s5)\n",
    "\n",
    "print('Seleciona (filtra), apenas os elementos que estão em s1, mas não estão em s2')\n",
    "s6 = s1[~s1.isin(s2)]\n",
    "print(s6)\n",
    "\n",
    "# Resultado esperado: \n",
    "# 0    1\n",
    "# 2    3\n",
    "# 4    5\n",
    "# 6    7\n",
    "# dtype: int64"
   ]
  },
  {
   "cell_type": "code",
   "execution_count": 18,
   "id": "cbe5354e",
   "metadata": {
    "execution": {
     "iopub.execute_input": "2025-09-13T15:35:18.183478Z",
     "iopub.status.busy": "2025-09-13T15:35:18.183277Z",
     "iopub.status.idle": "2025-09-13T15:35:18.188814Z",
     "shell.execute_reply": "2025-09-13T15:35:18.188246Z"
    }
   },
   "outputs": [
    {
     "name": "stdout",
     "output_type": "stream",
     "text": [
      "Série de booleana indicando os elementos de s1 que NÃO estão em s2\n",
      "0     True\n",
      "1    False\n",
      "2     True\n",
      "3    False\n",
      "4     True\n",
      "5    False\n",
      "6     True\n",
      "7    False\n",
      "dtype: bool\n",
      "Série de booleana indicando os elementos de s2 que NÃO estão em s1\n",
      "0    False\n",
      "1    False\n",
      "2    False\n",
      "3    False\n",
      "4     True\n",
      "5     True\n",
      "dtype: bool\n",
      "União das duas séries filtradas pelos elementos que estão exclusivamente em uma ou outra série\n",
      "[ 1  3  5  7 10 12]\n"
     ]
    }
   ],
   "source": [
    "## Faça seus testes aqui\n",
    "s1 = pd.Series([1, 2, 3, 4, 5, 6, 7, 8]) \n",
    "s2 = pd.Series([2, 4, 6, 8, 10, 12]) \n",
    "# [1, 3, 5, 7, 10, 12]\n",
    "\n",
    "print('Série de booleana indicando os elementos de s1 que NÃO estão em s2')\n",
    "s3 = ~s1.isin(s2)\n",
    "print(s3)\n",
    "\n",
    "print('Série de booleana indicando os elementos de s2 que NÃO estão em s1')\n",
    "s4 = ~s2.isin(s1)\n",
    "print(s4)\n",
    "\n",
    "print('União das duas séries filtradas pelos elementos que estão exclusivamente em uma ou outra série')\n",
    "s5 = np.union1d(s1[s3], s2[s4])\n",
    "print(s5)\n",
    "\n",
    "# Resultado esperado: \n",
    "# 0     1\n",
    "# 1     3\n",
    "# 2     5\n",
    "# 3     7\n",
    "# 4    10\n",
    "# 5    12\n",
    "# dtype: int64"
   ]
  }
 ],
 "metadata": {
  "kernelspec": {
   "display_name": "Python 3",
   "language": "python",
   "name": "python3"
  },
  "language_info": {
   "codemirror_mode": {
    "name": "ipython",
    "version": 3
   },
   "file_extension": ".py",
   "mimetype": "text/x-python",
   "name": "python",
   "nbconvert_exporter": "python",
   "pygments_lexer": "ipython3",
   "version": "3.12.3"
  }
 },
 "nbformat": 4,
 "nbformat_minor": 5
}
