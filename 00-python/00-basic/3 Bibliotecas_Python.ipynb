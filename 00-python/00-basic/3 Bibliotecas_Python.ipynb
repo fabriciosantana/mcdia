{
 "cells": [
  {
   "cell_type": "markdown",
   "id": "2ff9b8a3",
   "metadata": {
    "id": "2ff9b8a3"
   },
   "source": [
    "# 📚 O que é uma biblioteca em Python?\n",
    "\n",
    "Em Python, uma **biblioteca** é um conjunto de funções e módulos prontos que ajudam a resolver tarefas comuns sem que você precise escrever tudo do zero.\n",
    "\n",
    "Usar bibliotecas é como usar ferramentas profissionais para montar um móvel: você pode até fazer sem, mas vai gastar mais tempo, pode errar mais, e o esforço será maior.\n",
    "\n",
    "Vamos ver na prática por que isso faz diferença. Primeiro, vamos resolver problemas \"na mão\" e depois usar bibliotecas para fazer o mesmo de forma mais rápida e confiável.\n"
   ]
  },
  {
   "cell_type": "markdown",
   "id": "7cab107f",
   "metadata": {
    "id": "7cab107f"
   },
   "source": [
    "## 🧠 Calculando a raiz quadrada \"na unha\""
   ]
  },
  {
   "cell_type": "code",
   "execution_count": 1,
   "id": "a5c78eed",
   "metadata": {
    "colab": {
     "base_uri": "https://localhost:8080/"
    },
    "id": "a5c78eed",
    "outputId": "40c07b42-534b-4d82-ba79-c5e37a4d5df0"
   },
   "outputs": [
    {
     "name": "stdout",
     "output_type": "stream",
     "text": [
      "Raiz quadrada de 25 (sem biblioteca): 5.0\n"
     ]
    }
   ],
   "source": [
    "# Calculando a raiz quadrada de 25 sem usar biblioteca\n",
    "# Vamos fazer isso utilizando a potenciação: raiz quadrada é o mesmo que elevar a 0.5\n",
    "raiz_manual = 25 ** 0.5\n",
    "print(\"Raiz quadrada de 25 (sem biblioteca):\", raiz_manual)"
   ]
  },
  {
   "cell_type": "markdown",
   "id": "b8e1c79c",
   "metadata": {
    "id": "b8e1c79c"
   },
   "source": [
    "## ⚙️ Agora vamos usar a biblioteca math"
   ]
  },
  {
   "cell_type": "code",
   "execution_count": 2,
   "id": "52606ec8",
   "metadata": {
    "colab": {
     "base_uri": "https://localhost:8080/"
    },
    "id": "52606ec8",
    "outputId": "162f4526-a85d-4e43-fb85-4f4c8eb015c0"
   },
   "outputs": [
    {
     "name": "stdout",
     "output_type": "stream",
     "text": [
      "Raiz quadrada de 25 (com biblioteca math): 5.0\n"
     ]
    }
   ],
   "source": [
    "# Importando a biblioteca math para usar funções matemáticas prontas\n",
    "import math\n",
    "\n",
    "# Calculando a raiz quadrada de 25 com math.sqrt()\n",
    "raiz = math.sqrt(25)\n",
    "print(\"Raiz quadrada de 25 (com biblioteca math):\", raiz)"
   ]
  },
  {
   "cell_type": "markdown",
   "id": "5238ecc7",
   "metadata": {
    "id": "5238ecc7"
   },
   "source": [
    "## ➕ Usando outras funções da biblioteca math"
   ]
  },
  {
   "cell_type": "code",
   "execution_count": null,
   "id": "96cbc592",
   "metadata": {
    "id": "96cbc592"
   },
   "outputs": [],
   "source": [
    "# Cálculo do cosseno de pi com a biblioteca math\n",
    "cosseno = math.cos(math.pi)\n",
    "print(\"O cosseno de pi é:\", cosseno)"
   ]
  },
  {
   "cell_type": "code",
   "execution_count": null,
   "id": "c61485b2",
   "metadata": {
    "id": "c61485b2"
   },
   "outputs": [],
   "source": [
    "# Potência usando math.pow()\n",
    "potencia = math.pow(2, 3)\n",
    "print(\"2 elevado à 3 é:\", potencia)"
   ]
  },
  {
   "cell_type": "markdown",
   "id": "853d78d6",
   "metadata": {
    "id": "853d78d6"
   },
   "source": [
    "## ❌ Tentando usar o pandas sem importar (vai dar erro!)"
   ]
  },
  {
   "cell_type": "code",
   "execution_count": null,
   "id": "3c6ef9c3",
   "metadata": {
    "id": "3c6ef9c3"
   },
   "outputs": [],
   "source": [
    "# Vamos tentar usar o pandas sem importar. Isso deve gerar um erro.\n",
    "df = pandas.DataFrame({'nome': ['Ana', 'João'], 'idade': [28, 34]})"
   ]
  },
  {
   "cell_type": "markdown",
   "id": "43ff933f",
   "metadata": {
    "id": "43ff933f"
   },
   "source": [
    "## ✅ Agora importando o pandas corretamente"
   ]
  },
  {
   "cell_type": "code",
   "execution_count": null,
   "id": "5c757bd9",
   "metadata": {
    "id": "5c757bd9"
   },
   "outputs": [],
   "source": [
    "# Agora sim, vamos importar o pandas e repetir o comando corretamente.\n",
    "import pandas as pd\n",
    "df = pd.DataFrame({'nome': ['Ana', 'João'], 'idade': [28, 34]})\n",
    "df"
   ]
  },
  {
   "cell_type": "markdown",
   "id": "c407708f",
   "metadata": {
    "id": "c407708f"
   },
   "source": [
    "## ✅ Conclusão\n",
    "\n",
    "As bibliotecas em Python ajudam a **resolver problemas de forma mais rápida, clara e segura**. Em vez de escrever tudo do zero, podemos aproveitar soluções testadas pela comunidade e focar no que realmente importa: entender os dados e tomar decisões.\n",
    "\n",
    "Sempre que possível, **aproveite o que já existe** — isso também é parte da inteligência no uso da programação 😉.\n"
   ]
  }
 ],
 "metadata": {
  "colab": {
   "provenance": []
  },
  "kernelspec": {
   "display_name": "Python 3 (ipykernel)",
   "language": "python",
   "name": "python3"
  },
  "language": "python",
  "language_info": {
   "codemirror_mode": {
    "name": "ipython",
    "version": 3
   },
   "file_extension": ".py",
   "mimetype": "text/x-python",
   "name": "python",
   "nbconvert_exporter": "python",
   "pygments_lexer": "ipython3",
   "version": "3.12.7"
  }
 },
 "nbformat": 4,
 "nbformat_minor": 5
}
